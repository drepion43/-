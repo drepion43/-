{
 "cells": [
  {
   "cell_type": "markdown",
   "id": "7cbd8711",
   "metadata": {},
   "source": [
    "https://school.programmers.co.kr/learn/courses/30/lessons/92334"
   ]
  },
  {
   "cell_type": "markdown",
   "id": "3f60fb4a",
   "metadata": {},
   "source": [
    "## 신고 결고받기"
   ]
  },
  {
   "cell_type": "code",
   "execution_count": 57,
   "id": "51f1e2ec",
   "metadata": {},
   "outputs": [
    {
     "name": "stdout",
     "output_type": "stream",
     "text": [
      "[1, 2]\n"
     ]
    },
    {
     "ename": "ValueError",
     "evalue": "max() arg is an empty sequence",
     "output_type": "error",
     "traceback": [
      "\u001b[1;31m---------------------------------------------------------------------------\u001b[0m",
      "\u001b[1;31mValueError\u001b[0m                                Traceback (most recent call last)",
      "\u001b[1;32m~\\AppData\\Local\\Temp/ipykernel_11532/3622429090.py\u001b[0m in \u001b[0;36m<module>\u001b[1;34m\u001b[0m\n\u001b[0;32m      1\u001b[0m \u001b[0ma\u001b[0m\u001b[1;33m=\u001b[0m\u001b[1;33m[\u001b[0m\u001b[1;36m1\u001b[0m\u001b[1;33m,\u001b[0m\u001b[1;36m2\u001b[0m\u001b[1;33m,\u001b[0m\u001b[1;36m3\u001b[0m\u001b[1;33m,\u001b[0m\u001b[1;36m4\u001b[0m\u001b[1;33m]\u001b[0m\u001b[1;33m\u001b[0m\u001b[1;33m\u001b[0m\u001b[0m\n\u001b[0;32m      2\u001b[0m \u001b[0mprint\u001b[0m\u001b[1;33m(\u001b[0m\u001b[0ma\u001b[0m\u001b[1;33m[\u001b[0m\u001b[1;33m:\u001b[0m\u001b[1;36m2\u001b[0m\u001b[1;33m]\u001b[0m\u001b[1;33m)\u001b[0m\u001b[1;33m\u001b[0m\u001b[1;33m\u001b[0m\u001b[0m\n\u001b[1;32m----> 3\u001b[1;33m \u001b[0mprint\u001b[0m\u001b[1;33m(\u001b[0m\u001b[0mmax\u001b[0m\u001b[1;33m(\u001b[0m\u001b[0ma\u001b[0m\u001b[1;33m[\u001b[0m\u001b[1;36m4\u001b[0m\u001b[1;33m:\u001b[0m\u001b[1;33m]\u001b[0m\u001b[1;33m)\u001b[0m\u001b[1;33m)\u001b[0m\u001b[1;33m\u001b[0m\u001b[1;33m\u001b[0m\u001b[0m\n\u001b[0m",
      "\u001b[1;31mValueError\u001b[0m: max() arg is an empty sequence"
     ]
    }
   ],
   "source": [
    "    # Write your code here\n",
    "    divide=math.ceil(sum(box)/len(box))\n",
    "    print(divide)\n",
    "    while True:\n",
    "        max_v=max(box)\n",
    "        max_idx=box.index(max_v)\n",
    "        s=second_v(box)\n",
    "        if max_idx==0 or max_v==divide or max_v==divide-1:\n",
    "            return max_v\n",
    "        if box[max_idx-1]==divide:\n",
    "            box[max_idx]-=(max_v-divide)+1\n",
    "            box[max_idx-1]+=(max_v-divide)+1\n",
    "        else:\n",
    "            box[max_idx]-=(max_v-divide)\n",
    "            box[max_idx-1]+=(max_v-divide)"
   ]
  },
  {
   "cell_type": "code",
   "execution_count": 2,
   "id": "30b86367",
   "metadata": {},
   "outputs": [
    {
     "name": "stdout",
     "output_type": "stream",
     "text": [
      "8\n",
      "8\n"
     ]
    }
   ],
   "source": [
    "#!/bin/python3\n",
    "\n",
    "import math\n",
    "import os\n",
    "import random\n",
    "import re\n",
    "import sys\n",
    "\n",
    "\n",
    "\n",
    "from collections import deque\n",
    "\n",
    "def dfs(depth,x,y,z,tmp):\n",
    "    global result\n",
    "    tmp.append(x)\n",
    "    if depth>=z and x==y:\n",
    "        result=max(tmp)\n",
    "        return\n",
    "    if (x-(z-depth))==y:\n",
    "        dfs(depth+1,x-1,y,z,tmp)\n",
    "    else:\n",
    "        dfs(depth+1,x+1,y,z,tmp)\n",
    "    \n",
    "\n",
    "def solution(x, y, z):\n",
    "    # Write your code here\n",
    "    tmp=[]\n",
    "    global result\n",
    "    result=0\n",
    "    dfs(0,x,y,z,tmp)\n",
    "    print(result)\n",
    "\n",
    "solution(8,5,3)\n",
    "solution(4,4,8)"
   ]
  },
  {
   "cell_type": "code",
   "execution_count": null,
   "id": "1039692b",
   "metadata": {},
   "outputs": [],
   "source": [
    "def solution(id_list, report, k):\n",
    "    answer = [0]*(len(id_list))\n",
    "    # 사람 수\n",
    "    result=dict()\n",
    "    # 각각의 사람넣는 곳\n",
    "    for data in id_list:\n",
    "        result[data]=[]\n",
    "\n",
    "\n",
    "    report_total=dict()\n",
    "    # 고발한 놈, 고발당한놈을 딕셔너리로 표현\n",
    "    for data in report:\n",
    "        data=data.split(' ')\n",
    "        if data[0] not in report_total:\n",
    "            report_total[data[0]]=[data[1]]\n",
    "        else:\n",
    "            report_total[data[0]].append(data[1])\n",
    "        # 한 사람은 같은 사람의 중복 신고가 불가능 하니\n",
    "        report_total[data[0]]=list(set(report_total[data[0]]))\n",
    "    \n",
    "    # 고발자, 고발당한자의 개수만큼 추가\n",
    "    for reporter,reported in report_total.items():\n",
    "        for name in reported:\n",
    "            result[name].append(name)\n",
    "    \n",
    "    #신고 당한 놈들의 이름\n",
    "    tmp=[]\n",
    "\n",
    "    for idx,data in enumerate(result.items()):\n",
    "        # 특정 횟수 이상 신고당하면 tmp에서는 신고당한 놈들의 이름을 담는 배열\n",
    "        if len(data[1])>=k:\n",
    "            tmp.append(data[0])\n",
    "    \n",
    "    # 신고한 사람\n",
    "    for reporter,reported in report_total.items():\n",
    "        cnt=0\n",
    "        tmp_idx=0\n",
    "        # 신고당한 사람의 이름\n",
    "        for name in reported:\n",
    "            # 신고당한 횟수 증가\n",
    "            if name in tmp:\n",
    "                cnt+=1\n",
    "        # 그 해당 신고당한 사람의 위치 빼오기\n",
    "        for idx,data in enumerate(result):\n",
    "            if data==reporter:\n",
    "                tmp_idx=idx\n",
    "                break\n",
    "        answer[tmp_idx]=cnt\n",
    "\n",
    "    return answer"
   ]
  },
  {
   "cell_type": "markdown",
   "id": "47b1b5a2",
   "metadata": {},
   "source": [
    "## 양궁대회"
   ]
  },
  {
   "cell_type": "code",
   "execution_count": 51,
   "id": "f9cfd577",
   "metadata": {},
   "outputs": [
    {
     "data": {
      "text/plain": [
       "[1, 1, 1, 1, 1, 1, 1, 1, 0, 0, 2]"
      ]
     },
     "execution_count": 51,
     "metadata": {},
     "output_type": "execute_result"
    }
   ],
   "source": [
    "from itertools import combinations_with_replacement as cwr\n",
    "import copy\n",
    "def solution(n, info):\n",
    "    answer = []\n",
    "    board=[]\n",
    "    #점수\n",
    "    score=[i for i in range(11)]\n",
    "    # 가장 큰 값\n",
    "    result=0\n",
    "    # 중복순열\n",
    "    candidates=list(cwr(score,n))\n",
    "    for candidate in candidates[::-1]:\n",
    "        lion_total,ap_total,tmp=get_score(list(candidate),info)\n",
    "        \n",
    "        \n",
    "        if lion_total>ap_total:\n",
    "            diff=lion_total-ap_total\n",
    "            if result<diff:\n",
    "                result=diff\n",
    "            if result==diff:\n",
    "                board.append([result,tmp])\n",
    "    new_board=[]\n",
    "    for i in range(len(board)):\n",
    "        if board[i][0]==result:\n",
    "            new_board.append(board[i][1])\n",
    "    print(new_board)\n",
    "    if new_board:\n",
    "        answer=new_board[0]\n",
    "        for i in range(1,len(new_board)):\n",
    "            for k in range(10,-1,-1):\n",
    "                if answer[k]==new_board[i][k]:\n",
    "                    continue\n",
    "                if answer[k]<new_board[i][k]:\n",
    "                    answer=new_board[i]\n",
    "                elif answer[k]>new_board[i][k]:\n",
    "                    break\n",
    "        return answer\n",
    "    else:\n",
    "        return [-1]\n",
    "\n",
    "def find_min(arr,tmp):\n",
    "    for i in range(10,-1,-1):\n",
    "        if arr[i]>tmp[i]:\n",
    "            return arr\n",
    "        elif arr[i]<tmp[i]:\n",
    "            return tmp\n",
    "        else:\n",
    "            continue\n",
    "\n",
    "def get_score(arr,info):\n",
    "    lion_total=0\n",
    "    ap_total=0\n",
    "    answer = [0]*11\n",
    "    for i in arr[::-1]:\n",
    "        answer[i]+=1\n",
    "    for i in range(11):\n",
    "        if info[i]<answer[i]:\n",
    "            lion_total+=10-i\n",
    "        elif info[i]!=0:\n",
    "            ap_total+=10-i\n",
    "    \n",
    "    return lion_total,ap_total,answer\n",
    "\n"
   ]
  },
  {
   "cell_type": "markdown",
   "id": "2023c446",
   "metadata": {},
   "source": [
    "## 두 큐의 합이 같게하기\n",
    "https://school.programmers.co.kr/learn/courses/30/lessons/118667"
   ]
  },
  {
   "cell_type": "code",
   "execution_count": 6,
   "id": "dbf9dc14",
   "metadata": {},
   "outputs": [
    {
     "name": "stdout",
     "output_type": "stream",
     "text": [
      "7\n"
     ]
    },
    {
     "data": {
      "text/plain": [
       "7"
      ]
     },
     "execution_count": 6,
     "metadata": {},
     "output_type": "execute_result"
    }
   ],
   "source": [
    "from collections import deque\n",
    "def solution(queue1, queue2):\n",
    "    answer=0\n",
    "    q1=deque(queue1)\n",
    "    q2=deque(queue2)\n",
    "    limit=len(q1)*4\n",
    "    target=(sum(q1)+sum(q2))//2\n",
    "    t1=sum(q1)\n",
    "    t2=sum(q2)\n",
    "    cnt=0\n",
    "    while True:\n",
    "        if t1>t2:\n",
    "            tmp=q1.popleft()\n",
    "            q2.append(tmp)\n",
    "            t1-=tmp\n",
    "            t2+=tmp\n",
    "            cnt+=1\n",
    "        elif t1<t2:\n",
    "            tmp=q2.popleft()\n",
    "            q1.append(tmp)\n",
    "            t2-=tmp\n",
    "            t1+=tmp\n",
    "            cnt+=1\n",
    "        elif t1==t2:\n",
    "            break\n",
    "        \n",
    "        if cnt==limit:\n",
    "            cnt=-1\n",
    "            break\n",
    "    answer=cnt\n",
    "    return answer\n"
   ]
  },
  {
   "cell_type": "markdown",
   "id": "beae73aa",
   "metadata": {},
   "source": [
    "## k진수\n",
    "https://school.programmers.co.kr/learn/courses/30/lessons/92335"
   ]
  },
  {
   "cell_type": "code",
   "execution_count": null,
   "id": "cecc9dce",
   "metadata": {},
   "outputs": [],
   "source": [
    "import math\n",
    "def solution(n, k):\n",
    "    answer = 0\n",
    "    k_tmp=make_k(n,k)\n",
    "    length=len(k_tmp)\n",
    "    start,end=0,0\n",
    "    while True:\n",
    "        if end>=length-1:\n",
    "            break   \n",
    "        end+=1\n",
    "        if k_tmp[end]=='0':\n",
    "            if is_prime(int(k_tmp[start:end])):\n",
    "                answer+=1\n",
    "            start=end\n",
    "            \n",
    "    if is_prime(int(k_tmp[start:length])):\n",
    "        answer+=1\n",
    "    print(answer)\n",
    "    return answer\n",
    "\n",
    "def make_k(n,k):\n",
    "    arr=\"\"\n",
    "    tmp=n\n",
    "    while tmp>k:\n",
    "        arr+=str(tmp%k)\n",
    "        tmp/=k\n",
    "        tmp=int(tmp)\n",
    "    arr+=str(tmp)\n",
    "    return arr[::-1]\n",
    "    \n",
    "\n",
    "def is_prime(x):\n",
    "    if x<2:\n",
    "        return False\n",
    "    for i in range(2,int(math.sqrt(x))+1):\n",
    "        if x%i==0:\n",
    "            return False\n",
    "    return True\n",
    "\n"
   ]
  },
  {
   "cell_type": "markdown",
   "id": "8c618d9d",
   "metadata": {},
   "source": [
    "## 성격 유형 검사\n",
    "https://school.programmers.co.kr/learn/courses/30/lessons/118666"
   ]
  },
  {
   "cell_type": "code",
   "execution_count": null,
   "id": "ab8327f1",
   "metadata": {},
   "outputs": [],
   "source": [
    "from collections import Counter\n",
    "def solution(survey, choices):\n",
    "    c=['RT','CF','JM','AN']\n",
    "    char=[]\n",
    "    answer = ''\n",
    "    for i in range(len(survey)):\n",
    "        if choices[i]>4:\n",
    "            char.append([survey[i][1],choices[i]-4])\n",
    "        elif choices[i]<4:\n",
    "            char.append([survey[i][0],4-choices[i]])\n",
    "    score=dict()\n",
    "    #점수 합치기\n",
    "    for data in char:\n",
    "        if data[0] not in score:\n",
    "            score[data[0]]=[data[1]]\n",
    "        else:\n",
    "            score[data[0]].append(data[1])\n",
    "    \n",
    "    for i in range(4):\n",
    "        s1,s2=0,0\n",
    "        for k,v in score.items():\n",
    "            if k==c[i][0]:\n",
    "                s1=sum(v)\n",
    "            if k==c[i][1]:\n",
    "                s2=sum(v)\n",
    "        if s1>=s2:\n",
    "            answer+=c[i][0]\n",
    "        else:\n",
    "            answer+=c[i][1]\n",
    "    \n",
    "    return answer"
   ]
  },
  {
   "cell_type": "markdown",
   "id": "9a906499",
   "metadata": {},
   "source": [
    "## 등산코스\n",
    "https://school.programmers.co.kr/learn/courses/30/lessons/118669"
   ]
  },
  {
   "cell_type": "code",
   "execution_count": 18,
   "id": "f3ec5bd8",
   "metadata": {},
   "outputs": [
    {
     "name": "stdout",
     "output_type": "stream",
     "text": [
      "[1, 2, 4, 6, 5]\n"
     ]
    },
    {
     "data": {
      "text/plain": [
       "[]"
      ]
     },
     "execution_count": 18,
     "metadata": {},
     "output_type": "execute_result"
    }
   ],
   "source": [
    "import heapq\n",
    "from collections import defaultdict\n",
    "def solution(n, paths, gates, summits):\n",
    "\n",
    "        \n",
    "    \n",
    "    def prim():\n",
    "        q=[]\n",
    "        distance=[int(1e5)]*(n+1)\n",
    "\n",
    "        for gate in gates:\n",
    "            heapq.heappush(q,[0,gate])\n",
    "            distance[gate]=0\n",
    "        \n",
    "        while q:\n",
    "            dis,cur=heapq.heappop(q)\n",
    "            \n",
    "            if cur in summits or dis>distance[cur]:\n",
    "                continue\n",
    "            \n",
    "            for v in graph[cur]:\n",
    "                cost=max(dis,v[1])\n",
    "                if distance[v[0]]>cost:\n",
    "                    distance[v[0]]=cost\n",
    "                    heapq.heappush(q,[cost,v[0]])\n",
    "        \n",
    "        min_val=[0,int(1e5)]\n",
    "        \n",
    "        for summit in summits:\n",
    "            if distance[summit]<min_val[1]:\n",
    "                min_val[0]=summit\n",
    "                min_val[1]=distance[summit]\n",
    "        print(min_val)\n",
    "        return min_val\n",
    "    \n",
    "    summits.sort()\n",
    "    summits=set(summits)\n",
    "    \n",
    "    graph=[[] for _ in range(n+1)]\n",
    "    \n",
    "    for data in paths:\n",
    "        graph[data[0]].append([data[1],data[2]])\n",
    "        graph[data[1]].append([data[0],data[2]])\n",
    "    # graph = defaultdict(list)\n",
    "    # for i, j, w in paths:\n",
    "    #     graph[i].append((w, j))\n",
    "    #     graph[j].append((w, i))\n",
    "    \n",
    "    return prim()\n"
   ]
  },
  {
   "cell_type": "markdown",
   "id": "79cd128d",
   "metadata": {},
   "source": [
    "## 파괴되지 않는 건물\n",
    "https://school.programmers.co.kr/learn/courses/30/lessons/92344"
   ]
  },
  {
   "cell_type": "code",
   "execution_count": null,
   "id": "319c1712",
   "metadata": {},
   "outputs": [],
   "source": [
    "def solution(board, skill):\n",
    "    answer = 0\n",
    "    n,m=len(board),len(board[0])\n",
    "    for item in skill:\n",
    "        t,x1,y1,x2,y2,d=item\n",
    "        for i in range(x1,x2+1):\n",
    "            for j in range(y1,y2+1):\n",
    "                if t==1:\n",
    "                    board[i][j]-=d\n",
    "                elif t==2:\n",
    "                    board[i][j]+=d\n",
    "    for i in range(n):\n",
    "        for j in range(m):\n",
    "            if board[i][j]>0:\n",
    "                answer+=1\n",
    "    print(answer)\n",
    "    \n",
    "    return answer\n",
    "\n"
   ]
  },
  {
   "cell_type": "markdown",
   "id": "1b2cab7f",
   "metadata": {},
   "source": [
    "## 행렬과 연산\n",
    "https://school.programmers.co.kr/learn/courses/30/lessons/118670"
   ]
  },
  {
   "cell_type": "code",
   "execution_count": 52,
   "id": "1e7a22ce",
   "metadata": {},
   "outputs": [],
   "source": [
    "def solution(rc, operations):\n",
    "    answer = [[]]\n",
    "    n,m=len(rc),len(rc[0])\n",
    "    \n",
    "    for operate in operations:\n",
    "        if operate=='Rotate':\n",
    "            rc=Rotate(rc,n,m)\n",
    "        elif operate=='ShiftRow':\n",
    "            rc=shiftRow(rc,n,m)\n",
    "    return rc\n",
    "\n",
    "\n",
    "def shiftRow(arr,n,m):\n",
    "    board=[[0]*(m) for _ in range(n)]\n",
    "    for i in range(n-1):\n",
    "        board[i+1]=arr[i]\n",
    "    board[0]=arr[-1]\n",
    "    return board\n",
    "\n",
    "def Rotate(board,n,m):\n",
    "    top,left,bottom,right=0,0,n-1,m-1\n",
    "    tmp=board[top][left]\n",
    "    for k in range(top,bottom):\n",
    "        board[k][left]=board[k+1][left]\n",
    "    for k in range(left,right):\n",
    "        board[bottom][k]=board[bottom][k+1]\n",
    "    for k in range(bottom,top,-1):\n",
    "        board[k][right]=board[k-1][right]\n",
    "    for k in range(right,left,-1):\n",
    "        board[top][k]=board[top][k-1]\n",
    "    board[top][left+1]=tmp\n",
    "    \n",
    "    return board\n",
    "    \n",
    "    \n",
    "    "
   ]
  },
  {
   "cell_type": "code",
   "execution_count": null,
   "id": "2dcf86f0",
   "metadata": {},
   "outputs": [],
   "source": []
  },
  {
   "cell_type": "code",
   "execution_count": null,
   "id": "db9b5084",
   "metadata": {},
   "outputs": [],
   "source": []
  }
 ],
 "metadata": {
  "kernelspec": {
   "display_name": "Python 3 (ipykernel)",
   "language": "python",
   "name": "python3"
  },
  "language_info": {
   "codemirror_mode": {
    "name": "ipython",
    "version": 3
   },
   "file_extension": ".py",
   "mimetype": "text/x-python",
   "name": "python",
   "nbconvert_exporter": "python",
   "pygments_lexer": "ipython3",
   "version": "3.9.7"
  }
 },
 "nbformat": 4,
 "nbformat_minor": 5
}
