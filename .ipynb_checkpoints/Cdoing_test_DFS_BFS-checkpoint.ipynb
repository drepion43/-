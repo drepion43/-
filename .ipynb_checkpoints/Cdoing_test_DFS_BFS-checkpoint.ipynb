{
 "cells": [
  {
   "cell_type": "markdown",
   "id": "7682177a",
   "metadata": {},
   "source": [
    "# 백준 DFS+BFS 문제집\n",
    "https://www.acmicpc.net/workbook/view/1983"
   ]
  },
  {
   "cell_type": "markdown",
   "id": "d03344a4",
   "metadata": {},
   "source": [
    "# DFS와 BFS\n",
    "https://www.acmicpc.net/problem/1260"
   ]
  },
  {
   "cell_type": "code",
   "execution_count": 3,
   "id": "46d0dd12",
   "metadata": {},
   "outputs": [
    {
     "name": "stdout",
     "output_type": "stream",
     "text": [
      "d\n"
     ]
    }
   ],
   "source": [
    "from collections import deque\n",
    "n, m, v = map(int, input().split())\n",
    "graph = [[] for _ in range(n + 1)]\n",
    "for _ in range(m):\n",
    "    a, b = map(int, input().split())\n",
    "    graph[a].append(b)\n",
    "    graph[b].append(a)\n",
    "    graph[a].sort()\n",
    "    graph[b].sort()\n",
    "\n",
    "def dfs(cur, visited, result):\n",
    "    result.append(cur)\n",
    "    for v in graph[cur]:\n",
    "        if not visited[v]:\n",
    "            visited[v] = True\n",
    "            dfs(v, visited, result)\n",
    "\n",
    "def bfs(cur, visited):\n",
    "    q = deque()\n",
    "    q.append(cur)\n",
    "    visited[cur] = True\n",
    "    result = []\n",
    "    while q:\n",
    "        x = q.popleft()\n",
    "        result.append(x)\n",
    "        for v in graph[x]:\n",
    "            if not visited[v]:\n",
    "                visited[v] = True\n",
    "                q.append(v)\n",
    "\n",
    "    return result\n",
    "\n",
    "\n",
    "visited = [False] * (n+1)\n",
    "visited[v] = True\n",
    "result1 = list()\n",
    "dfs(v, visited, result1)\n",
    "print(*result1)\n",
    "visited = [False] * (n+1)\n",
    "print(*bfs(v, visited))"
   ]
  },
  {
   "cell_type": "markdown",
   "id": "f485a4bf",
   "metadata": {},
   "source": [
    "# 미로 탐색\n",
    "https://www.acmicpc.net/problem/2178"
   ]
  },
  {
   "cell_type": "code",
   "execution_count": null,
   "id": "e0453317",
   "metadata": {},
   "outputs": [],
   "source": [
    "from collections import deque\n",
    "n, m = map(int, input().split())\n",
    "graph = []\n",
    "for i in range(n):\n",
    "    graph.append(list(map(int, input())))\n",
    "\n",
    "visited = [[0] * m for _ in range(n)]\n",
    "\n",
    "dx = [1,-1,0,0]\n",
    "dy = [0,0,1,-1]\n",
    "\n",
    "def bfs(cx,cy):\n",
    "    q = deque()\n",
    "    q.append([cx, cy])\n",
    "    visited[cx][cy] = 1\n",
    "    while q:\n",
    "        x,y = q.popleft()\n",
    "        if x == n-1 and y == m-1:\n",
    "            return\n",
    "        for i in range(4):\n",
    "            nx,ny = x+dx[i], y+dy[i]\n",
    "            if 0<=nx<n and 0<=ny<m and visited[nx][ny] == 0 and graph[nx][ny] == 1:\n",
    "                q.append([nx,ny])\n",
    "                visited[nx][ny] = visited[x][y] + 1\n",
    "bfs(0,0)\n",
    "print(visited[-1][-1])"
   ]
  },
  {
   "cell_type": "markdown",
   "id": "ee6ee6e4",
   "metadata": {},
   "source": [
    "# 바이러스\n",
    "https://www.acmicpc.net/problem/2606"
   ]
  },
  {
   "cell_type": "code",
   "execution_count": null,
   "id": "434c04e8",
   "metadata": {},
   "outputs": [],
   "source": [
    "n = int(input())\n",
    "m = int(input())\n",
    "\n",
    "graph = [[] for _ in range(n+1)]\n",
    "for _ in range(m):\n",
    "    a, b = map(int, input().split())\n",
    "    graph[a].append(b)\n",
    "    graph[b].append(a)\n",
    "\n",
    "start = 1\n",
    "answer = 0\n",
    "visited = [False] * (n+1)\n",
    "def dfs(cur):\n",
    "    global answer\n",
    "    for v in graph[cur]:\n",
    "        if not visited[v]:\n",
    "            answer += 1\n",
    "            visited[v] = True\n",
    "            dfs(v)\n",
    "\n",
    "visited[start] = True\n",
    "dfs(start)\n",
    "print(answer)"
   ]
  },
  {
   "cell_type": "markdown",
   "id": "44d4c3a5",
   "metadata": {},
   "source": [
    "# 단지 붙이기\n",
    "https://www.acmicpc.net/problem/2667"
   ]
  },
  {
   "cell_type": "code",
   "execution_count": null,
   "id": "aed172bd",
   "metadata": {},
   "outputs": [],
   "source": [
    "from collections import deque\n",
    "\n",
    "n = int(input())\n",
    "graph = []\n",
    "for _ in range(n):\n",
    "    graph.append(list(map(int, input().rstrip())))\n",
    "\n",
    "dx = [1,-1,0,0]\n",
    "dy = [0,0,1,-1]\n",
    "\n",
    "def bfs(cx, cy):\n",
    "    q = deque()\n",
    "    q.append([cx,cy])\n",
    "    visited[cx][cy] = True\n",
    "    cnt = 1\n",
    "    while q:\n",
    "        x, y = q.popleft()\n",
    "        for i in range(4):\n",
    "            nx, ny = x + dx[i], y + dy[i]\n",
    "            if 0<=nx<n and 0<=ny<n and graph[nx][ny] == 1 and not visited[nx][ny]:\n",
    "                q.append([nx,ny])\n",
    "                visited[nx][ny]= True\n",
    "                cnt += 1\n",
    "    return cnt\n",
    "\n",
    "result = []\n",
    "visited = [[False] * n for _ in range(n)]\n",
    "for x in range(n):\n",
    "    for y in range(n):\n",
    "        if graph[x][y] == 1 and not visited[x][y]:\n",
    "            result.append(bfs(x,y))\n",
    "\n",
    "result.sort()\n",
    "print(len(result))\n",
    "for data in result:\n",
    "    print(data)"
   ]
  },
  {
   "cell_type": "markdown",
   "id": "adc783ad",
   "metadata": {},
   "source": [
    "# 촌수 계산\n",
    "https://www.acmicpc.net/problem/2644"
   ]
  },
  {
   "cell_type": "code",
   "execution_count": null,
   "id": "cac655d8",
   "metadata": {},
   "outputs": [],
   "source": [
    "n = int(input())\n",
    "v, u = map(int,input().split())\n",
    "m = int(input())\n",
    "\n",
    "graph = [[] for _ in range(n+1)]\n",
    "for _ in range(m):\n",
    "    a,b = map(int,input().split())\n",
    "    graph[a].append(b)\n",
    "    graph[b].append(a)\n",
    "\n",
    "def dfs(cur):\n",
    "    for c in graph[cur]:\n",
    "        if visited[c] == 0:\n",
    "            visited[c] = visited[cur] + 1\n",
    "            dfs(c)\n",
    "\n",
    "visited = [0] * (n+1)\n",
    "dfs(v)\n",
    "if visited[u] == 0:\n",
    "    print(-1)\n",
    "else:\n",
    "    print(visited[u])"
   ]
  },
  {
   "cell_type": "markdown",
   "id": "3f0e8822",
   "metadata": {},
   "source": [
    "# 토마토\n",
    "https://www.acmicpc.net/problem/7569"
   ]
  },
  {
   "cell_type": "code",
   "execution_count": null,
   "id": "02cd5ab5",
   "metadata": {},
   "outputs": [],
   "source": [
    "from collections import deque\n",
    "\n",
    "n,m,h = map(int,input().split())\n",
    "\n",
    "graph = []\n",
    "q = deque()\n",
    "\n",
    "for z in range(h):\n",
    "    row = []\n",
    "    for x in range(m):\n",
    "        data = list(map(int, input().split()))\n",
    "        row.append(data)\n",
    "        for y, d in enumerate(data):\n",
    "            if d == 1:\n",
    "                q.append([x,y,z])\n",
    "    graph.append(row)\n",
    "dx = [1,-1,0,0,0,0]\n",
    "dy = [0,0,1,-1,0,0]\n",
    "dz = [0,0,0,0,1,-1]\n",
    "\n",
    "\n",
    "def bfs():\n",
    "    while q:\n",
    "        x, y, z = q.popleft()\n",
    "\n",
    "        for i in range(6):\n",
    "            nx,ny,nz = x+dx[i], y+dy[i], z+dz[i]\n",
    "            if 0<=nx<m and 0<=ny<n and 0<=nz<h and graph[nz][nx][ny] == 0:\n",
    "                q.append([nx,ny,nz])\n",
    "                graph[nz][nx][ny] = graph[z][x][y] + 1\n",
    "\n",
    "bfs()\n",
    "answer = 0\n",
    "for i in graph:\n",
    "    for j in i:\n",
    "        for k in j:\n",
    "            if k==0:\n",
    "                print(-1)\n",
    "                exit(0)\n",
    "        answer = max(answer,max(j))\n",
    "\n",
    "print(answer-1)\n"
   ]
  },
  {
   "cell_type": "markdown",
   "id": "20a50507",
   "metadata": {},
   "source": [
    "# 숨박꼭질\n",
    "https://www.acmicpc.net/problem/1697"
   ]
  },
  {
   "cell_type": "code",
   "execution_count": null,
   "id": "85cd89cd",
   "metadata": {},
   "outputs": [],
   "source": [
    "from collections import deque\n",
    "n,k = map(int,input().split())\n",
    "\n",
    "INF = int(1e6)\n",
    "answer = INF\n",
    "visited = [False] * INF\n",
    "def bfs(cur):\n",
    "    global answer\n",
    "    q = deque()\n",
    "    q.append([cur, 0])\n",
    "    while q:\n",
    "        x, cnt = q.popleft()\n",
    "        if x == k:\n",
    "            answer = min(answer, cnt)\n",
    "        for nx in (x-1, x+1, 2*x):\n",
    "            if 0<=nx<INF and not visited[nx]:\n",
    "                q.append([nx, cnt+1])\n",
    "                visited[nx] = True\n",
    "bfs(n)\n",
    "print(answer)\n"
   ]
  },
  {
   "cell_type": "markdown",
   "id": "657fc090",
   "metadata": {},
   "source": [
    "# 스타트링크\n",
    "https://www.acmicpc.net/problem/5014"
   ]
  },
  {
   "cell_type": "code",
   "execution_count": null,
   "id": "4b47d6f0",
   "metadata": {},
   "outputs": [],
   "source": [
    "from collections import deque\n",
    "\n",
    "F, S, G, U, D = map(int,input().split())\n",
    "visited = [False] * (F+1)\n",
    "count = [0] * (F+1)\n",
    "\n",
    "def bfs(cur):\n",
    "    q = deque()\n",
    "    q.append(cur)\n",
    "    visited[cur] = True\n",
    "    while q:\n",
    "        x = q.popleft()\n",
    "        if x == G:\n",
    "            return count[G]\n",
    "        for nx in (x+U, x-D):\n",
    "            if 0<nx<=F and not visited[nx]:\n",
    "                q.append(nx)\n",
    "                visited[nx] = True\n",
    "                count[nx] = count[x] + 1\n",
    "    if count[G]==0:\n",
    "        return 'use the stairs'\n",
    "\n",
    "print(bfs(S))"
   ]
  },
  {
   "cell_type": "markdown",
   "id": "52983cb7",
   "metadata": {},
   "source": [
    "# 안전영역\n",
    "https://www.acmicpc.net/problem/2468"
   ]
  },
  {
   "cell_type": "code",
   "execution_count": null,
   "id": "53f83c8f",
   "metadata": {},
   "outputs": [],
   "source": [
    "from collections import deque\n",
    "\n",
    "n = int(input())\n",
    "graph = []\n",
    "_max = 0\n",
    "for _ in range(n):\n",
    "    data = list(map(int,input().split()))\n",
    "    graph.append(data)\n",
    "    _max = max(*data, _max)\n",
    "\n",
    "dx = [1,-1,0,0]\n",
    "dy = [0,0,1,-1]\n",
    "\n",
    "\n",
    "def bfs(cx,cy,visited,h):\n",
    "    q = deque()\n",
    "    q.append([cx,cy])\n",
    "    visited[cx][cy] = True\n",
    "    while q:\n",
    "        x,y = q.popleft()\n",
    "        for i in range(4):\n",
    "            nx,ny = x+dx[i], y+dy[i]\n",
    "            if 0<=nx<n and 0<=ny<n and not visited[nx][ny] and graph[nx][ny] > h:\n",
    "                q.append([nx,ny])\n",
    "                visited[nx][ny] = True\n",
    "\n",
    "answer = []\n",
    "for h in range(_max + 1):\n",
    "    visited = [[False] * n for _ in range(n)]\n",
    "    cnt = 0\n",
    "    for x in range(n):\n",
    "        for y in range(n):\n",
    "            if graph[x][y] > h and not visited[x][y]:\n",
    "                bfs(x,y,visited,h)\n",
    "                cnt += 1\n",
    "\n",
    "    answer.append(cnt)\n",
    "# print(answer)\n",
    "print(max(answer))\n",
    "\n"
   ]
  },
  {
   "cell_type": "code",
   "execution_count": null,
   "id": "fbf45949",
   "metadata": {},
   "outputs": [],
   "source": []
  }
 ],
 "metadata": {
  "kernelspec": {
   "display_name": "Python 3 (ipykernel)",
   "language": "python",
   "name": "python3"
  },
  "language_info": {
   "codemirror_mode": {
    "name": "ipython",
    "version": 3
   },
   "file_extension": ".py",
   "mimetype": "text/x-python",
   "name": "python",
   "nbconvert_exporter": "python",
   "pygments_lexer": "ipython3",
   "version": "3.10.0"
  }
 },
 "nbformat": 4,
 "nbformat_minor": 5
}
