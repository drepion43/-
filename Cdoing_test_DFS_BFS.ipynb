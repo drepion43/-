{
 "cells": [
  {
   "cell_type": "markdown",
   "id": "7682177a",
   "metadata": {},
   "source": [
    "# 백준 DFS+BFS 문제집\n",
    "https://www.acmicpc.net/workbook/view/1983"
   ]
  },
  {
   "cell_type": "markdown",
   "id": "d03344a4",
   "metadata": {},
   "source": [
    "# DFS와 BFS\n",
    "https://www.acmicpc.net/problem/1260"
   ]
  },
  {
   "cell_type": "code",
   "execution_count": 3,
   "id": "46d0dd12",
   "metadata": {},
   "outputs": [
    {
     "name": "stdout",
     "output_type": "stream",
     "text": [
      "d\n"
     ]
    }
   ],
   "source": [
    "from collections import deque\n",
    "n, m, v = map(int, input().split())\n",
    "graph = [[] for _ in range(n + 1)]\n",
    "for _ in range(m):\n",
    "    a, b = map(int, input().split())\n",
    "    graph[a].append(b)\n",
    "    graph[b].append(a)\n",
    "    graph[a].sort()\n",
    "    graph[b].sort()\n",
    "\n",
    "def dfs(cur, visited, result):\n",
    "    result.append(cur)\n",
    "    for v in graph[cur]:\n",
    "        if not visited[v]:\n",
    "            visited[v] = True\n",
    "            dfs(v, visited, result)\n",
    "\n",
    "def bfs(cur, visited):\n",
    "    q = deque()\n",
    "    q.append(cur)\n",
    "    visited[cur] = True\n",
    "    result = []\n",
    "    while q:\n",
    "        x = q.popleft()\n",
    "        result.append(x)\n",
    "        for v in graph[x]:\n",
    "            if not visited[v]:\n",
    "                visited[v] = True\n",
    "                q.append(v)\n",
    "\n",
    "    return result\n",
    "\n",
    "\n",
    "visited = [False] * (n+1)\n",
    "visited[v] = True\n",
    "result1 = list()\n",
    "dfs(v, visited, result1)\n",
    "print(*result1)\n",
    "visited = [False] * (n+1)\n",
    "print(*bfs(v, visited))"
   ]
  },
  {
   "cell_type": "markdown",
   "id": "f485a4bf",
   "metadata": {},
   "source": [
    "# 미로 탐색\n",
    "https://www.acmicpc.net/problem/2178"
   ]
  },
  {
   "cell_type": "code",
   "execution_count": null,
   "id": "e0453317",
   "metadata": {},
   "outputs": [],
   "source": [
    "from collections import deque\n",
    "n, m = map(int, input().split())\n",
    "graph = []\n",
    "for i in range(n):\n",
    "    graph.append(list(map(int, input())))\n",
    "\n",
    "visited = [[0] * m for _ in range(n)]\n",
    "\n",
    "dx = [1,-1,0,0]\n",
    "dy = [0,0,1,-1]\n",
    "\n",
    "def bfs(cx,cy):\n",
    "    q = deque()\n",
    "    q.append([cx, cy])\n",
    "    visited[cx][cy] = 1\n",
    "    while q:\n",
    "        x,y = q.popleft()\n",
    "        if x == n-1 and y == m-1:\n",
    "            return\n",
    "        for i in range(4):\n",
    "            nx,ny = x+dx[i], y+dy[i]\n",
    "            if 0<=nx<n and 0<=ny<m and visited[nx][ny] == 0 and graph[nx][ny] == 1:\n",
    "                q.append([nx,ny])\n",
    "                visited[nx][ny] = visited[x][y] + 1\n",
    "bfs(0,0)\n",
    "print(visited[-1][-1])"
   ]
  }
 ],
 "metadata": {
  "kernelspec": {
   "display_name": "Python 3 (ipykernel)",
   "language": "python",
   "name": "python3"
  },
  "language_info": {
   "codemirror_mode": {
    "name": "ipython",
    "version": 3
   },
   "file_extension": ".py",
   "mimetype": "text/x-python",
   "name": "python",
   "nbconvert_exporter": "python",
   "pygments_lexer": "ipython3",
   "version": "3.9.2"
  }
 },
 "nbformat": 4,
 "nbformat_minor": 5
}
