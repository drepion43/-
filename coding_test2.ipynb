{
 "cells": [
  {
   "cell_type": "markdown",
   "id": "04c1d1f2",
   "metadata": {},
   "source": [
    "# 그리디 문제"
   ]
  },
  {
   "cell_type": "markdown",
   "id": "b9848225",
   "metadata": {},
   "source": [
    "## 1. 모험가 길드\n",
    "- 모험가 n명이 있다. 공포도가 x인 구성원이 있으면 반드시 x명 이상으로 구성한 그룹이어야한다.\n",
    "- 몇 명의 모험가는 마을에 그대로 남아 있어도 된다.\n",
    "- n명과 각 구성원의 공포도가 주어진다. 그룹의 수의 쵀다값을 구하시오."
   ]
  },
  {
   "cell_type": "code",
   "execution_count": 15,
   "id": "bfc9ea07",
   "metadata": {},
   "outputs": [
    {
     "name": "stdout",
     "output_type": "stream",
     "text": [
      "10\n",
      "2 3 1 2 2 2 3 1 2 2\n",
      "5\n"
     ]
    }
   ],
   "source": [
    "n=int(input())\n",
    "x=list(map(int,input().split()))\n",
    "x.sort()\n",
    "#현재 그룹 인원\n",
    "cnt=0\n",
    "#그룹 개수\n",
    "result=0\n",
    "\n",
    "for i in x:\n",
    "    cnt+=1\n",
    "    if cnt>=i:\n",
    "        result+=1\n",
    "        cnt=0\n",
    "\n",
    "\n",
    "        \n",
    "print(result)"
   ]
  },
  {
   "cell_type": "markdown",
   "id": "64bdd283",
   "metadata": {},
   "source": [
    "## 2. 곱하기 혹은 더하기\n",
    "- 숫자 0~9사로만 이루어진 문자열 S에서 '+' 혹은 'X'를 넣어 연산의 최대값을 구하라.\n",
    "- 연산은 항상 왼쪽에서부터 순서대로 이루어진다."
   ]
  },
  {
   "cell_type": "code",
   "execution_count": 41,
   "id": "dbb10344",
   "metadata": {},
   "outputs": [
    {
     "name": "stdout",
     "output_type": "stream",
     "text": [
      "02984\n",
      "576\n"
     ]
    }
   ],
   "source": [
    "n=list(map(int,input().strip()))\n",
    "result=0\n",
    "for i in range(len(n)-1):\n",
    "    plus_tmp=int(n[i])+int(n[i+1])\n",
    "    multi_tmp=int(n[i])*int(n[i+1])\n",
    "    if plus_tmp>multi_tmp:\n",
    "        result=plus_tmp\n",
    "        n[i+1]=result\n",
    "    else:\n",
    "        result=multi_tmp\n",
    "        n[i+1]=result\n",
    "print(result)\n"
   ]
  },
  {
   "cell_type": "markdown",
   "id": "db579680",
   "metadata": {},
   "source": [
    "## 3. 문자열 뒤집기(1439번)\n",
    "- 다솜이는 0과1로 이루어진 문자열 S를 가지고 있따. 문자열 S의 모든 숫자를 같게 만들려고 한다. \n",
    "- 연속된 숫자를 한번에 뒤집을 수 있다. 다솜이의 최소 행동 횟수를 구하라."
   ]
  },
  {
   "cell_type": "code",
   "execution_count": 63,
   "id": "3765da6a",
   "metadata": {},
   "outputs": [
    {
     "name": "stdout",
     "output_type": "stream",
     "text": [
      "11001100110011000001\n",
      "4\n"
     ]
    }
   ],
   "source": [
    "n=list(map(int,input().strip()))\n",
    "\n",
    "cnt=0\n",
    "\n",
    "for i in range(len(n)-1):\n",
    "    if n[i]!=n[i+1]:\n",
    "        cnt+=1\n",
    "if cnt>1:\n",
    "    if cnt%2==0:\n",
    "        cnt=cnt//2\n",
    "    else:\n",
    "        cnt=cnt//2+1\n",
    "\n",
    "\n",
    "print(cnt)"
   ]
  },
  {
   "cell_type": "markdown",
   "id": "4523aac3",
   "metadata": {},
   "source": [
    "## *4. 만들 수 없는 금액\n",
    "- n개의 동전을 이용해 양의 정수 금액 중 최솟값을 구하라.\n",
    "- n개의 동전과, 그 후 동전이 주어진다."
   ]
  },
  {
   "cell_type": "code",
   "execution_count": 64,
   "id": "03267a69",
   "metadata": {},
   "outputs": [
    {
     "name": "stdout",
     "output_type": "stream",
     "text": [
      "5\n",
      "3 2 1 1 9\n",
      "8\n"
     ]
    }
   ],
   "source": [
    "n=int(input())\n",
    "lst=list(map(int,input().split()))\n",
    "\n",
    "lst.sort()\n",
    "\n",
    "target=1\n",
    "for i in lst:\n",
    "    if target<i:\n",
    "        break\n",
    "    target+=i\n",
    "    \n",
    "print(target)"
   ]
  },
  {
   "cell_type": "markdown",
   "id": "f432e5c9",
   "metadata": {},
   "source": [
    "## 5. 볼링공 고르기\n",
    "- A,B 두 사람이 볼링을 치고 있다. n개의 볼링공 중 서로 무게가 다른 볼링공을 고르려 한다. 볼링공의 무개는 1~m까지 존재한다.\n",
    "- n과 m이 주어지고 n개만큼의 볼링공 무게가 주어질 때, 두사람이 공을 고르는 경우의 수를 구하라."
   ]
  },
  {
   "cell_type": "code",
   "execution_count": 79,
   "id": "d2e43f70",
   "metadata": {},
   "outputs": [
    {
     "name": "stdout",
     "output_type": "stream",
     "text": [
      "8 5\n",
      "1 5 4 3 2 4 5 2\n",
      "25\n"
     ]
    }
   ],
   "source": [
    "n,m=map(int,input().split())\n",
    "\n",
    "lst=list(map(int,input().split()))\n",
    "\n",
    "lst.sort()\n",
    "\n",
    "total=n*(n-1)//2\n",
    "\n",
    "count=[[]for _ in range(m+1)]\n",
    "\n",
    "for i in range(len(lst)-1):\n",
    "    if lst[i]==lst[i+1]:\n",
    "        count[lst[i]].append(lst[i])\n",
    "        \n",
    "for i in count:\n",
    "    if len(i)>0:\n",
    "        tmp=(len(i)+1)*(len(i))//2\n",
    "        total-=tmp\n",
    "print(total)"
   ]
  },
  {
   "cell_type": "markdown",
   "id": "30979c13",
   "metadata": {},
   "source": [
    "## 6. 무지의 먹방 라이브\n",
    "- https://school.programmers.co.kr/learn/courses/30/lessons/42891\n",
    "- 평소 식욕이 왕성한 무지는 자신의 재능을 뽐내고 싶어 졌고 고민 끝에 카카오 TV 라이브로 방송을 하기로 마음먹었다.\n",
    "\n",
    "- 그냥 먹방을 하면 다른 방송과 차별성이 없기 때문에 무지는 아래와 같이 독특한 방식을 생각해냈다.\n",
    "\n",
    "- 회전판에 먹어야 할 N 개의 음식이 있다.\n",
    "- 각 음식에는 1부터 N 까지 번호가 붙어있으며, 각 음식을 섭취하는데 일정 시간이 소요된다.\n",
    "- 무지는 다음과 같은 방법으로 음식을 섭취한다.\n",
    "\n",
    "- 무지는 1번 음식부터 먹기 시작하며, 회전판은 번호가 증가하는 순서대로 음식을 무지 앞으로 가져다 놓는다.\n",
    "- 마지막 번호의 음식을 섭취한 후에는 회전판에 의해 다시 1번 음식이 무지 앞으로 온다.\n",
    "- 무지는 음식 하나를 1초 동안 섭취한 후 남은 음식은 그대로 두고, 다음 음식을 섭취한다.\n",
    "- 다음 음식이란, 아직 남은 음식 중 다음으로 섭취해야 할 가장 가까운 번호의 음식을 말한다.\n",
    "- 회전판이 다음 음식을 무지 앞으로 가져오는데 걸리는 시간은 없다고 가정한다.\n",
    "- 무지가 먹방을 시작한 지 K 초 후에 네트워크 장애로 인해 방송이 잠시 중단되었다.\n",
    "- 무지는 네트워크 정상화 후 다시 방송을 이어갈 때, 몇 번 음식부터 섭취해야 하는지를 알고자 한다.\n",
    "- 각 음식을 모두 먹는데 필요한 시간이 담겨있는 배열 food_times, 네트워크 장애가 발생한 시간 K 초가 매개변수로 주어질 때 몇 번 음식부터 다- 시 섭취하면 되는지 return 하도록 solution 함수를 완성하라."
   ]
  },
  {
   "cell_type": "code",
   "execution_count": null,
   "id": "05965ae3",
   "metadata": {},
   "outputs": [],
   "source": [
    "import heapq\n",
    "\n",
    "def solution(food_times, k):\n",
    "    answer = 0\n",
    "    if sum(food_times)<k\n",
    "        return -1\n",
    "    q=[]\n",
    "    for i in range(len(food_times)):\n",
    "        heapq.heappush(q,(food_times[i],i+1))\n",
    "        \n",
    "    food_num=len(food_times)\n",
    "    cur=0\n",
    "    previous=0\n",
    "    while k-((q[0][0]-previous)*food_num)>=0:\n",
    "        cur=heapq.heappop(q)[0]\n",
    "        k-=(cur-previous)*food_num\n",
    "        food_num-=1\n",
    "        previous=cur\n",
    "        print(k)\n",
    "    result=sorted(q,key=lambda x:x[1])\n",
    "    answer=result[k%food_num][1]\n",
    "    \n",
    "    \n",
    "    return answer"
   ]
  },
  {
   "cell_type": "markdown",
   "id": "290f911a",
   "metadata": {},
   "source": [
    "# 구현"
   ]
  },
  {
   "cell_type": "markdown",
   "id": "c2bb75c8",
   "metadata": {},
   "source": [
    "## 7. 럭키 스트레이트\n",
    "https://www.acmicpc.net/problem/18406"
   ]
  },
  {
   "cell_type": "code",
   "execution_count": 85,
   "id": "3a536f31",
   "metadata": {},
   "outputs": [
    {
     "name": "stdout",
     "output_type": "stream",
     "text": [
      "7755\n",
      "READY\n"
     ]
    }
   ],
   "source": [
    "lst=input()\n",
    "\n",
    "length=len(lst)\n",
    "half_length=length//2\n",
    "\n",
    "left_total=0\n",
    "right_total=0\n",
    "\n",
    "for i in range(length):\n",
    "    if i<=half_length-1:\n",
    "        left_total+=int(lst[i])\n",
    "    else:\n",
    "        right_total+=int(lst[i])\n",
    "\n",
    "\n",
    "if left_total==right_total:\n",
    "    print('LUCKY')\n",
    "else:\n",
    "    print('READY')"
   ]
  },
  {
   "cell_type": "markdown",
   "id": "198fdc8d",
   "metadata": {},
   "source": [
    "## 8.문자열 재정렬\n",
    "- 알파벳 대문자와 0~9의 숫자로 구성된 문자열이 있다.\n",
    "- 알파벳 먼저 오름차순을 정렬 후, 숫자들의 합을 그 다음 표시해 출력하시오."
   ]
  },
  {
   "cell_type": "code",
   "execution_count": 110,
   "id": "68e04034",
   "metadata": {},
   "outputs": [
    {
     "name": "stdout",
     "output_type": "stream",
     "text": [
      "q13vzq9d\n",
      "dqqvz13\n"
     ]
    }
   ],
   "source": [
    "s=input()\n",
    "total=0\n",
    "result=[]\n",
    "for x in s:\n",
    "    if not x.isalpha():\n",
    "        total+=int(x)\n",
    "    else:\n",
    "        result.append(x)\n",
    "result.sort()\n",
    "result.append(str(total))\n",
    "print(''.join(result))"
   ]
  },
  {
   "cell_type": "markdown",
   "id": "18e5423f",
   "metadata": {},
   "source": [
    "## 9.문자열 압축\n",
    "https://school.programmers.co.kr/learn/courses/30/lessons/60057"
   ]
  },
  {
   "cell_type": "code",
   "execution_count": null,
   "id": "8ef4bdd9",
   "metadata": {},
   "outputs": [],
   "source": [
    "#브루트 포스"
   ]
  },
  {
   "cell_type": "markdown",
   "id": "d11b865a",
   "metadata": {},
   "source": [
    "## 10. 자물쇠와 열쇠\n",
    "https://school.programmers.co.kr/learn/courses/30/lessons/60059"
   ]
  },
  {
   "cell_type": "code",
   "execution_count": 123,
   "id": "1d04b1a0",
   "metadata": {},
   "outputs": [
    {
     "name": "stdout",
     "output_type": "stream",
     "text": [
      "[[2, 3, 6], [4, 8, 7]]\n"
     ]
    }
   ],
   "source": [
    "def solution(key, lock):\n",
    "    n=len(lock)\n",
    "    m=len(key)\n",
    "    new_lock=[[0]*(n*3) for _ in range(n*3)]\n",
    "    # n*3Xn*3의 행렬에 lock값 채우기\n",
    "    for i in range(n):\n",
    "        for j in range(n):\n",
    "            new_lock[n+i][n+j]=lock[i][j]\n",
    "    \n",
    "    #90도씩 회전하니 총 360도회전은 4번\n",
    "    for rotation in range(4):\n",
    "        key=rotate(key)\n",
    "        for x in range(n*2):\n",
    "            for y in range(n*2):\n",
    "                for i in range(m):\n",
    "                    for j in range(m):\n",
    "                        new_lock[x+i][y+j]+=key[i][j]\n",
    "                if check(new_lock)==True:\n",
    "                    return True\n",
    "                for i in range(m):\n",
    "                     for j in range(m):\n",
    "                        new_lock[x+i][y+j]-=key[i][j]\n",
    "    return False\n",
    "                    \n",
    "#회전 함수\n",
    "def rotate(a):\n",
    "    n=len(a)\n",
    "    m=len(a[0])\n",
    "    result=[[0]*n for _ in range(m)]\n",
    "    for i in range(n):\n",
    "        for j in range(m):\n",
    "            result[j][n-1-i]=a[i][j]#90도 회전\n",
    "    return result\n",
    "\n",
    "\n",
    "#증가시킨 행렬에서 가운데 부분이 모드 1인지 확인 함수\n",
    "def check(new_lock):\n",
    "    lock_length=len(new_lock)//3\n",
    "    for i in range(lock_length,lock_length*2):\n",
    "        for j in range(lock_length,lock_length*2):\n",
    "            if new_lock[i][j]!=1:\n",
    "                return False\n",
    "            \n",
    "    return True"
   ]
  },
  {
   "cell_type": "markdown",
   "id": "4b1c4044",
   "metadata": {},
   "source": [
    "## 11. 뱀\n",
    "https://www.acmicpc.net/problem/3190"
   ]
  },
  {
   "cell_type": "code",
   "execution_count": 37,
   "id": "19ee96c1",
   "metadata": {},
   "outputs": [
    {
     "name": "stdout",
     "output_type": "stream",
     "text": [
      "10\n",
      "4\n",
      "1 2\n",
      "1 3\n",
      "1 4\n",
      "1 5\n",
      "4\n",
      "8 D\n",
      "10 D\n",
      "11 D\n",
      "13 L\n",
      "11 9\n",
      "18\n"
     ]
    }
   ],
   "source": [
    "n=int(input())\n",
    "k=int(input())\n",
    "lst=[[0]*(n+1) for _ in range(n+1)]\n",
    "for _ in range(k):\n",
    "    a,b=map(int,input().split())\n",
    "    lst[a][b]=1\n",
    "\n",
    "lst[1][1]=-1\n",
    "l=int(input())\n",
    "move=[]\n",
    "status=['R','L','U','D']\n",
    "dx=[0,0,1,-1]\n",
    "dy=[1,-1,0,0]\n",
    "\n",
    "for _ in range(l):\n",
    "    a,b=input().split()\n",
    "    move.append((int(a),b))\n",
    "            \n",
    "x=dx[0]\n",
    "y=dy[0]\n",
    "cur_x,cur_y=1,1\n",
    "collision=False\n",
    "time=0\n",
    "length=0\n",
    "for a,b in move:\n",
    "    if collision:\n",
    "        break\n",
    "    \n",
    "    for k in range(a):\n",
    "        time+=1\n",
    "        nx=cur_x+x\n",
    "        ny=cur_y+y\n",
    "        if 1>nx or n<nx or 1>ny or n<ny or lst[nx][ny]==-1:\n",
    "            print(nx,ny)\n",
    "            collision=True\n",
    "            break\n",
    "        if lst[nx][ny]==1:\n",
    "            length+=1\n",
    "        lst[nx][ny]=-1\n",
    "        lst[cur_x][cur_y]=0\n",
    "        for i in range(length):\n",
    "            lst[nx-x][ny-y]=-1\n",
    "        cur_x=nx\n",
    "        cur_y=ny\n",
    "        \n",
    "    if b=='R':\n",
    "        x,y=dx[0],dy[0]\n",
    "    elif b=='L':\n",
    "        x,y=dx[1],dy[1]\n",
    "    elif b=='D':\n",
    "        x,y=dx[2],dy[2]\n",
    "    elif b=='U':\n",
    "        x,y=dx[3],dy[3]\n",
    "\n",
    "print(time)"
   ]
  },
  {
   "cell_type": "code",
   "execution_count": 36,
   "id": "68522f39",
   "metadata": {},
   "outputs": [
    {
     "name": "stdout",
     "output_type": "stream",
     "text": [
      "10\n",
      "5\n",
      "1 5\n",
      "1 3\n",
      "1 2\n",
      "1 6\n",
      "1 7\n",
      "4\n",
      "8 D\n",
      "10 D\n",
      "11 D\n",
      "13 L\n",
      "0 7\n",
      "13\n"
     ]
    }
   ],
   "source": [
    "from collections import deque\n",
    "\n",
    "n = int(input())\n",
    "k = int(input())\n",
    "\n",
    "graph = [[0] * n for _ in range(n)]\n",
    "dx = [0, 1, 0, -1]\n",
    "dy = [1, 0, -1, 0]\n",
    "\n",
    "for i in range(k):\n",
    "    a, b = map(int, input().split())\n",
    "    graph[a - 1][b - 1] = 2\n",
    "\n",
    "l = int(input())\n",
    "dirDict = dict()\n",
    "queue = deque()\n",
    "queue.append((0, 0))\n",
    "\n",
    "for i in range(l):\n",
    "    x, c = input().split()\n",
    "    dirDict[int(x)] = c\n",
    "\n",
    "x, y = 0, 0\n",
    "graph[x][y] = 1\n",
    "cnt = 0\n",
    "direction = 0\n",
    "\n",
    "def turn(alpha):\n",
    "    global direction\n",
    "    if alpha == 'L':\n",
    "        direction = (direction - 1) % 4\n",
    "    else:\n",
    "        direction = (direction + 1) % 4\n",
    "\n",
    "\n",
    "while True:\n",
    "    cnt += 1\n",
    "    x += dx[direction]\n",
    "    y += dy[direction]\n",
    "\n",
    "    if x < 0 or x >= n or y < 0 or y >= n:\n",
    "        print(x,y)\n",
    "        break\n",
    "\n",
    "    if graph[x][y] == 2:\n",
    "        graph[x][y] = 1\n",
    "        queue.append((x, y))\n",
    "        if cnt in dirDict:\n",
    "            turn(dirDict[cnt])\n",
    "\n",
    "    elif graph[x][y] == 0:\n",
    "        graph[x][y] = 1\n",
    "        queue.append((x, y))\n",
    "        tx, ty = queue.popleft()\n",
    "        graph[tx][ty] = 0\n",
    "        if cnt in dirDict:\n",
    "            turn(dirDict[cnt])\n",
    "\n",
    "    else:\n",
    "        print(x,y)\n",
    "        break\n",
    "\n",
    "print(cnt)"
   ]
  },
  {
   "cell_type": "markdown",
   "id": "1bb0dbf5",
   "metadata": {},
   "source": [
    "# 12.기둥과 보 설치\n",
    "https://school.programmers.co.kr/learn/courses/30/lessons/60061"
   ]
  },
  {
   "cell_type": "code",
   "execution_count": null,
   "id": "853dc50d",
   "metadata": {},
   "outputs": [],
   "source": [
    "def check(answer):\n",
    "    for x,y,a in answer:\n",
    "        if a==0:#기둥인 경우\n",
    "            if y==0 or (x-1,y,1) in answer or (x,y-1,0) in answer or (x,y,1) in answer:\n",
    "                continue\n",
    "            return False\n",
    "        elif a==1:\n",
    "            if (x,y-1,0) in answer or (x+1,y,0) in answer or ((x-1,y-1,1) in answer and (x+1,y,1) in answer):\n",
    "                continue\n",
    "            return False\n",
    "    return True\n",
    "\n",
    "def solution(n, build_frame):\n",
    "    answer = []\n",
    "    #a=0 기둥 a=1 보\n",
    "    for frame in build_frame:\n",
    "        x,y,a,b=frame\n",
    "        if b==1:\n",
    "            answer.append((x,y,a))\n",
    "            if not check(answer):\n",
    "                answer.remove((x,y,a))            \n",
    "        else:\n",
    "            answer.remove((x,y,a))\n",
    "            if not check(answer):\n",
    "                answer.append((x,y,a))\n",
    "\n",
    "\n",
    "    \n",
    "    return sorted(answer)"
   ]
  },
  {
   "cell_type": "markdown",
   "id": "24228353",
   "metadata": {},
   "source": [
    "# 13. 치킨 배달\n",
    "https://www.acmicpc.net/problem/15686"
   ]
  },
  {
   "cell_type": "code",
   "execution_count": 7,
   "id": "91f333bd",
   "metadata": {},
   "outputs": [
    {
     "name": "stdout",
     "output_type": "stream",
     "text": [
      "5 3\n",
      "0 0 1 0 0\n",
      "0 0 2 0 1\n",
      "0 1 2 0 0\n",
      "0 0 1 0 0\n",
      "0 0 0 0 2\n",
      "5\n"
     ]
    }
   ],
   "source": [
    "from itertools import combinations\n",
    "\n",
    "n,m=map(int,input().split())\n",
    "graph=[]\n",
    "house=[]\n",
    "chicken=[]\n",
    "\n",
    "for _ in range(n):\n",
    "    graph.append(list(map(int,input().split())))\n",
    "\n",
    "for a in range(n):\n",
    "    for b in range(n):\n",
    "        if graph[a][b]==1:\n",
    "            house.append((a,b))\n",
    "        if graph[a][b]==2:\n",
    "            chicken.append((a,b))\n",
    "\n",
    "candidates=list(combinations(chicken,m))\n",
    "\n",
    "def get_sum(candidate):\n",
    "    result=0\n",
    "    for hx,hy in house:\n",
    "        min_value=1e9\n",
    "        for cx,cy in candidate:\n",
    "            min_value=min(min_value,abs(hx-cx)+abs(hy-cy))\n",
    "        result+=min_value\n",
    "    return result\n",
    "\n",
    "result=1e9\n",
    "for candidate in candidates:\n",
    "    result=min(get_sum(candidate),result)\n",
    "print(result)"
   ]
  },
  {
   "cell_type": "markdown",
   "id": "0f02e337",
   "metadata": {},
   "source": [
    "# 14. 외벽 점검\n",
    "https://school.programmers.co.kr/learn/courses/30/lessons/60062"
   ]
  },
  {
   "cell_type": "code",
   "execution_count": null,
   "id": "98134bb6",
   "metadata": {},
   "outputs": [],
   "source": [
    "from itertools import permutations\n",
    "def solution(n, weak, dist):\n",
    "    answer = 0\n",
    "    length=len(weak)\n",
    "    \n",
    "    for i in range(length):\n",
    "        weak.append(weak[i]+n)\n",
    "    answer=1e9\n",
    "    for a in range(length):\n",
    "        for friend in (permutations(dist,len(dist))):\n",
    "            count=1\n",
    "            position=weak[a]+friend[count-1]\n",
    "            for i in range(a,a+length):\n",
    "                if position<weak[i]:\n",
    "                    count+=1\n",
    "                    if count>len(dist):\n",
    "                        break\n",
    "                    position=weak[i]+friend[count-1]\n",
    "            answer=min(answer,count)\n",
    "    if answer>len(dist):\n",
    "        return -1\n",
    "            \n",
    "    return answer"
   ]
  },
  {
   "cell_type": "markdown",
   "id": "6c1a0464",
   "metadata": {},
   "source": [
    "# DFS/BFS"
   ]
  },
  {
   "cell_type": "markdown",
   "id": "2a3548c7",
   "metadata": {},
   "source": [
    "# 15. 특정 거리의 도시 찾기(18352번)\n",
    "- 1~n번까지의 도시와 m개의 단방향 도로가 존재한다. 모든 도로의 거리는 1이다.\n",
    "- 특정 도시 x로부터 출발하여 도달할 수 있는 모든 도시 중에서, 최단 거리가 k인 도시의 번호를 모두 출력하라.\n",
    "- n,m,k,x가 주어진다."
   ]
  },
  {
   "cell_type": "code",
   "execution_count": 54,
   "id": "d200b0cc",
   "metadata": {},
   "outputs": [
    {
     "name": "stdout",
     "output_type": "stream",
     "text": [
      "4 4 1 1\n",
      "1 2\n",
      "1 3\n",
      "2 3\n",
      "2 4\n",
      "2\n",
      "3\n"
     ]
    }
   ],
   "source": [
    "from collections import deque\n",
    "n,m,k,x=map(int,input().split())\n",
    "q=[]\n",
    "graph=[[] for _ in range(n+1)]\n",
    "visited=[False]*(n+1)\n",
    "dis=[0]*(n+1)\n",
    "\n",
    "for i in range(m):\n",
    "    a,b = map(int,input().split())\n",
    "    graph[a].append(b)\n",
    "\n",
    "def bfs(graph,start,k,dis):\n",
    "    queue=deque([start])\n",
    "    visited[start]=True\n",
    "    while queue:\n",
    "        a=queue.popleft()\n",
    "        for x in graph[a]:\n",
    "            if not visited[x]:\n",
    "                visited[x]=True\n",
    "                dis[x]=dis[a]+1\n",
    "                queue.append(x)\n",
    "check=False\n",
    "bfs(graph,x,k,dis)\n",
    "for i in range(1,n+1):\n",
    "    if dis[i]==k:\n",
    "        print(i)\n",
    "        check=True\n",
    "if check==False:\n",
    "    print(-1)"
   ]
  },
  {
   "cell_type": "markdown",
   "id": "afe4d790",
   "metadata": {},
   "source": [
    "## 16.연구소\n",
    "- https://www.acmicpc.net/problem/14502"
   ]
  },
  {
   "cell_type": "code",
   "execution_count": 29,
   "id": "cf80dc52",
   "metadata": {},
   "outputs": [
    {
     "name": "stdout",
     "output_type": "stream",
     "text": [
      "4 6\n",
      "0 0 0 0 0 0\n",
      "1 0 0 0 0 2\n",
      "1 1 1 0 0 2\n",
      "0 0 0 0 0 2\n",
      "9\n"
     ]
    }
   ],
   "source": [
    "from itertools import combinations\n",
    "from collections import deque\n",
    "import copy\n",
    "n,m=map(int,input().split())\n",
    "graph=[]\n",
    "possible=[]\n",
    "virus=deque()\n",
    "\n",
    "for i in range(n):\n",
    "    graph.append(list(map(int,input().split())))\n",
    "    for j in range(m):\n",
    "        if graph[i][j]==0:\n",
    "            possible.append((i,j))\n",
    "        if graph[i][j]==2:\n",
    "            virus.append((i,j))\n",
    "        \n",
    "\n",
    "candidates=list(combinations(possible,3))\n",
    "\n",
    "dx=[1,-1,0,0]\n",
    "dy=[0,0,1,-1]\n",
    "\n",
    "def bfs(candidate,virus,visited):\n",
    "    count=0\n",
    "    for ix,iy in candidate:\n",
    "        graph[ix][iy]=1\n",
    "    while virus:\n",
    "        x,y=virus.popleft()\n",
    "        visited[x][y]=True\n",
    "        for i in range(4):\n",
    "            nx=x+dx[i]\n",
    "            ny=y+dy[i]\n",
    "            if 0<=nx<n and 0<=ny<m:\n",
    "                if graph[nx][ny]==0 and visited[nx][ny]==False:\n",
    "                    virus.append((nx,ny))\n",
    "    for i in range(n):\n",
    "        for j in range(m):\n",
    "            if graph[i][j]==0 and visited[i][j]==False:\n",
    "                count+=1\n",
    "    for ix,iy in candidate:\n",
    "        graph[ix][iy]=0\n",
    "    return count\n",
    "\n",
    "max_value=0\n",
    "for candidate in candidates:\n",
    "    visited=[[False]*m for _ in range(n)]\n",
    "    tmp_virus=copy.deepcopy(virus)\n",
    "    max_value=max(max_value,bfs(candidate,tmp_virus,visited))\n",
    "print(max_value)"
   ]
  },
  {
   "cell_type": "markdown",
   "id": "ca412e31",
   "metadata": {},
   "source": [
    "## 17. 경쟁적 전염\n",
    "https://www.acmicpc.net/problem/18405"
   ]
  },
  {
   "cell_type": "code",
   "execution_count": 37,
   "id": "95ed5451",
   "metadata": {},
   "outputs": [
    {
     "name": "stdout",
     "output_type": "stream",
     "text": [
      "3 3\n",
      "1 0 2\n",
      "0 0 0\n",
      "3 0 0\n",
      "3 2 2\n",
      "[[1, 1, 2], [1, 1, 2], [3, 3, 2]]\n",
      "1\n"
     ]
    }
   ],
   "source": [
    "import heapq\n",
    "from collections import deque\n",
    "n,k=map(int,input().split())\n",
    "graph=[]\n",
    "virus=[]\n",
    "visited=[[False]*n for _ in range(n)]\n",
    "distance=[[0]*n for _ in range(n)]\n",
    "for i in range(n):\n",
    "    graph.append(list(map(int,input().split())))\n",
    "    for j in range(n):\n",
    "        if graph[i][j]!=0:\n",
    "            heapq.heappush(virus,(graph[i][j],i,j))\n",
    "\n",
    "q=deque(virus)\n",
    "\n",
    "dx=[1,-1,0,0]\n",
    "dy=[0,0,1,-1]\n",
    "\n",
    "def bfs(s):\n",
    "    while q:\n",
    "        _,x,y=q.popleft()\n",
    "        visited[x][y]=True\n",
    "        if distance[x][y]==s:\n",
    "            return\n",
    "        for i in range(4):\n",
    "            nx=x+dx[i]\n",
    "            ny=y+dy[i]\n",
    "            if 0<=nx<n and 0<=ny<n:\n",
    "                if graph[nx][ny]==0 and visited[nx][ny]==False:\n",
    "                    graph[nx][ny]=graph[x][y]\n",
    "                    distance[nx][ny]=distance[x][y]+1\n",
    "                    q.append((graph[nx][ny],nx,ny))\n",
    "\n",
    "s,x,y=map(int,input().split())\n",
    "bfs(s)\n",
    "print(graph[x-1][y-1])"
   ]
  },
  {
   "cell_type": "code",
   "execution_count": null,
   "id": "d244af27",
   "metadata": {},
   "outputs": [],
   "source": [
    "from collections import deque\n",
    "\n",
    "n, k = map(int, input().split())\n",
    "test = [] # 전체 맵 정보 담는 리스트\n",
    "data =[] # 바이러스 정보를 담는 리스트\n",
    "for i in range(n):\n",
    "    test.append(list(map(int, input().split())))\n",
    "    for j in range(n):\n",
    "        if test[i][j] != 0:\n",
    "            # 바이러스 숫자, x위치, y위치, 시간 을 입력받는다.\n",
    "            data.append((test[i][j], i, j, 0))\n",
    "\n",
    "rs, rx, ry = map(int, input().split())\n",
    "# 상 하 좌 우\n",
    "dx = [-1, 1, 0, 0]\n",
    "dy = [0, 0, -1, 1]\n",
    "\n",
    "data.sort()\n",
    "q = deque(data)\n",
    "\n",
    "while q:\n",
    "    virus, x, y, time = q.popleft()\n",
    "    if time == rs:\n",
    "        break\n",
    "    for i in range(4):\n",
    "        mx = x + dx[i]\n",
    "        my = y + dy[i]\n",
    "        if 0 <= mx < n and 0 <= my < n:\n",
    "            if test[mx][my] == 0:\n",
    "                test[mx][my] = virus\n",
    "                q.append((virus, mx, my, time+1))\n",
    "\n",
    "print(test[rx-1][ry-1])"
   ]
  },
  {
   "cell_type": "markdown",
   "id": "d1adf015",
   "metadata": {},
   "source": [
    "## 18.괄호 변환\n",
    "https://school.programmers.co.kr/learn/courses/30/lessons/60058"
   ]
  },
  {
   "cell_type": "code",
   "execution_count": null,
   "id": "8a0eb62c",
   "metadata": {},
   "outputs": [],
   "source": [
    "def solution(p):\n",
    "    answer = ''\n",
    "    if p=='':\n",
    "        return answer\n",
    "    position=balance(p)\n",
    "    u=p[:position+1]\n",
    "    v=p[position+1:]\n",
    "    if check_right(u):\n",
    "        answer=u+solution(v)\n",
    "    else:\n",
    "        answer='('\n",
    "        answer=answer+solution(v)\n",
    "        answer+=')'\n",
    "        u=list(u[1:-1])\n",
    "        for i in range(len(u)):\n",
    "            if u[i]=='(':\n",
    "                u[i]=')'\n",
    "            else:\n",
    "                u[i]='('\n",
    "        answer+=\"\".join(u)\n",
    "\n",
    "    return answer\n",
    "\n",
    "def balance(p):\n",
    "    count=0\n",
    "    for i in range(len(p)):\n",
    "        if p[i]=='(':\n",
    "            count+=1\n",
    "        if p[i]==')':\n",
    "            count-=1\n",
    "        if count==0:\n",
    "            return i\n",
    "\n",
    "def check_right(p):\n",
    "    count=0\n",
    "    for i in range(len(p)):\n",
    "        if p[i]=='(':\n",
    "            count+=1\n",
    "        else:\n",
    "            if count==0:\n",
    "                return False\n",
    "            count-=1\n",
    "    return True"
   ]
  },
  {
   "cell_type": "code",
   "execution_count": null,
   "id": "05a20c94",
   "metadata": {},
   "outputs": [],
   "source": [
    "def solution(p):\n",
    "    if p=='': \n",
    "        return p\n",
    "    r=True\n",
    "    c=0\n",
    "    for i in range(len(p)):\n",
    "        if p[i]=='(': \n",
    "            c-=1\n",
    "        else: \n",
    "            c+=1\n",
    "        if c>0: \n",
    "            r=False\n",
    "        if c==0:\n",
    "            if r:\n",
    "                return p[:i+1]+solution(p[i+1:])\n",
    "            else:\n",
    "                return '('+solution(p[i+1:])+')'+''.join(list(map(lambda x:'(' if x==')' else ')',p[1:i])))\n"
   ]
  },
  {
   "cell_type": "markdown",
   "id": "16c53be8",
   "metadata": {},
   "source": [
    "## 19. 연산자 끼워넣기\n",
    "- https://www.acmicpc.net/problem/14888"
   ]
  },
  {
   "cell_type": "code",
   "execution_count": 68,
   "id": "88ec4d4c",
   "metadata": {},
   "outputs": [
    {
     "name": "stdout",
     "output_type": "stream",
     "text": [
      "6\n",
      "1 2 3 4 5 6\n",
      "2 1 1 1\n",
      "54\n",
      "-24\n"
     ]
    }
   ],
   "source": [
    "from itertools import permutations\n",
    "n=int(input())\n",
    "\n",
    "num=list(map(int,input().split()))\n",
    "cal=list(map(int,input().split()))\n",
    "cal_sum=sum(cal)\n",
    "\n",
    "calculator=[]\n",
    "for i in range(len(cal)):\n",
    "    for j in range(cal[i]):\n",
    "        calculator.append(i)\n",
    "\n",
    "candidates=list(permutations(calculator,cal_sum))\n",
    "\n",
    "def get_sum(num,candidate):\n",
    "    tmp=num[0]\n",
    "    count=0\n",
    "    for i in candidate:\n",
    "        if i==0:\n",
    "            tmp+=num[count+1]\n",
    "        elif i==1:\n",
    "            tmp-=num[count+1]\n",
    "        elif i==2:\n",
    "            tmp*=num[count+1]\n",
    "        elif i==3:\n",
    "            tmp=int(tmp/num[count+1])\n",
    "        count+=1\n",
    "    return tmp\n",
    "max_result=0\n",
    "min_result=1e9\n",
    "for candidate in candidates:\n",
    "    max_result=max(max_result,get_sum(num,candidate))\n",
    "    min_result=min(min_result,get_sum(num,candidate))\n",
    "print(max_result)\n",
    "print(min_result)"
   ]
  },
  {
   "cell_type": "markdown",
   "id": "30f88737",
   "metadata": {},
   "source": [
    "## 20.감시 피하기\n",
    "https://www.acmicpc.net/problem/18428"
   ]
  },
  {
   "cell_type": "code",
   "execution_count": 118,
   "id": "94350498",
   "metadata": {
    "scrolled": true
   },
   "outputs": [
    {
     "name": "stdout",
     "output_type": "stream",
     "text": [
      "7\n",
      "S X X X X X S\n",
      "X X X X X X X\n",
      "T X S X S X T\n",
      "X X X X X X X\n",
      "X X X X X X X\n",
      "X X X X X X X\n",
      "X X X X X X X\n",
      "[[True, True, True, True, True, True, True], [True, False, True, False, True, False, True], [False, True, True, True, True, True, False], [False, False, True, False, True, False, False], [False, False, True, False, True, False, False], [False, False, True, False, True, False, False], [False, False, True, False, True, False, False]]\n",
      "4\n",
      "NO\n"
     ]
    }
   ],
   "source": [
    "n=int(input())\n",
    "graph=[]\n",
    "visited=[[False]*(n) for _ in range(n)]\n",
    "\n",
    "for i in range(n):\n",
    "    graph.append(input().split())\n",
    "dx=[1,-1,0,0]\n",
    "dy=[0,0,1,-1]\n",
    "student=[]\n",
    "for i in range(n):\n",
    "    for j in range(n):\n",
    "        if graph[i][j]=='S':\n",
    "            student.append((i,j))\n",
    "\n",
    "answer=0\n",
    "def dfs(graph,a,b,visited):\n",
    "    global answer\n",
    "    visited[a][b]=True\n",
    "    for i in range(4):\n",
    "        nx=a+dx[i]\n",
    "        ny=b+dy[i]\n",
    "        if nx<0 or n<=nx or ny<0 or n<=ny or visited[nx][ny]==True:\n",
    "            continue\n",
    "        if graph[nx][ny]=='T':\n",
    "            answer=100\n",
    "            break\n",
    "        \n",
    "        while 0<=nx<n and 0<=ny<n and visited[nx][ny]==False:\n",
    "            if graph[nx][ny]=='S':\n",
    "                break\n",
    "            if graph[nx][ny]=='T':\n",
    "                answer+=1\n",
    "                break\n",
    "            visited[nx][ny]=True\n",
    "            nx=nx+dx[i]\n",
    "            ny=ny+dy[i]\n",
    "\n",
    "for a,b in student:\n",
    "    dfs(graph,a,b,visited)\n",
    "# print(visited)\n",
    "# print(answer)\n",
    "if answer<=3:\n",
    "    print('YES')\n",
    "else:\n",
    "    print('NO')"
   ]
  },
  {
   "cell_type": "markdown",
   "id": "76cc6f65",
   "metadata": {},
   "source": [
    "## 21.인구 이동\n",
    "https://www.acmicpc.net/problem/16234"
   ]
  },
  {
   "cell_type": "code",
   "execution_count": 96,
   "id": "29c54dfe",
   "metadata": {},
   "outputs": [
    {
     "name": "stdout",
     "output_type": "stream",
     "text": [
      "2 20 50\n",
      "50 30\n",
      "20 40\n"
     ]
    },
    {
     "ename": "KeyboardInterrupt",
     "evalue": "",
     "output_type": "error",
     "traceback": [
      "\u001b[1;31m---------------------------------------------------------------------------\u001b[0m",
      "\u001b[1;31mKeyboardInterrupt\u001b[0m                         Traceback (most recent call last)",
      "\u001b[1;32m~\\AppData\\Local\\Temp/ipykernel_9160/664702528.py\u001b[0m in \u001b[0;36m<module>\u001b[1;34m\u001b[0m\n\u001b[0;32m     41\u001b[0m     \u001b[0mvisited\u001b[0m\u001b[1;33m=\u001b[0m\u001b[1;33m[\u001b[0m\u001b[1;33m[\u001b[0m\u001b[1;32mFalse\u001b[0m\u001b[1;33m]\u001b[0m\u001b[1;33m*\u001b[0m\u001b[0mn\u001b[0m \u001b[1;32mfor\u001b[0m \u001b[0m_\u001b[0m \u001b[1;32min\u001b[0m \u001b[0mrange\u001b[0m\u001b[1;33m(\u001b[0m\u001b[0mn\u001b[0m\u001b[1;33m)\u001b[0m\u001b[1;33m]\u001b[0m\u001b[1;33m\u001b[0m\u001b[1;33m\u001b[0m\u001b[0m\n\u001b[0;32m     42\u001b[0m     \u001b[1;32mfor\u001b[0m \u001b[0ma\u001b[0m \u001b[1;32min\u001b[0m \u001b[0mrange\u001b[0m\u001b[1;33m(\u001b[0m\u001b[0mn\u001b[0m\u001b[1;33m)\u001b[0m\u001b[1;33m:\u001b[0m\u001b[1;33m\u001b[0m\u001b[1;33m\u001b[0m\u001b[0m\n\u001b[1;32m---> 43\u001b[1;33m         \u001b[1;32mfor\u001b[0m \u001b[0mb\u001b[0m \u001b[1;32min\u001b[0m \u001b[0mrange\u001b[0m\u001b[1;33m(\u001b[0m\u001b[0mn\u001b[0m\u001b[1;33m)\u001b[0m\u001b[1;33m:\u001b[0m\u001b[1;33m\u001b[0m\u001b[1;33m\u001b[0m\u001b[0m\n\u001b[0m\u001b[0;32m     44\u001b[0m             \u001b[1;32mif\u001b[0m \u001b[0mvisited\u001b[0m\u001b[1;33m[\u001b[0m\u001b[0ma\u001b[0m\u001b[1;33m]\u001b[0m\u001b[1;33m[\u001b[0m\u001b[0mb\u001b[0m\u001b[1;33m]\u001b[0m\u001b[1;33m==\u001b[0m\u001b[1;32mFalse\u001b[0m\u001b[1;33m:\u001b[0m\u001b[1;33m\u001b[0m\u001b[1;33m\u001b[0m\u001b[0m\n\u001b[0;32m     45\u001b[0m                 \u001b[0mbfs\u001b[0m\u001b[1;33m(\u001b[0m\u001b[0ma\u001b[0m\u001b[1;33m,\u001b[0m\u001b[0mb\u001b[0m\u001b[1;33m,\u001b[0m\u001b[0mvisited\u001b[0m\u001b[1;33m,\u001b[0m\u001b[0mgraph\u001b[0m\u001b[1;33m)\u001b[0m\u001b[1;33m\u001b[0m\u001b[1;33m\u001b[0m\u001b[0m\n",
      "\u001b[1;31mKeyboardInterrupt\u001b[0m: "
     ]
    }
   ],
   "source": [
    "from collections import deque\n",
    "n,l,r=map(int,input().split())\n",
    "graph=[]\n",
    "\n",
    "\n",
    "for _ in range(n):\n",
    "    graph.append(list(map(int,input().split())))\n",
    "\n",
    "dx=[1,-1,0,0]\n",
    "dy=[0,0,1,-1]\n",
    "\n",
    "def bfs(a,b,visited,graph):\n",
    "    global is_move\n",
    "    q=deque()\n",
    "    q.append((a,b))\n",
    "    visited[a][b]=True\n",
    "    sum_value=graph[a][b]\n",
    "    open_num=1\n",
    "    chg_positioin=[]\n",
    "    chg_positioin.append((a,b))\n",
    "    while q:\n",
    "        x,y=q.popleft()\n",
    "        for i in range(4):\n",
    "            nx=x+dx[i]\n",
    "            ny=y+dy[i]\n",
    "            if 0<=nx<n and 0<=ny<n:\n",
    "                if visited[nx][ny]==False and l<=abs(graph[x][y]-graph[nx][ny])<=r:\n",
    "                    visited[nx][ny]=True\n",
    "                    chg_positioin.append((nx,ny))\n",
    "                    sum_value+=graph[nx][ny]\n",
    "                    q.append((nx,ny))\n",
    "                    open_num+=1\n",
    "\n",
    "    if open_num>1:\n",
    "        is_move=True\n",
    "        for x,y in chg_position:\n",
    "            graph[x][y]=int(sum_value/open_num)\n",
    "count=0\n",
    "while True:\n",
    "    is_move=False\n",
    "    visited=[[False]*n for _ in range(n)]\n",
    "    for a in range(n):\n",
    "        for b in range(n):\n",
    "            if visited[a][b]==False:\n",
    "                bfs(a,b,visited,graph)\n",
    "    if is_move==True:\n",
    "        count+=1\n",
    "    else:\n",
    "        break\n",
    "                \n",
    "print(count)"
   ]
  },
  {
   "cell_type": "code",
   "execution_count": null,
   "id": "d3c85517",
   "metadata": {},
   "outputs": [],
   "source": [
    "from collections import deque\n",
    "\n",
    "n, l, r = map(int, input().split(' '))\n",
    "graph = [list(map(int, input().split(' '))) for _ in range(n)]\n",
    "\n",
    "d_x = [-1, 0, 1, 0]\n",
    "d_y = [0, 1, 0, -1]\n",
    "\n",
    "is_move = False\n",
    "\n",
    "\n",
    "def bfs(c_x, c_y, visited, grpah):\n",
    "    global is_move\n",
    "    people = graph[c_x][c_y]\n",
    "    count = 1\n",
    "    queue = deque()\n",
    "    queue.append((c_x, c_y))\n",
    "    visited[c_x][c_y] = True\n",
    "    temp = list()\n",
    "    temp.append((c_x, c_y))\n",
    "\n",
    "    while queue:\n",
    "        pop_x, pop_y = queue.popleft()\n",
    "\n",
    "        for i in range(4):\n",
    "            n_x = pop_x + d_x[i]\n",
    "            n_y = pop_y + d_y[i]\n",
    "\n",
    "            if n_x < 0 or n_x >= n or n_y < 0 or n_y >= n:\n",
    "                continue\n",
    "\n",
    "            if visited[n_x][n_y]:\n",
    "                continue\n",
    "\n",
    "            if l <= abs(grpah[pop_x][pop_y] - grpah[n_x][n_y]) <= r:\n",
    "                visited[n_x][n_y] = True\n",
    "                queue.append((n_x, n_y))\n",
    "                people += graph[n_x][n_y]\n",
    "                count += 1\n",
    "                temp.append((n_x, n_y))\n",
    "\n",
    "    move_people = people // count\n",
    "\n",
    "    if count > 1:\n",
    "        is_move = True\n",
    "        for x, y in temp:\n",
    "            graph[x][y] = move_people\n",
    "\n",
    "answer = 0\n",
    "\n",
    "while True:\n",
    "    is_move = False\n",
    "    visited = [[False] * n for _ in range(n)]\n",
    "    for i in range(n):\n",
    "        for j in range(n):\n",
    "            if not visited[i][j]:\n",
    "                bfs(i, j, visited, graph)\n",
    "\n",
    "    if is_move:\n",
    "        answer += 1\n",
    "    else:\n",
    "        break\n",
    "\n",
    "print(answer)"
   ]
  },
  {
   "cell_type": "markdown",
   "id": "17daf4fb",
   "metadata": {},
   "source": [
    "## 22. 블록 이동하기\n",
    "https://school.programmers.co.kr/learn/courses/30/lessons/60063"
   ]
  },
  {
   "cell_type": "code",
   "execution_count": null,
   "id": "302abe20",
   "metadata": {},
   "outputs": [],
   "source": [
    "from collections import deque\n",
    "\n",
    "def get_next(pos,board):\n",
    "    next_pos=[]\n",
    "    l_x,l_y,r_x,r_y=pos\n",
    "    dx=[1,-1,0,0]\n",
    "    dy=[0,0,1,-1]\n",
    "    for i in range(4):\n",
    "        l_nx=l_x+dx[i]\n",
    "        l_ny=l_y+dy[i]\n",
    "        r_nx=r_x+dx[i]\n",
    "        r_ny=r_y+dy[i]\n",
    "        #이동 가능한 경우\n",
    "        if board[r_nx][r_ny]==0 and board[l_nx][l_ny]==0:\n",
    "            next_pos.append((l_nx,l_ny,r_nx,r_ny))\n",
    "    #가로인 경우\n",
    "    if l_x==r_x:\n",
    "        for i in [-1,1]:\n",
    "            if board[l_x+i][l_y]==0 and board[r_x+i][r_y]==0:\n",
    "                next_pos.append((l_x,l_y,l_x+i,l_y))\n",
    "                next_pos.append((r_x,r_y,r_x+i,r_y))\n",
    "    #세로인 경우\n",
    "    elif l_y==r_y:\n",
    "        for i in [-1,1]:\n",
    "            if board[l_x][l_y+i]==0 and board[r_x][r_y+i]==0:\n",
    "                next_pos.append((l_x,l_y,l_x,l_y+i))\n",
    "                next_pos.append((r_x,r_y,r_x,r_y+i))\n",
    "                \n",
    "    return next_pos\n",
    "                \n",
    "\n",
    "def solution(board):\n",
    "    answer = 0\n",
    "\n",
    "    n=len(board)\n",
    "    \n",
    "    #외곽에 벽 두르기\n",
    "    new_board=[[1]*(n+1) for _ in range(n+1)]\n",
    "    for i in range(n):\n",
    "        for j in range(n):\n",
    "            new_board[i+1][j+1]=board[i][j]\n",
    "\n",
    "    q=deque()\n",
    "    visited=[]\n",
    "    # left,right,distance\n",
    "    pos=(1,1,1,2)\n",
    "    q.append((pos,0))\n",
    "    visited.append(pos)\n",
    "    while q:\n",
    "        pos,dis=q.popleft()\n",
    "        if (n,n) in (pos):\n",
    "            return dis\n",
    "        \n",
    "        for next_pos in get_next(pos,board):\n",
    "            if next_pos not in visited:\n",
    "                q.append((next_pos,dis+1))\n",
    "                visited.append(next_pos)\n",
    "        \n",
    "    return 0"
   ]
  },
  {
   "cell_type": "markdown",
   "id": "8d82100c",
   "metadata": {},
   "source": [
    "# 정렬문제"
   ]
  },
  {
   "cell_type": "markdown",
   "id": "11268a04",
   "metadata": {},
   "source": [
    "## 23. 국영수\n",
    "https://www.acmicpc.net/problem/10825"
   ]
  },
  {
   "cell_type": "code",
   "execution_count": 113,
   "id": "d56bb567",
   "metadata": {},
   "outputs": [
    {
     "name": "stdout",
     "output_type": "stream",
     "text": [
      "5\n",
      "Sangkeun 80 60 50\n",
      "Junkyu 50 60 100\n",
      "Soong 50 60 90\n",
      "Kangsoo 60 80 100\n",
      "Donghyuk 80 60 100\n",
      "Donghyuk\n",
      "Junkyu\n",
      "Kangsoo\n",
      "Sangkeun\n",
      "Soong\n"
     ]
    }
   ],
   "source": [
    "n=int(input())\n",
    "lst=[]\n",
    "for _ in range(n):\n",
    "    lst.append(list(input().split()))\n",
    "new_lst=sorted(lst,key=lambda x:(-int(x[1]),int(x[2]),-int(x[3]),x[0]))\n",
    "\n",
    "for i in range(n):\n",
    "    print(new_lst[i][0])"
   ]
  },
  {
   "cell_type": "markdown",
   "id": "0714a357",
   "metadata": {},
   "source": [
    "## 24.안테나\n",
    "https://www.acmicpc.net/problem/18310"
   ]
  },
  {
   "cell_type": "code",
   "execution_count": 129,
   "id": "9add605c",
   "metadata": {},
   "outputs": [
    {
     "name": "stdout",
     "output_type": "stream",
     "text": [
      "4\n",
      "5 1 7 9\n",
      "5\n"
     ]
    }
   ],
   "source": [
    "n=int(input())\n",
    "lst=list(map(int,input().split()))\n",
    "\n",
    "lst.sort()\n",
    "\n",
    "print(lst[(n-1)//2])"
   ]
  },
  {
   "cell_type": "markdown",
   "id": "fa6ba759",
   "metadata": {},
   "source": [
    "## 25.실패율\n",
    "https://school.programmers.co.kr/learn/courses/30/lessons/42889"
   ]
  },
  {
   "cell_type": "code",
   "execution_count": null,
   "id": "534fa77d",
   "metadata": {},
   "outputs": [],
   "source": [
    "def solution(N, stages):\n",
    "    answer = []\n",
    "    num=len(stages)\n",
    "    fail=[]\n",
    "    for i in range(1,N+1):\n",
    "        cnt=stages.count(i)\n",
    "        fail.append((cnt/num,i))\n",
    "        num-=cnt\n",
    "    fail.sort(key=lambda x:(-x[0],x[1]))\n",
    "    for x,y in fail:\n",
    "        answer.append(y)\n",
    "    return answer"
   ]
  },
  {
   "cell_type": "code",
   "execution_count": null,
   "id": "3d74608c",
   "metadata": {},
   "outputs": [],
   "source": [
    "def solution(N, stages):\n",
    "    answer = []\n",
    "    num=len(stages)\n",
    "    fail=[]\n",
    "    for i in range(1,N+1):\n",
    "        cnt=stages.count(i)\n",
    "        if num==0:\n",
    "            fail=0\n",
    "        else:\n",
    "            fail=cnt/num\n",
    "        num-=cnt\n",
    "        answer.append((i,fail))\n",
    "    answer=sorted(answer,key=lambda x:(x[1]),reverse=True)\n",
    "    answer=[i[0] for i in answer]\n",
    "    return answer"
   ]
  },
  {
   "cell_type": "markdown",
   "id": "c77ae8ab",
   "metadata": {},
   "source": [
    "## 26.카드 정렬하기\n",
    "https://www.acmicpc.net/problem/1715"
   ]
  },
  {
   "cell_type": "code",
   "execution_count": 156,
   "id": "5733a7a9",
   "metadata": {},
   "outputs": [
    {
     "name": "stdout",
     "output_type": "stream",
     "text": [
      "4\n",
      "10\n",
      "20\n",
      "40\n",
      "50\n",
      "220\n"
     ]
    }
   ],
   "source": [
    "import heapq\n",
    "n=int(input())\n",
    "heap_lst=[]\n",
    "for i in range(n):\n",
    "    data=int(input())\n",
    "    heapq.heappush(heap_lst,data)\n",
    "result=0\n",
    "while len(heap_lst)!=1:\n",
    "    tmp1=heapq.heappop(heap_lst)\n",
    "    tmp2=heapq.heappop(heap_lst)\n",
    "    sum_val=tmp1+tmp2\n",
    "    result+=sum_val\n",
    "    heapq.heappush(heap_lst,sum_val)\n",
    "print(result)"
   ]
  },
  {
   "cell_type": "markdown",
   "id": "953cf486",
   "metadata": {},
   "source": [
    "# 이진탐색"
   ]
  },
  {
   "cell_type": "markdown",
   "id": "a7b66bc0",
   "metadata": {},
   "source": [
    "## 27. 정렬된 배열에서 특정 수의 개수 구하기\n",
    "- n개이 원소를 포함하고 있는 오름차순으로 정렬된 수열ㅇ 있다. 이때 수열에서 x가 등장하는 횟수를 계산하시오\n",
    "- O(nlogn)으로 설계하시오. 첫째줄에는 n과 x가 공백으로 주어지고 둘째줄에는 수열이 주어진다."
   ]
  },
  {
   "cell_type": "code",
   "execution_count": 165,
   "id": "113902fe",
   "metadata": {},
   "outputs": [
    {
     "name": "stdout",
     "output_type": "stream",
     "text": [
      "7 2\n",
      "1 1 2 2 2 2 3\n",
      "4\n"
     ]
    }
   ],
   "source": [
    "n,x=map(int,input().split())\n",
    "lst=list(map(int,input().split()))\n",
    "\n",
    "def first_find(array,target,start,end):\n",
    "    if start>end:\n",
    "        return None\n",
    "    mid=(start+end)//2\n",
    "    # 가장 왼쪽 또는 처음 등장하는 경우\n",
    "    if (mid==0 or target>array[mid-1])and array[mid]==target:\n",
    "        return mid\n",
    "    elif array[mid]>=target:\n",
    "        return first_find(array,target,start,mid-1)\n",
    "    else:\n",
    "        return first_find(array,target,mid+1,end)\n",
    "    \n",
    "def last_find(array,target,start,end):\n",
    "    if start>end:\n",
    "        return None\n",
    "    mid=(start+end)//2\n",
    "    # 가장 우측 또는 마지막으로 등장하는 경우\n",
    "    if (mid==n-1 or target<array[mid+1])and array[mid]==target:\n",
    "        return mid\n",
    "    elif array[mid]>target:\n",
    "        return last_find(array,target,start,mid-1)\n",
    "    else:\n",
    "        return last_find(array,target,mid+1,end)\n",
    "\n",
    "def count_num(array,x):\n",
    "    n=len(array)\n",
    "    a=first_find(array,x,0,n-1)\n",
    "    if a==None:\n",
    "        return 0\n",
    "    b=last_find(array,x,0,n-1)\n",
    "    \n",
    "    return b-a+1\n",
    "\n",
    "print(count_num(lst,x))"
   ]
  },
  {
   "cell_type": "code",
   "execution_count": null,
   "id": "d750866a",
   "metadata": {},
   "outputs": [],
   "source": [
    "# bisect\n",
    "from bisect import bisect_left,bisect_right\n",
    "\n",
    "n,x=map(int,input().split())\n",
    "lst=list(map(int,input().split()))\n",
    "\n",
    "# 값이 [x,x]에 있는 값들\n",
    "def count_index(array,left_value,right_value):\n",
    "    left_i=bisect_left(array,left_value)\n",
    "    right_i=bisect_right(array,right_value)\n",
    "    return right_i-left_i\n",
    "\n",
    "count=count_index(lst,x,x)\n",
    "print(count)"
   ]
  },
  {
   "cell_type": "markdown",
   "id": "44542bdf",
   "metadata": {},
   "source": [
    "## 28.고정점 찾기\n",
    "- 고정점은 수열의 원소 중에서 그 값이 인덱스와 동일한 원소, 즉 a[x]=x인 점이다\n",
    "- 오름차순으로 정렬된 수열 n개에서 고정점을 출력하는 프로그램을 구하시오\n",
    "- O(logn)으로 설계하시오. 첫째줄에 n 둘째줄부터 수열이 주어진다"
   ]
  },
  {
   "cell_type": "code",
   "execution_count": 170,
   "id": "eff77cf0",
   "metadata": {},
   "outputs": [
    {
     "name": "stdout",
     "output_type": "stream",
     "text": [
      "7\n",
      "-15 -4 3 8 9 13 15\n",
      "None\n"
     ]
    }
   ],
   "source": [
    "n=int(input())\n",
    "array=list(map(int,input().split()))\n",
    "\n",
    "def binary_search(array,start,end):\n",
    "    if start>end:\n",
    "        return -1\n",
    "    mid=(start+end)//2\n",
    "    if array[mid]==mid:\n",
    "        return mid\n",
    "    elif array[mid]>mid:\n",
    "        return binary_search(array,start,mid-1)\n",
    "    else:\n",
    "        return binary_search(array,mid+1,end)\n",
    "    \n",
    "print(binary_search(array,0,n-1))"
   ]
  },
  {
   "cell_type": "markdown",
   "id": "9b6de1ac",
   "metadata": {},
   "source": [
    "## **29. 공유기 설치\n",
    "https://www.acmicpc.net/problem/2110"
   ]
  },
  {
   "cell_type": "code",
   "execution_count": 179,
   "id": "a36d4d4d",
   "metadata": {},
   "outputs": [
    {
     "name": "stdout",
     "output_type": "stream",
     "text": [
      "5 3\n",
      "1\n",
      "2\n",
      "8\n",
      "4\n",
      "9\n",
      "[1, 2, 4, 8, 9]\n",
      "1\n",
      "3\n"
     ]
    }
   ],
   "source": [
    "n,c=map(int,input().split())\n",
    "array=[]\n",
    "for _ in range(n):\n",
    "    data=int(input())\n",
    "    array.append(data)\n",
    "array.sort()\n",
    "\n",
    "def binary_search(array,count,start,end):\n",
    "    if start>end:\n",
    "        return None\n",
    "    mid=(start+end)//2\n",
    "    if count==0:\n",
    "        return abs(array[start]-array[end])\n",
    "    elif abs(array[start]-array[mid])<abs(array[mid]-array[end]):\n",
    "        count-=1\n",
    "        return binary_search(array,count,start,mid)\n",
    "    else:\n",
    "        count-=1\n",
    "        return binary_search(array,count,mid,end)\n",
    "print(binary_search(array,c-2,0,n-1))"
   ]
  },
  {
   "cell_type": "code",
   "execution_count": 181,
   "id": "b05556f0",
   "metadata": {},
   "outputs": [
    {
     "name": "stdout",
     "output_type": "stream",
     "text": [
      "5 3\n",
      "1\n",
      "2\n",
      "8\n",
      "4\n",
      "9\n",
      "4\n"
     ]
    }
   ],
   "source": [
    "#answer\n",
    "n,c=map(int,input().split())\n",
    "array=[]\n",
    "for _ in range(n):\n",
    "    data=int(input())\n",
    "    array.append(data)\n",
    "array.sort()\n",
    "\n",
    "start=1\n",
    "end=array[n-1]-array[0]\n",
    "while start<=end:\n",
    "    mid=(start+end)//2\n",
    "    tmp=array[0]\n",
    "    cnt=1\n",
    "    for i in range(1,n):\n",
    "        if array[i]>=tmp+mid:\n",
    "            tmp=array[i]\n",
    "            cnt+=1\n",
    "    if cnt>=c:\n",
    "        start=mid+1\n",
    "        result=mid\n",
    "    else:\n",
    "        end=mid-1\n",
    "print(result)"
   ]
  },
  {
   "cell_type": "markdown",
   "id": "0109af07",
   "metadata": {},
   "source": [
    "## 30. 가사 검색\n",
    "https://school.programmers.co.kr/learn/courses/30/lessons/60060"
   ]
  },
  {
   "cell_type": "code",
   "execution_count": null,
   "id": "3842f3f0",
   "metadata": {},
   "outputs": [],
   "source": [
    "def solution(words, queries):\n",
    "    answer = []   \n",
    "    \n",
    "    \n",
    "    #queir for\n",
    "    for querie in queries:\n",
    "        # word for\n",
    "        count=0\n",
    "        for word in words:\n",
    "            start=0\n",
    "            end=len(querie)-1\n",
    "            is_ok=True\n",
    "            if len(word)!=len(querie):\n",
    "                continue\n",
    "            while start<=end:\n",
    "                mid=(start+end)//2\n",
    "                if querie[mid]!='?':\n",
    "                    if querie[mid]!=word[mid]:#주어진 글자가 다른 경우\n",
    "                        is_ok=False\n",
    "                        break\n",
    "                    # start나 end값 바꾸기 조건 필요\n",
    "                    if querie[start]!='?':\n",
    "                        start=mid+1\n",
    "                    else:\n",
    "                        end=mid-1\n",
    "                else:# ?일 경우 한칸 이동\n",
    "                    if querie[start]=='?':\n",
    "                        start=mid+1\n",
    "                    else:\n",
    "                        end=mid-1\n",
    "            if is_ok:\n",
    "                count+=1\n",
    "        answer.append(count)\n",
    "            \n",
    "    \n",
    "    return answer\n",
    "\n"
   ]
  },
  {
   "cell_type": "code",
   "execution_count": null,
   "id": "af30cb0c",
   "metadata": {},
   "outputs": [],
   "source": [
    "from bisect import bisect_left,bisect_right\n",
    "\n",
    "def search(array,left_val,right_val):\n",
    "    left_index=bisect_left(array,left_val)\n",
    "    right_index=bisect_right(array,right_val)\n",
    "    return right_index-left_index\n",
    "\n",
    "def solution(words, queries):\n",
    "    answer = []\n",
    "    tmp=[[] for _ in range(len(words)+1)]\n",
    "    reverse_tmp=[[] for _ in range(len(words)+1)]\n",
    "    for word in words:\n",
    "        tmp[len(word)].append(word)\n",
    "        reverse_tmp[len(word)].append(word[::-1])\n",
    "        \n",
    "    for i in range(len(words)):\n",
    "        tmp[i].sort()\n",
    "        reverse_tmp[i].sort()\n",
    "        \n",
    "    for querie in queries:\n",
    "        if querie[0]!='?':\n",
    "            res=search(tmp[len(querie)],querie.replace('?','a'),querie.replace('?','z'))\n",
    "        else:\n",
    "            res=search(reverse_tmp[len(querie)],querie[::-1].replace('?','a'),querie[::-1].replace('?','z'))\n",
    "        answer.append(res)\n",
    "    return answer\n",
    "\n"
   ]
  },
  {
   "cell_type": "markdown",
   "id": "18ee6f8f",
   "metadata": {},
   "source": [
    "# 다이나믹 프로그래밍"
   ]
  },
  {
   "cell_type": "markdown",
   "id": "9150f7c3",
   "metadata": {},
   "source": [
    "## 31.금광\n",
    "- n x m의 크기의 금광이 있다. 채굴자는 첫번째 열부터 출발해 금을 캔다\n",
    "- 맨 처음에는 첫번째 행 어디서든 출발 가능하다. 이후에 m번에 걸쳐 매번 오른쪽 위, 오른쪽, 오른쪽 아래 3가지 중 하나의 위치로 이동한다\n",
    "- 채굴자가 얻을 수 있는 금의 최대 크기를 구하시오\n",
    "- 첫째 줄에 테스트 케이스 T, 둘 째줄에 n,m 셋째줄부터 금의 개수가 공백으로 입력된다"
   ]
  },
  {
   "cell_type": "code",
   "execution_count": 195,
   "id": "c9d37a36",
   "metadata": {},
   "outputs": [
    {
     "name": "stdout",
     "output_type": "stream",
     "text": [
      "1\n",
      "3 4\n",
      "1 3 3 2 2 1 4 1 0 6 4 7\n",
      "2\n",
      "4\n",
      "8\n"
     ]
    }
   ],
   "source": [
    "t=int(input())\n",
    "n,m=map(int,input().split())\n",
    "lst=list(map(int,input().split()))\n",
    "d=[0]*100\n",
    "for i in range(n):\n",
    "    d[i]=lst[m*i]\n",
    "for i in range(n,n*m):\n",
    "    if i%n==0:\n",
    "        print(max(d[i-n],d[i-n+1]))\n",
    "        d[i]=max(d[i-n],d[i-n+1])+lst[i]\n",
    "    elif i%n==n-1:\n",
    "        d[i]=max(d[i-n],d[i-n-1])+lst[i]\n",
    "    else:\n",
    "        d[i]=max(max(d[i-n-1],d[i-n]),d[i-n+1])+lst[i]\n",
    "\n",
    "# 1 3 3 2 2 1 4 1 0 6 4 7\n",
    "# print(max(d))"
   ]
  },
  {
   "cell_type": "code",
   "execution_count": 205,
   "id": "e3c2011a",
   "metadata": {},
   "outputs": [
    {
     "name": "stdout",
     "output_type": "stream",
     "text": [
      "1\n",
      "3 4\n",
      "1 3 3 2 2 1 4 1 0 6 4 7\n",
      "19\n"
     ]
    }
   ],
   "source": [
    "t=int(input())\n",
    "n,m=map(int,input().split())\n",
    "lst=list(map(int,input().split()))\n",
    "d=[]\n",
    "index=0\n",
    "for i in range(n):\n",
    "    d.append(lst[index:index+m])\n",
    "    index+=m\n",
    "\n",
    "for b in range(1,m):\n",
    "    for a in range(n):\n",
    "        if a==0:\n",
    "            left_up=0\n",
    "        else:\n",
    "            left_up=d[a-1][b-1]\n",
    "        if a==n-1:\n",
    "            left_down=0\n",
    "        else:\n",
    "            left_down=d[a+1][b-1]\n",
    "        left=d[a][b-1]\n",
    "        d[a][b]+=max(left,left_down,left_up)\n",
    "print(max(d[n-1]))"
   ]
  },
  {
   "cell_type": "markdown",
   "id": "0427af8a",
   "metadata": {},
   "source": [
    "# 32.정수 삼각형\n",
    "https://www.acmicpc.net/problem/1932"
   ]
  },
  {
   "cell_type": "code",
   "execution_count": 225,
   "id": "37b96021",
   "metadata": {},
   "outputs": [
    {
     "name": "stdout",
     "output_type": "stream",
     "text": [
      "3\n",
      "1\n",
      "1 2\n",
      "1 2 3\n",
      "2\n",
      "2\n",
      "3\n",
      "[1, 2, 2, 3, 0, 0, 0, 0, 0, 0, 0, 0, 0, 0, 0, 0, 0, 0, 0, 0, 0, 0, 0, 0, 0, 0, 0, 0, 0, 0, 0, 0, 0, 0, 0, 0, 0, 0, 0, 0, 0, 0, 0, 0, 0, 0, 0, 0, 0, 0, 0, 0, 0, 0, 0, 0, 0, 0, 0, 0, 0, 0, 0, 0, 0, 0, 0, 0, 0, 0, 0, 0, 0, 0, 0, 0, 0, 0, 0, 0, 0, 0, 0, 0, 0, 0, 0, 0, 0, 0, 0, 0, 0, 0, 0, 0, 0, 0, 0, 0]\n"
     ]
    }
   ],
   "source": [
    "n=int(input())\n",
    "\n",
    "graph=[]\n",
    "d=[0]*100\n",
    "for i in range(n):\n",
    "    graph.append(list(map(int,input().split())))\n",
    "    \n",
    "d[0]=graph[0][0]\n",
    "\n",
    "count=0\n",
    "for i in range(1,n):\n",
    "    for j in range(i+1):\n",
    "        if j==0:\n",
    "            left_up=0\n",
    "        else:\n",
    "            left_up=graph[i-1][j-1]\n",
    "            \n",
    "        if j==i:\n",
    "            up=0\n",
    "        else:\n",
    "            up=graph[i-1][j]\n",
    "        graph[i][j]=graph[i][j]+max(left_up,up)\n",
    "\n",
    "print(max(graph[n-1]))"
   ]
  },
  {
   "cell_type": "markdown",
   "id": "ceaade8f",
   "metadata": {},
   "source": [
    "## 33.퇴사\n",
    "https://www.acmicpc.net/problem/14501"
   ]
  },
  {
   "cell_type": "code",
   "execution_count": 228,
   "id": "5b2af3bd",
   "metadata": {},
   "outputs": [
    {
     "name": "stdout",
     "output_type": "stream",
     "text": [
      "7\n",
      "3 10\n",
      "5 20\n",
      "1 10\n",
      "1 20\n",
      "2 15\n",
      "4 40\n",
      "2 200\n",
      "45\n"
     ]
    }
   ],
   "source": [
    "n=int(input())\n",
    "t=[]\n",
    "d=[0]*(n+1)\n",
    "max_val=0\n",
    "for _ in range(n):\n",
    "    a,b=map(int,input().split())\n",
    "    t.append((a,b))\n",
    "    \n",
    "for i in range(n-1,-1,-1):\n",
    "    time=i+t[i][0]\n",
    "    if time<=n:\n",
    "        d[i]=max(t[i][1]+d[time],max_val)\n",
    "        max_val=d[i]\n",
    "    else:\n",
    "        d[i]=max_val\n",
    "\n",
    "print(max_val)"
   ]
  },
  {
   "cell_type": "markdown",
   "id": "c4c69de2",
   "metadata": {},
   "source": [
    "## 34. 병사 배치하기\n",
    "- 가장 긴 증가하는 부분수열(LSI)\n",
    "https://www.acmicpc.net/problem/18353"
   ]
  },
  {
   "cell_type": "code",
   "execution_count": 1,
   "id": "76114f79",
   "metadata": {},
   "outputs": [
    {
     "name": "stdout",
     "output_type": "stream",
     "text": [
      "7\n",
      "15 11 4 8 5 2 4\n",
      "[4, 2, 5, 8, 4, 11, 15]\n",
      "[1, 1, 2, 3, 2, 4, 5]\n",
      "2\n"
     ]
    }
   ],
   "source": [
    "n=int(input())\n",
    "arr=list(map(int,input().split()))\n",
    "arr.reverse()\n",
    "d=[1]*n\n",
    "for i in range(1,n):\n",
    "    for j in range(0,i):\n",
    "        if arr[i]>arr[j]:\n",
    "            d[i]=max(d[i],d[j]+1)\n",
    "\n",
    "print(arr)\n",
    "print(d)\n",
    "print(n-max(d))"
   ]
  },
  {
   "cell_type": "markdown",
   "id": "9dc090c7",
   "metadata": {},
   "source": [
    "## 35.못생긴 수\n",
    "- 못생긴 수는 2,3,5만을 소인수로 가지는 수, 즉, 2,3,5를 약수로 가지는 합성수\n",
    "- 1은 못생긴 수라 가정, 1,2,3,4,5,6,8,9,10,12,15.. 순으로 못생긴 수들의 모임이다.\n",
    "- n번째 못생긴 수를 찾는 프로그램을 작성하세요. 11번째 못생긴 수는 15이다"
   ]
  },
  {
   "cell_type": "code",
   "execution_count": 264,
   "id": "37a5d2b8",
   "metadata": {
    "scrolled": false
   },
   "outputs": [
    {
     "name": "stdout",
     "output_type": "stream",
     "text": [
      "11\n",
      "15\n"
     ]
    }
   ],
   "source": [
    "n=int(input())\n",
    "d=[1]*1000\n",
    "cnt=2\n",
    "num=2\n",
    "while cnt<=n:\n",
    "    if (num/2) in (d):\n",
    "        d[cnt]=num\n",
    "        cnt+=1\n",
    "    elif (num/3) in (d):\n",
    "        d[cnt]=num\n",
    "        cnt+=1\n",
    "    elif (num/5) in (d):\n",
    "        d[cnt]=num\n",
    "        cnt+=1\n",
    "    num+=1\n",
    "print(d[n])"
   ]
  },
  {
   "cell_type": "code",
   "execution_count": 269,
   "id": "a6b89739",
   "metadata": {},
   "outputs": [
    {
     "name": "stdout",
     "output_type": "stream",
     "text": [
      "11\n",
      "2 3 5\n",
      "4 3 5\n",
      "4 6 5\n",
      "6 6 5\n",
      "6 6 10\n",
      "8 9 10\n",
      "10 9 10\n",
      "10 12 10\n",
      "12 12 15\n",
      "16 15 15\n",
      "[1, 2, 3, 4, 5, 6, 8, 9, 10, 12, 15]\n"
     ]
    }
   ],
   "source": [
    "#answer\n",
    "n=int(input())\n",
    "d=[0]*n\n",
    "d[0]=1\n",
    "i2=i3=i5=0\n",
    "next2,next3,next5=2,3,5\n",
    "\n",
    "for a in range(1,n):\n",
    "    print(next2,next3,next5)\n",
    "    d[a]=min(next2,next3,next5)\n",
    "    if d[a]==next2:\n",
    "        i2+=1\n",
    "        next2=d[i2]*2\n",
    "    if d[a]==next3:\n",
    "        i3+=1\n",
    "        next3=d[i3]*3\n",
    "    if d[a]==next5:\n",
    "        i5+=1\n",
    "        next5=d[i5]*5\n",
    "        \n",
    "print(d)"
   ]
  },
  {
   "cell_type": "markdown",
   "id": "aa1d36df",
   "metadata": {},
   "source": [
    "## 36.편집거리\n",
    "- 두 문자열 A,B가 있다. A를 편집하여 B를 만들고자 한다. \n",
    "- A편집시, 삽입, 삭제, 교체를 할 수 있다. 이 때 편집 거리는 A를 편집하여 문자열 B로 만들기 위해 사용한 연산의 수를 의미한다\n",
    "- 문자열 A를 문자열 B로 만드는 최소 편집 거리를 계산하시오.두 문자열 A,B가 주어진다"
   ]
  },
  {
   "cell_type": "code",
   "execution_count": 290,
   "id": "7719aaa6",
   "metadata": {},
   "outputs": [
    {
     "name": "stdout",
     "output_type": "stream",
     "text": [
      "cat\n",
      "cut\n",
      "1\n"
     ]
    }
   ],
   "source": [
    "A=list(input())\n",
    "B=list(input())\n",
    "d=[]\n",
    "a_len=len(A)\n",
    "b_len=len(B)\n",
    "cnt=0\n",
    "\n",
    "for i in range(b_len):\n",
    "    if a_len==b_len:\n",
    "        if B[i]==A[i]:\n",
    "            continue\n",
    "        else:\n",
    "            cnt+=1\n",
    "            A[i]=B[i]\n",
    "    elif a_len<b_len:\n",
    "        if B[i]==A[i]:\n",
    "            continue\n",
    "        else:\n",
    "            cnt+=1\n",
    "            a_len+=1\n",
    "            A.insert(i,B[i])\n",
    "    else:\n",
    "        if B[i]==A[i]:\n",
    "            continue\n",
    "        else:\n",
    "            cnt+=1\n",
    "            a_len-=1\n",
    "            A.pop(i)\n",
    "print(cnt)"
   ]
  },
  {
   "cell_type": "code",
   "execution_count": 295,
   "id": "63bfef15",
   "metadata": {},
   "outputs": [
    {
     "name": "stdout",
     "output_type": "stream",
     "text": [
      "cat\n",
      "cut\n"
     ]
    },
    {
     "ename": "IndexError",
     "evalue": "list index out of range",
     "output_type": "error",
     "traceback": [
      "\u001b[1;31m---------------------------------------------------------------------------\u001b[0m",
      "\u001b[1;31mIndexError\u001b[0m                                Traceback (most recent call last)",
      "\u001b[1;32m~\\AppData\\Local\\Temp/ipykernel_9160/578082411.py\u001b[0m in \u001b[0;36m<module>\u001b[1;34m\u001b[0m\n\u001b[0;32m     21\u001b[0m     \u001b[1;32mreturn\u001b[0m \u001b[0mdp\u001b[0m\u001b[1;33m[\u001b[0m\u001b[0mn\u001b[0m\u001b[1;33m]\u001b[0m\u001b[1;33m[\u001b[0m\u001b[0mm\u001b[0m\u001b[1;33m]\u001b[0m\u001b[1;33m\u001b[0m\u001b[1;33m\u001b[0m\u001b[0m\n\u001b[0;32m     22\u001b[0m \u001b[1;33m\u001b[0m\u001b[0m\n\u001b[1;32m---> 23\u001b[1;33m \u001b[0mprint\u001b[0m\u001b[1;33m(\u001b[0m\u001b[0mmin_dis\u001b[0m\u001b[1;33m(\u001b[0m\u001b[0mA\u001b[0m\u001b[1;33m,\u001b[0m\u001b[0mB\u001b[0m\u001b[1;33m)\u001b[0m\u001b[1;33m)\u001b[0m\u001b[1;33m\u001b[0m\u001b[1;33m\u001b[0m\u001b[0m\n\u001b[0m",
      "\u001b[1;32m~\\AppData\\Local\\Temp/ipykernel_9160/578082411.py\u001b[0m in \u001b[0;36mmin_dis\u001b[1;34m(A, B)\u001b[0m\n\u001b[0;32m     16\u001b[0m                 \u001b[0mdp\u001b[0m\u001b[1;33m[\u001b[0m\u001b[0mi\u001b[0m\u001b[1;33m]\u001b[0m\u001b[1;33m[\u001b[0m\u001b[0mj\u001b[0m\u001b[1;33m]\u001b[0m\u001b[1;33m=\u001b[0m\u001b[0mdp\u001b[0m\u001b[1;33m[\u001b[0m\u001b[0mi\u001b[0m\u001b[1;33m-\u001b[0m\u001b[1;36m1\u001b[0m\u001b[1;33m]\u001b[0m\u001b[1;33m[\u001b[0m\u001b[0mj\u001b[0m\u001b[1;33m-\u001b[0m\u001b[1;36m1\u001b[0m\u001b[1;33m]\u001b[0m\u001b[1;33m\u001b[0m\u001b[1;33m\u001b[0m\u001b[0m\n\u001b[0;32m     17\u001b[0m             \u001b[1;32melse\u001b[0m\u001b[1;33m:\u001b[0m\u001b[1;33m\u001b[0m\u001b[1;33m\u001b[0m\u001b[0m\n\u001b[1;32m---> 18\u001b[1;33m                 \u001b[0md\u001b[0m\u001b[1;33m[\u001b[0m\u001b[0mi\u001b[0m\u001b[1;33m]\u001b[0m\u001b[1;33m[\u001b[0m\u001b[0mj\u001b[0m\u001b[1;33m]\u001b[0m\u001b[1;33m=\u001b[0m\u001b[1;36m1\u001b[0m\u001b[1;33m+\u001b[0m\u001b[0mmin\u001b[0m\u001b[1;33m(\u001b[0m\u001b[0mdp\u001b[0m\u001b[1;33m[\u001b[0m\u001b[0mi\u001b[0m\u001b[1;33m]\u001b[0m\u001b[1;33m[\u001b[0m\u001b[0mj\u001b[0m\u001b[1;33m-\u001b[0m\u001b[1;36m1\u001b[0m\u001b[1;33m]\u001b[0m\u001b[1;33m,\u001b[0m\u001b[0mdp\u001b[0m\u001b[1;33m[\u001b[0m\u001b[0mi\u001b[0m\u001b[1;33m-\u001b[0m\u001b[1;36m1\u001b[0m\u001b[1;33m]\u001b[0m\u001b[1;33m[\u001b[0m\u001b[0mj\u001b[0m\u001b[1;33m]\u001b[0m\u001b[1;33m,\u001b[0m\u001b[0mdp\u001b[0m\u001b[1;33m[\u001b[0m\u001b[0mi\u001b[0m\u001b[1;33m-\u001b[0m\u001b[1;36m1\u001b[0m\u001b[1;33m]\u001b[0m\u001b[1;33m[\u001b[0m\u001b[0mj\u001b[0m\u001b[1;33m-\u001b[0m\u001b[1;36m1\u001b[0m\u001b[1;33m]\u001b[0m\u001b[1;33m)\u001b[0m\u001b[1;33m\u001b[0m\u001b[1;33m\u001b[0m\u001b[0m\n\u001b[0m\u001b[0;32m     19\u001b[0m         \u001b[0mprint\u001b[0m\u001b[1;33m(\u001b[0m\u001b[0mdp\u001b[0m\u001b[1;33m)\u001b[0m\u001b[1;33m\u001b[0m\u001b[1;33m\u001b[0m\u001b[0m\n\u001b[0;32m     20\u001b[0m \u001b[1;33m\u001b[0m\u001b[0m\n",
      "\u001b[1;31mIndexError\u001b[0m: list index out of range"
     ]
    }
   ],
   "source": [
    "A=input()\n",
    "B=input()\n",
    "def min_dis(A,B):\n",
    "    n=len(A)\n",
    "    m=len(B)\n",
    "\n",
    "    dp=[[0]*(m+1) for _ in range(n+1)]\n",
    "\n",
    "    for i in range(1,n+1):\n",
    "        dp[i][0]=i\n",
    "    for i in range(1,m+1):\n",
    "        dp[0][i]=i\n",
    "    for i in range(1,n+1):\n",
    "        for j in range(1,m+1):\n",
    "            if A[i-1]==B[j-1]:\n",
    "                dp[i][j]=dp[i-1][j-1]\n",
    "            else:\n",
    "                d[i][j]=1+min(dp[i][j-1],dp[i-1][j],dp[i-1][j-1])\n",
    "\n",
    "    return dp[n][m]\n",
    "\n",
    "print(min_dis(A,B))"
   ]
  },
  {
   "cell_type": "code",
   "execution_count": null,
   "id": "eadc86b5",
   "metadata": {},
   "outputs": [],
   "source": []
  }
 ],
 "metadata": {
  "kernelspec": {
   "display_name": "Python 3 (ipykernel)",
   "language": "python",
   "name": "python3"
  },
  "language_info": {
   "codemirror_mode": {
    "name": "ipython",
    "version": 3
   },
   "file_extension": ".py",
   "mimetype": "text/x-python",
   "name": "python",
   "nbconvert_exporter": "python",
   "pygments_lexer": "ipython3",
   "version": "3.9.7"
  }
 },
 "nbformat": 4,
 "nbformat_minor": 5
}
