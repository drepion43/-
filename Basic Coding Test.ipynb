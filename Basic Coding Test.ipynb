{
 "cells": [
  {
   "cell_type": "markdown",
   "id": "6b67112a",
   "metadata": {},
   "source": [
    "https://covenant.tistory.com/224"
   ]
  },
  {
   "cell_type": "markdown",
   "id": "7b5e2c9a",
   "metadata": {},
   "source": [
    "## 이진수\n",
    "https://www.acmicpc.net/problem/3460"
   ]
  },
  {
   "cell_type": "code",
   "execution_count": 4,
   "id": "b465e3f9",
   "metadata": {},
   "outputs": [
    {
     "name": "stdout",
     "output_type": "stream",
     "text": [
      "1\n",
      "13\n",
      "0 2 3 "
     ]
    }
   ],
   "source": [
    "t=int(input())\n",
    "for _ in range(t):\n",
    "    n=int(input())\n",
    "    cnt=0\n",
    "    while n>=1:\n",
    "        if n%2==1:\n",
    "            print(cnt,end=' ')\n",
    "        n=n//2\n",
    "        cnt+=1\n"
   ]
  },
  {
   "cell_type": "code",
   "execution_count": 14,
   "id": "24529191",
   "metadata": {},
   "outputs": [
    {
     "name": "stdout",
     "output_type": "stream",
     "text": [
      "1\n",
      "13\n",
      "0 2 3 "
     ]
    }
   ],
   "source": [
    "t=int(input())\n",
    "for _ in range(t):\n",
    "    n=bin(int(input()))[2:]\n",
    "    for idx,i in enumerate(n[::-1]):\n",
    "        if i=='1':\n",
    "            print(idx,end=' ')"
   ]
  },
  {
   "cell_type": "markdown",
   "id": "a6d07310",
   "metadata": {},
   "source": [
    "## 지능형 기차\n",
    "https://www.acmicpc.net/problem/2460"
   ]
  },
  {
   "cell_type": "code",
   "execution_count": 16,
   "id": "459aefa8",
   "metadata": {
    "collapsed": true
   },
   "outputs": [
    {
     "ename": "KeyboardInterrupt",
     "evalue": "Interrupted by user",
     "output_type": "error",
     "traceback": [
      "\u001b[1;31m---------------------------------------------------------------------------\u001b[0m",
      "\u001b[1;31mKeyboardInterrupt\u001b[0m                         Traceback (most recent call last)",
      "\u001b[1;32m~\\AppData\\Local\\Temp/ipykernel_6872/2141482988.py\u001b[0m in \u001b[0;36m<module>\u001b[1;34m\u001b[0m\n\u001b[0;32m      1\u001b[0m \u001b[0mdp\u001b[0m\u001b[1;33m=\u001b[0m\u001b[1;33m[\u001b[0m\u001b[1;36m0\u001b[0m\u001b[1;33m]\u001b[0m\u001b[1;33m*\u001b[0m\u001b[1;36m11\u001b[0m\u001b[1;33m\u001b[0m\u001b[1;33m\u001b[0m\u001b[0m\n\u001b[0;32m      2\u001b[0m \u001b[1;32mfor\u001b[0m \u001b[0midx\u001b[0m \u001b[1;32min\u001b[0m \u001b[0mrange\u001b[0m\u001b[1;33m(\u001b[0m\u001b[1;36m1\u001b[0m\u001b[1;33m,\u001b[0m\u001b[1;36m11\u001b[0m\u001b[1;33m)\u001b[0m\u001b[1;33m:\u001b[0m\u001b[1;33m\u001b[0m\u001b[1;33m\u001b[0m\u001b[0m\n\u001b[1;32m----> 3\u001b[1;33m     \u001b[0mo\u001b[0m\u001b[1;33m,\u001b[0m\u001b[0mi\u001b[0m\u001b[1;33m=\u001b[0m\u001b[0mmap\u001b[0m\u001b[1;33m(\u001b[0m\u001b[0mint\u001b[0m\u001b[1;33m,\u001b[0m\u001b[0minput\u001b[0m\u001b[1;33m(\u001b[0m\u001b[1;33m)\u001b[0m\u001b[1;33m.\u001b[0m\u001b[0msplit\u001b[0m\u001b[1;33m(\u001b[0m\u001b[1;33m)\u001b[0m\u001b[1;33m)\u001b[0m\u001b[1;33m\u001b[0m\u001b[1;33m\u001b[0m\u001b[0m\n\u001b[0m\u001b[0;32m      4\u001b[0m     \u001b[0mdp\u001b[0m\u001b[1;33m[\u001b[0m\u001b[0midx\u001b[0m\u001b[1;33m]\u001b[0m\u001b[1;33m=\u001b[0m\u001b[0mdp\u001b[0m\u001b[1;33m[\u001b[0m\u001b[0midx\u001b[0m\u001b[1;33m-\u001b[0m\u001b[1;36m1\u001b[0m\u001b[1;33m]\u001b[0m\u001b[1;33m+\u001b[0m\u001b[0mi\u001b[0m\u001b[1;33m-\u001b[0m\u001b[0mo\u001b[0m\u001b[1;33m\u001b[0m\u001b[1;33m\u001b[0m\u001b[0m\n\u001b[0;32m      5\u001b[0m \u001b[0mprint\u001b[0m\u001b[1;33m(\u001b[0m\u001b[0mmax\u001b[0m\u001b[1;33m(\u001b[0m\u001b[0mdp\u001b[0m\u001b[1;33m)\u001b[0m\u001b[1;33m)\u001b[0m\u001b[1;33m\u001b[0m\u001b[1;33m\u001b[0m\u001b[0m\n",
      "\u001b[1;32m~\\anaconda3\\lib\\site-packages\\ipykernel\\kernelbase.py\u001b[0m in \u001b[0;36mraw_input\u001b[1;34m(self, prompt)\u001b[0m\n\u001b[0;32m   1004\u001b[0m                 \u001b[1;34m\"raw_input was called, but this frontend does not support input requests.\"\u001b[0m\u001b[1;33m\u001b[0m\u001b[1;33m\u001b[0m\u001b[0m\n\u001b[0;32m   1005\u001b[0m             )\n\u001b[1;32m-> 1006\u001b[1;33m         return self._input_request(\n\u001b[0m\u001b[0;32m   1007\u001b[0m             \u001b[0mstr\u001b[0m\u001b[1;33m(\u001b[0m\u001b[0mprompt\u001b[0m\u001b[1;33m)\u001b[0m\u001b[1;33m,\u001b[0m\u001b[1;33m\u001b[0m\u001b[1;33m\u001b[0m\u001b[0m\n\u001b[0;32m   1008\u001b[0m             \u001b[0mself\u001b[0m\u001b[1;33m.\u001b[0m\u001b[0m_parent_ident\u001b[0m\u001b[1;33m[\u001b[0m\u001b[1;34m\"shell\"\u001b[0m\u001b[1;33m]\u001b[0m\u001b[1;33m,\u001b[0m\u001b[1;33m\u001b[0m\u001b[1;33m\u001b[0m\u001b[0m\n",
      "\u001b[1;32m~\\anaconda3\\lib\\site-packages\\ipykernel\\kernelbase.py\u001b[0m in \u001b[0;36m_input_request\u001b[1;34m(self, prompt, ident, parent, password)\u001b[0m\n\u001b[0;32m   1049\u001b[0m             \u001b[1;32mexcept\u001b[0m \u001b[0mKeyboardInterrupt\u001b[0m\u001b[1;33m:\u001b[0m\u001b[1;33m\u001b[0m\u001b[1;33m\u001b[0m\u001b[0m\n\u001b[0;32m   1050\u001b[0m                 \u001b[1;31m# re-raise KeyboardInterrupt, to truncate traceback\u001b[0m\u001b[1;33m\u001b[0m\u001b[1;33m\u001b[0m\u001b[0m\n\u001b[1;32m-> 1051\u001b[1;33m                 \u001b[1;32mraise\u001b[0m \u001b[0mKeyboardInterrupt\u001b[0m\u001b[1;33m(\u001b[0m\u001b[1;34m\"Interrupted by user\"\u001b[0m\u001b[1;33m)\u001b[0m \u001b[1;32mfrom\u001b[0m \u001b[1;32mNone\u001b[0m\u001b[1;33m\u001b[0m\u001b[1;33m\u001b[0m\u001b[0m\n\u001b[0m\u001b[0;32m   1052\u001b[0m             \u001b[1;32mexcept\u001b[0m \u001b[0mException\u001b[0m\u001b[1;33m:\u001b[0m\u001b[1;33m\u001b[0m\u001b[1;33m\u001b[0m\u001b[0m\n\u001b[0;32m   1053\u001b[0m                 \u001b[0mself\u001b[0m\u001b[1;33m.\u001b[0m\u001b[0mlog\u001b[0m\u001b[1;33m.\u001b[0m\u001b[0mwarning\u001b[0m\u001b[1;33m(\u001b[0m\u001b[1;34m\"Invalid Message:\"\u001b[0m\u001b[1;33m,\u001b[0m \u001b[0mexc_info\u001b[0m\u001b[1;33m=\u001b[0m\u001b[1;32mTrue\u001b[0m\u001b[1;33m)\u001b[0m\u001b[1;33m\u001b[0m\u001b[1;33m\u001b[0m\u001b[0m\n",
      "\u001b[1;31mKeyboardInterrupt\u001b[0m: Interrupted by user"
     ]
    }
   ],
   "source": [
    "dp=[0]*11\n",
    "for idx in range(1,11):\n",
    "    o,i=map(int,input().split())\n",
    "    dp[idx]=dp[idx-1]+i-o\n",
    "print(max(dp))"
   ]
  },
  {
   "cell_type": "markdown",
   "id": "b9b32c48",
   "metadata": {},
   "source": [
    "## N번째 큰 수\n",
    "https://www.acmicpc.net/problem/2693"
   ]
  },
  {
   "cell_type": "code",
   "execution_count": 18,
   "id": "0d6b34ec",
   "metadata": {},
   "outputs": [
    {
     "name": "stdout",
     "output_type": "stream",
     "text": [
      "1\n",
      "1 2 3 4 5 6 7 8 9 1000\n",
      "8\n"
     ]
    }
   ],
   "source": [
    "for _ in range(int(input())):\n",
    "    array=list(map(int,input().split()))\n",
    "    array.sort(reverse=True)\n",
    "    print(array[2])"
   ]
  },
  {
   "cell_type": "markdown",
   "id": "b9108e1f",
   "metadata": {},
   "source": [
    "## 소수찾기\n",
    "https://www.acmicpc.net/problem/1978"
   ]
  },
  {
   "cell_type": "code",
   "execution_count": 26,
   "id": "db20a6ee",
   "metadata": {},
   "outputs": [
    {
     "name": "stdout",
     "output_type": "stream",
     "text": [
      "4\n",
      "3 5 7 9\n",
      "4\n"
     ]
    }
   ],
   "source": [
    "import math\n",
    "def is_prime(x):\n",
    "    if x==1:\n",
    "        return False\n",
    "    for i in range(2,int(math.sqrt(x))+1):\n",
    "        #약수가 있는 경우\n",
    "        if x%i==0:\n",
    "            return False\n",
    "    return True\n",
    "\n",
    "n=int(input())\n",
    "cnt=0\n",
    "array=list(map(int,input().split()))\n",
    "for i in range(n):\n",
    "    if is_prime(array[i]):\n",
    "        cnt+=1\n",
    "        \n",
    "print(cnt)"
   ]
  },
  {
   "cell_type": "markdown",
   "id": "e9e8fc36",
   "metadata": {},
   "source": [
    "## 쉽게푸는 문제\n",
    "https://www.acmicpc.net/problem/1292"
   ]
  },
  {
   "cell_type": "code",
   "execution_count": 28,
   "id": "5e6c585a",
   "metadata": {},
   "outputs": [
    {
     "name": "stdout",
     "output_type": "stream",
     "text": [
      "3 7\n",
      "15\n"
     ]
    }
   ],
   "source": [
    "a,b=map(int,input().split())\n",
    "array=[0]\n",
    "for i in range(1,50):\n",
    "    for k in range(i):\n",
    "        array.append(i)\n",
    "print(sum(array[a:b+1]))"
   ]
  },
  {
   "cell_type": "markdown",
   "id": "76a34668",
   "metadata": {},
   "source": [
    "## 소수\n",
    "https://www.acmicpc.net/problem/2581"
   ]
  },
  {
   "cell_type": "code",
   "execution_count": 32,
   "id": "1d51162e",
   "metadata": {},
   "outputs": [
    {
     "name": "stdout",
     "output_type": "stream",
     "text": [
      "64\n",
      "65\n",
      "-1\n"
     ]
    }
   ],
   "source": [
    "import math\n",
    "def is_prime(x):\n",
    "    if x==1:\n",
    "        return False\n",
    "    for i in range(2,int(math.sqrt(x))+1):\n",
    "        if x%i==0:\n",
    "            return False\n",
    "    return True\n",
    "\n",
    "m=int(input())\n",
    "n=int(input())\n",
    "sosu=[]\n",
    "for i in range(m,n+1):\n",
    "    if is_prime(i):\n",
    "        sosu.append(i)\n",
    "\n",
    "if sosu:\n",
    "    print(sum(sosu))\n",
    "    print(sosu[0])\n",
    "else:\n",
    "    print(-1)"
   ]
  },
  {
   "cell_type": "markdown",
   "id": "62febd36",
   "metadata": {},
   "source": [
    "## 연산자 끼워넣기(재귀 탐색)\n",
    "https://www.acmicpc.net/problem/14888"
   ]
  },
  {
   "cell_type": "code",
   "execution_count": 42,
   "id": "19cb8db5",
   "metadata": {},
   "outputs": [
    {
     "name": "stdout",
     "output_type": "stream",
     "text": [
      "2\n",
      "5 6\n",
      "0 0 1 0\n",
      "30\n",
      "30\n"
     ]
    }
   ],
   "source": [
    "n=int(input())\n",
    "array=list(map(int,input().split()))\n",
    "cal=list(map(int,input().split()))\n",
    "real_cal=[]\n",
    "for i in range(4):\n",
    "    for k in range(cal[i]):\n",
    "        real_cal.append(i)\n",
    "\n",
    "visited=[False]*n\n",
    "tmp=[]\n",
    "def dfs(depth):\n",
    "    global result,result2\n",
    "    if depth>=n-1:\n",
    "        cal_val=calculation(array,tmp)\n",
    "        result=max(result,cal_val)\n",
    "        result2=min(result2,cal_val)\n",
    "        return\n",
    "    for i in range(n-1):\n",
    "        if not visited[i]:\n",
    "            visited[i]=True\n",
    "            tmp.append(real_cal[i])\n",
    "            dfs(depth+1)\n",
    "            visited[i]=False\n",
    "            tmp.pop()\n",
    "    \n",
    "def calculation(array,tmp):\n",
    "    result=array[0]\n",
    "    for i in range(len(tmp)):\n",
    "        if tmp[i]==0:\n",
    "            result+=array[i+1]\n",
    "        elif tmp[i]==1:\n",
    "            result-=array[i+1]\n",
    "        elif tmp[i]==2:\n",
    "            result*=array[i+1]\n",
    "        else:\n",
    "            result=int(result/array[i+1])\n",
    "    return result\n",
    "\n",
    "result=-int(1e9)\n",
    "result2=int(1e9)\n",
    "dfs(0)\n",
    "print(result)\n",
    "print(result2)"
   ]
  },
  {
   "cell_type": "markdown",
   "id": "7df47e97",
   "metadata": {},
   "source": [
    "## ***괄호의 값(스택)\n",
    "https://www.acmicpc.net/problem/2504"
   ]
  },
  {
   "cell_type": "code",
   "execution_count": 51,
   "id": "2843b35f",
   "metadata": {},
   "outputs": [
    {
     "name": "stdout",
     "output_type": "stream",
     "text": [
      "[][]((])\n",
      "0\n"
     ]
    }
   ],
   "source": [
    "array=input()\n",
    "stack=[]\n",
    "result=0\n",
    "tmp=1\n",
    "for i in range(len(array)):\n",
    "    #괄호가 열린 경우\n",
    "    if array[i]=='(':\n",
    "        stack.append(array[i])\n",
    "        tmp*=2\n",
    "    #괄호가 열린 경우\n",
    "    elif array[i]=='[':\n",
    "        stack.append(array[i])\n",
    "        tmp*=3\n",
    "    elif array[i]==')':\n",
    "        #안되는 경우\n",
    "        if not stack or stack[-1]=='[':\n",
    "            result=0\n",
    "            break\n",
    "        #이전꺼 확인\n",
    "        if array[i-1]=='(':\n",
    "            result+=tmp\n",
    "        stack.pop()\n",
    "        tmp//=2\n",
    "    else:\n",
    "        if not stack or stack[-1]=='(':\n",
    "            result=0\n",
    "            break\n",
    "        if array[i-1]=='[':\n",
    "            result+=tmp\n",
    "        stack.pop()\n",
    "        tmp//=3\n",
    "if stack:\n",
    "    print(0)\n",
    "else:\n",
    "    print(result)"
   ]
  },
  {
   "cell_type": "markdown",
   "id": "0b50ba93",
   "metadata": {},
   "source": [
    "## **빗물(시뮬레이션)\n",
    "https://www.acmicpc.net/problem/14719"
   ]
  },
  {
   "cell_type": "code",
   "execution_count": 54,
   "id": "5cb2cd98",
   "metadata": {},
   "outputs": [
    {
     "name": "stdout",
     "output_type": "stream",
     "text": [
      "4 8\n",
      "3 1 2 3 4 1 1 2\n",
      "5\n"
     ]
    }
   ],
   "source": [
    "h,w=map(int,input().split())\n",
    "array=list(map(int,input().split()))\n",
    "\n",
    "result=0\n",
    "#양 끝은 물이 고일 수 없다\n",
    "for i in range(1,w-1):\n",
    "    #물이 고일려면 양옆의 블록이 현 위치보다 높아야한다\n",
    "    left=max(array[:i])\n",
    "    right=max(array[i+1:])\n",
    "    #양옆 중 더 작은 값만큼 물이 고인다\n",
    "    min_val=min(left,right)\n",
    "    \n",
    "    if array[i]<min_val:\n",
    "        result+=min_val-array[i]\n",
    "print(result)    "
   ]
  },
  {
   "cell_type": "markdown",
   "id": "984dc998",
   "metadata": {},
   "source": [
    "## 가르침(완전탐색)\n",
    "https://www.acmicpc.net/problem/1062"
   ]
  },
  {
   "cell_type": "code",
   "execution_count": 89,
   "id": "cf4004a8",
   "metadata": {},
   "outputs": [
    {
     "name": "stdout",
     "output_type": "stream",
     "text": [
      "9 8\n",
      "antabtica\n",
      "antaxtica\n",
      "antadtica\n",
      "antaetica\n",
      "antaftica\n",
      "antagtica\n",
      "antahtica\n",
      "antajtica\n",
      "antaktica\n",
      "3\n"
     ]
    }
   ],
   "source": [
    "n,k=map(int,input().split())\n",
    "\n",
    "alpha=['a','b','c','d','e','f','g','h','i','j','k','l','m','n','o','p','q','r','s','t','u','v','w','x','y','z']\n",
    "\n",
    "#남근언어는 anta, tica는 무조건 들어가니\n",
    "tmp=['a','n','t','i','c']\n",
    "def dfs(depth,idx):\n",
    "    global result\n",
    "    if depth>=k-5:\n",
    "        #가르친 단어들이 다 있다면\n",
    "        cnt=check(array,tmp)\n",
    "        result=max(result,cnt)\n",
    "        return\n",
    "    for i in range(idx,26):\n",
    "        #가르칠 단어 선택\n",
    "        if alpha[i] not in tmp:\n",
    "            tmp.append(alpha[i])\n",
    "            dfs(depth+1,i+1)\n",
    "            tmp.pop()\n",
    "\n",
    "#가르친 단어가 해당 단어에 다 포함되있다면\n",
    "def check(array,tmp):\n",
    "    cnt=0\n",
    "    for words in array:\n",
    "        isflag=True\n",
    "        for word in words:\n",
    "            if word not in tmp:\n",
    "                isflag=False\n",
    "                break\n",
    "        if isflag:\n",
    "            cnt+=1\n",
    "    return cnt\n",
    "\n",
    "\n",
    "array=[]\n",
    "for i in range(n):\n",
    "    word=list(input())\n",
    "    array.append(word)\n",
    "\n",
    "\n",
    "result=0\n",
    "dfs(0,0)\n",
    "if k<5:\n",
    "    print(0)\n",
    "else:\n",
    "    print(result)"
   ]
  },
  {
   "cell_type": "markdown",
   "id": "66787fce",
   "metadata": {},
   "source": [
    "## **멀티탭 스케줄링(그리디)\n",
    "https://www.acmicpc.net/problem/1700"
   ]
  },
  {
   "cell_type": "code",
   "execution_count": 191,
   "id": "c415c576",
   "metadata": {},
   "outputs": [
    {
     "name": "stdout",
     "output_type": "stream",
     "text": [
      "1\n"
     ]
    }
   ],
   "source": [
    "a=[1,2,3,2,3,4,5,2]\n",
    "print(a.index(2))"
   ]
  },
  {
   "cell_type": "code",
   "execution_count": 99,
   "id": "74796877",
   "metadata": {},
   "outputs": [
    {
     "name": "stdout",
     "output_type": "stream",
     "text": [
      "2 7\n",
      "2 3 2 3 1 2 7\n",
      "2\n"
     ]
    }
   ],
   "source": [
    "n,k=map(int,input().split())\n",
    "array=list(map(int,input().split()))\n",
    "\n",
    "dp=[0]*n\n",
    "count=0\n",
    "temp=0\n",
    "for i in range(k):\n",
    "    #플러그가 꽂혀있다면\n",
    "    if array[i] in dp:\n",
    "        pass\n",
    "    #플러그가 비어있는 곳이 있다면 꽂아준다\n",
    "    elif 0 in dp:\n",
    "        dp[dp.index(0)]=array[i]\n",
    "    #꽂혀있는 플러그 빼고 꽂기\n",
    "    else:\n",
    "        for k in dp:\n",
    "            #꽂혀있는 것 중에 이후 사용이 안될 경우, 해당 위치 선택\n",
    "            if k not in array[i:]:\n",
    "                tmp=k\n",
    "                break\n",
    "            #꽂혀있는 것이 이후에 다시 사용될 경우\n",
    "            elif array[i:].index(k)>temp:\n",
    "                temp=array[i:].index(k)\n",
    "                tmp=k\n",
    "        #그 해당 값으로 대체\n",
    "        temp=0\n",
    "        dp[dp.index(tmp)]=array[i]\n",
    "        # 바꿔 꽂은 경우\n",
    "        count+=1\n",
    "        \n",
    "print(count)"
   ]
  },
  {
   "cell_type": "markdown",
   "id": "8ee3b8d7",
   "metadata": {},
   "source": [
    "## 부분합(투포인터)\n",
    "https://www.acmicpc.net/problem/1806"
   ]
  },
  {
   "cell_type": "code",
   "execution_count": 103,
   "id": "0a946baf",
   "metadata": {},
   "outputs": [
    {
     "name": "stdout",
     "output_type": "stream",
     "text": [
      "10 15\n",
      "5 1 3 5 10 7 4 9 2 8\n",
      "2\n"
     ]
    }
   ],
   "source": [
    "#완탐은 시간 초과\n",
    "n,s=map(int,input().split())\n",
    "array=list(map(int,input().split()))\n",
    "\n",
    "sum_val=0\n",
    "prefix=[0]\n",
    "\n",
    "result=int(1e9)\n",
    "for i in range(n):\n",
    "    sum_val+=array[i]\n",
    "    #부분합 구하기\n",
    "    prefix.append(sum_val)\n",
    "    for j in range(0,i):\n",
    "        if prefix[i]-prefix[j]==s:\n",
    "            cnt=i-j\n",
    "            result=min(result,cnt)\n",
    "    \n",
    "\n",
    "if result==int(1e9):\n",
    "    print(0)\n",
    "else:\n",
    "    print(result)"
   ]
  },
  {
   "cell_type": "code",
   "execution_count": 104,
   "id": "8d90fcf3",
   "metadata": {},
   "outputs": [
    {
     "name": "stdout",
     "output_type": "stream",
     "text": [
      "10 15\n",
      "5 1 3 5 10 7 4 9 2 8\n",
      "2\n"
     ]
    }
   ],
   "source": [
    "#투포인터\n",
    "n,s=map(int,input().split())\n",
    "array=list(map(int,input().split()))\n",
    "start,end=0,0\n",
    "sum_val=array[0]\n",
    "\n",
    "result=int(1e9)\n",
    "while True:\n",
    "    if sum_val>=s:\n",
    "        sum_val-=array[start]\n",
    "        result=min(result,end-start+1)\n",
    "        start+=1\n",
    "    else:\n",
    "        end+=1\n",
    "        if end==n:\n",
    "            break\n",
    "        sum_val+=array[end]\n",
    "\n",
    "\n",
    "if result==int(1e9):\n",
    "    print(0)\n",
    "else:\n",
    "    print(result)"
   ]
  },
  {
   "cell_type": "markdown",
   "id": "f742316d",
   "metadata": {},
   "source": [
    "## 최소비용 구하기(벨만포드)\n",
    "https://www.acmicpc.net/problem/1916"
   ]
  },
  {
   "cell_type": "code",
   "execution_count": 109,
   "id": "5a5f66c7",
   "metadata": {},
   "outputs": [
    {
     "name": "stdout",
     "output_type": "stream",
     "text": [
      "5\n",
      "8\n",
      "1 2 2\n",
      "1 3 3\n",
      "1 4 1\n",
      "1 5 10\n",
      "2 4 2\n",
      "3 4 1\n",
      "3 5 1\n",
      "4 5 3\n",
      "1 5\n",
      "2\n",
      "3\n",
      "1\n",
      "10\n",
      "4\n",
      "4\n",
      "4\n",
      "4\n",
      "[1000000000, 0, 2, 3, 1, 4]\n"
     ]
    }
   ],
   "source": [
    "import heapq\n",
    "INF=int(1e9)\n",
    "n=int(input())\n",
    "m=int(input())\n",
    "graph=[[]for _ in range(n+1)]\n",
    "\n",
    "distance=[INF]*(n+1)\n",
    "\n",
    "for i in range(m):\n",
    "    a,b,c=map(int,input().split())\n",
    "    graph[a].append([c,b])\n",
    "\n",
    "    \n",
    "def dijkstra(start):\n",
    "    q=[]\n",
    "    heapq.heappush(q,(0,start))\n",
    "    distance[start]=0\n",
    "    while q:\n",
    "        dis,cur=heapq.heappop(q)\n",
    "        if distance[cur]<dis:\n",
    "            continue\n",
    "        for i in graph[cur]:\n",
    "            cost=dis+i[0]\n",
    "            if cost<distance[i[1]]:\n",
    "                distance[i[1]]=cost\n",
    "                heapq.heappush(q,(cost,i[1]))\n",
    "                \n",
    "s,e=map(int,input().split())\n",
    "dijkstra(s)\n",
    "print(distance[e])"
   ]
  },
  {
   "cell_type": "code",
   "execution_count": 111,
   "id": "df08c48d",
   "metadata": {
    "collapsed": true
   },
   "outputs": [
    {
     "ename": "KeyboardInterrupt",
     "evalue": "Interrupted by user",
     "output_type": "error",
     "traceback": [
      "\u001b[1;31m---------------------------------------------------------------------------\u001b[0m",
      "\u001b[1;31mKeyboardInterrupt\u001b[0m                         Traceback (most recent call last)",
      "\u001b[1;32m~\\AppData\\Local\\Temp/ipykernel_6872/1717653650.py\u001b[0m in \u001b[0;36m<module>\u001b[1;34m\u001b[0m\n\u001b[0;32m      1\u001b[0m \u001b[1;31m#워셸\u001b[0m\u001b[1;33m\u001b[0m\u001b[1;33m\u001b[0m\u001b[0m\n\u001b[0;32m      2\u001b[0m \u001b[0mINF\u001b[0m\u001b[1;33m=\u001b[0m\u001b[0mint\u001b[0m\u001b[1;33m(\u001b[0m\u001b[1;36m1e9\u001b[0m\u001b[1;33m)\u001b[0m\u001b[1;33m\u001b[0m\u001b[1;33m\u001b[0m\u001b[0m\n\u001b[1;32m----> 3\u001b[1;33m \u001b[0mn\u001b[0m\u001b[1;33m=\u001b[0m\u001b[0mint\u001b[0m\u001b[1;33m(\u001b[0m\u001b[0minput\u001b[0m\u001b[1;33m(\u001b[0m\u001b[1;33m)\u001b[0m\u001b[1;33m)\u001b[0m\u001b[1;33m\u001b[0m\u001b[1;33m\u001b[0m\u001b[0m\n\u001b[0m\u001b[0;32m      4\u001b[0m \u001b[0mm\u001b[0m\u001b[1;33m=\u001b[0m\u001b[0mint\u001b[0m\u001b[1;33m(\u001b[0m\u001b[0minput\u001b[0m\u001b[1;33m(\u001b[0m\u001b[1;33m)\u001b[0m\u001b[1;33m)\u001b[0m\u001b[1;33m\u001b[0m\u001b[1;33m\u001b[0m\u001b[0m\n\u001b[0;32m      5\u001b[0m \u001b[0mgraph\u001b[0m\u001b[1;33m=\u001b[0m\u001b[1;33m[\u001b[0m\u001b[1;33m[\u001b[0m\u001b[0mINF\u001b[0m\u001b[1;33m]\u001b[0m\u001b[1;33m*\u001b[0m\u001b[1;33m(\u001b[0m\u001b[0mn\u001b[0m\u001b[1;33m+\u001b[0m\u001b[1;36m1\u001b[0m\u001b[1;33m)\u001b[0m \u001b[1;32mfor\u001b[0m \u001b[0m_\u001b[0m \u001b[1;32min\u001b[0m \u001b[0mrange\u001b[0m\u001b[1;33m(\u001b[0m\u001b[0mn\u001b[0m\u001b[1;33m+\u001b[0m\u001b[1;36m1\u001b[0m\u001b[1;33m)\u001b[0m\u001b[1;33m]\u001b[0m\u001b[1;33m\u001b[0m\u001b[1;33m\u001b[0m\u001b[0m\n",
      "\u001b[1;32m~\\anaconda3\\lib\\site-packages\\ipykernel\\kernelbase.py\u001b[0m in \u001b[0;36mraw_input\u001b[1;34m(self, prompt)\u001b[0m\n\u001b[0;32m   1004\u001b[0m                 \u001b[1;34m\"raw_input was called, but this frontend does not support input requests.\"\u001b[0m\u001b[1;33m\u001b[0m\u001b[1;33m\u001b[0m\u001b[0m\n\u001b[0;32m   1005\u001b[0m             )\n\u001b[1;32m-> 1006\u001b[1;33m         return self._input_request(\n\u001b[0m\u001b[0;32m   1007\u001b[0m             \u001b[0mstr\u001b[0m\u001b[1;33m(\u001b[0m\u001b[0mprompt\u001b[0m\u001b[1;33m)\u001b[0m\u001b[1;33m,\u001b[0m\u001b[1;33m\u001b[0m\u001b[1;33m\u001b[0m\u001b[0m\n\u001b[0;32m   1008\u001b[0m             \u001b[0mself\u001b[0m\u001b[1;33m.\u001b[0m\u001b[0m_parent_ident\u001b[0m\u001b[1;33m[\u001b[0m\u001b[1;34m\"shell\"\u001b[0m\u001b[1;33m]\u001b[0m\u001b[1;33m,\u001b[0m\u001b[1;33m\u001b[0m\u001b[1;33m\u001b[0m\u001b[0m\n",
      "\u001b[1;32m~\\anaconda3\\lib\\site-packages\\ipykernel\\kernelbase.py\u001b[0m in \u001b[0;36m_input_request\u001b[1;34m(self, prompt, ident, parent, password)\u001b[0m\n\u001b[0;32m   1049\u001b[0m             \u001b[1;32mexcept\u001b[0m \u001b[0mKeyboardInterrupt\u001b[0m\u001b[1;33m:\u001b[0m\u001b[1;33m\u001b[0m\u001b[1;33m\u001b[0m\u001b[0m\n\u001b[0;32m   1050\u001b[0m                 \u001b[1;31m# re-raise KeyboardInterrupt, to truncate traceback\u001b[0m\u001b[1;33m\u001b[0m\u001b[1;33m\u001b[0m\u001b[0m\n\u001b[1;32m-> 1051\u001b[1;33m                 \u001b[1;32mraise\u001b[0m \u001b[0mKeyboardInterrupt\u001b[0m\u001b[1;33m(\u001b[0m\u001b[1;34m\"Interrupted by user\"\u001b[0m\u001b[1;33m)\u001b[0m \u001b[1;32mfrom\u001b[0m \u001b[1;32mNone\u001b[0m\u001b[1;33m\u001b[0m\u001b[1;33m\u001b[0m\u001b[0m\n\u001b[0m\u001b[0;32m   1052\u001b[0m             \u001b[1;32mexcept\u001b[0m \u001b[0mException\u001b[0m\u001b[1;33m:\u001b[0m\u001b[1;33m\u001b[0m\u001b[1;33m\u001b[0m\u001b[0m\n\u001b[0;32m   1053\u001b[0m                 \u001b[0mself\u001b[0m\u001b[1;33m.\u001b[0m\u001b[0mlog\u001b[0m\u001b[1;33m.\u001b[0m\u001b[0mwarning\u001b[0m\u001b[1;33m(\u001b[0m\u001b[1;34m\"Invalid Message:\"\u001b[0m\u001b[1;33m,\u001b[0m \u001b[0mexc_info\u001b[0m\u001b[1;33m=\u001b[0m\u001b[1;32mTrue\u001b[0m\u001b[1;33m)\u001b[0m\u001b[1;33m\u001b[0m\u001b[1;33m\u001b[0m\u001b[0m\n",
      "\u001b[1;31mKeyboardInterrupt\u001b[0m: Interrupted by user"
     ]
    }
   ],
   "source": [
    "#워셸\n",
    "INF=int(1e9)\n",
    "n=int(input())\n",
    "m=int(input())\n",
    "graph=[[INF]*(n+1) for _ in range(n+1)]\n",
    "\n",
    "# self-loop 정의\n",
    "for i in range(1,n+1):\n",
    "    for j in range(1,n+1):\n",
    "        if i==j:\n",
    "            graph[i][j]=0\n",
    "\n",
    "for i in range(m):\n",
    "    a,b,c=map(int,input().split())\n",
    "    graph[a][b]=c\n",
    "    \n",
    "for k in range(1,n+1):\n",
    "    for a in range(1,n+1):\n",
    "        for b in range(1,n+1):\n",
    "            graph[a][b]=min(graph[a][k]+graph[k][b],graph[a][b])\n",
    "\n",
    "start,end=map(int,input().split())\n",
    "\n",
    "print(graph)\n",
    "print(graph[start][end])"
   ]
  },
  {
   "cell_type": "markdown",
   "id": "3ef82f64",
   "metadata": {},
   "source": [
    "## 최스 스패닝 트리(프림,크루스칼)\n",
    "https://www.acmicpc.net/problem/1197"
   ]
  },
  {
   "cell_type": "code",
   "execution_count": 112,
   "id": "3f48da03",
   "metadata": {},
   "outputs": [
    {
     "name": "stdout",
     "output_type": "stream",
     "text": [
      "3 3\n",
      "1 2 1\n",
      "2 3 2\n",
      "1 3 3\n",
      "3\n"
     ]
    }
   ],
   "source": [
    "import heapq\n",
    "v,e=map(int,input().split())\n",
    "\n",
    "#집합의 부모 찾기\n",
    "def find_parent(parent,x):\n",
    "    if parent[x]!=x:\n",
    "        parent[x]=find_parent(parent,parent[x])\n",
    "    return parent[x]\n",
    "\n",
    "#집합 합치기\n",
    "def union_parent(parent,a,b):\n",
    "    a=find_parent(parent,a)\n",
    "    b=find_parent(parent,b)\n",
    "    if a<b:\n",
    "        parent[b]=a\n",
    "    else:\n",
    "        parent[a]=b\n",
    "\n",
    "parent=[0]*(v+1)\n",
    "edges=[]\n",
    "result=0\n",
    "\n",
    "#각 노드하나씩 집합으로 생성\n",
    "for i in range(1,v+1):\n",
    "    parent[i]=i\n",
    "    \n",
    "for _ in range(e):\n",
    "    a,b,c=map(int,input().split())\n",
    "    edges.append([c,a,b])\n",
    "    \n",
    "#가장 짧은 간선부터 연결하기 위해\n",
    "edges.sort()\n",
    "\n",
    "for edge in edges:\n",
    "    cost,a,b=edge\n",
    "    #서로의 부모가 같지않다면 간선으로 연결하여 같은 집합으로 생성\n",
    "    if find_parent(parent,a)!=find_parent(parent,b):\n",
    "        result+=cost\n",
    "        union_parent(parent,a,b)\n",
    "\n",
    "print(result)"
   ]
  },
  {
   "cell_type": "markdown",
   "id": "69f87c63",
   "metadata": {},
   "source": [
    "## **부분 문자열(KMP)\n",
    "https://www.acmicpc.net/problem/16916"
   ]
  },
  {
   "cell_type": "code",
   "execution_count": 116,
   "id": "54f39fb7",
   "metadata": {},
   "outputs": [
    {
     "name": "stdout",
     "output_type": "stream",
     "text": [
      "baekjoon\n",
      "aek\n",
      "1\n"
     ]
    }
   ],
   "source": [
    "##kmp테이블 생성\n",
    "def make_table(pattern):\n",
    "    length = len(pattern)\n",
    "    table = [0] * length\n",
    "    j = 0\n",
    "    for i in range(1, length):\n",
    "        while j > 0 and pattern[i] != pattern[j]:\n",
    "            j = table[j - 1]\n",
    "            \n",
    "        if pattern[i] == pattern[j]:\n",
    "            j += 1\n",
    "            table[i] = j\n",
    "\n",
    "    return table\n",
    "\n",
    "#테이블의 값에 따라 점프하기\n",
    "def kmp(parent, pattern):\n",
    "    table = make_table(pattern)\n",
    "    parent_length = len(parent)\n",
    "    pattern_length = len(pattern)\n",
    "\n",
    "    j = 0\n",
    "    for i in range(parent_length):\n",
    "        while j > 0 and parent[i] != pattern[j]:\n",
    "            j = table[j - 1]\n",
    "\n",
    "        if parent[i] == pattern[j]:\n",
    "            if j == pattern_length - 1:\n",
    "                return 1\n",
    "            else:\n",
    "                j += 1\n",
    "\n",
    "    return 0\n",
    "\n",
    "\n",
    "parent = input()\n",
    "pattern = input()\n",
    "print(kmp(parent, pattern))"
   ]
  },
  {
   "cell_type": "markdown",
   "id": "81c09b6d",
   "metadata": {},
   "source": [
    "## 줄세우기(위상정렬)\n",
    "https://www.acmicpc.net/problem/2252"
   ]
  },
  {
   "cell_type": "code",
   "execution_count": 122,
   "id": "1c77a99e",
   "metadata": {},
   "outputs": [
    {
     "name": "stdout",
     "output_type": "stream",
     "text": [
      "4 2\n",
      "4 2\n",
      "3 1\n",
      "3 4 1 2 "
     ]
    }
   ],
   "source": [
    "n,m=map(int,input().split())\n",
    "graph=[[] for _ in range(n+1)]\n",
    "indegree=[0]*(n+1)\n",
    "for _ in range(m):\n",
    "    a,b=map(int,input().split())\n",
    "    graph[a].append(b)\n",
    "    indegree[b]+=1\n",
    "    \n",
    "def topology():\n",
    "    result=[]\n",
    "    q=[]\n",
    "    for i in range(1,n+1):\n",
    "        #진입차수가 0인 것들을 q에 삽입\n",
    "        if indegree[i]==0:\n",
    "            q.append(i)\n",
    "            \n",
    "    while q:\n",
    "        #진입차수가 0인것들을 뺀다\n",
    "        cur=q.pop(0)\n",
    "        #순서대로 결과에 추가\n",
    "        result.append(cur)\n",
    "        #해당 노드는 삭제되니 그 노드에 연결된 진입차수들을 1씩 감소\n",
    "        for i in graph[cur]:\n",
    "            indegree[i]-=1\n",
    "            #진입차수가 0이 되는 것은 또 q에 삽입\n",
    "            if indegree[i]==0:\n",
    "                q.append(i)\n",
    "    \n",
    "    for i in result:\n",
    "        print(i,end=' ')\n",
    "topology()"
   ]
  },
  {
   "cell_type": "markdown",
   "id": "ffcf4729",
   "metadata": {},
   "source": [
    "## 수들의 합\n",
    "https://www.acmicpc.net/problem/1789"
   ]
  },
  {
   "cell_type": "code",
   "execution_count": 127,
   "id": "29adbcb2",
   "metadata": {},
   "outputs": [
    {
     "name": "stdout",
     "output_type": "stream",
     "text": [
      "200\n",
      "19\n"
     ]
    }
   ],
   "source": [
    "s=int(input())\n",
    "n=1\n",
    "while n**2+n<=2*s:\n",
    "    n+=1\n",
    "print(n-1)"
   ]
  },
  {
   "cell_type": "markdown",
   "id": "0a2f5c40",
   "metadata": {},
   "source": [
    "## 사탕게임\n",
    "https://covenant.tistory.com/224"
   ]
  },
  {
   "cell_type": "code",
   "execution_count": 134,
   "id": "1dd31335",
   "metadata": {},
   "outputs": [
    {
     "name": "stdout",
     "output_type": "stream",
     "text": [
      "3\n",
      "CCP\n",
      "CCP\n",
      "PPC\n",
      "3\n"
     ]
    }
   ],
   "source": [
    "n=int(input())\n",
    "graph=[]\n",
    "for i in range(n):\n",
    "    data=list(input())\n",
    "    graph.append(data)\n",
    "\n",
    "#가로, 행 확인\n",
    "def check_row():\n",
    "    global result\n",
    "    for i in range(n):\n",
    "        cnt=1\n",
    "        for j in range(n-1):\n",
    "            if graph[i][j]==graph[i][j+1]:\n",
    "                cnt+=1\n",
    "                result=max(result,cnt)\n",
    "            else:\n",
    "                cnt=1\n",
    "#세로, 열 확인\n",
    "def check_col():\n",
    "    global result\n",
    "    for i in range(n):\n",
    "        cnt=1\n",
    "        for j in range(n-1):\n",
    "            if graph[j][i]==graph[j+1][i]:\n",
    "                cnt+=1\n",
    "                result=max(result,cnt)\n",
    "            else:\n",
    "                cnt=1\n",
    "result=0\n",
    "for i in range(n):\n",
    "    for j in range(n-1):\n",
    "        #행으로 바꾸기\n",
    "        if graph[i][j] != graph[i][j+1]:\n",
    "            graph[i][j],graph[i][j+1]=graph[i][j+1],graph[i][j]\n",
    "            check_row()\n",
    "            check_col()\n",
    "            #원상복구\n",
    "            graph[i][j],graph[i][j+1]=graph[i][j+1],graph[i][j]\n",
    "        #열확인\n",
    "        if graph[j][i] != graph[j+1][i]:\n",
    "            graph[j][i],graph[j+1][i]=graph[j+1][i],graph[j][i]\n",
    "            check_row()\n",
    "            check_col()\n",
    "            graph[j][i],graph[j+1][i]=graph[j+1][i],graph[j][i]\n",
    "\n",
    "print(result)"
   ]
  },
  {
   "cell_type": "markdown",
   "id": "4cc7a6e9",
   "metadata": {},
   "source": [
    "## 동전1(DP)\n",
    "https://www.acmicpc.net/problem/2293"
   ]
  },
  {
   "cell_type": "code",
   "execution_count": 145,
   "id": "7fef60d3",
   "metadata": {},
   "outputs": [
    {
     "name": "stdout",
     "output_type": "stream",
     "text": [
      "3 10\n",
      "1\n",
      "2\n",
      "5\n",
      "10\n"
     ]
    }
   ],
   "source": [
    "n,k=map(int,input().split())\n",
    "dp=[0]*(k+1)\n",
    "dp[0]=1\n",
    "array=[]\n",
    "for _ in range(n):\n",
    "    data=int(input())\n",
    "    array.append(data)\n",
    "\n",
    "for data in array:\n",
    "    for i in range(1,k+1):\n",
    "        #만들 수 있는 경우\n",
    "        if i-data>=0:\n",
    "            dp[i]+=dp[i-data]\n",
    "    \n",
    "print(dp[-1])\n"
   ]
  },
  {
   "cell_type": "markdown",
   "id": "be5c8c2e",
   "metadata": {},
   "source": [
    "## 동전2\n",
    "https://www.acmicpc.net/problem/2294"
   ]
  },
  {
   "cell_type": "code",
   "execution_count": 152,
   "id": "3d96ba45",
   "metadata": {},
   "outputs": [
    {
     "name": "stdout",
     "output_type": "stream",
     "text": [
      "3 15\n",
      "1\n",
      "5\n",
      "12\n",
      "3\n"
     ]
    }
   ],
   "source": [
    "n,k=map(int,input().split())\n",
    "dp=[0]*(k+1)\n",
    "  \n",
    "array=[]\n",
    "for i in range(n):\n",
    "    array.append(int(input()))\n",
    "\n",
    "min_val=int(1e9)\n",
    "for data in array:\n",
    "    for i in range(1,k+1):\n",
    "        if i-data>=0:\n",
    "            dp[i]=dp[i-data]+1\n",
    "    min_val=min(min_val,dp[-1])\n",
    "if min_val==0:\n",
    "    print(-1)\n",
    "else:\n",
    "    print(min_val)"
   ]
  },
  {
   "cell_type": "code",
   "execution_count": 153,
   "id": "4faf3a06",
   "metadata": {},
   "outputs": [
    {
     "name": "stdout",
     "output_type": "stream",
     "text": [
      "3 15\n",
      "1\n",
      "5\n",
      "12\n",
      "3\n"
     ]
    }
   ],
   "source": [
    "n,k=map(int,input().split())\n",
    "dp=[10001]*(k+1)\n",
    "dp[0]=0\n",
    "array=[]\n",
    "for _ in range(n):\n",
    "    data=int(input())\n",
    "    array.append(data)\n",
    "\n",
    "for data in array:\n",
    "    for i in range(1,k+1):\n",
    "        #만들 수 있는 경우\n",
    "        if i-data>=0:\n",
    "            dp[i]=min(dp[i-data]+1,dp[i])\n",
    "\n",
    "\n",
    "print(-1) if dp[-1]==10001 else print(dp[-1])"
   ]
  },
  {
   "cell_type": "markdown",
   "id": "6f13088c",
   "metadata": {},
   "source": [
    "## 단지번호붙이기\n",
    "https://www.acmicpc.net/problem/2667"
   ]
  },
  {
   "cell_type": "code",
   "execution_count": 155,
   "id": "573594d3",
   "metadata": {
    "collapsed": true
   },
   "outputs": [
    {
     "name": "stdout",
     "output_type": "stream",
     "text": [
      "7\n",
      "0110100\n",
      "0110101\n",
      "1110101\n",
      "0000111\n",
      "0100000\n",
      "0111110\n",
      "0111000\n"
     ]
    },
    {
     "ename": "NameError",
     "evalue": "name 'dx' is not defined",
     "output_type": "error",
     "traceback": [
      "\u001b[1;31m---------------------------------------------------------------------------\u001b[0m",
      "\u001b[1;31mNameError\u001b[0m                                 Traceback (most recent call last)",
      "\u001b[1;32m~\\AppData\\Local\\Temp/ipykernel_6872/4138036657.py\u001b[0m in \u001b[0;36m<module>\u001b[1;34m\u001b[0m\n\u001b[0;32m     25\u001b[0m     \u001b[1;32mfor\u001b[0m \u001b[0mj\u001b[0m \u001b[1;32min\u001b[0m \u001b[0mrange\u001b[0m\u001b[1;33m(\u001b[0m\u001b[0mn\u001b[0m\u001b[1;33m)\u001b[0m\u001b[1;33m:\u001b[0m\u001b[1;33m\u001b[0m\u001b[1;33m\u001b[0m\u001b[0m\n\u001b[0;32m     26\u001b[0m         \u001b[1;32mif\u001b[0m \u001b[0mgraph\u001b[0m\u001b[1;33m[\u001b[0m\u001b[0mi\u001b[0m\u001b[1;33m]\u001b[0m\u001b[1;33m[\u001b[0m\u001b[0mj\u001b[0m\u001b[1;33m]\u001b[0m\u001b[1;33m==\u001b[0m\u001b[1;36m1\u001b[0m \u001b[1;32mand\u001b[0m \u001b[1;32mnot\u001b[0m \u001b[0mvisited\u001b[0m\u001b[1;33m[\u001b[0m\u001b[0mi\u001b[0m\u001b[1;33m]\u001b[0m\u001b[1;33m[\u001b[0m\u001b[0mj\u001b[0m\u001b[1;33m]\u001b[0m\u001b[1;33m:\u001b[0m\u001b[1;33m\u001b[0m\u001b[1;33m\u001b[0m\u001b[0m\n\u001b[1;32m---> 27\u001b[1;33m             \u001b[0mnum\u001b[0m\u001b[1;33m.\u001b[0m\u001b[0mappend\u001b[0m\u001b[1;33m(\u001b[0m\u001b[0mbfs\u001b[0m\u001b[1;33m(\u001b[0m\u001b[0mi\u001b[0m\u001b[1;33m,\u001b[0m\u001b[0mj\u001b[0m\u001b[1;33m)\u001b[0m\u001b[1;33m)\u001b[0m\u001b[1;33m\u001b[0m\u001b[1;33m\u001b[0m\u001b[0m\n\u001b[0m\u001b[0;32m     28\u001b[0m \u001b[1;33m\u001b[0m\u001b[0m\n\u001b[0;32m     29\u001b[0m \u001b[0mnum\u001b[0m\u001b[1;33m.\u001b[0m\u001b[0msort\u001b[0m\u001b[1;33m(\u001b[0m\u001b[1;33m)\u001b[0m\u001b[1;33m\u001b[0m\u001b[1;33m\u001b[0m\u001b[0m\n",
      "\u001b[1;32m~\\AppData\\Local\\Temp/ipykernel_6872/4138036657.py\u001b[0m in \u001b[0;36mbfs\u001b[1;34m(x, y)\u001b[0m\n\u001b[0;32m     13\u001b[0m         \u001b[0mx\u001b[0m\u001b[1;33m,\u001b[0m\u001b[0my\u001b[0m\u001b[1;33m=\u001b[0m\u001b[0mq\u001b[0m\u001b[1;33m.\u001b[0m\u001b[0mpop\u001b[0m\u001b[1;33m(\u001b[0m\u001b[1;36m0\u001b[0m\u001b[1;33m)\u001b[0m\u001b[1;33m\u001b[0m\u001b[1;33m\u001b[0m\u001b[0m\n\u001b[0;32m     14\u001b[0m         \u001b[1;32mfor\u001b[0m \u001b[0mi\u001b[0m \u001b[1;32min\u001b[0m \u001b[0mrange\u001b[0m\u001b[1;33m(\u001b[0m\u001b[1;36m4\u001b[0m\u001b[1;33m)\u001b[0m\u001b[1;33m:\u001b[0m\u001b[1;33m\u001b[0m\u001b[1;33m\u001b[0m\u001b[0m\n\u001b[1;32m---> 15\u001b[1;33m             \u001b[0mnx\u001b[0m\u001b[1;33m,\u001b[0m\u001b[0mny\u001b[0m\u001b[1;33m=\u001b[0m\u001b[0mx\u001b[0m\u001b[1;33m+\u001b[0m\u001b[0mdx\u001b[0m\u001b[1;33m[\u001b[0m\u001b[0mi\u001b[0m\u001b[1;33m]\u001b[0m\u001b[1;33m,\u001b[0m\u001b[0my\u001b[0m\u001b[1;33m+\u001b[0m\u001b[0mdy\u001b[0m\u001b[1;33m[\u001b[0m\u001b[0mi\u001b[0m\u001b[1;33m]\u001b[0m\u001b[1;33m\u001b[0m\u001b[1;33m\u001b[0m\u001b[0m\n\u001b[0m\u001b[0;32m     16\u001b[0m             \u001b[1;32mif\u001b[0m \u001b[1;36m0\u001b[0m\u001b[1;33m<=\u001b[0m\u001b[0mnx\u001b[0m\u001b[1;33m<\u001b[0m\u001b[0mn\u001b[0m \u001b[1;32mand\u001b[0m \u001b[1;36m0\u001b[0m\u001b[1;33m<=\u001b[0m\u001b[0mny\u001b[0m\u001b[1;33m<\u001b[0m\u001b[0mn\u001b[0m \u001b[1;32mand\u001b[0m \u001b[1;32mnot\u001b[0m \u001b[0mvisited\u001b[0m\u001b[1;33m[\u001b[0m\u001b[0mnx\u001b[0m\u001b[1;33m]\u001b[0m\u001b[1;33m[\u001b[0m\u001b[0mny\u001b[0m\u001b[1;33m]\u001b[0m \u001b[1;32mand\u001b[0m \u001b[0mgraph\u001b[0m\u001b[1;33m[\u001b[0m\u001b[0mnx\u001b[0m\u001b[1;33m]\u001b[0m\u001b[1;33m[\u001b[0m\u001b[0mny\u001b[0m\u001b[1;33m]\u001b[0m\u001b[1;33m==\u001b[0m\u001b[1;36m1\u001b[0m\u001b[1;33m:\u001b[0m\u001b[1;33m\u001b[0m\u001b[1;33m\u001b[0m\u001b[0m\n\u001b[0;32m     17\u001b[0m                 \u001b[0mcount\u001b[0m\u001b[1;33m+=\u001b[0m\u001b[1;36m1\u001b[0m\u001b[1;33m\u001b[0m\u001b[1;33m\u001b[0m\u001b[0m\n",
      "\u001b[1;31mNameError\u001b[0m: name 'dx' is not defined"
     ]
    }
   ],
   "source": [
    "n=int(input())\n",
    "graph=[]\n",
    "for i in range(n):\n",
    "    data=list(map(int,input().rstrip()))\n",
    "    graph.append(data)\n",
    "\n",
    "    \n",
    "dx=[1,-1,0,0]\n",
    "dy=[0,0,1,-1]\n",
    "#bfs로 갈 수 있는 곳 가기\n",
    "def bfs(x,y):\n",
    "    q=[]\n",
    "    q.append([x,y])\n",
    "    visited[x][y]=True\n",
    "    count=1\n",
    "    while q:\n",
    "        x,y=q.pop(0)\n",
    "        for i in range(4):\n",
    "            nx,ny=x+dx[i],y+dy[i]\n",
    "            if 0<=nx<n and 0<=ny<n and not visited[nx][ny] and graph[nx][ny]==1:\n",
    "                count+=1\n",
    "                visited[nx][ny]=True\n",
    "                q.append([nx,ny])\n",
    "    return count\n",
    "\n",
    "visited=[[False]*n for _ in range(n)]\n",
    "num=[]\n",
    "for i in range(n):\n",
    "    for j in range(n):\n",
    "        if graph[i][j]==1 and not visited[i][j]:\n",
    "            num.append(bfs(i,j))\n",
    "            \n",
    "num.sort()\n",
    "print(len(num))\n",
    "for i in num:\n",
    "    print(i)"
   ]
  },
  {
   "cell_type": "markdown",
   "id": "ba20b2ec",
   "metadata": {},
   "source": [
    "## 감소하는 수\n",
    "https://www.acmicpc.net/problem/1038"
   ]
  },
  {
   "cell_type": "code",
   "execution_count": 181,
   "id": "cf50a9de",
   "metadata": {},
   "outputs": [
    {
     "name": "stdout",
     "output_type": "stream",
     "text": [
      "18\n",
      "42\n"
     ]
    }
   ],
   "source": [
    "n=int(input())\n",
    "\n",
    "visited=[False]*10\n",
    "num=[]\n",
    "\n",
    "#조합 구현\n",
    "def dfs(depth,idx,max_depth):\n",
    "    if depth>=max_depth:\n",
    "        reverse_tmp=tmp[::-1]\n",
    "        num.append(int(''.join(map(str,reverse_tmp))))\n",
    "        return\n",
    "    for i in range(idx,10):\n",
    "        if not visited[i]:\n",
    "            visited[i]=True\n",
    "            tmp.append(i)\n",
    "            dfs(depth+1,i+1,max_depth)\n",
    "            visited[i]=False\n",
    "            tmp.pop()\n",
    "for i in range(1,11):\n",
    "    tmp=[]\n",
    "    visited=[False]*10\n",
    "    dfs(0,0,i)\n",
    "num.sort()\n",
    "\n",
    "if len(num)<=n:\n",
    "    print(-1)\n",
    "else:\n",
    "    print(num[n])"
   ]
  },
  {
   "cell_type": "markdown",
   "id": "85eb0a02",
   "metadata": {},
   "source": [
    "## 파이프 옮기기1\n",
    "https://www.acmicpc.net/problem/17070"
   ]
  },
  {
   "cell_type": "code",
   "execution_count": 183,
   "id": "0027ce51",
   "metadata": {},
   "outputs": [
    {
     "name": "stdout",
     "output_type": "stream",
     "text": [
      "3\n",
      "0 0 0\n",
      "0 0 0\n",
      "0 0 0\n",
      "1\n"
     ]
    }
   ],
   "source": [
    "n=int(input())\n",
    "graph=[]\n",
    "for i in range(n):\n",
    "    graph.append(list(map(int,input().split())))\n",
    "    \n",
    "\n",
    "def dfs(x,y,z):\n",
    "    global cnt\n",
    "    if x==n-1 and y==n-1:\n",
    "        cnt+=1\n",
    "        return\n",
    "    #대각선 이동\n",
    "    if x+1<n and y+1<n:\n",
    "        if graph[x+1][y+1]==0 and graph[x][y+1]==0 and graph[x+1][y]==0:\n",
    "            #대각선 z:2\n",
    "            dfs(x+1,y+1,2)\n",
    "            \n",
    "    #가로 이동\n",
    "    if z==2 or z==0:\n",
    "        if y+1<n:\n",
    "            if graph[x][y+1]==0:\n",
    "                #가로 방향\n",
    "                dfs(x,y+1,0)\n",
    "                \n",
    "    #세로 이동\n",
    "    if z==1 or z==2:\n",
    "        if x+1<n:\n",
    "            if graph[x+1][y]==0:\n",
    "                #세로 방향\n",
    "                dfs(x+1,y,1)\n",
    "                \n",
    "cnt=0                \n",
    "dfs(0,1,0)\n",
    "print(cnt)"
   ]
  },
  {
   "cell_type": "code",
   "execution_count": 188,
   "id": "44b1e3f2",
   "metadata": {},
   "outputs": [
    {
     "name": "stdout",
     "output_type": "stream",
     "text": [
      "4\n",
      "0 0 0 0\n",
      "0 0 0 0\n",
      "0 0 0 0\n",
      "0 0 0 0\n",
      "3\n"
     ]
    }
   ],
   "source": [
    "#dp\n",
    "n = int(input())\n",
    "graph = [[] for _ in range(n)]\n",
    "\n",
    "# 0은 가로, 1은 세로, 2는 대각선\n",
    "dp = [[[0] * 3 for _ in range(n)] for _ in range(n)]\n",
    "\n",
    "# 그래프 정보 입력\n",
    "for i in range(n):\n",
    "    graph[i] = list(map(int, input().split()))\n",
    "\n",
    "#가로 시작\n",
    "dp[0][1][0] = 1  # 첫 시작 위치\n",
    "\n",
    "# dp를 위해서는 윗 행을 사용해야하므로 첫 행을 먼저 초기화\n",
    "for i in range(2, n):\n",
    "    if graph[0][i] == 0:\n",
    "        #가로로 제일 윗행 이동\n",
    "        dp[0][i][0] = dp[0][i - 1][0]\n",
    "\n",
    "for r in range(1, n):\n",
    "    for c in range(1, n):\n",
    "        # 현재위치가 대각선인 경우\n",
    "        if graph[r][c] == 0 and graph[r][c - 1] == 0 and graph[r - 1][c] == 0:\n",
    "            #대각선인 경우 가로,세로,대각선에서 모두 가능하니\n",
    "            dp[r][c][2] = dp[r - 1][c - 1][0] + dp[r - 1][c - 1][1] + dp[r - 1][c - 1][2]\n",
    "        \n",
    "        \n",
    "        if graph[r][c] == 0:\n",
    "            # 현재 위치가 가로인 경우, 가로에서 가로, 대각선에서 가로 두 경우 가능\n",
    "            dp[r][c][0] = dp[r][c - 1][0] + dp[r][c - 1][0]\n",
    "            # 현재 위치가 세로인 경우, 세로에서 세로, 대각선에서 세로 두 경우 가능\n",
    "            dp[r][c][1] = dp[r - 1][c][1] + dp[r - 1][c][2]\n",
    "\n",
    "print(sum(dp[n - 1][n - 1][i] for i in range(3)))"
   ]
  },
  {
   "cell_type": "markdown",
   "id": "88cfef91",
   "metadata": {},
   "source": [
    "## dfs와 bfs\n",
    "https://www.acmicpc.net/problem/1260"
   ]
  },
  {
   "cell_type": "code",
   "execution_count": 9,
   "id": "99154d14",
   "metadata": {},
   "outputs": [
    {
     "name": "stdout",
     "output_type": "stream",
     "text": [
      "1000 1 1000\n",
      "999 1000\n",
      "1000 999 1000 999 "
     ]
    }
   ],
   "source": [
    "from collections import deque\n",
    "n,m,v=map(int,input().split())\n",
    "\n",
    "visited=[False]*(n+1)\n",
    "result_dfs=[]\n",
    "result_bfs=[]\n",
    "\n",
    "def dfs(start,visited):\n",
    "    visited[start]=True\n",
    "    result_dfs.append(start)\n",
    "    graph[start].sort()\n",
    "    for i in graph[start]:\n",
    "        if not visited[i]:\n",
    "            dfs(i,visited)\n",
    "\n",
    "def bfs(start,visited):\n",
    "    q=deque([start])\n",
    "    visited[start]=True\n",
    "    while q:\n",
    "        cur=q.popleft()\n",
    "        result_bfs.append(cur)\n",
    "        graph[cur].sort()\n",
    "        for i in graph[cur]:\n",
    "            if not visited[i]:\n",
    "                visited[i]=True\n",
    "                q.append(i)\n",
    "\n",
    "graph=[[] for _ in range(n+1)]\n",
    "for i in range(m):\n",
    "    a,b=map(int,input().split())\n",
    "    graph[a].append(b)\n",
    "    graph[b].append(a)\n",
    "\n",
    "visited=[False]*(n+1)\n",
    "dfs(v,visited)\n",
    "visited=[False]*(n+1)\n",
    "bfs(v,visited)\n",
    "for i in result_dfs:\n",
    "    print(i,end=' ')\n",
    "print()\n",
    "for i in result_bfs:\n",
    "    print(i,end=' ')"
   ]
  },
  {
   "cell_type": "markdown",
   "id": "5ab8fa4d",
   "metadata": {},
   "source": [
    "## 전투(dfs)\n",
    "https://www.acmicpc.net/problem/1303"
   ]
  },
  {
   "cell_type": "code",
   "execution_count": null,
   "id": "6f28a4bc",
   "metadata": {},
   "outputs": [],
   "source": [
    "n,m=map(int,input().split())\n",
    "\n",
    "dx=[1,-1,0,0]\n",
    "dy=[0,0,1,-1]\n",
    "visited=[[False]*n for _ in range(m)]\n",
    "def dfs(depth,cx,cy):\n",
    "    global result\n",
    "    for i in range(4):\n",
    "        nx,ny=cx+dx[i],cy+dy[i]\n",
    "        if 0<=nx<m and 0<=ny<n and not visited[nx][ny] and graph[cx][cy]==graph[nx][ny]:\n",
    "            visited[nx][ny]=True\n",
    "            dfs(depth+1,nx,ny)\n",
    "    result+=1\n",
    "    return\n",
    "\n",
    "graph=[]\n",
    "for i in range(m):\n",
    "    graph.append(list(map(str,input())))\n",
    "\n",
    "resultw=0\n",
    "resultb=0\n",
    "for i in range(m):\n",
    "    for j in range(n):\n",
    "        result=0\n",
    "        if not visited[i][j]:\n",
    "            visited[i][j]=True\n",
    "            dfs(1,i,j)\n",
    "            if graph[i][j]=='W':\n",
    "                resultw+=result**2\n",
    "            else:\n",
    "                resultb+=result**2\n",
    "print(resultw,resultb)"
   ]
  },
  {
   "cell_type": "code",
   "execution_count": 16,
   "id": "d2b46421",
   "metadata": {},
   "outputs": [
    {
     "name": "stdout",
     "output_type": "stream",
     "text": [
      "5 5\n",
      "WBWWW\n",
      "WWWWW\n",
      "BBBBB\n",
      "BBBWW\n",
      "WWWWW\n",
      "130 65\n"
     ]
    }
   ],
   "source": [
    "from collections import deque\n",
    "n,m=map(int,input().split())\n",
    "\n",
    "dx=[1,-1,0,0]\n",
    "dy=[0,0,1,-1]\n",
    "visited=[[False]*n for _ in range(m)]\n",
    "def bfs(cx,cy):\n",
    "    result=1\n",
    "    q=deque()\n",
    "    q.append([cx,cy])\n",
    "    while q:\n",
    "        x,y=q.popleft()\n",
    "        for i in range(4):\n",
    "            nx,ny=x+dx[i],y+dy[i]\n",
    "            if 0<=nx<m and 0<=ny<n and not visited[nx][ny] and graph[x][y]==graph[nx][ny]:\n",
    "                visited[nx][ny]=True\n",
    "                q.append([nx,ny])\n",
    "                result+=1\n",
    "    return result\n",
    "\n",
    "graph=[]\n",
    "for i in range(m):\n",
    "    graph.append(list(map(str,input())))\n",
    "\n",
    "resultw=0\n",
    "resultb=0\n",
    "for i in range(m):\n",
    "    for j in range(n):\n",
    "        if not visited[i][j]:\n",
    "            visited[i][j]=True\n",
    "            result=bfs(i,j)\n",
    "            if graph[i][j]=='W':\n",
    "                resultw+=result**2\n",
    "            else:\n",
    "                resultb+=result**2\n",
    "print(resultw,resultb)"
   ]
  },
  {
   "cell_type": "markdown",
   "id": "ea9f256b",
   "metadata": {},
   "source": [
    "## 미로 탐색(bfs)\n",
    "https://www.acmicpc.net/problem/2178"
   ]
  },
  {
   "cell_type": "code",
   "execution_count": 4,
   "id": "82fdaa08",
   "metadata": {},
   "outputs": [
    {
     "name": "stdout",
     "output_type": "stream",
     "text": [
      "4 6\n",
      "101111\n",
      "101010\n",
      "101011\n",
      "111011\n",
      "15\n"
     ]
    }
   ],
   "source": [
    "from collections import deque\n",
    "n,m=map(int,input().split())\n",
    "graph=[]\n",
    "for _ in range(n):\n",
    "    graph.append(list(map(int,input())))\n",
    "\n",
    "visited=[[0]*m for _ in range(n)]\n",
    "dx=[1,-1,0,0]\n",
    "dy=[0,0,1,-1]\n",
    "def bfs(cx,cy):\n",
    "    q=deque()\n",
    "    q.append([cx,cy])\n",
    "    visited[cx][cy]=1\n",
    "    while q:\n",
    "        x,y=q.popleft()\n",
    "        for i in range(4):\n",
    "            nx,ny=x+dx[i],y+dy[i]\n",
    "            if 0<=nx<n and 0<=ny<m and not visited[nx][ny] and graph[nx][ny]:\n",
    "                visited[nx][ny]=visited[x][y]+1\n",
    "                q.append([nx,ny])\n",
    "                \n",
    "bfs(0,0)\n",
    "print(visited[n-1][m-1])"
   ]
  },
  {
   "cell_type": "markdown",
   "id": "632d3cd7",
   "metadata": {},
   "source": [
    "## 퇴사(dp)\n",
    "https://www.acmicpc.net/problem/15486"
   ]
  },
  {
   "cell_type": "code",
   "execution_count": 12,
   "id": "6c3df90f",
   "metadata": {},
   "outputs": [
    {
     "name": "stdout",
     "output_type": "stream",
     "text": [
      "10\n",
      "5 50\n",
      "4 40\n",
      "3 30\n",
      "2 20\n",
      "1 10\n",
      "1 10\n",
      "2 20\n",
      "3 30\n",
      "4 40\n",
      "5 50\n",
      "[90, 80, 70, 60, 50, 40, 30, 30, 0, 0, 0]\n",
      "90\n"
     ]
    }
   ],
   "source": [
    "n=int(input())\n",
    "\n",
    "array=[]\n",
    "for i in range(n):\n",
    "    time,cost=map(int,input().split())\n",
    "    array.append([time,cost])\n",
    "\n",
    "dp=[0]*(n+1)\n",
    "max_val=0\n",
    "\n",
    "#거꾸로 확인\n",
    "for i in range(n-1,-1,-1):\n",
    "    #시간이 초과하지 않는지 확인\n",
    "    if i+array[i][0]<=n:\n",
    "        #그 때 시간위치에서 cost값 더한것과 더 비용이 큰 것을 선택\n",
    "        dp[i]=max(array[i][1]+dp[i+array[i][0]],max_val)\n",
    "        max_val=dp[i]\n",
    "    else:\n",
    "        dp[i]=max_val\n",
    "    \n",
    "print(max(dp))"
   ]
  },
  {
   "cell_type": "markdown",
   "id": "74ba0c91",
   "metadata": {},
   "source": [
    "## 음식물 피하기(bfs)\n",
    "https://www.acmicpc.net/problem/1743"
   ]
  },
  {
   "cell_type": "code",
   "execution_count": 2,
   "id": "63b5466a",
   "metadata": {},
   "outputs": [
    {
     "name": "stdout",
     "output_type": "stream",
     "text": [
      "3 4 5\n",
      "3 2\n",
      "2 2\n",
      "3 1\n",
      "2 3\n",
      "1 1\n",
      "4\n"
     ]
    }
   ],
   "source": [
    "from collections import deque\n",
    "n,m,k=map(int,input().split())\n",
    "graph=[[0]*(m+1) for _ in range(n+1)]\n",
    "trash=[]\n",
    "for i in range(k):\n",
    "    r,c=map(int,input().split())\n",
    "    graph[r][c]=1\n",
    "    trash.append([r,c])\n",
    "\n",
    "visited=[[0]*(m+1) for _ in range(n+1)]\n",
    "dx=[1,-1,0,0]\n",
    "dy=[0,0,1,-1]\n",
    "def bfs(cx,cy):\n",
    "    q=deque()\n",
    "    q.append([cx,cy])\n",
    "    visited[cx][cy]=1\n",
    "    cnt=0\n",
    "    while q:\n",
    "        x,y=q.popleft()\n",
    "        cnt+=1\n",
    "        for i in range(4):\n",
    "            nx,ny=x+dx[i],y+dy[i]\n",
    "            if 1<=nx<n+1 and 1<=ny<m+1 and not visited[nx][ny] and graph[nx][ny]==1:\n",
    "                visited[nx][ny]=1\n",
    "                q.append([nx,ny])\n",
    "    return cnt\n",
    "\n",
    "result=0\n",
    "for r,c in trash:\n",
    "    if not visited[r][c]:\n",
    "        result=max(result,bfs(r,c))\n",
    "print(result)"
   ]
  },
  {
   "cell_type": "markdown",
   "id": "2a215347",
   "metadata": {},
   "source": [
    "## 점프\n",
    "https://www.acmicpc.net/problem/1890"
   ]
  },
  {
   "cell_type": "code",
   "execution_count": 6,
   "id": "1d67cbad",
   "metadata": {},
   "outputs": [
    {
     "name": "stdout",
     "output_type": "stream",
     "text": [
      "4\n",
      "2 3 3 1\n",
      "1 2 1 3\n",
      "1 2 3 1\n",
      "3 1 1 0\n",
      "[[1, 0, 1, 0], [0, 0, 0, 0], [1, 1, 0, 1], [1, 0, 1, 3]]\n"
     ]
    }
   ],
   "source": [
    "#메모리 초과\n",
    "from collections import deque\n",
    "n=int(input())\n",
    "graph=[]\n",
    "for i in range(n):\n",
    "    graph.append(list(map(int,input().split())))\n",
    "    \n",
    "dp=[[0]*n for _ in range(n)]\n",
    "dp[0][0]=1\n",
    "dx=[1,0]\n",
    "dy=[0,1]\n",
    "def jump(cx,cy):\n",
    "    q=deque()\n",
    "    q.append([cx,cy])\n",
    "    while q:\n",
    "        x,y=q.popleft()\n",
    "        if graph[x][y]==0:\n",
    "            continue\n",
    "        j=graph[x][y]\n",
    "        for i in range(2):\n",
    "            nx,ny=x+dx[i]*j,y+dy[i]*j\n",
    "            if 0<=nx<n and 0<=ny<n:\n",
    "                dp[nx][ny]=dp[x][y]+dp[nx][ny]\n",
    "                q.append([nx,ny])\n",
    "                \n",
    "jump(0,0)\n",
    "print(dp[-1][-1])"
   ]
  },
  {
   "cell_type": "code",
   "execution_count": 8,
   "id": "e0e98197",
   "metadata": {},
   "outputs": [
    {
     "name": "stdout",
     "output_type": "stream",
     "text": [
      "4\n",
      "2 3 3 1\n",
      "1 2 1 3\n",
      "1 2 3 1\n",
      "3 1 1 0\n",
      "3\n"
     ]
    }
   ],
   "source": [
    "#메모리 초과 x\n",
    "from collections import deque\n",
    "n=int(input())\n",
    "graph=[]\n",
    "for i in range(n):\n",
    "    graph.append(list(map(int,input().split())))\n",
    "    \n",
    "dp=[[0]*n for _ in range(n)]\n",
    "dp[0][0]=1\n",
    "dx=[1,0]\n",
    "dy=[0,1]\n",
    "\n",
    "for x in range(n):\n",
    "    for y in range(n):\n",
    "        if x==n-1 and y==n-1:\n",
    "            break\n",
    "        if y+graph[x][y]<n:\n",
    "            dp[x][y+graph[x][y]]+=dp[x][y]\n",
    "        \n",
    "        if x+graph[x][y]<n:\n",
    "            dp[x+graph[x][y]][y]+=dp[x][y]\n",
    "        \n",
    "print(dp[-1][-1])"
   ]
  },
  {
   "cell_type": "markdown",
   "id": "4dd3a075",
   "metadata": {},
   "source": [
    "## A to B(DFS)\n",
    "https://www.acmicpc.net/problem/16953"
   ]
  },
  {
   "cell_type": "code",
   "execution_count": 9,
   "id": "effb91fc",
   "metadata": {},
   "outputs": [
    {
     "name": "stdout",
     "output_type": "stream",
     "text": [
      "100 40021\n",
      "5\n"
     ]
    }
   ],
   "source": [
    "a,b=map(int,input().split())\n",
    "\n",
    "def dfs(num,cnt):\n",
    "    global result\n",
    "    if num==b:\n",
    "        result=min(cnt,result)\n",
    "        return\n",
    "    if num>b:\n",
    "        #b보다 큰 경우는 탈출\n",
    "        return\n",
    "    if num<=b:\n",
    "        dfs(num*2,cnt+1)\n",
    "        dfs(num*10+1,cnt+1)\n",
    "result=int(1e9)\n",
    "dfs(a,1)\n",
    "print(result if result<int(1e9) else -1) "
   ]
  },
  {
   "cell_type": "markdown",
   "id": "437b6840",
   "metadata": {},
   "source": [
    "## 1,2,3 더하기 4(dp)\n",
    "https://www.acmicpc.net/problem/15989"
   ]
  },
  {
   "cell_type": "code",
   "execution_count": 14,
   "id": "8875189f",
   "metadata": {},
   "outputs": [
    {
     "name": "stdout",
     "output_type": "stream",
     "text": [
      "3\n",
      "4\n",
      "4\n",
      "7\n",
      "8\n",
      "10\n",
      "14\n"
     ]
    }
   ],
   "source": [
    "for _ in range(int(input())):\n",
    "    n=int(input())\n",
    "\n",
    "    dp=[0]*(n+1)\n",
    "\n",
    "    for a in range(1,4):\n",
    "        for i in range(a,n+1):\n",
    "            #그래프 그려서 확인\n",
    "            # dp[i]는 dp[i-k]+dp[i]로 이루어진다\n",
    "            dp[i]=max(dp[i]+1,dp[i-a]+dp[i])\n",
    "    print(dp[-1])"
   ]
  },
  {
   "cell_type": "markdown",
   "id": "9cc32f0a",
   "metadata": {},
   "source": [
    "## **숨박꼭질2(dfs)\n",
    "https://www.acmicpc.net/problem/12851"
   ]
  },
  {
   "cell_type": "code",
   "execution_count": 41,
   "id": "bc1f5dd0",
   "metadata": {},
   "outputs": [
    {
     "name": "stdout",
     "output_type": "stream",
     "text": [
      "5 17\n",
      "4\n",
      "2\n"
     ]
    }
   ],
   "source": [
    "from collections import deque\n",
    "\n",
    "INF=int(1e5)\n",
    "n,k=map(int,input().split())\n",
    "visited=[-1]*(INF+1)\n",
    "def bfs(x):\n",
    "    global result\n",
    "    q=deque()\n",
    "    q.append(x)\n",
    "    visited[x]=0\n",
    "    while q:\n",
    "        cx=q.popleft()\n",
    "        if cx==k:\n",
    "            result+=1\n",
    "        for nx in (cx-1,cx+1,2*cx):\n",
    "            if 0<=nx<=INF:\n",
    "                if visited[nx]==-1 or visited[nx]==visited[cx]+1:\n",
    "                    q.append(nx)\n",
    "                    visited[nx]=visited[cx]+1\n",
    "\n",
    "result=0\n",
    "bfs(n)\n",
    "print(visited[k])\n",
    "print(result)"
   ]
  },
  {
   "cell_type": "markdown",
   "id": "db9a783d",
   "metadata": {},
   "source": [
    "## 2진수 순열 작성"
   ]
  },
  {
   "cell_type": "code",
   "execution_count": 7,
   "id": "cfc34264",
   "metadata": {},
   "outputs": [
    {
     "name": "stdout",
     "output_type": "stream",
     "text": [
      "63\n",
      "[1, 1, 1, 0, 0, 1]\n",
      "[1, 1, 0, 1, 1, 0]\n",
      "[1, 1, 0, 0, 1, 1]\n",
      "[1, 1, 0, 0, 0, 0]\n",
      "[1, 0, 1, 1, 0, 1]\n",
      "[1, 0, 0, 0, 0, 1]\n"
     ]
    }
   ],
   "source": [
    "from itertools import product\n",
    "import copy\n",
    "k=6\n",
    "c=[1,0]\n",
    "b=[1,0]\n",
    "c_candidates=list(product(c,repeat=k))\n",
    "b_candidates=list(product(b,repeat=k))\n",
    "c_result=[]\n",
    "def check(c_arr,b_arr,origin_b,cnt):\n",
    "    global result\n",
    "    if b_arr[cnt:k+cnt]==origin_b and cnt!=0:\n",
    "        result=max(result,cnt)\n",
    "        c_result.append([cnt,c_arr])\n",
    "        return\n",
    "    tmp=0\n",
    "    for i in range(cnt,k+cnt):\n",
    "        tmp+=c_arr[i-cnt]*b_arr[i]\n",
    "    b_arr.append(tmp%2)\n",
    "    check(c_arr,b_arr,origin_b,cnt+1)\n",
    "\n",
    "result=0\n",
    "for b,c in zip(b_candidates,c_candidates):\n",
    "    #조건 추가\n",
    "    if sum(b)==k or c[0]!=1:\n",
    "        continue\n",
    "    check(list(c),list(b),copy.deepcopy(list(b)),0)\n",
    "\n",
    "print(result)\n",
    "for r,c_r in c_result:\n",
    "    if r==result:\n",
    "        print(c_r)"
   ]
  },
  {
   "cell_type": "markdown",
   "id": "06a36af1",
   "metadata": {},
   "source": [
    "## 기타리스트(dp)\n",
    "https://www.acmicpc.net/problem/1495"
   ]
  },
  {
   "cell_type": "code",
   "execution_count": 20,
   "id": "9c551577",
   "metadata": {},
   "outputs": [
    {
     "name": "stdout",
     "output_type": "stream",
     "text": [
      "3 5 10\n",
      "5 3 7\n",
      "10\n"
     ]
    }
   ],
   "source": [
    "n,s,m=map(int,input().split())\n",
    "v=list(map(int,input().split()))\n",
    "\n",
    "#2차원 표로 생각\n",
    "dp=[[0]*(m+1) for _ in range(n+1)]\n",
    "dp[0][s]=1\n",
    "\n",
    "for i in range(n):\n",
    "    for j in range(m+1):\n",
    "        if dp[i][j]==1:\n",
    "            if j+v[i]<=m:\n",
    "                dp[i+1][j+v[i]]=1\n",
    "            if j-v[i]>=0:\n",
    "                dp[i+1][j-v[i]]=1\n",
    "\n",
    "result=0\n",
    "tmp=dp[-1][::-1]\n",
    "if sum(tmp)==0:\n",
    "    result=-1\n",
    "else:\n",
    "    result=m-tmp.index(1)\n",
    "print(result)"
   ]
  },
  {
   "cell_type": "markdown",
   "id": "d5271cf6",
   "metadata": {},
   "source": [
    "## 숨박꼭질3\n",
    "https://www.acmicpc.net/problem/13549"
   ]
  },
  {
   "cell_type": "code",
   "execution_count": 36,
   "id": "dfed26b2",
   "metadata": {},
   "outputs": [
    {
     "name": "stdout",
     "output_type": "stream",
     "text": [
      "5 17\n",
      "2\n"
     ]
    }
   ],
   "source": [
    "from collections import deque\n",
    "n,k=map(int,input().split())\n",
    "INF=int(1e6)\n",
    "visited=[-1]*(INF+1)\n",
    "\n",
    "def bfs():\n",
    "    q=deque()\n",
    "    q.append(n)\n",
    "    visited[n]=0\n",
    "    while q:\n",
    "        x=q.popleft()\n",
    "        if x==k:\n",
    "            print(visited[x])\n",
    "            return\n",
    "        for nx in (x-1,x+1,2*x):\n",
    "            if 0<=nx<=INF:\n",
    "                if visited[nx]==-1:\n",
    "                    #2x가 더 먼저 수행되야 하기 때문\n",
    "                    if nx==2*x:\n",
    "                        visited[nx]=visited[x]\n",
    "                        q.appendleft(nx)\n",
    "                        continue\n",
    "                    q.append(nx)\n",
    "                    visited[nx]=visited[x]+1\n",
    "\n",
    "bfs()"
   ]
  },
  {
   "cell_type": "code",
   "execution_count": 1,
   "id": "1eb64493",
   "metadata": {},
   "outputs": [
    {
     "name": "stdout",
     "output_type": "stream",
     "text": [
      "flag\n"
     ]
    }
   ],
   "source": [
    "a=[[1,2,3,4]]\n",
    "if 1 in a[0]:\n",
    "    print('flag')"
   ]
  }
 ],
 "metadata": {
  "kernelspec": {
   "display_name": "Python 3 (ipykernel)",
   "language": "python",
   "name": "python3"
  },
  "language_info": {
   "codemirror_mode": {
    "name": "ipython",
    "version": 3
   },
   "file_extension": ".py",
   "mimetype": "text/x-python",
   "name": "python",
   "nbconvert_exporter": "python",
   "pygments_lexer": "ipython3",
   "version": "3.9.7"
  }
 },
 "nbformat": 4,
 "nbformat_minor": 5
}
