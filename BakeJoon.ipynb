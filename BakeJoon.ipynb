{
 "cells": [
  {
   "cell_type": "markdown",
   "id": "bfe99c49",
   "metadata": {},
   "source": [
    "# DFS/BFS"
   ]
  },
  {
   "cell_type": "markdown",
   "id": "ab0758b4",
   "metadata": {},
   "source": [
    "# 바이러스(2606번)"
   ]
  },
  {
   "cell_type": "code",
   "execution_count": 7,
   "id": "25c976bb",
   "metadata": {},
   "outputs": [
    {
     "name": "stdout",
     "output_type": "stream",
     "text": [
      "7\n",
      "6\n",
      "1 2\n",
      "2 3\n",
      "1 5\n",
      "5 2\n",
      "5 6\n",
      "4 7\n",
      "4\n"
     ]
    }
   ],
   "source": [
    "n=int(input())\n",
    "m=int(input())\n",
    "start=1\n",
    "graph=[[]for _ in range(n+1)]\n",
    "visited=[False]*(n+1)\n",
    "\n",
    "for i in range(m):\n",
    "    a,b=map(int,input().split())\n",
    "    graph[a].append(b)\n",
    "    graph[b].append(a)\n",
    "\n",
    "def dfs(graph,start,visited):\n",
    "    visited[start]=True\n",
    "    for i in graph[start]:\n",
    "        if not visited[i]:\n",
    "            dfs(graph,i,visited)\n",
    "\n",
    "dfs(graph,start,visited)\n",
    "\n",
    "count=sum(visited)-1\n",
    "print(count)"
   ]
  },
  {
   "cell_type": "markdown",
   "id": "9cc72c71",
   "metadata": {},
   "source": [
    "# 단지번호붙이기(2667번)"
   ]
  },
  {
   "cell_type": "code",
   "execution_count": 11,
   "id": "cac3b810",
   "metadata": {},
   "outputs": [
    {
     "name": "stdout",
     "output_type": "stream",
     "text": [
      "7\n",
      "0110100\n",
      "0110101\n",
      "1110101\n",
      "0000111\n",
      "0100000\n",
      "0111110\n",
      "0111000\n",
      "3\n",
      "7\n",
      "8\n",
      "9\n"
     ]
    }
   ],
   "source": [
    "n=int(input())\n",
    "graph=[]\n",
    "\n",
    "for i in range(n):\n",
    "    graph.append(list(map(int, input())))\n",
    "    \n",
    "\n",
    "dx=[0,0,1,-1]\n",
    "dy=[1,-1,0,0]\n",
    "\n",
    "def dfs(x,y):\n",
    "    if x<0 or x>=n or y<0 or y>=n:\n",
    "        return False\n",
    "    \n",
    "    if graph[x][y]==1:\n",
    "        global count\n",
    "        count+=1\n",
    "        graph[x][y]=0\n",
    "        for i in range(4):\n",
    "            nx=x+dx[i]\n",
    "            ny=y+dy[i]\n",
    "            dfs(nx,ny)\n",
    "        return True\n",
    "    return False\n",
    "\n",
    "num=[]\n",
    "result=0\n",
    "\n",
    "for i in range(n):\n",
    "    for j in range(n):\n",
    "        if dfs(i,j)==True:\n",
    "            num.append(count)\n",
    "            result+=1\n",
    "            count=0\n",
    "num.sort()\n",
    "print(result)\n",
    "for i in range(len(num)):\n",
    "    print(num[i])"
   ]
  },
  {
   "cell_type": "code",
   "execution_count": 12,
   "id": "8546d987",
   "metadata": {},
   "outputs": [
    {
     "name": "stdout",
     "output_type": "stream",
     "text": [
      "7\n",
      "0110100\n",
      "0110101\n",
      "1110101\n",
      "0000111\n",
      "0100000\n",
      "0111110\n",
      "0111000\n",
      "3\n",
      "7\n",
      "8\n",
      "9\n"
     ]
    }
   ],
   "source": [
    "from collections import deque\n",
    "n=int(input())\n",
    "graph=[]\n",
    "\n",
    "for i in range(n):\n",
    "    graph.append(list(map(int, input())))\n",
    "    \n",
    "\n",
    "dx=[0,0,1,-1]\n",
    "dy=[1,-1,0,0]\n",
    "\n",
    "def bfs(graph,a,b):\n",
    "    q=deque()\n",
    "    q.append((a,b))\n",
    "    graph[a][b]=0\n",
    "    count=1\n",
    "    \n",
    "    while q:\n",
    "        x,y=q.popleft()\n",
    "        for i in range(4):\n",
    "            nx=x+dx[i]\n",
    "            ny=y+dy[i]\n",
    "            if nx<0 or nx>=n or ny<0 or ny>=n:\n",
    "                continue\n",
    "            if graph[nx][ny]==1:\n",
    "                graph[nx][ny]=0\n",
    "                q.append((nx,ny))\n",
    "                count+=1\n",
    "    return count\n",
    "\n",
    "num=[]\n",
    "result=0\n",
    "\n",
    "for i in range(n):\n",
    "    for j in range(n):\n",
    "        if graph[i][j]==1:\n",
    "            num.append(bfs(graph,i,j))\n",
    "num.sort()\n",
    "print(len(num))\n",
    "for i in range(len(num)):\n",
    "    print(num[i])"
   ]
  },
  {
   "cell_type": "markdown",
   "id": "50386ebb",
   "metadata": {},
   "source": [
    "# 보물섬(2589번)"
   ]
  },
  {
   "cell_type": "code",
   "execution_count": 14,
   "id": "01982b63",
   "metadata": {
    "scrolled": true
   },
   "outputs": [
    {
     "name": "stdout",
     "output_type": "stream",
     "text": [
      "5 7\n",
      "WLLWWWL\n",
      "LLLWLLL\n",
      "LWLWLWW\n",
      "LWLWLLL\n",
      "WLLWLWW\n",
      "[['W', 0, 1, 'W', 'W', 'W', 'L'], [2, 1, 2, 'W', 'L', 'L', 'L'], [3, 'W', 3, 'W', 'L', 'W', 'W'], [4, 'W', 4, 'W', 'L', 'L', 'L'], ['W', 6, 5, 'W', 'L', 'W', 'W']]\n",
      "[['W', 1, 0, 'W', 'W', 'W', 'L'], [3, 2, 1, 'W', 'L', 'L', 'L'], [4, 'W', 2, 'W', 'L', 'W', 'W'], [5, 'W', 3, 'W', 'L', 'L', 'L'], ['W', 5, 4, 'W', 'L', 'W', 'W']]\n",
      "[['W', 1, 0, 'W', 'W', 'W', 0], [3, 2, 1, 'W', 3, 2, 1], [4, 'W', 2, 'W', 4, 'W', 'W'], [5, 'W', 3, 'W', 5, 6, 7], ['W', 5, 4, 'W', 6, 'W', 'W']]\n",
      "[['W', 2, 3, 'W', 'W', 'W', 0], [0, 1, 2, 'W', 3, 2, 1], [1, 'W', 3, 'W', 4, 'W', 'W'], [2, 'W', 4, 'W', 5, 6, 7], ['W', 6, 5, 'W', 6, 'W', 'W']]\n",
      "[['W', 1, 2, 'W', 'W', 'W', 0], [1, 0, 1, 'W', 3, 2, 1], [2, 'W', 2, 'W', 4, 'W', 'W'], [3, 'W', 3, 'W', 5, 6, 7], ['W', 5, 4, 'W', 6, 'W', 'W']]\n",
      "[['W', 2, 1, 'W', 'W', 'W', 0], [2, 1, 0, 'W', 3, 2, 1], [3, 'W', 1, 'W', 4, 'W', 'W'], [4, 'W', 2, 'W', 5, 6, 7], ['W', 4, 3, 'W', 6, 'W', 'W']]\n",
      "[['W', 2, 1, 'W', 'W', 'W', 3], [2, 1, 0, 'W', 0, 1, 2], [3, 'W', 1, 'W', 1, 'W', 'W'], [4, 'W', 2, 'W', 2, 3, 4], ['W', 4, 3, 'W', 3, 'W', 'W']]\n",
      "[['W', 2, 1, 'W', 'W', 'W', 2], [2, 1, 0, 'W', 1, 0, 1], [3, 'W', 1, 'W', 2, 'W', 'W'], [4, 'W', 2, 'W', 3, 4, 5], ['W', 4, 3, 'W', 4, 'W', 'W']]\n",
      "[['W', 2, 1, 'W', 'W', 'W', 1], [2, 1, 0, 'W', 2, 1, 0], [3, 'W', 1, 'W', 3, 'W', 'W'], [4, 'W', 2, 'W', 4, 5, 6], ['W', 4, 3, 'W', 5, 'W', 'W']]\n",
      "[['W', 3, 4, 'W', 'W', 'W', 1], [1, 2, 3, 'W', 2, 1, 0], [0, 'W', 4, 'W', 3, 'W', 'W'], [1, 'W', 5, 'W', 4, 5, 6], ['W', 7, 6, 'W', 5, 'W', 'W']]\n",
      "[['W', 3, 2, 'W', 'W', 'W', 1], [3, 2, 1, 'W', 2, 1, 0], [4, 'W', 0, 'W', 3, 'W', 'W'], [5, 'W', 1, 'W', 4, 5, 6], ['W', 3, 2, 'W', 5, 'W', 'W']]\n",
      "[['W', 3, 2, 'W', 'W', 'W', 4], [3, 2, 1, 'W', 1, 2, 3], [4, 'W', 0, 'W', 0, 'W', 'W'], [5, 'W', 1, 'W', 1, 2, 3], ['W', 3, 2, 'W', 2, 'W', 'W']]\n",
      "[['W', 4, 5, 'W', 'W', 'W', 4], [2, 3, 4, 'W', 1, 2, 3], [1, 'W', 5, 'W', 0, 'W', 'W'], [0, 'W', 6, 'W', 1, 2, 3], ['W', 8, 7, 'W', 2, 'W', 'W']]\n",
      "[['W', 4, 3, 'W', 'W', 'W', 4], [4, 3, 2, 'W', 1, 2, 3], [5, 'W', 1, 'W', 0, 'W', 'W'], [6, 'W', 0, 'W', 1, 2, 3], ['W', 2, 1, 'W', 2, 'W', 'W']]\n",
      "[['W', 4, 3, 'W', 'W', 'W', 5], [4, 3, 2, 'W', 2, 3, 4], [5, 'W', 1, 'W', 1, 'W', 'W'], [6, 'W', 0, 'W', 0, 1, 2], ['W', 2, 1, 'W', 1, 'W', 'W']]\n",
      "[['W', 4, 3, 'W', 'W', 'W', 6], [4, 3, 2, 'W', 3, 4, 5], [5, 'W', 1, 'W', 2, 'W', 'W'], [6, 'W', 0, 'W', 1, 0, 1], ['W', 2, 1, 'W', 2, 'W', 'W']]\n",
      "[['W', 4, 3, 'W', 'W', 'W', 7], [4, 3, 2, 'W', 4, 5, 6], [5, 'W', 1, 'W', 3, 'W', 'W'], [6, 'W', 0, 'W', 2, 1, 0], ['W', 2, 1, 'W', 3, 'W', 'W']]\n",
      "[['W', 6, 5, 'W', 'W', 'W', 7], [6, 5, 4, 'W', 4, 5, 6], [7, 'W', 3, 'W', 3, 'W', 'W'], [8, 'W', 2, 'W', 2, 1, 0], ['W', 0, 1, 'W', 3, 'W', 'W']]\n",
      "[['W', 5, 4, 'W', 'W', 'W', 7], [5, 4, 3, 'W', 4, 5, 6], [6, 'W', 2, 'W', 3, 'W', 'W'], [7, 'W', 1, 'W', 2, 1, 0], ['W', 1, 0, 'W', 3, 'W', 'W']]\n",
      "[['W', 5, 4, 'W', 'W', 'W', 6], [5, 4, 3, 'W', 3, 4, 5], [6, 'W', 2, 'W', 2, 'W', 'W'], [7, 'W', 1, 'W', 1, 2, 3], ['W', 1, 0, 'W', 0, 'W', 'W']]\n",
      "8\n"
     ]
    }
   ],
   "source": [
    "from collections import deque\n",
    "\n",
    "n,m=map(int,input().split())\n",
    "graph=[]\n",
    "\n",
    "dx=[1,-1,0,0]\n",
    "dy=[0,0,1,-1]\n",
    "\n",
    "for i in range(n):\n",
    "    graph.append(list(input().strip()))\n",
    "\n",
    "def bfs(graph,a,b):\n",
    "    q=deque()\n",
    "    q.append((a,b))\n",
    "    visited[a][b]=True\n",
    "    graph[a][b]=0\n",
    "    max_dis=0\n",
    "    while q:\n",
    "        x,y=q.popleft()\n",
    "        for i in range(4):\n",
    "            nx=x+dx[i]\n",
    "            ny=y+dy[i]\n",
    "            if 0<=nx<n and 0<=ny<m and visited[nx][ny]==False and graph[nx][ny]!='W':\n",
    "                visited[nx][ny]=True\n",
    "                graph[nx][ny]=graph[x][y]+1\n",
    "                q.append((nx,ny))\n",
    "                max_dis=max(max_dis,graph[nx][ny])\n",
    "    return max_dis\n",
    "\n",
    "result=0\n",
    "for i in range(n):\n",
    "    for j in range(m):\n",
    "        if graph[i][j] != \"W\":\n",
    "            \n",
    "            visited=[[False]*m for _ in range(n)]\n",
    "\n",
    "            result = max(result, bfs(graph,i, j))\n",
    "print(result)"
   ]
  },
  {
   "cell_type": "markdown",
   "id": "42f99be2",
   "metadata": {},
   "source": [
    "# 토마토(7576번)"
   ]
  },
  {
   "cell_type": "code",
   "execution_count": null,
   "id": "8c0c0c85",
   "metadata": {},
   "outputs": [],
   "source": [
    "from collections import deque\n",
    "\n",
    "n,m=map(int,input().split())\n",
    "\n",
    "graph=[]\n",
    "\n",
    "\n",
    "dx=[1,-1,0,0]\n",
    "dy=[0,0,1,-1]\n",
    "for i in range(m):\n",
    "    graph.append(list(map(int,input().split())))\n",
    "    \n",
    "def bfs(graph):\n",
    "    q=deque()\n",
    "    for i in range(m):\n",
    "        for j in range(n):\n",
    "            if graph[i][j]==1:\n",
    "                q.append((i,j))\n",
    "    time=0\n",
    "    while q:\n",
    "        x,y=q.popleft()\n",
    "        \n",
    "        for i in range(4):\n",
    "            nx=x+dx[i]\n",
    "            ny=y+dy[i]\n",
    "            if 0<=nx<m and 0<=ny<n and graph[nx][ny]==0:\n",
    "                graph[nx][ny]=graph[x][y]+1\n",
    "                visited[nx][ny]=True\n",
    "                q.append((nx,ny))\n",
    "\n",
    "bfs(graph)\n",
    "result=0\n",
    "fin=False\n",
    "for x in graph:\n",
    "    for y in x:\n",
    "        if y==0:\n",
    "            fin=True\n",
    "    result=max(result,max(x))\n",
    "\n",
    "if fin:\n",
    "    print(-1)\n",
    "else:\n",
    "    print(result-1)"
   ]
  },
  {
   "cell_type": "code",
   "execution_count": 4,
   "id": "dff77126",
   "metadata": {},
   "outputs": [
    {
     "name": "stdout",
     "output_type": "stream",
     "text": [
      "6 4\n",
      "0 0 0 0 0 0\n",
      "0 0 0 0 0 1\n",
      "0 0 0 0 0 1\n",
      "0 0 0 0 0 1\n",
      "[[7, 6, 5, 4, 3, 2], [6, 5, 4, 3, 2, 1], [6, 5, 4, 3, 2, 1], [6, 5, 4, 3, 2, 1]]\n",
      "6\n"
     ]
    }
   ],
   "source": [
    "from collections import deque\n",
    "\n",
    "m, n = map(int, input().split())\n",
    "matrix = [list(map(int, input().split())) for _ in range(n)]\n",
    "queue = deque([])\n",
    "dx, dy = [-1, 1, 0, 0], [0, 0, -1, 1]\n",
    "res = 0\n",
    "\n",
    "for i in range(n):\n",
    "    for j in range(m):\n",
    "        if matrix[i][j] == 1:\n",
    "            queue.append([i, j])\n",
    "\n",
    "def bfs():\n",
    "    while queue:\n",
    "        x, y = queue.popleft()\n",
    "        for i in range(4):\n",
    "            nx, ny = dx[i] + x, dy[i] + y\n",
    "            if 0 <= nx < n and 0 <= ny < m and matrix[nx][ny] == 0:\n",
    "                matrix[nx][ny] = matrix[x][y] + 1\n",
    "                queue.append([nx, ny])\n",
    "\n",
    "bfs()\n",
    "print(matrix)\n",
    "for i in matrix:\n",
    "    for j in i:\n",
    "        if j == 0:\n",
    "            print(-1)\n",
    "            exit(0)\n",
    "    res = max(res, max(i))\n",
    "print(res - 1)"
   ]
  },
  {
   "cell_type": "markdown",
   "id": "0aeea803",
   "metadata": {},
   "source": [
    "# ***** N-Queen(9663번) - 백트래킹"
   ]
  },
  {
   "cell_type": "code",
   "execution_count": 132,
   "id": "6224fc8d",
   "metadata": {},
   "outputs": [
    {
     "name": "stdout",
     "output_type": "stream",
     "text": [
      "5\n",
      "[[True, True, True, True, True], [True, True, False, False, False], [True, False, True, False, False], [True, False, False, True, False], [True, False, False, False, True]]\n",
      "[[True, True, True, True, True], [True, True, True, False, False], [True, True, True, True, True], [True, True, True, True, False], [True, True, False, True, True]]\n",
      "[[True, True, True, True, True], [True, True, True, False, False], [True, True, True, True, True], [True, True, True, True, False], [True, True, True, True, True]]\n",
      "[[True, True, True, True, True], [True, True, True, True, True], [True, True, True, True, True], [True, True, True, True, False], [True, True, True, True, True]]\n",
      "[[True, True, True, True, True], [True, True, True, True, True], [True, True, True, True, True], [True, True, True, True, True], [True, True, True, True, True]]\n",
      "1\n"
     ]
    }
   ],
   "source": [
    "from collections import deque\n",
    "n=int(input())\n",
    "\n",
    "graph=[[0]*n for _ in range(n)]\n",
    "\n",
    "dx=[1,-1,1,-1,1,-1,0,0]\n",
    "dy=[1,-1,-1,1,0,0,1,-1]\n",
    "\n",
    "def init(graph,a,b,visited):\n",
    "    visited[a][b]=True\n",
    "    for i in range(8):\n",
    "        nx=a+dx[i]\n",
    "        ny=b+dy[i]\n",
    "        while 0<=nx<n and 0<=ny<n:\n",
    "            visited[nx][ny]=True\n",
    "            nx+=dx[i]\n",
    "            ny+=dy[i]\n",
    "    \n",
    "def move(graph,a,b,visited,cnt):\n",
    "    global result\n",
    "    if visited[a][b]==False:\n",
    "        cnt+=1\n",
    "        init(graph,a,b,visited)\n",
    "        for i in range(n):\n",
    "            if 0<=b+1<n and visited[i][b+1]==False:\n",
    "                if i==3 and b+1==1:\n",
    "                    print(visited)\n",
    "                move(graph,i,b+1,visited,cnt)\n",
    "    \n",
    "    if cnt==n:\n",
    "#         print(a,b)\n",
    "        result+=1\n",
    "\n",
    "            \n",
    "cnt=0\n",
    "result=0\n",
    "visited=[[False]*n for _ in range(n)]\n",
    "# move(graph,0,0,visited,cnt)\n",
    "# for i in range(n):\n",
    "# #     for j in range(n):\n",
    "#     cnt=0\n",
    "#     visited=[[False]*n for _ in range(n)]\n",
    "move(graph,0,0,visited,cnt)\n",
    "\n",
    "print(result)\n"
   ]
  },
  {
   "cell_type": "code",
   "execution_count": 139,
   "id": "2d5d584d",
   "metadata": {},
   "outputs": [
    {
     "name": "stdout",
     "output_type": "stream",
     "text": [
      "8\n",
      "92\n"
     ]
    }
   ],
   "source": [
    "n=int(input())\n",
    "\n",
    "graph=[0]*n\n",
    "\n",
    "def check(x):\n",
    "    for i in range(x):\n",
    "        if graph[i]==graph[x] or abs(graph[i]-graph[x])==abs(i-x):\n",
    "            return False\n",
    "    return True\n",
    "\n",
    "def possible(x):\n",
    "    global result\n",
    "    if x==n:\n",
    "        result+=1\n",
    "        return\n",
    "    for i in range(n):\n",
    "        graph[x]=i\n",
    "        if check(x):\n",
    "            possible(x+1)\n",
    "result=0\n",
    "possible(0)\n",
    "print(result)"
   ]
  },
  {
   "cell_type": "markdown",
   "id": "503fc500",
   "metadata": {},
   "source": [
    "# 토마토(7569번)"
   ]
  },
  {
   "cell_type": "code",
   "execution_count": 11,
   "id": "f718fb92",
   "metadata": {},
   "outputs": [
    {
     "ename": "KeyboardInterrupt",
     "evalue": "Interrupted by user",
     "output_type": "error",
     "traceback": [
      "\u001b[1;31m---------------------------------------------------------------------------\u001b[0m",
      "\u001b[1;31mKeyboardInterrupt\u001b[0m                         Traceback (most recent call last)",
      "Input \u001b[1;32mIn [11]\u001b[0m, in \u001b[0;36m<cell line: 5>\u001b[1;34m()\u001b[0m\n\u001b[0;32m      2\u001b[0m \u001b[38;5;28;01mimport\u001b[39;00m \u001b[38;5;21;01msys\u001b[39;00m\n\u001b[0;32m      4\u001b[0m \u001b[38;5;66;03m#mXn행렬\u001b[39;00m\n\u001b[1;32m----> 5\u001b[0m n,m,h\u001b[38;5;241m=\u001b[39m\u001b[38;5;28mmap\u001b[39m(\u001b[38;5;28mint\u001b[39m,\u001b[38;5;28;43minput\u001b[39;49m\u001b[43m(\u001b[49m\u001b[43m)\u001b[49m\u001b[38;5;241m.\u001b[39msplit())\n\u001b[0;32m      6\u001b[0m graph\u001b[38;5;241m=\u001b[39m[[]\u001b[38;5;28;01mfor\u001b[39;00m _ \u001b[38;5;129;01min\u001b[39;00m \u001b[38;5;28mrange\u001b[39m(h)]\n\u001b[0;32m      8\u001b[0m q\u001b[38;5;241m=\u001b[39mdeque()\n",
      "File \u001b[1;32m~\\anaconda3\\envs\\rhs\\lib\\site-packages\\ipykernel\\kernelbase.py:1075\u001b[0m, in \u001b[0;36mKernel.raw_input\u001b[1;34m(self, prompt)\u001b[0m\n\u001b[0;32m   1071\u001b[0m \u001b[38;5;28;01mif\u001b[39;00m \u001b[38;5;129;01mnot\u001b[39;00m \u001b[38;5;28mself\u001b[39m\u001b[38;5;241m.\u001b[39m_allow_stdin:\n\u001b[0;32m   1072\u001b[0m     \u001b[38;5;28;01mraise\u001b[39;00m StdinNotImplementedError(\n\u001b[0;32m   1073\u001b[0m         \u001b[38;5;124m\"\u001b[39m\u001b[38;5;124mraw_input was called, but this frontend does not support input requests.\u001b[39m\u001b[38;5;124m\"\u001b[39m\n\u001b[0;32m   1074\u001b[0m     )\n\u001b[1;32m-> 1075\u001b[0m \u001b[38;5;28;01mreturn\u001b[39;00m \u001b[38;5;28;43mself\u001b[39;49m\u001b[38;5;241;43m.\u001b[39;49m\u001b[43m_input_request\u001b[49m\u001b[43m(\u001b[49m\n\u001b[0;32m   1076\u001b[0m \u001b[43m    \u001b[49m\u001b[38;5;28;43mstr\u001b[39;49m\u001b[43m(\u001b[49m\u001b[43mprompt\u001b[49m\u001b[43m)\u001b[49m\u001b[43m,\u001b[49m\n\u001b[0;32m   1077\u001b[0m \u001b[43m    \u001b[49m\u001b[38;5;28;43mself\u001b[39;49m\u001b[38;5;241;43m.\u001b[39;49m\u001b[43m_parent_ident\u001b[49m\u001b[43m[\u001b[49m\u001b[38;5;124;43m\"\u001b[39;49m\u001b[38;5;124;43mshell\u001b[39;49m\u001b[38;5;124;43m\"\u001b[39;49m\u001b[43m]\u001b[49m\u001b[43m,\u001b[49m\n\u001b[0;32m   1078\u001b[0m \u001b[43m    \u001b[49m\u001b[38;5;28;43mself\u001b[39;49m\u001b[38;5;241;43m.\u001b[39;49m\u001b[43mget_parent\u001b[49m\u001b[43m(\u001b[49m\u001b[38;5;124;43m\"\u001b[39;49m\u001b[38;5;124;43mshell\u001b[39;49m\u001b[38;5;124;43m\"\u001b[39;49m\u001b[43m)\u001b[49m\u001b[43m,\u001b[49m\n\u001b[0;32m   1079\u001b[0m \u001b[43m    \u001b[49m\u001b[43mpassword\u001b[49m\u001b[38;5;241;43m=\u001b[39;49m\u001b[38;5;28;43;01mFalse\u001b[39;49;00m\u001b[43m,\u001b[49m\n\u001b[0;32m   1080\u001b[0m \u001b[43m\u001b[49m\u001b[43m)\u001b[49m\n",
      "File \u001b[1;32m~\\anaconda3\\envs\\rhs\\lib\\site-packages\\ipykernel\\kernelbase.py:1120\u001b[0m, in \u001b[0;36mKernel._input_request\u001b[1;34m(self, prompt, ident, parent, password)\u001b[0m\n\u001b[0;32m   1117\u001b[0m             \u001b[38;5;28;01mbreak\u001b[39;00m\n\u001b[0;32m   1118\u001b[0m \u001b[38;5;28;01mexcept\u001b[39;00m \u001b[38;5;167;01mKeyboardInterrupt\u001b[39;00m:\n\u001b[0;32m   1119\u001b[0m     \u001b[38;5;66;03m# re-raise KeyboardInterrupt, to truncate traceback\u001b[39;00m\n\u001b[1;32m-> 1120\u001b[0m     \u001b[38;5;28;01mraise\u001b[39;00m \u001b[38;5;167;01mKeyboardInterrupt\u001b[39;00m(\u001b[38;5;124m\"\u001b[39m\u001b[38;5;124mInterrupted by user\u001b[39m\u001b[38;5;124m\"\u001b[39m) \u001b[38;5;28;01mfrom\u001b[39;00m \u001b[38;5;28mNone\u001b[39m\n\u001b[0;32m   1121\u001b[0m \u001b[38;5;28;01mexcept\u001b[39;00m \u001b[38;5;167;01mException\u001b[39;00m:\n\u001b[0;32m   1122\u001b[0m     \u001b[38;5;28mself\u001b[39m\u001b[38;5;241m.\u001b[39mlog\u001b[38;5;241m.\u001b[39mwarning(\u001b[38;5;124m\"\u001b[39m\u001b[38;5;124mInvalid Message:\u001b[39m\u001b[38;5;124m\"\u001b[39m, exc_info\u001b[38;5;241m=\u001b[39m\u001b[38;5;28;01mTrue\u001b[39;00m)\n",
      "\u001b[1;31mKeyboardInterrupt\u001b[0m: Interrupted by user"
     ]
    }
   ],
   "source": [
    "from collections import deque\n",
    "import sys\n",
    "\n",
    "#mXn행렬\n",
    "n,m,h=map(int,input().split())\n",
    "graph=[[]for _ in range(h)]\n",
    "\n",
    "q=deque()\n",
    "time=0\n",
    "tomato_exist=True\n",
    "\n",
    "\n",
    "for i in range(h):\n",
    "    for j in range(m):\n",
    "        graph[i].append(list(map(int,input().split())))\n",
    "        \n",
    "dx=[1,-1,0,0,0,0]\n",
    "dy=[0,0,1,-1,0,0]\n",
    "dz=[0,0,0,0,1,-1]\n",
    "\n",
    "for c in range(h):\n",
    "    for b in range(m):\n",
    "        for a in range(n):            \n",
    "            if graph[c][b][a]==1:\n",
    "                q.append((c,b,a))\n",
    "            if graph[c][b][a]==0:\n",
    "                tomato_exist=False\n",
    "\n",
    "\n",
    "\n",
    "\n",
    "def bfs():\n",
    "    while q:\n",
    "        z,x,y=q.popleft()\n",
    "        for i in range(6):\n",
    "            nx=x+dx[i]\n",
    "            ny=y+dy[i]\n",
    "            nz=z+dz[i]\n",
    "            if 0<=nx<m and 0<=ny<n and 0<=nz<h and graph[nz][nx][ny]==0:\n",
    "                graph[nz][nx][ny]=graph[z][x][y]+1\n",
    "                q.append((nz,nx,ny))\n",
    "\n",
    "bfs()\n",
    "escape=False\n",
    "for z in graph:\n",
    "    if escape:\n",
    "        break\n",
    "    for x in z:\n",
    "        if escape:\n",
    "            break\n",
    "        for y in x:                \n",
    "            if y==-1:\n",
    "                escape=True\n",
    "                break\n",
    "        time=max(time,max(x))\n",
    "if tomato_exist:\n",
    "    print(0)\n",
    "elif escape:\n",
    "    print(-1)\n",
    "else:\n",
    "    print(time-1)"
   ]
  },
  {
   "cell_type": "markdown",
   "id": "132b25d7",
   "metadata": {},
   "source": [
    "# 탈출(3055번)"
   ]
  },
  {
   "cell_type": "code",
   "execution_count": 27,
   "id": "2d854931",
   "metadata": {},
   "outputs": [
    {
     "name": "stdout",
     "output_type": "stream",
     "text": [
      "3 3\n",
      "D.*\n",
      "...\n",
      ".S.\n",
      "deque([(2, 1), (0, 2)])\n",
      "3\n"
     ]
    }
   ],
   "source": [
    "from collections import deque\n",
    "n,m=map(int,input().split())\n",
    "\n",
    "graph=[]\n",
    "distance=[[0]*m for _ in range(n)]\n",
    "\n",
    "\n",
    "q=deque()\n",
    "bx,by=0,0\n",
    "\n",
    "for _ in range(n):\n",
    "    graph.append(list(input().rstrip()))\n",
    "    \n",
    "for i in range(n):\n",
    "    for j in range(m):\n",
    "        if graph[i][j]=='S':\n",
    "            q.append((i,j))\n",
    "        if graph[i][j]=='D':\n",
    "            bx,by=i,j\n",
    "\n",
    "# 다람쥐 먼저 움직여야 하기 때문\n",
    "for i in range(n):\n",
    "    for j in range(m):\n",
    "        if graph[i][j]=='*':\n",
    "            q.append((i,j))\n",
    "            \n",
    "\n",
    "            \n",
    "dx=[1,-1,0,0]\n",
    "dy=[0,0,1,-1]\n",
    "\n",
    "def bfs(a,b):\n",
    "    while q:\n",
    "        x,y=q.popleft()\n",
    "        if graph[a][b]=='S':\n",
    "            return distance[a][b]\n",
    "        for i in range(4):\n",
    "            nx=x+dx[i]\n",
    "            ny=y+dy[i]\n",
    "            if 0<=nx<n and 0<=ny<m:\n",
    "                if (graph[nx][ny]=='.' or graph[nx][ny]=='D') and graph[x][y]=='S':\n",
    "                    graph[nx][ny]='S'\n",
    "                    distance[nx][ny]=distance[x][y]+1\n",
    "                    q.append((nx,ny))\n",
    "                elif (graph[nx][ny]=='.' or graph[nx][ny]=='S') and graph[x][y]=='*':\n",
    "                    graph[nx][ny]='*'\n",
    "                    q.append((nx,ny))\n",
    "    return \"KAKTUS\"\n",
    "\n",
    "\n",
    "print(bfs(bx,by))"
   ]
  },
  {
   "cell_type": "markdown",
   "id": "c6945903",
   "metadata": {},
   "source": [
    "# 거울설치(2151번)\n",
    "https://www.acmicpc.net/problem/2151"
   ]
  },
  {
   "cell_type": "code",
   "execution_count": 45,
   "id": "e168d4fc",
   "metadata": {},
   "outputs": [
    {
     "name": "stdout",
     "output_type": "stream",
     "text": [
      "5\n",
      "***#*\n",
      "*...*\n",
      "*.!!*\n",
      "*...*\n",
      "**#**\n",
      "0\n"
     ]
    }
   ],
   "source": [
    "from collections import deque\n",
    "\n",
    "n=int(input())\n",
    "graph=[]\n",
    "distance=[[0]*n for _ in range(n)]\n",
    "visited=[[False]*n for _ in range(n)]\n",
    "for _ in range(n):\n",
    "    graph.append(list(input().rstrip()))\n",
    "\n",
    "q=deque()\n",
    "for x in range(n):\n",
    "    for y in range(n):\n",
    "        if graph[x][y]=='#':\n",
    "            q.append((x,y))\n",
    "            \n",
    "target_x,target_y=q.popleft()            \n",
    "\n",
    "dx=[1,-1,0,0]\n",
    "dy=[0,0,1,-1]\n",
    "ddx=[1,-1,1,-1]\n",
    "ddy=[-1,1,1,-1]\n",
    "\n",
    "\n",
    "def bfs(a,b):\n",
    "    while q:\n",
    "        x,y=q.popleft()\n",
    "        visited[x][y]=True\n",
    "        for i in range(4):\n",
    "            if graph[x][y]=='!':\n",
    "                nx=x+ddx[i]\n",
    "                ny=y+ddy[i]\n",
    "            else:\n",
    "                nx=x+dx[i]\n",
    "                ny=y+dy[i]\n",
    "            if 0<=nx<n and 0<=ny<n:\n",
    "                if graph[nx][ny]=='.' and visited[nx][ny]==False:\n",
    "                    q.append((nx,ny))\n",
    "                elif graph[nx][ny]=='!' and visited[nx][ny]==False:\n",
    "                    distance[nx][ny]=distance[x][y]+1\n",
    "                    q.append((nx,ny))\n",
    "                if graph[nx][ny]=='#' and visited[nx][ny]==False:\n",
    "                    distance[nx][ny]=distance[x][y]+1\n",
    "                    return distance[nx][ny]-1\n",
    "    return False\n",
    "                    \n",
    "print(bfs(target_x,target_y))"
   ]
  },
  {
   "cell_type": "code",
   "execution_count": null,
   "id": "1a38d22e",
   "metadata": {},
   "outputs": [],
   "source": [
    "import collections\n",
    "\n",
    "n=int(input())\n",
    "arr=[]\n",
    "\n",
    "for _ in range(n):\n",
    "    arr.append(list(input().rstrip()))\n",
    "\n",
    "# dx, dy : 방향배열(북, 남, 동, 서)\n",
    "dx = [-1,1,0,0]\n",
    "dy = [0,0,1,-1]\n",
    "\n",
    "\n",
    "\n",
    "# open_x, open_y : 시작하는 문의 (x, y)좌표\n",
    "open_x, open_y = -1, -1\n",
    "# close_x, close_y : 끝나는 문의 (x, y)좌표\n",
    "close_x, close_y = -1, -1\n",
    "\n",
    "for i in range(n):\n",
    "    for j in range(n):\n",
    "        if arr[i][j] == '#':\n",
    "            if open_x == -1 and open_y == -1:\n",
    "                open_x, open_y = i, j\n",
    "            else:\n",
    "                close_x, close_y = i, j\n",
    "\n",
    "# check : 현재 i행 j열이고 dir방향으로 들어올 때 필요한 최소 거울의 갯수\n",
    "check = [[[-1] * 4 for _ in range(n)] for _ in range(n)]\n",
    "q = collections.deque()\n",
    "\n",
    "# 시작 지점에서 시작 방향 설정\n",
    "for a in range(4):\n",
    "    q.append((open_x, open_y, a))\n",
    "    check[open_x][open_y][a] = 0\n",
    "    \n",
    "while q:\n",
    "    x, y, dir = q.popleft()\n",
    "    # 현재 지점이 닫는 문이면 정답 출력 후 바로 종료\n",
    "    if x == close_x and y == close_y:\n",
    "        print(check[x][y][dir])\n",
    "        break\n",
    "    nx, ny = x + dx[dir], y + dy[dir]\n",
    "    # 범위에 만족하는 경우\n",
    "    if 0 <= nx < n and 0 <= ny < n:\n",
    "    \n",
    "        # 벽이 아닌 경우\n",
    "        if arr[nx][ny] != '*':\n",
    "        \n",
    "            # 처음 방문하는 곳이거나 이전에 방문했던 점보다 더 적은 횟수로 갈 수 있다면\n",
    "            # 상태공간 갱신 및 큐의 앞부분에 삽입 \n",
    "            # 거울을 놓을 수 있어도 놓지 않는 경우거나 아예 거울을 놓을 수 없는 공간 두 가지 모두 고려가능\n",
    "            if check[nx][ny][dir] == -1  or check[nx][ny][dir] > check[x][y][dir]:\n",
    "                check[nx][ny][dir] = check[x][y][dir]\n",
    "                q.appendleft((nx, ny, dir))\n",
    "                \n",
    "            # 거울을 놓는 경우\n",
    "            if arr[nx][ny] == '!':\n",
    "                # 방향이 북이거나 남이면 동,서로 반사\n",
    "                # 이 때 거울을 설치하기 때문에 큐의 뒷부분에 삽입\n",
    "                if dir < 2:\n",
    "                    for n_dir in range(2, 4):\n",
    "                        if check[nx][ny][n_dir] == -1 or check[nx][ny][n_dir] > check[x][y][dir] + 1:\n",
    "                            check[nx][ny][n_dir] = check[x][y][dir] + 1\n",
    "                            q.append((nx, ny, n_dir))\n",
    "                            \n",
    "                # 방향이 동이거나 서라면 남,북으로 반사\n",
    "                # 이 때 거울을 설치하기 때문에 큐의 뒷부분에 삽입\n",
    "                else:\n",
    "                    for n_dir in range(2):\n",
    "                        if check[nx][ny][n_dir] == -1 or check[nx][ny][n_dir] > check[x][y][dir] + 1:\n",
    "                            check[nx][ny][n_dir] = check[x][y][dir] + 1\n",
    "                            q.append((nx, ny, n_dir))"
   ]
  },
  {
   "cell_type": "markdown",
   "id": "5c7a5450",
   "metadata": {},
   "source": [
    "# 그리디"
   ]
  },
  {
   "cell_type": "markdown",
   "id": "f2f3f896",
   "metadata": {},
   "source": [
    "## 강의실 배정(11000번)\n",
    "https://www.acmicpc.net/problem/11000"
   ]
  },
  {
   "cell_type": "code",
   "execution_count": 42,
   "id": "b90f2086",
   "metadata": {},
   "outputs": [
    {
     "name": "stdout",
     "output_type": "stream",
     "text": [
      "3\n",
      "1 3\n",
      "2 4\n",
      "3 5\n",
      "2\n"
     ]
    }
   ],
   "source": [
    "import heapq\n",
    "n=int(input())\n",
    "lst=[]\n",
    "\n",
    "for i in range(n):\n",
    "    a,b=map(int,input().split())\n",
    "    lst.append((a,b))\n",
    "    \n",
    "lst.sort()\n",
    "start=lst[0][1]\n",
    "\n",
    "room=[]\n",
    "heapq.heappush(room,start)\n",
    "\n",
    "for i in range(1,n):\n",
    "    if lst[i][0] < room[0]:\n",
    "        heapq.heappush(room,lst[i][1])\n",
    "    else:\n",
    "        heapq.heappop(room)\n",
    "        heapq.heappush(room,lst[i][1])\n",
    "print(len(room))"
   ]
  },
  {
   "cell_type": "markdown",
   "id": "1d4b8990",
   "metadata": {},
   "source": [
    "# 백트래킹"
   ]
  },
  {
   "cell_type": "markdown",
   "id": "f99843c4",
   "metadata": {},
   "source": [
    "## N과M 1(15649)\n",
    "https://www.acmicpc.net/problem/15649"
   ]
  },
  {
   "cell_type": "code",
   "execution_count": 5,
   "id": "f73922cc",
   "metadata": {},
   "outputs": [
    {
     "name": "stdout",
     "output_type": "stream",
     "text": [
      "4 2\n",
      "1 2\n",
      "1 3\n",
      "1 4\n",
      "2 1\n",
      "2 3\n",
      "2 4\n",
      "3 1\n",
      "3 2\n",
      "3 4\n",
      "4 1\n",
      "4 2\n",
      "4 3\n"
     ]
    }
   ],
   "source": [
    "s=[]\n",
    "def dfs():\n",
    "    if len(s)==m:\n",
    "        print(' '.join(map(str,s)))\n",
    "        return\n",
    "    \n",
    "    for i in range(1,n+1):\n",
    "        if i not in s:\n",
    "            s.append(i)\n",
    "            dfs()\n",
    "            s.pop()\n",
    "\n",
    "n,m=map(int,inputt().split())\n",
    "dfs()"
   ]
  },
  {
   "cell_type": "markdown",
   "id": "21a3f49c",
   "metadata": {},
   "source": [
    "## N과M 2(15650)\n",
    "https://www.acmicpc.net/problem/15650"
   ]
  },
  {
   "cell_type": "code",
   "execution_count": 19,
   "id": "67c9c75c",
   "metadata": {},
   "outputs": [
    {
     "name": "stdout",
     "output_type": "stream",
     "text": [
      "4 2\n",
      "1 2\n",
      "1 3\n",
      "1 4\n",
      "2 3\n",
      "2 4\n",
      "3 4\n"
     ]
    }
   ],
   "source": [
    "n,m=map(int,input().split())\n",
    "array=[]\n",
    "visited=[False]*(n+1)\n",
    "\n",
    "def dfs(n,m,cnt,start):\n",
    "    if cnt==m:\n",
    "        print(' '.join(map(str,array)))\n",
    "        return\n",
    "    for i in range(start,n+1):\n",
    "        if not visited[i]:\n",
    "            for j in array:\n",
    "                if i<=j:\n",
    "                    return\n",
    "            visited[i]=True\n",
    "            array.append(i)\n",
    "            dfs(n,m,cnt+1,i+1)\n",
    "            visited[i]=False\n",
    "            array.pop()\n",
    "dfs(n,m,0,1)"
   ]
  },
  {
   "cell_type": "markdown",
   "id": "02b71fcf",
   "metadata": {},
   "source": [
    "## N과M 3(15651)\n",
    "https://www.acmicpc.net/problem/15651"
   ]
  },
  {
   "cell_type": "code",
   "execution_count": 20,
   "id": "e274f789",
   "metadata": {},
   "outputs": [
    {
     "name": "stdout",
     "output_type": "stream",
     "text": [
      "4 2\n",
      "1 1\n",
      "1 2\n",
      "1 3\n",
      "1 4\n",
      "2 1\n",
      "2 2\n",
      "2 3\n",
      "2 4\n",
      "3 1\n",
      "3 2\n",
      "3 3\n",
      "3 4\n",
      "4 1\n",
      "4 2\n",
      "4 3\n",
      "4 4\n"
     ]
    }
   ],
   "source": [
    "n,m=map(int,input().split())\n",
    "array=[]\n",
    "\n",
    "def dfs(cnt):\n",
    "    if cnt==m:\n",
    "        print(' '.join(map(str,array)))\n",
    "        return\n",
    "    for i in range(1,n+1):\n",
    "        array.append(i)\n",
    "        dfs(cnt+1)\n",
    "        array.pop()\n",
    "dfs(0)"
   ]
  },
  {
   "cell_type": "markdown",
   "id": "38d84f9e",
   "metadata": {},
   "source": [
    "## N과M 4(15652)\n",
    "https://www.acmicpc.net/problem/15652"
   ]
  },
  {
   "cell_type": "code",
   "execution_count": 36,
   "id": "6720b1d1",
   "metadata": {},
   "outputs": [
    {
     "name": "stdout",
     "output_type": "stream",
     "text": [
      "4 2\n",
      "1 1\n",
      "1 2\n",
      "1 3\n",
      "1 4\n",
      "2 2\n",
      "2 3\n",
      "2 4\n",
      "3 3\n",
      "3 4\n",
      "4 4\n"
     ]
    }
   ],
   "source": [
    "n,m=map(int,input().split())\n",
    "array=[]\n",
    "\n",
    "def dfs(cnt,start):\n",
    "    if cnt==m:\n",
    "        print(' '.join(map(str,array)))\n",
    "        return\n",
    "    for i in range(start,n+1):\n",
    "        array.append(i)\n",
    "        dfs(cnt+1,i)\n",
    "        array.pop()\n",
    "        \n",
    "dfs(0,1)"
   ]
  },
  {
   "cell_type": "markdown",
   "id": "dd9c03fe",
   "metadata": {},
   "source": [
    "## N-Queens(9663)\n",
    "https://www.acmicpc.net/problem/9663"
   ]
  },
  {
   "cell_type": "code",
   "execution_count": 43,
   "id": "6ba098d8",
   "metadata": {},
   "outputs": [
    {
     "name": "stdout",
     "output_type": "stream",
     "text": [
      "5\n",
      "10\n"
     ]
    }
   ],
   "source": [
    "n=int(input())\n",
    "\n",
    "graph=[0]*n\n",
    "\n",
    "def check(x):\n",
    "    for i in range(x):\n",
    "        # 같은 행과 대각선은 불가\n",
    "        if graph[i]==graph[x] or abs(graph[i]-graph[x])==abs(i-x):\n",
    "            return False\n",
    "    return True\n",
    "\n",
    "def dfs(x):\n",
    "    global result\n",
    "    # 다 채웠을 경우\n",
    "    if x==n:\n",
    "        result+=1\n",
    "        return\n",
    "    for i in range(n):\n",
    "        # 1개씩 두고난 다음 그 위치가 가능한지 확인\n",
    "        graph[x]=i\n",
    "        if check(x):\n",
    "            #가능하다면 다음 것을 둘 것\n",
    "            dfs(x+1)\n",
    "            \n",
    "result=0\n",
    "dfs(0)\n",
    "print(result)"
   ]
  },
  {
   "cell_type": "markdown",
   "id": "78cb7dd2",
   "metadata": {},
   "source": [
    "## 스도쿠(2580)\n",
    "https://www.acmicpc.net/problem/2580"
   ]
  },
  {
   "cell_type": "code",
   "execution_count": 52,
   "id": "f3b7b4e5",
   "metadata": {},
   "outputs": [
    {
     "name": "stdout",
     "output_type": "stream",
     "text": [
      "0 3 5 4 6 9 2 7 8\n",
      "0 3 5 4 6 9 2 7 8\n",
      "0 3 5 4 6 9 2 7 8\n",
      "0 3 5 4 6 9 2 7 8\n",
      "0 3 5 4 6 9 2 7 8\n",
      "0 3 5 4 6 9 2 7 8\n",
      "0 3 5 4 6 9 2 7 8\n",
      "0 3 5 4 6 9 2 7 8\n",
      "0 3 5 4 6 9 2 7 8\n"
     ]
    }
   ],
   "source": [
    "n=9\n",
    "graph=[]\n",
    "for i in range(n):\n",
    "    data=list(map(int,input().split()))\n",
    "    graph.append(data)\n",
    "\n",
    "zeros=[]\n",
    "for i in range(n):\n",
    "    for j in range(n):\n",
    "        if graph[i][j]==0:\n",
    "            zeros.append([i,j])\n",
    "            \n",
    "\n",
    "def check(a,b):\n",
    "    tmp=[1,2,3,4,5,6,7,8,9]\n",
    "    # 행과 열 검사\n",
    "    for i in range(n):\n",
    "        if graph[i][b] in tmp:\n",
    "            tmp.remove(graph[i][b])\n",
    "        if graph[a][i] in tmp:\n",
    "            tmp.remove(graph[a][i])\n",
    "    \n",
    "    # 3X3행렬 검사\n",
    "    x=a//3\n",
    "    y=b//3\n",
    "    for i in range(x*3,(x+1)*3):\n",
    "        for j in range(y*3,(y+1)*3):\n",
    "            if graph[i][j] in tmp:\n",
    "                tmp.remove(graph[i][j])\n",
    "    return tmp\n",
    "\n",
    "flag=False\n",
    "def dfs(x):\n",
    "    global flag\n",
    "    \n",
    "    if flag:\n",
    "        return\n",
    "    \n",
    "    #모든 0인 것을 다 채웠을 때\n",
    "    if x==len(zeros):\n",
    "        for i in graph:\n",
    "            print(*i)\n",
    "        flag=True\n",
    "        return\n",
    "    else:\n",
    "        a,b=zeros[x]\n",
    "        tmp=check(a,b)\n",
    "\n",
    "        for num in tmp:\n",
    "            #한번 넣어주기\n",
    "            graph[a][b]=num\n",
    "            dfs(x+1)\n",
    "            #아니기 때문에 다시 빼주기\n",
    "            graph[a][b]=0\n",
    "        \n",
    "dfs(0)"
   ]
  },
  {
   "cell_type": "markdown",
   "id": "ae8ed533",
   "metadata": {},
   "source": [
    "## 로또(6603)\n",
    "https://www.acmicpc.net/problem/6603"
   ]
  },
  {
   "cell_type": "code",
   "execution_count": 66,
   "id": "3074ca62",
   "metadata": {},
   "outputs": [
    {
     "name": "stdout",
     "output_type": "stream",
     "text": [
      "7 1 2 3 4 5 6 7\n",
      "1 2 3 4 5 6\n",
      "1 2 3 4 5 7\n",
      "1 2 3 4 6 7\n",
      "1 2 3 5 6 7\n",
      "1 2 4 5 6 7\n",
      "1 3 4 5 6 7\n",
      "2 3 4 5 6 7\n",
      "8 1 2 3 5 8 13 21 34\n",
      "1 2 3 5 8 13\n",
      "1 2 3 5 8 21\n",
      "1 2 3 5 8 34\n",
      "1 2 3 5 13 21\n",
      "1 2 3 5 13 34\n",
      "1 2 3 5 21 34\n",
      "1 2 3 8 13 21\n",
      "1 2 3 8 13 34\n",
      "1 2 3 8 21 34\n",
      "1 2 3 13 21 34\n",
      "1 2 5 8 13 21\n",
      "1 2 5 8 13 34\n",
      "1 2 5 8 21 34\n",
      "1 2 5 13 21 34\n",
      "1 2 8 13 21 34\n",
      "1 3 5 8 13 21\n",
      "1 3 5 8 13 34\n",
      "1 3 5 8 21 34\n",
      "1 3 5 13 21 34\n",
      "1 3 8 13 21 34\n",
      "1 5 8 13 21 34\n",
      "2 3 5 8 13 21\n",
      "2 3 5 8 13 34\n",
      "2 3 5 8 21 34\n",
      "2 3 5 13 21 34\n",
      "2 3 8 13 21 34\n",
      "2 5 8 13 21 34\n",
      "3 5 8 13 21 34\n",
      "0\n"
     ]
    }
   ],
   "source": [
    "\n",
    "\n",
    "def dfs(x):\n",
    "    if len(s)==6:\n",
    "        print(' '.join(map(str,s)))\n",
    "        return\n",
    "    \n",
    "    for i in range(x,len(data)):\n",
    "        \n",
    "        if not visited[i]:\n",
    "            #하나씩 방문\n",
    "            visited[i]=True\n",
    "            s.append(data[i])\n",
    "            # 이전값보다 큰값만 들어오게\n",
    "            dfs(i)\n",
    "            # 탈출\n",
    "            visited[i]=False\n",
    "            s.pop()\n",
    "\n",
    "\n",
    "while True:\n",
    "    s=[]\n",
    "    data=list(map(int,input().split()))\n",
    "    n=data.pop(0)\n",
    "    if n==0:\n",
    "        break\n",
    "    visited=[False]*n\n",
    "    dfs(0)\n",
    "    print()"
   ]
  },
  {
   "cell_type": "markdown",
   "id": "92489078",
   "metadata": {},
   "source": [
    "## 부분 수열의 합(1182)\n",
    "https://www.acmicpc.net/problem/1182"
   ]
  },
  {
   "cell_type": "code",
   "execution_count": 91,
   "id": "c7605d73",
   "metadata": {},
   "outputs": [
    {
     "name": "stdout",
     "output_type": "stream",
     "text": [
      "5 8\n",
      "10 9 -3 -7 -2\n",
      "1\n"
     ]
    }
   ],
   "source": [
    "n,s=map(int,input().split())\n",
    "array=list(map(int,input().split()))\n",
    "visited=[False]*n\n",
    "\n",
    "def dfs(x,tmp):\n",
    "    global cnt\n",
    "\n",
    "    #더한 값과 s가 같아지는 경우 1가지 증가\n",
    "    if tmp==s:\n",
    "        cnt+=1\n",
    "        return\n",
    "\n",
    "    for i in range(x,len(array)):\n",
    "        \n",
    "        if not visited[i]:\n",
    "            visited[i]=True\n",
    "            dfs(i,tmp+array[i])\n",
    "            visited[i]=False\n",
    "            \n",
    "cnt=0\n",
    "dfs(0,0)\n",
    "\n",
    "print(cnt)"
   ]
  },
  {
   "cell_type": "code",
   "execution_count": 90,
   "id": "d56f06cb",
   "metadata": {},
   "outputs": [
    {
     "name": "stdout",
     "output_type": "stream",
     "text": [
      "5 8\n",
      "10 9 -3 -7 -2\n",
      "1\n"
     ]
    }
   ],
   "source": [
    "#answer\n",
    "n,s=map(int,input().split())\n",
    "array=list(map(int,input().split()))\n",
    "\n",
    "def dfs(idx,result):\n",
    "    global cnt\n",
    "\n",
    "    #더한 값과 s가 같아지는 경우 1가지 증가\n",
    "    if idx>=n:\n",
    "        return\n",
    "    \n",
    "    #현재 갑 추가\n",
    "    result+=array[idx]\n",
    "    \n",
    "    if result==s:\n",
    "        cnt+=1\n",
    "    \n",
    "    \n",
    "    dfs(idx+1,result)\n",
    "    #현재 값을 더하지 않는 경우\n",
    "    dfs(idx+1,result-array[idx])\n",
    "    \n",
    "            \n",
    "cnt=0\n",
    "dfs(0,0)\n",
    "print(cnt)"
   ]
  },
  {
   "cell_type": "markdown",
   "id": "0243da97",
   "metadata": {},
   "source": [
    "## 알파벳(1987)\n",
    "https://www.acmicpc.net/problem/1987"
   ]
  },
  {
   "cell_type": "code",
   "execution_count": 17,
   "id": "4bddbf88",
   "metadata": {},
   "outputs": [
    {
     "name": "stdout",
     "output_type": "stream",
     "text": [
      "5 5\n",
      "IEFCJ\n",
      "FHFKC\n",
      "FFALF\n",
      "HFGCF\n",
      "HMCHH\n",
      "10\n"
     ]
    }
   ],
   "source": [
    "r,c=map(int,input().split())\n",
    "graph=[]\n",
    "for i in range(r):\n",
    "    data=list(input())\n",
    "    graph.append(data)\n",
    "visited=[[False]*c for _ in range(r)]    \n",
    "\n",
    "s=[]\n",
    "\n",
    "#이동\n",
    "dx=[1,-1,0,0]\n",
    "dy=[0,0,1,-1]\n",
    "\n",
    "max_val=0\n",
    "def dfs(x,y,depth):\n",
    "    #최고값\n",
    "    global max_val\n",
    "    # 배열에 들어가는 길이가 가증 긴 것이 최대값\n",
    "    max_val=max(max_val,depth)\n",
    "    \n",
    "    for i in range(4):\n",
    "        nx=x+dx[i]\n",
    "        ny=y+dy[i]\n",
    "        # 임시 배열에 없으면 안 가본 곳 이므로 조건문 통과\n",
    "        if 0<=nx<r and 0<=ny<c and not graph[nx][ny] in s:\n",
    "            #간 곳은 배열에 넣음\n",
    "            s.append(graph[nx][ny])\n",
    "            # 다음 갈 수 있는 곳을 찾아본다, 배열의 길이 1개 추가\n",
    "            dfs(nx,ny,depth+1)\n",
    "            #백트래킹\n",
    "            s.pop()\n",
    "\n",
    "s.append(graph[0][0])\n",
    "dfs(0,0,1)\n",
    "print(max_val)"
   ]
  },
  {
   "cell_type": "markdown",
   "id": "15350a11",
   "metadata": {},
   "source": [
    "## N과M 5(15654)\n",
    "https://www.acmicpc.net/problem/15654"
   ]
  },
  {
   "cell_type": "code",
   "execution_count": 21,
   "id": "a7b7fdd8",
   "metadata": {},
   "outputs": [
    {
     "name": "stdout",
     "output_type": "stream",
     "text": [
      "4 2\n",
      "9 8 7 1\n",
      "1 7\n",
      "1 8\n",
      "1 9\n",
      "7 1\n",
      "7 8\n",
      "7 9\n",
      "8 1\n",
      "8 7\n",
      "8 9\n",
      "9 1\n",
      "9 7\n",
      "9 8\n"
     ]
    }
   ],
   "source": [
    "n,m=map(int,input().split())\n",
    "\n",
    "array=list(map(int,input().split()))\n",
    "visited=[False]*n\n",
    "array.sort()\n",
    "\n",
    "s=[]\n",
    "def dfs(cnt):\n",
    "    if cnt==m:\n",
    "        print(' '.join(map(str,s)))\n",
    "        return\n",
    "    \n",
    "    \n",
    "    for i in range(n):\n",
    "        #방문한적 없으며 s에 없는 경우(중복 제거)\n",
    "        if not visited[i] and array[i] not in s:\n",
    "            s.append(array[i])\n",
    "            dfs(cnt+1)\n",
    "            s.pop()\n",
    "            \n",
    "dfs(0)"
   ]
  },
  {
   "cell_type": "markdown",
   "id": "5537d5db",
   "metadata": {},
   "source": [
    "## 차이를 최대로(10819)\n",
    "https://www.acmicpc.net/problem/10819"
   ]
  },
  {
   "cell_type": "code",
   "execution_count": 26,
   "id": "78428328",
   "metadata": {},
   "outputs": [
    {
     "name": "stdout",
     "output_type": "stream",
     "text": [
      "6\n",
      "20 1 15 8 4 10\n",
      "62\n"
     ]
    }
   ],
   "source": [
    "n=int(input())\n",
    "array=list(map(int,input().split()))\n",
    "visited=[False]*n\n",
    "\n",
    "#문제에 주어진 식\n",
    "def calcu(arr):\n",
    "    result=0\n",
    "    for i in range(len(arr)-1):\n",
    "        result+=abs(arr[i]-arr[i+1])\n",
    "    return result\n",
    "\n",
    "s=[]\n",
    "\n",
    "def dfs(depth):\n",
    "    global max_val\n",
    "    if depth==n:\n",
    "        max_val=max(calcu(s),max_val)\n",
    "        return\n",
    "    \n",
    "    # 주어진 식이 최대값이 되기위한 모든 경우의 수 진행\n",
    "    for i in range(n):\n",
    "        if not visited[i]:\n",
    "            visited[i]=True\n",
    "            s.append(array[i])\n",
    "            dfs(depth+1)\n",
    "            s.pop()\n",
    "            visited[i]=False\n",
    "            \n",
    "max_val=0\n",
    "dfs(0)\n",
    "print(max_val)"
   ]
  },
  {
   "cell_type": "markdown",
   "id": "b976ec99",
   "metadata": {},
   "source": [
    "## 모든순열(10974)\n",
    "https://www.acmicpc.net/problem/10974"
   ]
  },
  {
   "cell_type": "code",
   "execution_count": 31,
   "id": "20839f10",
   "metadata": {},
   "outputs": [
    {
     "name": "stdout",
     "output_type": "stream",
     "text": [
      "3\n",
      "1 2 3\n",
      "1 3 2\n",
      "2 1 3\n",
      "2 3 1\n",
      "3 1 2\n",
      "3 2 1\n"
     ]
    }
   ],
   "source": [
    "n=int(input())\n",
    "visited=[False]*(n+1)\n",
    "tmp=[]\n",
    "\n",
    "def dfs():\n",
    "    if len(tmp)==n:\n",
    "        print(' '.join(map(str,tmp)))\n",
    "        return\n",
    "    \n",
    "    for i in range(1,n+1):\n",
    "        if not visited[i]:\n",
    "            visited[i]=True\n",
    "            tmp.append(i)\n",
    "            dfs()\n",
    "            tmp.pop()\n",
    "            visited[i]=False\n",
    "            \n",
    "dfs()"
   ]
  },
  {
   "cell_type": "markdown",
   "id": "b5cfd063",
   "metadata": {},
   "source": [
    "## 외판원 순회2(10971)\n",
    "https://www.acmicpc.net/problem/10971"
   ]
  },
  {
   "cell_type": "code",
   "execution_count": 54,
   "id": "68a26a70",
   "metadata": {
    "scrolled": true
   },
   "outputs": [
    {
     "name": "stdout",
     "output_type": "stream",
     "text": [
      "4\n",
      "0 10 15 20\n",
      "5 0 9 10\n",
      "6 13 0 12\n",
      "8 8 9 0\n"
     ]
    },
    {
     "ename": "TypeError",
     "evalue": "'bool' object does not support item assignment",
     "output_type": "error",
     "traceback": [
      "\u001b[1;31m---------------------------------------------------------------------------\u001b[0m",
      "\u001b[1;31mTypeError\u001b[0m                                 Traceback (most recent call last)",
      "\u001b[1;32m~\\AppData\\Local\\Temp/ipykernel_7916/2665310898.py\u001b[0m in \u001b[0;36m<module>\u001b[1;34m\u001b[0m\n\u001b[0;32m     26\u001b[0m \u001b[1;32mfor\u001b[0m \u001b[0mi\u001b[0m \u001b[1;32min\u001b[0m \u001b[0mrange\u001b[0m\u001b[1;33m(\u001b[0m\u001b[1;36m1\u001b[0m\u001b[1;33m,\u001b[0m\u001b[0mn\u001b[0m\u001b[1;33m)\u001b[0m\u001b[1;33m:\u001b[0m\u001b[1;33m\u001b[0m\u001b[1;33m\u001b[0m\u001b[0m\n\u001b[0;32m     27\u001b[0m     \u001b[1;32mif\u001b[0m \u001b[0mgraph\u001b[0m\u001b[1;33m[\u001b[0m\u001b[1;36m0\u001b[0m\u001b[1;33m]\u001b[0m\u001b[1;33m[\u001b[0m\u001b[0mi\u001b[0m\u001b[1;33m]\u001b[0m\u001b[1;33m:\u001b[0m\u001b[1;33m\u001b[0m\u001b[1;33m\u001b[0m\u001b[0m\n\u001b[1;32m---> 28\u001b[1;33m         \u001b[0mvisited\u001b[0m\u001b[1;33m[\u001b[0m\u001b[0mi\u001b[0m\u001b[1;33m]\u001b[0m\u001b[1;33m=\u001b[0m\u001b[1;32mTrue\u001b[0m\u001b[1;33m\u001b[0m\u001b[1;33m\u001b[0m\u001b[0m\n\u001b[0m\u001b[0;32m     29\u001b[0m         \u001b[0mdfs\u001b[0m\u001b[1;33m(\u001b[0m\u001b[0mi\u001b[0m\u001b[1;33m,\u001b[0m\u001b[0mgraph\u001b[0m\u001b[1;33m[\u001b[0m\u001b[1;36m0\u001b[0m\u001b[1;33m]\u001b[0m\u001b[1;33m[\u001b[0m\u001b[0mi\u001b[0m\u001b[1;33m]\u001b[0m\u001b[1;33m,\u001b[0m\u001b[0mvisited\u001b[0m\u001b[1;33m)\u001b[0m\u001b[1;33m\u001b[0m\u001b[1;33m\u001b[0m\u001b[0m\n\u001b[0;32m     30\u001b[0m         \u001b[0mvisited\u001b[0m\u001b[1;33m=\u001b[0m\u001b[1;32mFalse\u001b[0m\u001b[1;33m\u001b[0m\u001b[1;33m\u001b[0m\u001b[0m\n",
      "\u001b[1;31mTypeError\u001b[0m: 'bool' object does not support item assignment"
     ]
    }
   ],
   "source": [
    "n=int(input())\n",
    "visited=[False]*n\n",
    "\n",
    "graph=[]\n",
    "for i in range(n):\n",
    "    data=list(map(int,input().split()))\n",
    "    graph.append(data)\n",
    "    \n",
    "def dfs(x,total,visited):\n",
    "    global result\n",
    "    if total>result:\n",
    "        return\n",
    "    \n",
    "    if sum(visited)==n-1:\n",
    "        if graph[x][0]:\n",
    "            result=min(result,total+graph[x][0])\n",
    "        return\n",
    "    \n",
    "    for i in range(1,n):\n",
    "        if graph[x][i] and visited[i]==False:\n",
    "            visited[i]=True\n",
    "            dfs(i,total+graph[x][i],visited)\n",
    "            visited[i]=False\n",
    "            \n",
    "result=1e9\n",
    "for i in range(1,n):\n",
    "    if graph[0][i]:\n",
    "        visited[i]=True\n",
    "        dfs(i,graph[0][i],visited)\n",
    "        visited[i]=False\n",
    "print(result)"
   ]
  },
  {
   "cell_type": "markdown",
   "id": "f137791f",
   "metadata": {},
   "source": [
    "## 스도쿠(2239)\n",
    "https://www.acmicpc.net/problem/2239"
   ]
  },
  {
   "cell_type": "code",
   "execution_count": 7,
   "id": "694a1ae0",
   "metadata": {},
   "outputs": [
    {
     "name": "stdout",
     "output_type": "stream",
     "text": [
      "103000509\n",
      "002109400\n",
      "000704000\n",
      "300502006\n",
      "060000050\n",
      "700803004\n",
      "000401000\n",
      "009205800\n",
      "804000107\n",
      "143628579\n",
      "572139468\n",
      "986754231\n",
      "391542786\n",
      "468917352\n",
      "725863914\n",
      "237481695\n",
      "619275843\n",
      "854396127\n"
     ]
    }
   ],
   "source": [
    "n=9\n",
    "graph=[]\n",
    "for i in range(n):\n",
    "    data=list(map(int,input().rstrip()))\n",
    "    graph.append(data)\n",
    "    \n",
    "def check(x,y):\n",
    "    answer=[1,2,3,4,5,6,7,8,9]\n",
    "    # 행과열에 숫자가 있는지 확인\n",
    "    for i in range(n):\n",
    "        if graph[i][y] in answer:\n",
    "            answer.remove(graph[i][y])\n",
    "        if graph[x][i] in answer:\n",
    "            answer.remove(graph[x][i])\n",
    "\n",
    "    # 3X3위치에 맞는지 확인\n",
    "    a=x//3\n",
    "    b=y//3\n",
    "    for i in range(a*3,(a+1)*3):\n",
    "        for j in range(b*3,(b+1)*3):\n",
    "            if graph[i][j] in answer:\n",
    "                answer.remove(graph[i][j])\n",
    "    return answer\n",
    "\n",
    "# 0 값의 위치를 넣을 배열\n",
    "zeros=[]\n",
    "for i in range(n):\n",
    "    for j in range(n):\n",
    "        if graph[i][j]==0:\n",
    "            zeros.append([i,j])\n",
    "\n",
    "def dfs(k):\n",
    "    global flag\n",
    "    if flag==True:\n",
    "        return\n",
    "    \n",
    "    # 모든 0을 다 채웠을 경우\n",
    "    if k==len(zeros):\n",
    "        flag=True\n",
    "        for i in range(n):\n",
    "            for j in range(n):\n",
    "                print(graph[i][j],end='')\n",
    "            print()\n",
    "        return\n",
    "    else:\n",
    "        x,y=zeros[k]\n",
    "        tmp=check(x,y)\n",
    "        for i in tmp:\n",
    "            graph[x][y]=i\n",
    "            # 값 채우기\n",
    "            dfs(k+1)\n",
    "            graph[x][y]=0\n",
    "flag=False\n",
    "dfs(0)\n"
   ]
  },
  {
   "cell_type": "code",
   "execution_count": 1,
   "id": "32b2d837",
   "metadata": {},
   "outputs": [
    {
     "name": "stdout",
     "output_type": "stream",
     "text": [
      "1000\n"
     ]
    }
   ],
   "source": [
    "#2500 : 3, 700 : 5\n",
    "array=[2500,2500,2500,700,700,700,700,700]\n",
    "length=len(array)\n",
    "count=0\n",
    "array.sort()\n",
    "result=1e9\n",
    "for i in range(1,len(array)):\n",
    "    tmp1=sum(array[:i])\n",
    "    tmp2=sum(array[i:])\n",
    "    result=min(result,abs(tmp1-tmp2))\n",
    "print(result)"
   ]
  },
  {
   "cell_type": "markdown",
   "id": "3edbd7a2",
   "metadata": {},
   "source": []
  },
  {
   "cell_type": "markdown",
   "id": "3d7d586b",
   "metadata": {},
   "source": []
  },
  {
   "cell_type": "code",
   "execution_count": 6,
   "id": "1d5edccc",
   "metadata": {},
   "outputs": [
    {
     "name": "stdout",
     "output_type": "stream",
     "text": [
      "5\n",
      "3 4 5 1 8\n",
      "8 2 3 2 2\n",
      "0 2 9 5 4\n",
      "1 11 3 0 5\n",
      "4 5 2 7 1\n",
      "3\n",
      "2 2 2 3 3 "
     ]
    }
   ],
   "source": []
  }
 ],
 "metadata": {
  "kernelspec": {
   "display_name": "Python 3 (ipykernel)",
   "language": "python",
   "name": "python3"
  },
  "language_info": {
   "codemirror_mode": {
    "name": "ipython",
    "version": 3
   },
   "file_extension": ".py",
   "mimetype": "text/x-python",
   "name": "python",
   "nbconvert_exporter": "python",
   "pygments_lexer": "ipython3",
   "version": "3.9.7"
  }
 },
 "nbformat": 4,
 "nbformat_minor": 5
}
