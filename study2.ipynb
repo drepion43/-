{
 "cells": [
  {
   "cell_type": "markdown",
   "id": "dc8f2546",
   "metadata": {},
   "source": [
    "# 구현"
   ]
  },
  {
   "cell_type": "markdown",
   "id": "fb055c9a",
   "metadata": {},
   "source": [
    "## 7. 럭키 스트레이트\n",
    "https://www.acmicpc.net/problem/18406"
   ]
  },
  {
   "cell_type": "code",
   "execution_count": 10,
   "id": "56441e12",
   "metadata": {},
   "outputs": [
    {
     "name": "stdout",
     "output_type": "stream",
     "text": [
      "123402\n",
      "6 6\n",
      "LUCKY\n"
     ]
    }
   ],
   "source": [
    "n=input()\n",
    "length=len(n)\n",
    "center=int(length/2)\n",
    "array=list(n)\n",
    "\n",
    "left_val=0\n",
    "right_val=0\n",
    "for i in range(length):\n",
    "    if i <center:\n",
    "        left_val+=int(array[i])\n",
    "    else:\n",
    "        right_val+=int(array[i])\n",
    "if left_val==right_val:\n",
    "    print('LUCKY')\n",
    "else:\n",
    "    print('READY')\n",
    "    "
   ]
  },
  {
   "cell_type": "markdown",
   "id": "dfacd1e4",
   "metadata": {},
   "source": [
    "## 8.문자열 재정렬"
   ]
  },
  {
   "cell_type": "code",
   "execution_count": 16,
   "id": "62a221ec",
   "metadata": {},
   "outputs": [
    {
     "name": "stdout",
     "output_type": "stream",
     "text": [
      "K1KA5CB7\n",
      "ABCKK13\n"
     ]
    }
   ],
   "source": [
    "s=list(input())\n",
    "tmp=[]\n",
    "total=0\n",
    "for i in s:\n",
    "    if i.isalpha():\n",
    "        tmp.append(i)\n",
    "    else:\n",
    "        total+=int(i)\n",
    "tmp.sort()\n",
    "tmp.append(str(total))\n",
    "print(''.join(tmp))"
   ]
  },
  {
   "cell_type": "markdown",
   "id": "de67b43a",
   "metadata": {},
   "source": [
    "## 9.문자열 압축\n",
    "https://school.programmers.co.kr/learn/courses/30/lessons/60057"
   ]
  },
  {
   "cell_type": "code",
   "execution_count": 17,
   "id": "7b2f6be2",
   "metadata": {},
   "outputs": [],
   "source": [
    "def solution(s):\n",
    "    answer = len(s)\n",
    "    length=len(s)\n",
    "    for i in range(1,length//2+1):\n",
    "        check=s[:i]\n",
    "        count=1\n",
    "        compressed=\"\"\n",
    "        for j in range(i,length,i):\n",
    "            if check==s[j:j+i]:\n",
    "                count+=1\n",
    "            else:\n",
    "                if count>=2:\n",
    "                    compressed+=str(count)+check \n",
    "                else:\n",
    "                    compressed+=check\n",
    "                check=s[j:j+i]\n",
    "                count=1\n",
    "        if count>=2:\n",
    "            compressed+=str(count)+check \n",
    "        else:\n",
    "            compressed+=check\n",
    "        answer=min(answer,len(compressed))\n",
    "            \n",
    "    return answer"
   ]
  },
  {
   "cell_type": "markdown",
   "id": "ca832a25",
   "metadata": {},
   "source": [
    "## 10. 자물쇠와 열쇠\n",
    "https://school.programmers.co.kr/learn/courses/30/lessons/60059"
   ]
  },
  {
   "cell_type": "code",
   "execution_count": null,
   "id": "d9c5a2e5",
   "metadata": {},
   "outputs": [],
   "source": []
  },
  {
   "cell_type": "markdown",
   "id": "f8c5d667",
   "metadata": {},
   "source": [
    "# 최단 경로"
   ]
  },
  {
   "cell_type": "markdown",
   "id": "f85c0a02",
   "metadata": {},
   "source": [
    "## 37.플로이드\n",
    "https://www.acmicpc.net/problem/11404"
   ]
  },
  {
   "cell_type": "code",
   "execution_count": 18,
   "id": "e31c7c18",
   "metadata": {},
   "outputs": [
    {
     "name": "stdout",
     "output_type": "stream",
     "text": [
      "5\n",
      "14\n",
      "1 2 2\n",
      "1 3 3\n",
      "1 4 1\n",
      "1 5 10\n",
      "2 4 2\n",
      "3 4 1\n",
      "3 5 1\n",
      "4 5 3\n",
      "3 5 10\n",
      "3 1 8\n",
      "1 4 2\n",
      "5 1 7\n",
      "3 4 2\n",
      "5 2 4\n",
      "[[1000000000, 1000000000, 1000000000, 1000000000, 1000000000, 1000000000], [1000000000, 0, 2, 3, 2, 5], [1000000000, 12, 0, 15, 2, 5], [1000000000, 8, 9, 0, 2, 5], [1000000000, 10, 7, 13, 0, 3], [1000000000, 7, 4, 10, 6, 0]]\n"
     ]
    }
   ],
   "source": [
    "INF=int(1e9)\n",
    "n=int(input())\n",
    "m=int(input())\n",
    "\n",
    "graph=[[INF]*(n+1) for _ in range(n+1)]\n",
    "\n",
    "for _ in range(m):\n",
    "    a,b,c=map(int,input().split())\n",
    "    # 해당 에지에 더 작은 값이 들어오면 작은 값으로 갱신\n",
    "    if graph[a][b]>c:\n",
    "        graph[a][b]=c\n",
    "\n",
    "# (i,i)지점에는 갈 수 없다\n",
    "for i in range(1,n+1):\n",
    "    for j in range(1,n+1):\n",
    "        if i==j:\n",
    "            graph[i][j]=0\n",
    "\n",
    "# 각 노드에서 갈 수 있는 노드까지의 최단 거리 생성\n",
    "for k in range(1,n+1):\n",
    "    for a in range(1,n+1):\n",
    "        for b in range(1,n+1):\n",
    "            graph[a][b]=min(graph[a][b],graph[a][k]+graph[k][b])\n",
    "            \n",
    "for i in range(1,n+1):\n",
    "    for j in range(1,n+1):\n",
    "        if graph[i][j]==INF:\n",
    "            print(0,end=' ')\n",
    "        else:\n",
    "            print(graph[i][j],end=' ')\n",
    "    print()"
   ]
  },
  {
   "cell_type": "markdown",
   "id": "db0adf62",
   "metadata": {},
   "source": [
    "## 38.정확한 순위"
   ]
  },
  {
   "cell_type": "code",
   "execution_count": 21,
   "id": "0e76a735",
   "metadata": {},
   "outputs": [
    {
     "name": "stdout",
     "output_type": "stream",
     "text": [
      "6 6\n",
      "1 5\n",
      "3 4\n",
      "4 2\n",
      "4 6\n",
      "5 2\n",
      "5 4\n",
      "1\n"
     ]
    }
   ],
   "source": [
    "INF=int(1e9)\n",
    "\n",
    "n,m=map(int,input().split())\n",
    "graph=[[INF]*(n+1) for _ in range(n+1)]\n",
    "\n",
    "for _ in range(m):\n",
    "    a,b=map(int,input().split())\n",
    "    graph[a][b]=1\n",
    "    \n",
    "for i in range(1,n+1):\n",
    "    for j in range(1,n+1):\n",
    "        if i==j:\n",
    "            graph[i][j]=0\n",
    "            \n",
    "for k in range(1,n+1):\n",
    "    for a in range(1,n+1):\n",
    "        for b in range(1,n+1):\n",
    "            graph[a][b]=min(graph[a][b],graph[a][k]+graph[k][b])\n",
    "\n",
    "result=0\n",
    "for i in range(1,n+1):\n",
    "    cnt=0\n",
    "    for j in range(1,n+1):\n",
    "        #해당 노드에 n-1개만큼의 edge가 연결되면 순위를 알 수 있다\n",
    "        if graph[i][j]!=INF or graph[j][i]!=INF:\n",
    "            cnt+=1\n",
    "    if cnt==n:\n",
    "        result+=1\n",
    "print(result)"
   ]
  },
  {
   "cell_type": "code",
   "execution_count": 24,
   "id": "3e29a669",
   "metadata": {},
   "outputs": [
    {
     "name": "stdout",
     "output_type": "stream",
     "text": [
      "3\n",
      "5 5 4\n",
      "3 9 1\n",
      "3 2 7\n",
      "20\n"
     ]
    }
   ],
   "source": [
    "import heapq\n",
    "\n",
    "INF=int(1e9)\n",
    "n=int(input())\n",
    "graph=[]\n",
    "for _ in range(n):\n",
    "    data=list(map(int,input().split()))\n",
    "    graph.append(data)\n",
    "\n",
    "q=[]\n",
    "distance=[[INF]*n for _ in range(n)]\n",
    "\n",
    "dx=[1,-1,0,0]\n",
    "dy=[0,0,1,-1]\n",
    "\n",
    "def dijkstra(s_x,s_y):\n",
    "    # (0,0)에서 시작하니 그에 대한 값을 힙에 삽입\n",
    "    heapq.heappush(q,(graph[s_x][s_y],s_x,s_y))\n",
    "    # 거리도 갱신\n",
    "    distance[s_x][s_y]=graph[s_x][s_y]\n",
    "    while q:\n",
    "        dis,x,y=heapq.heappop(q)\n",
    "        # 최솟값이 아닌 경우\n",
    "        if distance[x][y]<dis:\n",
    "            continue\n",
    "        for i in range(4):\n",
    "            nx=x+dx[i]\n",
    "            ny=y+dy[i]\n",
    "            if 0<=nx<n and 0<=ny<n:\n",
    "                # 선택한 길의 비용과 이전까지의 비용 합\n",
    "                cost=dis+graph[nx][ny]\n",
    "                # 새로 선택한 길이가 기존의 길이보다 작은 경우 갱신\n",
    "                if cost<distance[nx][ny]:\n",
    "                    distance[nx][ny]=cost\n",
    "                    heapq.heappush(q,(cost,nx,ny))\n",
    "                    \n",
    "dijkstra(0,0)\n",
    "print(distance[n-1][n-1])"
   ]
  },
  {
   "cell_type": "code",
   "execution_count": 35,
   "id": "005b7832",
   "metadata": {},
   "outputs": [
    {
     "name": "stdout",
     "output_type": "stream",
     "text": [
      "6 7\n",
      "3 6\n",
      "4 3\n",
      "3 2\n",
      "1 3\n",
      "1 2\n",
      "2 4\n",
      "5 2\n",
      "[1000000000, 0, 1, 1, 2, 2, 2]\n"
     ]
    }
   ],
   "source": [
    "import heapq\n",
    "\n",
    "INF=int(1e9)\n",
    "n,m=map(int,input().split())\n",
    "\n",
    "graph=[[] for _ in range(n+1)]\n",
    "distance=[INF]*(n+1)\n",
    "\n",
    "for _ in range(m):\n",
    "    a,b=map(int,input().split())\n",
    "    graph[a].append((b,1))\n",
    "    graph[b].append((a,1))\n",
    "\n",
    "def dijkstra(start):\n",
    "    q=[]\n",
    "    heapq.heappush(q,(0,start))\n",
    "    distance[start]=0\n",
    "    while q:\n",
    "        dis,cur=heapq.heappop(q)\n",
    "        if distance[cur]<dis:\n",
    "            continue\n",
    "        for x in graph[cur]:\n",
    "            cost=dis+x[1]\n",
    "            if cost<distance[x[0]]:\n",
    "                distance[x[0]]=cost\n",
    "                heapq.heappush(q,(cost,x[0]))\n",
    "\n",
    "dijkstra(1)\n",
    "print(distance)"
   ]
  },
  {
   "cell_type": "code",
   "execution_count": null,
   "id": "9ec7e099",
   "metadata": {},
   "outputs": [],
   "source": []
  }
 ],
 "metadata": {
  "kernelspec": {
   "display_name": "Python 3 (ipykernel)",
   "language": "python",
   "name": "python3"
  },
  "language_info": {
   "codemirror_mode": {
    "name": "ipython",
    "version": 3
   },
   "file_extension": ".py",
   "mimetype": "text/x-python",
   "name": "python",
   "nbconvert_exporter": "python",
   "pygments_lexer": "ipython3",
   "version": "3.9.7"
  }
 },
 "nbformat": 4,
 "nbformat_minor": 5
}
