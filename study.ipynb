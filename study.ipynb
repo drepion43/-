{
 "cells": [
  {
   "cell_type": "markdown",
   "id": "3a275415",
   "metadata": {},
   "source": [
    "# 그리디"
   ]
  },
  {
   "cell_type": "markdown",
   "id": "29ebe666",
   "metadata": {},
   "source": [
    "## 1.모험가 길드"
   ]
  },
  {
   "cell_type": "code",
   "execution_count": 2,
   "id": "31bb830c",
   "metadata": {},
   "outputs": [
    {
     "name": "stdout",
     "output_type": "stream",
     "text": [
      "5\n",
      "2 3 1 2 2\n",
      "2\n"
     ]
    }
   ],
   "source": [
    "n=int(input())\n",
    "array=list(map(int,input().split()))\n",
    "array.sort()\n",
    "cnt=0\n",
    "result=0\n",
    "\n",
    "# 정렬 후 1, 2, 2, 2, 3 순으로 나열 한 그룹으로 묶으면 최대\n",
    "for i in array:\n",
    "    cnt+=1\n",
    "    if cnt>=i:\n",
    "        cnt=0\n",
    "        result+=1\n",
    "print(result)"
   ]
  },
  {
   "cell_type": "markdown",
   "id": "73e4a917",
   "metadata": {},
   "source": [
    "## 2.곱하기 혹은 더하기"
   ]
  },
  {
   "cell_type": "code",
   "execution_count": 21,
   "id": "6dd88a63",
   "metadata": {},
   "outputs": [
    {
     "name": "stdout",
     "output_type": "stream",
     "text": [
      "02984\n",
      "576\n"
     ]
    }
   ],
   "source": [
    "string=list(map(int,input().rstrip()))\n",
    "\n",
    "# i와 i+1번째 값의 합과 곱을 비교해 더 큰 것을 계속해서 사용\n",
    "for i in range(len(string)-1):\n",
    "    tmp=string[i]+string[i+1]\n",
    "    tmp2=string[i]*string[i+1]\n",
    "    if tmp>tmp2:\n",
    "        result=tmp\n",
    "        string[i+1]=tmp\n",
    "    else:\n",
    "        result=tmp2\n",
    "        string[i+1]=tmp2\n",
    "print(result)"
   ]
  },
  {
   "cell_type": "markdown",
   "id": "2ebfe373",
   "metadata": {},
   "source": [
    "## 3.문자열 뒤집기\n",
    "https://www.acmicpc.net/problem/1439"
   ]
  },
  {
   "cell_type": "code",
   "execution_count": 27,
   "id": "9a852cf1",
   "metadata": {},
   "outputs": [
    {
     "name": "stdout",
     "output_type": "stream",
     "text": [
      "11001100110011000001\n",
      "4\n"
     ]
    }
   ],
   "source": [
    "data=list(map(int,input().rstrip()))\n",
    "\n",
    "count0=0\n",
    "count1=0\n",
    "\n",
    "# 0으로 다 뒤집을지, 1로 다 뒤집을지의 경우의 수 2가지\n",
    "if data[0]==1:\n",
    "    count1+=1\n",
    "else:\n",
    "    count0+=1\n",
    "\n",
    "# 앞 뒤가 다른 값이 나오는 순간이 바뀌는 경우이니 이에 따라 횟수 증가\n",
    "for i in range(len(data)-1):\n",
    "    if data[i]!=data[i+1]:\n",
    "        if data[i+1]==1:\n",
    "            count1+=1\n",
    "        else:\n",
    "            count0+=1\n",
    "result=min(count1,count0)\n",
    "print(result)"
   ]
  },
  {
   "cell_type": "markdown",
   "id": "1d8bd0a1",
   "metadata": {},
   "source": [
    "## 4. 만들 수 없는 금액"
   ]
  },
  {
   "cell_type": "code",
   "execution_count": 31,
   "id": "73b0e310",
   "metadata": {},
   "outputs": [
    {
     "name": "stdout",
     "output_type": "stream",
     "text": [
      "5\n",
      "3 2 1 1 9\n",
      "8\n"
     ]
    }
   ],
   "source": [
    "n=int(input())\n",
    "data=list(map(int,input().split()))\n",
    "data.sort()\n",
    "\n",
    "# result값은 내가 가진 화폐로 만들 수 있는 최대 값\n",
    "result=1\n",
    "for i in data:\n",
    "    if result<i:\n",
    "        break\n",
    "    result+=i\n",
    "print(result)"
   ]
  },
  {
   "cell_type": "markdown",
   "id": "873d16af",
   "metadata": {},
   "source": [
    "## 5. 볼링공 만들기"
   ]
  },
  {
   "cell_type": "code",
   "execution_count": 35,
   "id": "0c440552",
   "metadata": {},
   "outputs": [
    {
     "name": "stdout",
     "output_type": "stream",
     "text": [
      "8 5\n",
      "1 5 4 3 2 4 5 2\n",
      "25\n"
     ]
    }
   ],
   "source": [
    "n,m=map(int,input().split())\n",
    "data=list(map(int,input().split()))\n",
    "\n",
    "cnt=0\n",
    "# 내가 가진 공과 상대방이 가진공을 다르게\n",
    "for i in range(n):\n",
    "    for j in range(i,n):\n",
    "        if data[i]!=data[j]:\n",
    "            cnt+=1\n",
    "print(cnt)"
   ]
  },
  {
   "cell_type": "markdown",
   "id": "d7a76120",
   "metadata": {},
   "source": [
    "## 6. 무지의 먹방 라이브"
   ]
  },
  {
   "cell_type": "markdown",
   "id": "9f87b318",
   "metadata": {},
   "source": [
    "# 구현"
   ]
  },
  {
   "cell_type": "markdown",
   "id": "9bb89306",
   "metadata": {},
   "source": [
    "# DFS/BFS"
   ]
  },
  {
   "cell_type": "markdown",
   "id": "76e3754a",
   "metadata": {},
   "source": [
    "# 15.특정 거리의 도시 찾기\n",
    "https://www.acmicpc.net/problem/18352"
   ]
  },
  {
   "cell_type": "code",
   "execution_count": 45,
   "id": "27838967",
   "metadata": {},
   "outputs": [
    {
     "name": "stdout",
     "output_type": "stream",
     "text": [
      "4 4 2 1\n",
      "1 2\n",
      "1 3\n",
      "2 3\n",
      "2 4\n",
      "[0, 0, 1, 1, 2]\n"
     ]
    }
   ],
   "source": [
    "from collections import deque\n",
    "n,m,k,x=map(int,input().split())\n",
    "\n",
    "graph=[[] for _ in range(n+1)]\n",
    "for i in range(m):\n",
    "    a,b=map(int,input().split())\n",
    "    graph[a].append(b)\n",
    "\n",
    "# 방문 확인\n",
    "visited=[False]*(n+1)\n",
    "#거리 정의\n",
    "distance=[0]*(n+1)\n",
    "\n",
    "#시작 노드 삽입\n",
    "q=deque()\n",
    "q.append(x)\n",
    "visited[x]=True\n",
    "\n",
    "# 최단거리 bfs로 찾기\n",
    "def bfs():\n",
    "    while q:\n",
    "        x=q.popleft()\n",
    "        for i in graph[x]:\n",
    "            if visited[i]==False:\n",
    "                visited[i]=True\n",
    "                distance[i]=distance[x]+1\n",
    "                q.append(i)\n",
    "bfs()\n",
    "# 찾지못하면 -1출력\n",
    "check=False\n",
    "for i in range(1,len(distance)):\n",
    "    if distance[i]==k:\n",
    "        print(i)\n",
    "        check=True\n",
    "\n",
    "if not check:\n",
    "    print(-1)\n",
    "    "
   ]
  },
  {
   "cell_type": "markdown",
   "id": "6bb3db1d",
   "metadata": {},
   "source": [
    "## 16. 연구소\n",
    "https://www.acmicpc.net/problem/14502"
   ]
  },
  {
   "cell_type": "code",
   "execution_count": 48,
   "id": "6d93ad12",
   "metadata": {},
   "outputs": [
    {
     "name": "stdout",
     "output_type": "stream",
     "text": [
      "4 6\n",
      "0 0 0 0 0 0\n",
      "1 0 0 0 0 2\n",
      "1 1 1 0 0 2\n",
      "0 0 0 0 0 2\n",
      "9\n"
     ]
    }
   ],
   "source": [
    "from collections import deque\n",
    "from itertools import combinations\n",
    "import copy\n",
    "\n",
    "n,m=map(int,input().split())\n",
    "graph=[]\n",
    "for i in range(n):\n",
    "    graph.append(list(map(int,input().split())))\n",
    "    \n",
    "#바이러스 위치, 빈 공간 위치\n",
    "virus=deque()\n",
    "empty=[]\n",
    "for x in range(n):\n",
    "    for y in range(m):\n",
    "        if graph[x][y]==2:\n",
    "            virus.append([x,y])\n",
    "        if graph[x][y]==0:\n",
    "            empty.append([x,y])\n",
    "\n",
    "dx=[1,-1,0,0]\n",
    "dy=[0,0,1,-1]\n",
    "\n",
    "#가능한 벽 공간 설치\n",
    "candidates=list(combinations(empty,3))\n",
    "\n",
    "# 바이러스 이동\n",
    "def move(graph,virus):\n",
    "    while virus:\n",
    "        x,y=virus.popleft()\n",
    "        for i in range(4):\n",
    "            nx=x+dx[i]\n",
    "            ny=y+dy[i]\n",
    "            if 0<=nx<n and 0<=ny<m:\n",
    "                if graph[nx][ny]==0:\n",
    "                    graph[nx][ny]=2\n",
    "                    virus.append([nx,ny])\n",
    "\n",
    "#빈공간 개수 세기\n",
    "def count_empty(graph):\n",
    "    empty_cnt=0\n",
    "    for x in range(n):\n",
    "        for y in range(m):\n",
    "            if graph[x][y]==0:\n",
    "                empty_cnt+=1\n",
    "    return empty_cnt\n",
    "\n",
    "result=0\n",
    "#가능한 조합 사용\n",
    "for candidate in candidates:\n",
    "    board=copy.deepcopy(graph)\n",
    "    virus_tmp=copy.deepcopy(virus)\n",
    "    for x,y in candidate:\n",
    "        board[x][y]=1\n",
    "    move(board,virus_tmp)\n",
    "    result=max(result,count_empty(board))\n",
    "print(result)"
   ]
  },
  {
   "cell_type": "markdown",
   "id": "55fb8718",
   "metadata": {},
   "source": [
    "## 17. 경쟁적 전염\n",
    "https://www.acmicpc.net/problem/18405"
   ]
  },
  {
   "cell_type": "code",
   "execution_count": 52,
   "id": "622bf004",
   "metadata": {},
   "outputs": [
    {
     "name": "stdout",
     "output_type": "stream",
     "text": [
      "3 3\n",
      "1 0 2\n",
      "0 0 0\n",
      "3 0 0\n",
      "1 2 2\n",
      "0\n"
     ]
    }
   ],
   "source": [
    "#시간 초과\n",
    "#입력 정의\n",
    "n,k=map(int,input().split())\n",
    "graph=[]\n",
    "for _ in range(n):\n",
    "    graph.append(list(map(int,input().split())))\n",
    "    \n",
    "s,x,y=map(int,input().split())\n",
    "\n",
    "#바이러스 위치 찾기\n",
    "def find_virus():\n",
    "    virus=[]\n",
    "    for x in range(n):\n",
    "        for y in range(n):\n",
    "            if graph[x][y]!=0:\n",
    "                virus.append([graph[x][y],x,y])\n",
    "\n",
    "    #1번 바이러스부터 이동하기 위해\n",
    "    virus.sort()\n",
    "    return virus\n",
    "\n",
    "dx=[1,-1,0,0]\n",
    "dy=[0,0,1,-1]\n",
    "\n",
    "#1초 동안 1번만 이동\n",
    "def move_once(virus):\n",
    "    while virus:\n",
    "        v_num,x,y=virus.pop(0)\n",
    "        for i in range(4):\n",
    "            nx=x+dx[i]\n",
    "            ny=y+dy[i]\n",
    "            if 0<=nx<n and 0<=ny<n:\n",
    "                if graph[nx][ny]==0:\n",
    "                    graph[nx][ny]=v_num\n",
    "\n",
    "time=0\n",
    "tmp=[]\n",
    "while True:\n",
    "    if time>=s:\n",
    "        break\n",
    "    virus_tmp=find_virus()\n",
    "    move_once(virus_tmp)\n",
    "    time+=1\n",
    "print(graph[x-1][y-1])"
   ]
  },
  {
   "cell_type": "code",
   "execution_count": 61,
   "id": "26fa79c6",
   "metadata": {},
   "outputs": [
    {
     "name": "stdout",
     "output_type": "stream",
     "text": [
      "3 3\n",
      "1 0 2\n",
      "0 0 0\n",
      "3 0 0\n",
      "1 2 2\n",
      "0\n"
     ]
    }
   ],
   "source": [
    "#입력 정의\n",
    "n,k=map(int,input().split())\n",
    "graph=[]\n",
    "for _ in range(n):\n",
    "    graph.append(list(map(int,input().split())))\n",
    "    \n",
    "s,rx,ry=map(int,input().split())\n",
    "\n",
    "#바이러스 위치 찾기\n",
    "virus=[]\n",
    "for x in range(n):\n",
    "    for y in range(n):\n",
    "        if graph[x][y]!=0:\n",
    "            #해당 번호, 좌표,시간\n",
    "            virus.append([graph[x][y],x,y,0])\n",
    "\n",
    "#1번 바이러스부터 이동하기 위해\n",
    "virus.sort()\n",
    "v=deque(virus)\n",
    "\n",
    "dx=[1,-1,0,0]\n",
    "dy=[0,0,1,-1]\n",
    "\n",
    "#시간을 기록하며 이동\n",
    "def move():\n",
    "    while v:\n",
    "        v_num,x,y,time=v.popleft()\n",
    "        if time==s:\n",
    "            break\n",
    "        for i in range(4):\n",
    "            nx=x+dx[i]\n",
    "            ny=y+dy[i]\n",
    "            if 0<=nx<n and 0<=ny<n:\n",
    "                if graph[nx][ny]==0:\n",
    "                    graph[nx][ny]=v_num\n",
    "                    v.append([v_num,nx,ny,time+1])\n",
    "\n",
    "move()\n",
    "print(graph[rx-1][ry-1])"
   ]
  },
  {
   "cell_type": "markdown",
   "id": "2757eba6",
   "metadata": {},
   "source": [
    "## 18. 괄호 변환\n",
    "https://school.programmers.co.kr/learn/courses/30/lessons/60058"
   ]
  },
  {
   "cell_type": "code",
   "execution_count": null,
   "id": "45a1c927",
   "metadata": {},
   "outputs": [],
   "source": [
    "def solution(p):\n",
    "    if p=='': \n",
    "        return p\n",
    "    r=True\n",
    "    c=0\n",
    "    for i in range(len(p)):\n",
    "        if p[i]=='(': \n",
    "            c-=1\n",
    "        else: \n",
    "            c+=1\n",
    "        if c>0: \n",
    "            r=False\n",
    "        print(r)\n",
    "\n",
    "        if c==0:\n",
    "            if r:\n",
    "                return p[:i+1]+solution(p[i+    1:])\n",
    "            else:\n",
    "                return '('+solution(p[i+1:])+')'+''.join(list(map(lambda x:'(' if x==')' else ')',p[1:i]) ))\n"
   ]
  },
  {
   "cell_type": "markdown",
   "id": "f494175b",
   "metadata": {},
   "source": [
    "## 19. 연산자 끼워넣기\n",
    "https://www.acmicpc.net/problem/14888"
   ]
  },
  {
   "cell_type": "code",
   "execution_count": 66,
   "id": "3a5de1b0",
   "metadata": {},
   "outputs": [
    {
     "name": "stdout",
     "output_type": "stream",
     "text": [
      "6\n",
      "1 2 3 4 5 6\n",
      "2 1 1 1\n",
      "54\n",
      "-24\n"
     ]
    }
   ],
   "source": [
    "from itertools import permutations\n",
    "n=int(input())\n",
    "array=list(map(int,input().split()))\n",
    "# 0: 더하기 1: 뺄셈 2: 곱셈 3: 나눗셈\n",
    "cal=list(map(int,input().split()))\n",
    "\n",
    "calculator=[]\n",
    "for i in range(4):\n",
    "    for j in range(cal[i]):\n",
    "        calculator.append(i)\n",
    "\n",
    "#가능한 연산자 집합\n",
    "candidates=list(permutations(calculator,n-1))\n",
    "\n",
    "\n",
    "#가능한 후보들 연산 진행\n",
    "def get_cal(candidate):\n",
    "    result=array[0]\n",
    "    # 0: 더하기 1: 뺄셈 2: 곱셈 3: 나눗셈\n",
    "    for i in range(len(candidate)):\n",
    "        if candidate[i]==0:\n",
    "            result+=array[i+1]\n",
    "        elif candidate[i]==1:\n",
    "            result-=array[i+1]\n",
    "        elif candidate[i]==2:\n",
    "            result*=array[i+1]\n",
    "        elif candidate[i]==3:\n",
    "            result=int(result/array[i+1])\n",
    "    return result\n",
    "\n",
    "\n",
    "max_val=0\n",
    "min_val=1e9\n",
    "for candidate in candidates:\n",
    "    total=get_cal(candidate)\n",
    "    min_val=min(min_val,total)\n",
    "    max_val=max(max_val,total)\n",
    "    \n",
    "print(max_val)\n",
    "print(min_val)"
   ]
  },
  {
   "cell_type": "markdown",
   "id": "39b494f3",
   "metadata": {},
   "source": [
    "## 20.감시 피하기\n",
    "https://www.acmicpc.net/problem/18428"
   ]
  },
  {
   "cell_type": "code",
   "execution_count": 76,
   "id": "e2b857ab",
   "metadata": {},
   "outputs": [
    {
     "name": "stdout",
     "output_type": "stream",
     "text": [
      "5\n",
      "X S X X T\n",
      "T X S X X\n",
      "X X X X X\n",
      "X T X X X\n",
      "X X T X X\n",
      "YES\n"
     ]
    }
   ],
   "source": [
    "from itertools import combinations\n",
    "from collections import deque\n",
    "import copy\n",
    "\n",
    "n=int(input())\n",
    "# 선생,학생 위치\n",
    "graph=[]\n",
    "teacher=[]\n",
    "student=[]\n",
    "empty=[]\n",
    "for i in range(n):\n",
    "    data=list(input().split())\n",
    "    graph.append(data)\n",
    "    for j in range(len(data)):\n",
    "        if graph[i][j]=='T':\n",
    "            teacher.append([i,j])\n",
    "        if graph[i][j]=='S':\n",
    "            student.append([i,j])\n",
    "        if graph[i][j]=='X':\n",
    "            empty.append([i,j])\n",
    "\n",
    "#장애물 설치 가능한 3 곳 선택\n",
    "candidates=list(combinations(empty,3))\n",
    "\n",
    "dx=[1,-1,0,0]\n",
    "dy=[0,0,1,-1]\n",
    "\n",
    "\n",
    "#선생님의 시선\n",
    "def detect(q,graph):\n",
    "    find=False\n",
    "    escape=False\n",
    "    while q:\n",
    "        if escape==True:\n",
    "            break\n",
    "        x,y=q.popleft()\n",
    "        for i in range(4):\n",
    "            #찾은경우 탈출\n",
    "            if find:\n",
    "                escape=True\n",
    "                break\n",
    "            nx=x+dx[i]\n",
    "            ny=y+dy[i]\n",
    "            while 0<=nx<n and 0<=ny<n:\n",
    "                # 학생인 경우 찾았다는 기록을 남기고 탈출\n",
    "                if graph[nx][ny]=='S':\n",
    "                    graph[nx][ny]='T'\n",
    "                    find=True\n",
    "                    break\n",
    "                # 장애물 만난경우 탈출\n",
    "                if graph[nx][ny]=='O':\n",
    "                    break\n",
    "                # 장애물이 아니면 계속해서 시선 한칸씩 증가\n",
    "                if graph[nx][ny]!='O':\n",
    "                    graph[nx][ny]=='T'\n",
    "                    nx=nx+dx[i]\n",
    "                    ny=ny+dy[i]\n",
    "\n",
    "    #선생님이 찾은경우\n",
    "    if find:\n",
    "        return False\n",
    "    #못찾은 경우\n",
    "    else:\n",
    "        return True\n",
    "\n",
    "#장애물 세팅\n",
    "def put_obst(candidate,board):\n",
    "    for x,y in candidate:\n",
    "        board[x][y]='O'\n",
    "    return board\n",
    "\n",
    "#찾은 경우\n",
    "find=False\n",
    "#정답인 경우\n",
    "succ=False\n",
    "for candidate in candidates:\n",
    "    #선생 위치는 계속해서 넣어준다\n",
    "    q=deque(teacher)\n",
    "    #새로운 매트릭스에 복사시켜서 사용\n",
    "    board=copy.deepcopy(graph)\n",
    "    board=put_obst(candidate,board)\n",
    "    find=detect(q,board)\n",
    "    if find==True:\n",
    "        succ=True\n",
    "\n",
    "if succ:\n",
    "    print('YES')\n",
    "else:\n",
    "    print('NO')\n",
    "    "
   ]
  },
  {
   "cell_type": "markdown",
   "id": "68e2e910",
   "metadata": {},
   "source": [
    "## 21.인구 이동\n",
    "https://www.acmicpc.net/problem/16234"
   ]
  },
  {
   "cell_type": "code",
   "execution_count": 81,
   "id": "0a123543",
   "metadata": {},
   "outputs": [
    {
     "name": "stdout",
     "output_type": "stream",
     "text": [
      "2 20 50\n",
      "50 30\n",
      "20 40\n",
      "1\n"
     ]
    }
   ],
   "source": [
    "from collections import deque\n",
    "import copy\n",
    "\n",
    "#입력정의\n",
    "n,l,r=map(int,input().split())\n",
    "graph=[]\n",
    "for _ in range(n):\n",
    "    data=list(map(int,input().split()))\n",
    "    graph.append(data)\n",
    "\n",
    "#(0,0)에서 시작\n",
    "cur_x,cur_y=0,0\n",
    "\n",
    "\n",
    "\n",
    "\n",
    "dx=[1,-1,0,0]\n",
    "dy=[0,0,1,-1]\n",
    "\n",
    "def move_once(visited,graph,cur_x,cur_y):\n",
    "    global is_move\n",
    "    #현재 국가의 인원\n",
    "    total=graph[cur_x][cur_y]\n",
    "    q=deque()\n",
    "    q.append([cur_x,cur_y])\n",
    "    temp=[]\n",
    "    temp.append([cur_x,cur_y])\n",
    "    while q:\n",
    "        x,y=q.popleft()\n",
    "        visited[x][y]=True\n",
    "        for i in range(4):\n",
    "            nx=x+dx[i]\n",
    "            ny=y+dy[i]\n",
    "            if 0<=nx<n and 0<=ny<n:\n",
    "                #l이상 r이하이며 방문한 적 없는 경우\n",
    "                if visited[nx][ny]==False and (l<=abs(graph[x][y]-graph[nx][ny])<=r):\n",
    "                    visited[nx][ny]=True\n",
    "                    q.append([nx,ny])\n",
    "                    total+=graph[nx][ny]\n",
    "                    temp.append([nx,ny])\n",
    "    #개방한 국가의 사람 수\n",
    "    open_num=len(temp)\n",
    "    #국가 인원 평균\n",
    "    move_people=total//open_num\n",
    "    \n",
    "    #새로운 매트릭스 정의\n",
    "    if open_num>1:\n",
    "        is_move=True\n",
    "        for x,y in temp:\n",
    "            graph[x][y]=move_people\n",
    "\n",
    "result=0\n",
    "while True:\n",
    "    is_move=False\n",
    "    #방문\n",
    "    visited=[[False]*n for _ in range(n)]\n",
    "    #각 위치마다 이동 가능한지 확인\n",
    "    for i in range(n):\n",
    "        for j in range(n):\n",
    "            if visited[i][j]==False:\n",
    "                move_once(visited,graph,i,j)\n",
    "    if is_move:\n",
    "        result+=1\n",
    "    else:\n",
    "        break\n",
    "        \n",
    "print(result)"
   ]
  },
  {
   "cell_type": "markdown",
   "id": "2bbe7e14",
   "metadata": {},
   "source": [
    "## 22. 블록 이동하기\n",
    "https://school.programmers.co.kr/learn/courses/30/lessons/60063"
   ]
  },
  {
   "cell_type": "code",
   "execution_count": null,
   "id": "d92e58f3",
   "metadata": {},
   "outputs": [],
   "source": []
  },
  {
   "cell_type": "markdown",
   "id": "b1f6414b",
   "metadata": {},
   "source": [
    "# 정렬"
   ]
  },
  {
   "cell_type": "markdown",
   "id": "20b330cc",
   "metadata": {},
   "source": [
    "## 23. 국영수\n",
    "https://www.acmicpc.net/problem/10825"
   ]
  },
  {
   "cell_type": "code",
   "execution_count": 84,
   "id": "dc192d2e",
   "metadata": {},
   "outputs": [
    {
     "name": "stdout",
     "output_type": "stream",
     "text": [
      "12\n",
      "Junkyu 50 60 100\n",
      "Sangkeun 80 60 50\n",
      "Sunyoung 80 70 100\n",
      "Soong 50 60 90\n",
      "Haebin 50 60 100\n",
      "Kangsoo 60 80 100\n",
      "Donghyuk 80 60 100\n",
      "Sei 70 70 70\n",
      "Wonseob 70 70 90\n",
      "Sanghyun 70 70 80\n",
      "nsj 80 80 80\n",
      "Taewhan 50 60 90\n",
      "Donghyuk\n",
      "Sangkeun\n",
      "Sunyoung\n",
      "nsj\n",
      "Wonseob\n",
      "Sanghyun\n",
      "Sei\n",
      "Kangsoo\n",
      "Haebin\n",
      "Junkyu\n",
      "Soong\n",
      "Taewhan\n"
     ]
    }
   ],
   "source": [
    "n=int(input())\n",
    "array=[]\n",
    "for _ in range(n):\n",
    "    #이름,국어,영어,수학\n",
    "    data=list(input().split())\n",
    "    array.append(data)\n",
    "\n",
    "#국어 내림차순,영어 오름차순, 수학 내림차순, 이름 오름차순\n",
    "array.sort(key=lambda x:(-int(x[1]),int(x[2]),-int(x[3]),x[0]))\n",
    "\n",
    "for data in array:\n",
    "    print(data[0])"
   ]
  },
  {
   "cell_type": "markdown",
   "id": "bb73b667",
   "metadata": {},
   "source": [
    "## 24.안테나\n",
    "https://www.acmicpc.net/problem/18310"
   ]
  },
  {
   "cell_type": "code",
   "execution_count": 85,
   "id": "dc46cc16",
   "metadata": {},
   "outputs": [
    {
     "name": "stdout",
     "output_type": "stream",
     "text": [
      "4\n",
      "5 1 7 9\n",
      "1\n"
     ]
    }
   ],
   "source": [
    "n=int(input())\n",
    "array=list(map(int,input().split()))\n",
    "\n",
    "array.sort()\n",
    "#항상 가운데 위치한 집에 두는 것이 optimal하다\n",
    "print(array[(len(array)-1)//2])"
   ]
  },
  {
   "cell_type": "markdown",
   "id": "525084c6",
   "metadata": {},
   "source": [
    "## 25.실패율\n",
    "https://school.programmers.co.kr/learn/courses/30/lessons/42889"
   ]
  },
  {
   "cell_type": "code",
   "execution_count": null,
   "id": "90e5312b",
   "metadata": {},
   "outputs": [],
   "source": [
    "def solution(N, stages):\n",
    "    answer = []\n",
    "    #실패한 것과 그 문제번호를 담을 배열\n",
    "    fail_array=[]\n",
    "    #실패확률\n",
    "    failure=.0\n",
    "    #해당 문제에 실패 사람 수\n",
    "    people=0\n",
    "    # 전체 사람 수\n",
    "    num=len(stages)\n",
    "    for i in range(1,N+1):\n",
    "        people=stages.count(i)\n",
    "        # 분모가 0인 경우를 막기 위해\n",
    "        if num==0:\n",
    "            failure=0\n",
    "        else:\n",
    "            failure=people/num\n",
    "        # 사람 수 만큼 전체 사람 수 제거\n",
    "        num-=people\n",
    "        fail_array.append([failure,i])\n",
    "    # 실패 확률, 사람 인덱스 순서로 오름차순 정렬\n",
    "    fail_array.sort(key=lambda x:(-x[0],x[1]))\n",
    "    answer=[i[1] for i in fail_array]\n",
    "    return answer"
   ]
  },
  {
   "cell_type": "markdown",
   "id": "481a8866",
   "metadata": {},
   "source": [
    "## 26.카드 정렬하기\n",
    "https://www.acmicpc.net/problem/1715"
   ]
  },
  {
   "cell_type": "code",
   "execution_count": 92,
   "id": "003a7ade",
   "metadata": {},
   "outputs": [
    {
     "name": "stdout",
     "output_type": "stream",
     "text": [
      "3\n",
      "10\n",
      "20\n",
      "40\n",
      "100\n"
     ]
    }
   ],
   "source": [
    "import heapq\n",
    "\n",
    "n=int(input())\n",
    "array=[]\n",
    "for _ in range(n):\n",
    "    data=int(input())\n",
    "    #힙에 저장하면 작은 값이 제일 위에 온다\n",
    "    heapq.heappush(array,data)\n",
    "\n",
    "result,tmp=0,0\n",
    "# 힙에서 두개를 pop하므로 1개보다 클 경우만 while문\n",
    "while len(array)>1:\n",
    "    first=heapq.heappop(array)\n",
    "    second=heapq.heappop(array)\n",
    "    tmp=first+second\n",
    "    #값을 계속해서 더해준다\n",
    "    result+=tmp\n",
    "    heapq.heappush(array,tmp)\n",
    "\n",
    "print(result)"
   ]
  },
  {
   "cell_type": "markdown",
   "id": "da49759e",
   "metadata": {},
   "source": [
    "# 이진탐색"
   ]
  },
  {
   "cell_type": "markdown",
   "id": "bfdfdf0d",
   "metadata": {},
   "source": [
    "## 27. 정렬된 배열에서 특정 수의 개수 구하기"
   ]
  },
  {
   "cell_type": "code",
   "execution_count": 6,
   "id": "808aa3cf",
   "metadata": {},
   "outputs": [
    {
     "name": "stdout",
     "output_type": "stream",
     "text": [
      "7 4\n",
      "1 1 2 2 2 2 3\n",
      "-1\n"
     ]
    }
   ],
   "source": [
    "from bisect import bisect_left,bisect_right\n",
    "\n",
    "n,x=map(int,input().split())\n",
    "array=list(map(int,input().split()))\n",
    "\n",
    "#bisect로 왼쪽부터 해당 값 위치와 우측부터 해당 값 위치를 빼면 개수\n",
    "def count_by_value(array,left_val,right_val):\n",
    "    left_i=bisect_left(array,left_val)\n",
    "    right_i=bisect_right(array,right_val)\n",
    "    \n",
    "    if right_i==left_i:\n",
    "        return -1\n",
    "    else:\n",
    "        return right_i-left_i\n",
    "\n",
    "print(count_by_value(array,x,x))"
   ]
  },
  {
   "cell_type": "markdown",
   "id": "582c0219",
   "metadata": {},
   "source": [
    "## 28.고정점 찾기"
   ]
  },
  {
   "cell_type": "code",
   "execution_count": 2,
   "id": "3e8b726b",
   "metadata": {},
   "outputs": [
    {
     "name": "stdout",
     "output_type": "stream",
     "text": [
      "5\n",
      "-15 -6 1 3 7\n",
      "3\n"
     ]
    }
   ],
   "source": [
    "n=int(input())\n",
    "array=list(map(int,input().split()))\n",
    "\n",
    "#이진탐색을 이용\n",
    "def binary_search(array,start,end):\n",
    "    # 못찾은경우 -1 출력\n",
    "    if start>end:\n",
    "        return -1\n",
    "    mid=(start+end)//2\n",
    "    #고정점 : 인덱스값과 그 해당 값이 같은 경우\n",
    "    if array[mid]==mid:\n",
    "        return mid\n",
    "    elif array[mid]>mid:\n",
    "        return binary_search(array,start,mid-1)\n",
    "    else:        \n",
    "        return binary_search(array,mid+1,end)\n",
    "\n",
    "print(binary_search(array,0,n-1))"
   ]
  },
  {
   "cell_type": "markdown",
   "id": "55eb41ed",
   "metadata": {},
   "source": [
    "## 29. 공유기 설치"
   ]
  },
  {
   "cell_type": "code",
   "execution_count": 7,
   "id": "947ce427",
   "metadata": {},
   "outputs": [
    {
     "name": "stdout",
     "output_type": "stream",
     "text": [
      "5 3\n",
      "1\n",
      "2\n",
      "8\n",
      "4\n",
      "9\n",
      "3\n"
     ]
    }
   ],
   "source": [
    "n,c=map(int,input().split())\n",
    "array=[]\n",
    "for _ in range(n):\n",
    "    data=int(input())\n",
    "    array.append(data)\n",
    "    \n",
    "array.sort()\n",
    "\n",
    "#start와 end에 설치\n",
    "data=c-2\n",
    "\n",
    "def binary_search(array,count,start,end):\n",
    "    if start>end:\n",
    "        return None\n",
    "    mid=(start+end)//2\n",
    "    # 다 설치한 경우\n",
    "    if count==0:\n",
    "        return abs(array[start]-array[end])\n",
    "    #더 가까운 곳을 선택, 설치 후 가까운 곳이 왼쪽인 경우 선택 \n",
    "    elif abs(array[start]-array[mid])>abs(array[end]-array[mid]):\n",
    "        count-=1\n",
    "        return binary_search(array,count,mid,end)\n",
    "    # 가까운 곳이 우측인 경우\n",
    "    else:\n",
    "        count-=1\n",
    "        return binary_search(array,count,start,mid)\n",
    "    \n",
    "print(binary_search(array,data,0,n-1))"
   ]
  },
  {
   "cell_type": "markdown",
   "id": "160136d6",
   "metadata": {},
   "source": [
    "## 30. 가사 검색\n",
    "https://school.programmers.co.kr/learn/courses/30/lessons/60060"
   ]
  },
  {
   "cell_type": "code",
   "execution_count": null,
   "id": "44dfd0cf",
   "metadata": {},
   "outputs": [],
   "source": [
    "from bisect import bisect_left, bisect_right\n",
    "\n",
    "def count_by_value(array,left_val,right_val):\n",
    "    left_i=bisect_left(array,left_val)\n",
    "    right_i=bisect_right(array,right_val)\n",
    "    return right_i-left_i\n",
    "\n",
    "\n",
    "def solution(words, queries):\n",
    "    answer=[]\n",
    "    tmp=[[] for _ in range(len(words)+1)]\n",
    "    reverse_tmp=[[] for _ in range(len(words)+1)]\n",
    "    \n",
    "    #같은 길이의 단어들을 묶어놓음 -> 길이 비교 불필요해지기 때문\n",
    "    for word in words:\n",
    "        tmp[len(word)].append(word)\n",
    "        reverse_tmp[len(word)].append(word[::-1])\n",
    "    #bisect이용을 위해 sorting\n",
    "    for i in range(len(words)+1):\n",
    "        tmp[i].sort()\n",
    "        reverse_tmp[i].sort()\n",
    "        \n",
    "    for query in queries:\n",
    "        #시작이 ?가 아닌경우\n",
    "        if query[0]!='?':\n",
    "            #?을 a~z로 바꿔서 매칭되는 개수 찾기\n",
    "            result=count_by_value(tmp[len(query)],query.replace('?','a'),query.replace('?','z'))\n",
    "        else:\n",
    "            result=count_by_value(reverse_tmp[len(query)],query[::-1].replace('?','a'),query[::-1].replace('?','z'))\n",
    "        answer.append(result)\n",
    "\n",
    "    return answer\n",
    "\n"
   ]
  },
  {
   "cell_type": "markdown",
   "id": "c0e4fc46",
   "metadata": {},
   "source": [
    "# 다이나믹 프로그래밍 문제"
   ]
  },
  {
   "cell_type": "markdown",
   "id": "53231ece",
   "metadata": {},
   "source": [
    "## 31.금광"
   ]
  },
  {
   "cell_type": "code",
   "execution_count": 23,
   "id": "487b79dc",
   "metadata": {},
   "outputs": [
    {
     "name": "stdout",
     "output_type": "stream",
     "text": [
      "4 4\n",
      "1 3 1 5 2 2 4 1 5 0 2 3 0 6 1 2\n",
      "[[1, 5, 8, 16], [2, 7, 11, 14], [5, 5, 13, 16], [0, 11, 12, 15]]\n",
      "16\n"
     ]
    }
   ],
   "source": [
    "n,m=map(int,input().split())\n",
    "tmp=list(map(int,input().split()))\n",
    "array=[[] for _ in range(n)]\n",
    "for i in range(len(tmp)):\n",
    "    array[i//m].append(tmp[i])\n",
    "\n",
    "d=[[0]*m for _ in range(n)]\n",
    "\n",
    "# (i,0)의 값들을 대입\n",
    "for i in range(n):\n",
    "    d[i][0]=array[i][0]\n",
    "\n",
    "# (i,j)는 (i,j-1),(i-1,j-1),(i+1,j-1) 중 과의 합중에 최대값이다\n",
    "for y in range(m):\n",
    "    for x in range(n):\n",
    "        if x==0:\n",
    "            d[x][y]=max(array[x][y]+d[x][y-1],array[x][y]+d[x+1][y-1])\n",
    "        elif x==n-1:\n",
    "            d[x][y]=max(array[x][y]+d[x-1][y-1],array[x][y]+d[x][y-1])\n",
    "        else:\n",
    "            d[x][y]=max(array[x][y]+d[x-1][y-1],array[x][y]+d[x][y-1],array[x][y]+d[x+1][y-1])\n",
    "\n",
    "result=0\n",
    "for i in range(n):\n",
    "    result=max(max(d[i]),result)\n",
    "print(d)\n",
    "print(result)\n",
    "#1 3 3 2 2 1 4 1 0 6 4 7 -> 19\n",
    "#1 3 1 5 2 2 4 1 5 0 2 3 0 6 1 2 -> 16\n"
   ]
  },
  {
   "cell_type": "markdown",
   "id": "e70b4b76",
   "metadata": {},
   "source": [
    "# 32.정수 삼각형\n",
    "https://www.acmicpc.net/problem/1932"
   ]
  },
  {
   "cell_type": "code",
   "execution_count": 25,
   "id": "14a0d98a",
   "metadata": {},
   "outputs": [
    {
     "name": "stdout",
     "output_type": "stream",
     "text": [
      "5\n",
      "7\n",
      "3 8\n",
      "8 1 0\n",
      "2 7 4 4\n",
      "4 5 2 6 5\n",
      "30\n"
     ]
    }
   ],
   "source": [
    "n=int(input())\n",
    "array=[]\n",
    "for i in range(n):\n",
    "    data=list(map(int,input().split()))\n",
    "    array.append(data)\n",
    "\n",
    "for i in range(1,n):\n",
    "    # 1,2,3,4...이런식으로 증가하니\n",
    "    for j in range(i+1):\n",
    "        #제일 왼쪽, 바로 위의 값만 가져올 수 있다\n",
    "        if j==0:\n",
    "            left_up=0\n",
    "        else:\n",
    "            left_up=array[i-1][j-1]\n",
    "        #가장 우측, 왼쪽 위의 값만 가져올 수 있다\n",
    "        if j==i:\n",
    "            up=0\n",
    "        else:\n",
    "            up=array[i-1][j]\n",
    "        array[i][j]=array[i][j]+max(left_up,up)\n",
    "\n",
    "print(max(array[n-1]))"
   ]
  },
  {
   "cell_type": "markdown",
   "id": "37093eab",
   "metadata": {},
   "source": [
    "## 33.퇴사\n",
    "https://www.acmicpc.net/problem/14501"
   ]
  },
  {
   "cell_type": "code",
   "execution_count": 31,
   "id": "45e8d058",
   "metadata": {},
   "outputs": [
    {
     "name": "stdout",
     "output_type": "stream",
     "text": [
      "7\n",
      "3 10\n",
      "5 20\n",
      "1 10\n",
      "1 20\n",
      "2 15\n",
      "4 40\n",
      "2 200\n",
      "[45, 45, 45, 35, 15, 0, 0, 0]\n"
     ]
    }
   ],
   "source": [
    "#입력 받기\n",
    "n=int(input())\n",
    "array=[]\n",
    "for i in range(n):\n",
    "    data=list(map(int,input().split()))\n",
    "    array.append(data)\n",
    "\n",
    "# 이전값을 활용할 배열 생성\n",
    "d=[0]*(n+1)\n",
    "\n",
    "max_val=0\n",
    "#거꾸로 확인\n",
    "for i in range(n-1,-1,-1):\n",
    "    #일을 햇을 때 끝나는 시간\n",
    "    time=i+array[i][0]\n",
    "    #끝나는 시간이 그 해당일을 넘어가지 않는다면\n",
    "    if time<=n:\n",
    "        # 그 이전 것 값과 현재 값을 더한 것과, 이전까지 값중 가장 큰 값 비교하여 선택\n",
    "        d[i]=max(d[time]+array[i][1],max_val)\n",
    "        max_val=d[i]\n",
    "    # 끝나는 시간이 해당일을 초기화 할 경우 그때까지 최고 금액 변환 X\n",
    "    else:\n",
    "        d[i]=max_val\n",
    "print(max_val)"
   ]
  },
  {
   "cell_type": "markdown",
   "id": "bad5e025",
   "metadata": {},
   "source": [
    "## 34. 병사 배치하기\n",
    "- 가장 긴 증가하는 부분수열(LSI)\n",
    "- https://www.acmicpc.net/problem/18353"
   ]
  },
  {
   "cell_type": "code",
   "execution_count": 11,
   "id": "37ffec6e",
   "metadata": {},
   "outputs": [
    {
     "name": "stdout",
     "output_type": "stream",
     "text": [
      "7\n",
      "15 11 4 8 5 2 4\n",
      "2\n"
     ]
    }
   ],
   "source": [
    "#O(N^2) time\n",
    "\n",
    "n=int(input())\n",
    "\n",
    "array=list(map(int,input().split()))\n",
    "#작은 값부터 수행하기 위해\n",
    "array.reverse()\n",
    "\n",
    "# 순위를 매길 배열 생성\n",
    "d=[0]*n\n",
    "\n",
    "for i in range(n):\n",
    "    for j in range(i):\n",
    "        #이전에 배열들과 비교\n",
    "        if array[i]>array[j]:\n",
    "            # 이전 배열들 중 d[0]에서 1값씩 더한 것과 최고 값 비교해서 큰 값 선택\n",
    "            d[i]=max(d[i],d[j]+1)\n",
    "\n",
    "# print(array)\n",
    "# print(d)\n",
    "print(n-1-max(d))"
   ]
  },
  {
   "cell_type": "code",
   "execution_count": 34,
   "id": "3f78ad54",
   "metadata": {},
   "outputs": [
    {
     "name": "stdout",
     "output_type": "stream",
     "text": [
      "4\n"
     ]
    }
   ],
   "source": [
    "from bisect import bisect_left as bl\n",
    "array=[1,2,5,8,10]\n",
    "array.sort()\n",
    "print(bl(array,10))"
   ]
  },
  {
   "cell_type": "code",
   "execution_count": 14,
   "id": "30d887ab",
   "metadata": {},
   "outputs": [
    {
     "name": "stdout",
     "output_type": "stream",
     "text": [
      "7\n",
      "15 11 4 8 5 2 4\n",
      "4 0 []\n",
      "2 0 [4]\n",
      "5 1 [2]\n",
      "8 2 [2, 5]\n",
      "4 1 [2, 5, 8]\n",
      "11 3 [2, 4, 8]\n",
      "15 4 [2, 4, 8, 11]\n",
      "2\n"
     ]
    }
   ],
   "source": [
    "##O(NlogN)time\n",
    "\n",
    "from bisect import bisect_left as bl\n",
    "def LIS(L):\n",
    "    best = []\n",
    "    for i in L:\n",
    "        # 배열의 길이보다 더 작은 수가 올 경우 그 값이 들어갈 인덱스가 return\n",
    "        pos = bl(best, i)\n",
    "        print(i,pos,best)\n",
    "        #i값이 best배열 중 가장 큰 값이거나 가장 큰 값보다 바로 작은 값일 경우 \n",
    "        if len(best) <= pos: \n",
    "            best.append(i)\n",
    "        #더 작은 값이 있으면 대체\n",
    "        else: \n",
    "            best[pos] = i\n",
    "    return len(best)\n",
    "\n",
    "n = int(input())\n",
    "A = list(map(int,input().split()))[::-1]\n",
    "print(n - LIS(A))"
   ]
  },
  {
   "cell_type": "markdown",
   "id": "6374c96a",
   "metadata": {},
   "source": [
    "## 35.못생긴 수"
   ]
  },
  {
   "cell_type": "code",
   "execution_count": 37,
   "id": "2e220498",
   "metadata": {},
   "outputs": [
    {
     "name": "stdout",
     "output_type": "stream",
     "text": [
      "10\n",
      "[1, 2, 3, 4, 5, 6, 8, 9, 10, 12] 6 4 2 16 15 15\n"
     ]
    }
   ],
   "source": [
    "n=int(input())\n",
    "\n",
    "# 못생긴 수를 담을 배열\n",
    "d=[0]*n\n",
    "# 1은 못생긴 수\n",
    "d[0]=1\n",
    "sec,three,five=2,3,5\n",
    "# 2,3,5의 배수 담을 인덱스\n",
    "i2,i3,i5=0,0,0\n",
    "for i in range(1,n):\n",
    "    # 2,3,5의 약수로 가지는 값들 중 가장 작은 값을 넣어준다\n",
    "    d[i]=min(sec,three,five)\n",
    "    #2를 약수로 가지는 경우\n",
    "    if sec==d[i]:\n",
    "        # 이전 2 또는 3또는 5를 약수로 가지는 최대 인덱스 저장, 2^n값\n",
    "        i2+=1\n",
    "        sec=d[i2]*2\n",
    "    # 2, 또는 3을 약수로 가지는 경우\n",
    "    if d[i]==three:\n",
    "        i3+=1\n",
    "        three=d[i3]*3\n",
    "    # 2 또는 3 또는 5를 약수로 가지는 경우\n",
    "    if d[i]==five:\n",
    "        i5+=1\n",
    "        five=d[i5]*5\n",
    "print(d,i2,i3,i5,sec,three,five)"
   ]
  },
  {
   "cell_type": "markdown",
   "id": "e9c2f29b",
   "metadata": {},
   "source": [
    "## 36.편집거리"
   ]
  },
  {
   "cell_type": "code",
   "execution_count": 43,
   "id": "a317ac42",
   "metadata": {},
   "outputs": [
    {
     "name": "stdout",
     "output_type": "stream",
     "text": [
      "3\n"
     ]
    }
   ],
   "source": [
    "a=input()\n",
    "b=input()\n",
    "\n",
    "\n",
    "def edit_dist(str1, str2):\n",
    "    # n x m 배열로 각 위치에서 해당 문자열을 만들기 위한 필요 연산 수 기록\n",
    "    dp = [[0] * (len(str2)+1) for _ in range(len(str1) + 1)]\n",
    "    # (i,0)에서 b를 만들기위한 연산은 b의 길이만큼 필요\n",
    "    for i in range(1, len(str1)+1):\n",
    "        dp[i][0] = i\n",
    "    # (0,i)에서 a를 만들기위한 연산은 a의 길이만큼 필요\n",
    "    for j in range(1, len(str2)+1):\n",
    "        dp[0][j] = j\n",
    "\n",
    "    for i in range(1, len(str1)+1):\n",
    "        for j in range(1, len(str2)+1):\n",
    "            # 해당 위치의 문자열이 같은 경우 위의 대각선 위치 값과 동일\n",
    "            if str1[i-1] == str2[j-1]:\n",
    "                dp[i][j] = dp[i-1][j-1]\n",
    "            # 이전 값들에서 어떤 행위를 취해주면 해당 값이 나온다. 그 중에서 가장 작은 값을 선택 후 한번의 연산을 더 해주면 결과가 나온다\n",
    "            else:\n",
    "                dp[i][j] = min(dp[i-1][j-1], dp[i-1][j], dp[i][j-1]) + 1\n",
    "\n",
    "    return dp[-1][-1]\n",
    "\n",
    "\n",
    "print(edit_dist(a,b))"
   ]
  },
  {
   "cell_type": "code",
   "execution_count": null,
   "id": "3d76d0cb",
   "metadata": {},
   "outputs": [],
   "source": []
  }
 ],
 "metadata": {
  "kernelspec": {
   "display_name": "Python 3 (ipykernel)",
   "language": "python",
   "name": "python3"
  },
  "language_info": {
   "codemirror_mode": {
    "name": "ipython",
    "version": 3
   },
   "file_extension": ".py",
   "mimetype": "text/x-python",
   "name": "python",
   "nbconvert_exporter": "python",
   "pygments_lexer": "ipython3",
   "version": "3.9.7"
  }
 },
 "nbformat": 4,
 "nbformat_minor": 5
}
