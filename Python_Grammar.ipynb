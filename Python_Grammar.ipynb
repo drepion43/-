{
 "cells": [
  {
   "cell_type": "markdown",
   "id": "0d9b42cd",
   "metadata": {},
   "source": [
    "# 1. 자료형"
   ]
  },
  {
   "cell_type": "markdown",
   "id": "f2fd72ea",
   "metadata": {},
   "source": [
    "## 1. 수 자료형"
   ]
  },
  {
   "cell_type": "code",
   "execution_count": 2,
   "id": "4ff84c1e",
   "metadata": {},
   "outputs": [
    {
     "name": "stdout",
     "output_type": "stream",
     "text": [
      "1000\n",
      "-7\n"
     ]
    }
   ],
   "source": [
    "# 정수형\n",
    "a=1000\n",
    "print(a)\n",
    "a=-7\n",
    "print(a)"
   ]
  },
  {
   "cell_type": "code",
   "execution_count": 4,
   "id": "6c0457b0",
   "metadata": {},
   "outputs": [
    {
     "name": "stdout",
     "output_type": "stream",
     "text": [
      "15.76\n",
      "1000000.0\n",
      "7566.6\n"
     ]
    }
   ],
   "source": [
    "#실수형\n",
    "a=15.76\n",
    "print(a)\n",
    "a=1e6\n",
    "print(a)\n",
    "a=75.666e2\n",
    "print(a)"
   ]
  },
  {
   "cell_type": "markdown",
   "id": "563d970d",
   "metadata": {},
   "source": [
    "## 2.리스트 자료형"
   ]
  },
  {
   "cell_type": "code",
   "execution_count": 5,
   "id": "b8b63df5",
   "metadata": {},
   "outputs": [
    {
     "name": "stdout",
     "output_type": "stream",
     "text": [
      "4\n",
      "[]\n",
      "[]\n"
     ]
    }
   ],
   "source": [
    "a=[1,2,3,4,5,6,7,8,9]\n",
    "print(a[3])\n",
    "a=list()\n",
    "print(a)\n",
    "a=[]\n",
    "print(a)"
   ]
  },
  {
   "cell_type": "code",
   "execution_count": 7,
   "id": "94988d8a",
   "metadata": {},
   "outputs": [
    {
     "name": "stdout",
     "output_type": "stream",
     "text": [
      "10\n",
      "8\n",
      "[2, 3, 4]\n"
     ]
    }
   ],
   "source": [
    "#리스트 인덱싱\n",
    "a=[1,2,3,4,5,6,7,8,9,10]\n",
    "print(a[-1])\n",
    "print(a[-3])\n",
    "print(a[1:4])"
   ]
  },
  {
   "cell_type": "code",
   "execution_count": 9,
   "id": "22861c53",
   "metadata": {},
   "outputs": [
    {
     "name": "stdout",
     "output_type": "stream",
     "text": [
      "[1, 3, 5, 7, 9, 11, 13, 15, 17, 19]\n",
      "[0, 1, 4, 9, 16, 25, 36, 49, 64, 81, 100, 121, 144, 169, 196, 225, 256, 289, 324, 361]\n"
     ]
    }
   ],
   "source": [
    "#리스트 컴프리헨셩\n",
    "lst=[i for i in range(20) if i%2==1]\n",
    "print(lst)\n",
    "lst=[i*i for i in range(20)]\n",
    "print(lst)"
   ]
  },
  {
   "cell_type": "code",
   "execution_count": 10,
   "id": "ac226412",
   "metadata": {},
   "outputs": [
    {
     "name": "stdout",
     "output_type": "stream",
     "text": [
      "[1, 4, 3]\n",
      "[1, 4, 3, 2]\n",
      "[1, 2, 3, 4]\n",
      "[4, 3, 2, 1]\n",
      "[1, 2, 3, 4]\n",
      "[1, 2, 3, 3, 4]\n",
      "[2, 3, 3, 4]\n"
     ]
    }
   ],
   "source": [
    "#리스트 관련 메서드\n",
    "a=[1,4,3]\n",
    "print(a)\n",
    "a.append(2)\n",
    "print(a)\n",
    "a.sort()\n",
    "print(a)\n",
    "a.sort(reverse=True)\n",
    "print(a)\n",
    "a.reverse()\n",
    "print(a)\n",
    "a.insert(2,3)\n",
    "print(a)\n",
    "a.remove(1)\n",
    "print(a)"
   ]
  },
  {
   "cell_type": "code",
   "execution_count": 11,
   "id": "384749ea",
   "metadata": {},
   "outputs": [
    {
     "name": "stdout",
     "output_type": "stream",
     "text": [
      "[1, 2, 4]\n"
     ]
    }
   ],
   "source": [
    "# 특정 문자 제거\n",
    "a=[1,2,3,4,5,5,5]\n",
    "remove_set={3,5}\n",
    "result=[i for i in a if i not in remove_set]\n",
    "print(result)"
   ]
  },
  {
   "cell_type": "markdown",
   "id": "3b6ae774",
   "metadata": {},
   "source": [
    "## 3. 문자열 자료형"
   ]
  },
  {
   "cell_type": "code",
   "execution_count": 12,
   "id": "32b93d7f",
   "metadata": {},
   "outputs": [
    {
     "name": "stdout",
     "output_type": "stream",
     "text": [
      "Hello World!\n",
      "Don't you know \"Python\"?\n"
     ]
    }
   ],
   "source": [
    "data=\"Hello World!\"\n",
    "print(data)\n",
    "data=\"Don't you know \\\"Python\\\"?\"\n",
    "print(data)"
   ]
  },
  {
   "cell_type": "code",
   "execution_count": 13,
   "id": "25fc69e3",
   "metadata": {},
   "outputs": [
    {
     "name": "stdout",
     "output_type": "stream",
     "text": [
      "CD\n"
     ]
    }
   ],
   "source": [
    "a=\"ABCDE\"\n",
    "print(a[2:4])"
   ]
  },
  {
   "cell_type": "markdown",
   "id": "2f40d9bb",
   "metadata": {},
   "source": [
    "## 4. 튜플 자료형"
   ]
  },
  {
   "cell_type": "code",
   "execution_count": 14,
   "id": "e385ac19",
   "metadata": {},
   "outputs": [
    {
     "name": "stdout",
     "output_type": "stream",
     "text": [
      "(1, 2, 3, 4)\n"
     ]
    },
    {
     "ename": "TypeError",
     "evalue": "'tuple' object does not support item assignment",
     "output_type": "error",
     "traceback": [
      "\u001b[1;31m---------------------------------------------------------------------------\u001b[0m",
      "\u001b[1;31mTypeError\u001b[0m                                 Traceback (most recent call last)",
      "\u001b[1;32m~\\AppData\\Local\\Temp/ipykernel_18636/862635430.py\u001b[0m in \u001b[0;36m<module>\u001b[1;34m\u001b[0m\n\u001b[0;32m      1\u001b[0m \u001b[0ma\u001b[0m\u001b[1;33m=\u001b[0m\u001b[1;33m(\u001b[0m\u001b[1;36m1\u001b[0m\u001b[1;33m,\u001b[0m\u001b[1;36m2\u001b[0m\u001b[1;33m,\u001b[0m\u001b[1;36m3\u001b[0m\u001b[1;33m,\u001b[0m\u001b[1;36m4\u001b[0m\u001b[1;33m)\u001b[0m\u001b[1;33m\u001b[0m\u001b[1;33m\u001b[0m\u001b[0m\n\u001b[0;32m      2\u001b[0m \u001b[0mprint\u001b[0m\u001b[1;33m(\u001b[0m\u001b[0ma\u001b[0m\u001b[1;33m)\u001b[0m\u001b[1;33m\u001b[0m\u001b[1;33m\u001b[0m\u001b[0m\n\u001b[1;32m----> 3\u001b[1;33m \u001b[0ma\u001b[0m\u001b[1;33m[\u001b[0m\u001b[1;36m2\u001b[0m\u001b[1;33m]\u001b[0m\u001b[1;33m=\u001b[0m\u001b[1;36m7\u001b[0m \u001b[1;31m# 불가능\u001b[0m\u001b[1;33m\u001b[0m\u001b[1;33m\u001b[0m\u001b[0m\n\u001b[0m",
      "\u001b[1;31mTypeError\u001b[0m: 'tuple' object does not support item assignment"
     ]
    }
   ],
   "source": [
    "a=(1,2,3,4)\n",
    "print(a)\n",
    "a[2]=7 # 불가능"
   ]
  },
  {
   "cell_type": "markdown",
   "id": "e5335b07",
   "metadata": {},
   "source": [
    "## 5. 사전 자료형"
   ]
  },
  {
   "cell_type": "code",
   "execution_count": 16,
   "id": "7d1955fa",
   "metadata": {},
   "outputs": [
    {
     "name": "stdout",
     "output_type": "stream",
     "text": [
      "{'사과': 'Apple', '바나나': 'Banana', '코코넛': 'Coconut'}\n",
      "dict_keys(['사과', '바나나', '코코넛'])\n",
      "dict_values(['Apple', 'Banana', 'Coconut'])\n",
      "사과\n",
      "바나나\n",
      "코코넛\n"
     ]
    }
   ],
   "source": [
    "data=dict()\n",
    "data['사과']='Apple'\n",
    "data['바나나']='Banana'\n",
    "data['코코넛']='Coconut'\n",
    "print(data)\n",
    "\n",
    "key_lst=data.keys()\n",
    "val_lst=data.values()\n",
    "print(key_lst)\n",
    "print(val_lst)\n",
    "for key in key_lst:\n",
    "    print(key)"
   ]
  },
  {
   "cell_type": "markdown",
   "id": "b6c1c23c",
   "metadata": {},
   "source": [
    "## 6. 집합 자료형"
   ]
  },
  {
   "cell_type": "code",
   "execution_count": 17,
   "id": "4cec75de",
   "metadata": {},
   "outputs": [
    {
     "name": "stdout",
     "output_type": "stream",
     "text": [
      "{1, 2, 3, 4, 5}\n",
      "{1, 2, 3, 4, 5}\n"
     ]
    }
   ],
   "source": [
    "data=set([1,1,2,3,4,4,5])\n",
    "print(data)\n",
    "\n",
    "data={1,1,2,3,4,4,5}\n",
    "print(data)"
   ]
  },
  {
   "cell_type": "code",
   "execution_count": 18,
   "id": "66260343",
   "metadata": {},
   "outputs": [
    {
     "name": "stdout",
     "output_type": "stream",
     "text": [
      "{1, 2, 3, 4, 5, 6}\n",
      "{3, 4, 5}\n",
      "{1, 2}\n"
     ]
    }
   ],
   "source": [
    "a=set([1,2,3,4,5])\n",
    "b=set([3,4,5,6])\n",
    "print(a|b)\n",
    "print(a&b)\n",
    "print(a-b)"
   ]
  },
  {
   "cell_type": "code",
   "execution_count": 19,
   "id": "6a6c1319",
   "metadata": {},
   "outputs": [
    {
     "name": "stdout",
     "output_type": "stream",
     "text": [
      "{1, 2, 3}\n",
      "{1, 2, 3, 4}\n",
      "{1, 2, 3, 4, 5, 6}\n",
      "{1, 2, 4, 5, 6}\n"
     ]
    }
   ],
   "source": [
    "data=set([1,2,3])\n",
    "print(data)\n",
    "data.add(4)\n",
    "print(data)\n",
    "\n",
    "data.update([5,6])\n",
    "print(data)\n",
    "\n",
    "data.remove(3)\n",
    "print(data)"
   ]
  },
  {
   "cell_type": "markdown",
   "id": "50631c0e",
   "metadata": {},
   "source": [
    "# 2. 조건문"
   ]
  },
  {
   "cell_type": "code",
   "execution_count": 20,
   "id": "f18a82bd",
   "metadata": {},
   "outputs": [
    {
     "name": "stdout",
     "output_type": "stream",
     "text": [
      "[1, 2, 4]\n"
     ]
    }
   ],
   "source": [
    "a=[1,2,3,4,5,5,5]\n",
    "remove_set={3,5}\n",
    "result=[i for i in a if i not in remove_set]\n",
    "print(result)"
   ]
  },
  {
   "cell_type": "markdown",
   "id": "8063afde",
   "metadata": {},
   "source": [
    "# 3. 반복문"
   ]
  },
  {
   "cell_type": "code",
   "execution_count": 21,
   "id": "a34a0590",
   "metadata": {},
   "outputs": [
    {
     "name": "stdout",
     "output_type": "stream",
     "text": [
      "45\n"
     ]
    }
   ],
   "source": [
    "i=1\n",
    "result=0\n",
    "while i <=9:\n",
    "    result+=i\n",
    "    i+=1\n",
    "    \n",
    "print(result)"
   ]
  },
  {
   "cell_type": "code",
   "execution_count": 22,
   "id": "61d92686",
   "metadata": {},
   "outputs": [
    {
     "name": "stdout",
     "output_type": "stream",
     "text": [
      "45\n"
     ]
    }
   ],
   "source": [
    "result=0\n",
    "\n",
    "for i in range(1,10):\n",
    "    result+=i\n",
    "    \n",
    "print(result)"
   ]
  },
  {
   "cell_type": "markdown",
   "id": "0e86bf66",
   "metadata": {},
   "source": [
    "# 4. 함수"
   ]
  },
  {
   "cell_type": "code",
   "execution_count": 23,
   "id": "6a041509",
   "metadata": {},
   "outputs": [
    {
     "name": "stdout",
     "output_type": "stream",
     "text": [
      "10\n"
     ]
    }
   ],
   "source": [
    "def add(a,b):\n",
    "    return a+b\n",
    "print(add(3,7))"
   ]
  },
  {
   "cell_type": "markdown",
   "id": "3d8dd399",
   "metadata": {},
   "source": [
    "# 5. 입출력"
   ]
  },
  {
   "cell_type": "code",
   "execution_count": 24,
   "id": "979261e0",
   "metadata": {},
   "outputs": [
    {
     "name": "stdout",
     "output_type": "stream",
     "text": [
      "5\n",
      "44 6 32 87 43\n",
      "[6, 32, 43, 44, 87]\n"
     ]
    }
   ],
   "source": [
    "n=int(input())\n",
    "data=list(map(int,input().split()))\n",
    "\n",
    "data.sort()\n",
    "print(data)"
   ]
  },
  {
   "cell_type": "code",
   "execution_count": 25,
   "id": "a5aeb0b1",
   "metadata": {},
   "outputs": [
    {
     "name": "stdout",
     "output_type": "stream",
     "text": [
      "3 5 7\n",
      "3 5 7\n"
     ]
    }
   ],
   "source": [
    "n,m,k=map(int,input().split())\n",
    "\n",
    "print(n,m,k)"
   ]
  },
  {
   "cell_type": "markdown",
   "id": "fd32ea1d",
   "metadata": {},
   "source": [
    "# 6. 주요 라이브러리의 문법과 유의점"
   ]
  },
  {
   "cell_type": "markdown",
   "id": "b48725b0",
   "metadata": {},
   "source": [
    "## 1. 내장함수"
   ]
  },
  {
   "cell_type": "code",
   "execution_count": 26,
   "id": "35c6b7a7",
   "metadata": {},
   "outputs": [
    {
     "name": "stdout",
     "output_type": "stream",
     "text": [
      "15\n"
     ]
    }
   ],
   "source": [
    "result=sum([1,2,3,4,5])\n",
    "print(result)"
   ]
  },
  {
   "cell_type": "code",
   "execution_count": 27,
   "id": "3f9e0cc0",
   "metadata": {},
   "outputs": [
    {
     "name": "stdout",
     "output_type": "stream",
     "text": [
      "2\n"
     ]
    }
   ],
   "source": [
    "result=min(7,3,5,2)\n",
    "print(result)"
   ]
  },
  {
   "cell_type": "code",
   "execution_count": 28,
   "id": "be743522",
   "metadata": {},
   "outputs": [
    {
     "name": "stdout",
     "output_type": "stream",
     "text": [
      "7\n"
     ]
    }
   ],
   "source": [
    "result=max(7,3,5,2)\n",
    "print(result)"
   ]
  },
  {
   "cell_type": "code",
   "execution_count": 30,
   "id": "997c6421",
   "metadata": {},
   "outputs": [
    {
     "name": "stdout",
     "output_type": "stream",
     "text": [
      "56\n"
     ]
    }
   ],
   "source": [
    "# eval : 입력한 수식 계산\n",
    "result=eval(\"(3+5)*7\")\n",
    "print(result)"
   ]
  },
  {
   "cell_type": "code",
   "execution_count": 31,
   "id": "3fbece39",
   "metadata": {},
   "outputs": [
    {
     "name": "stdout",
     "output_type": "stream",
     "text": [
      "[1, 4, 5, 8, 9]\n",
      "[9, 8, 5, 4, 1]\n"
     ]
    }
   ],
   "source": [
    "result=sorted([9,1,8,5,4])\n",
    "print(result)\n",
    "result=sorted([9,1,8,5,4],reverse=True)\n",
    "print(result)"
   ]
  },
  {
   "cell_type": "code",
   "execution_count": 32,
   "id": "de1377f1",
   "metadata": {},
   "outputs": [
    {
     "name": "stdout",
     "output_type": "stream",
     "text": [
      "[('이순신', 75), ('아무개', 50), ('홍길동', 35)]\n"
     ]
    }
   ],
   "source": [
    "# key는 사용자 정의 함수를 설정 가능\n",
    "result=sorted([('홍길동',35),('이순신',75),('아무개',50)], key=lambda x:x[1],reverse=True)\n",
    "print(result)"
   ]
  },
  {
   "cell_type": "markdown",
   "id": "2657bb6e",
   "metadata": {},
   "source": [
    "## 2.itertools"
   ]
  },
  {
   "cell_type": "code",
   "execution_count": 34,
   "id": "c7548439",
   "metadata": {},
   "outputs": [
    {
     "name": "stdout",
     "output_type": "stream",
     "text": [
      "[('A', 'B', 'C'), ('A', 'C', 'B'), ('B', 'A', 'C'), ('B', 'C', 'A'), ('C', 'A', 'B'), ('C', 'B', 'A')]\n"
     ]
    }
   ],
   "source": [
    "#순열\n",
    "\n",
    "from itertools import permutations\n",
    "data=['A','B','C']\n",
    "\n",
    "result=list(permutations(data,3))#3P3=3!\n",
    "\n",
    "print(result)"
   ]
  },
  {
   "cell_type": "code",
   "execution_count": 36,
   "id": "f8d29f5a",
   "metadata": {},
   "outputs": [
    {
     "name": "stdout",
     "output_type": "stream",
     "text": [
      "[('A', 'B', 'C')]\n"
     ]
    }
   ],
   "source": [
    "#조합\n",
    "\n",
    "from itertools import combinations\n",
    "data=['A','B','C']\n",
    "result=list(combinations(data,3))#3C3\n",
    "print(result)"
   ]
  },
  {
   "cell_type": "code",
   "execution_count": 40,
   "id": "80f8a3e5",
   "metadata": {},
   "outputs": [
    {
     "name": "stdout",
     "output_type": "stream",
     "text": [
      "[('A', 'A'), ('A', 'B'), ('A', 'C'), ('B', 'A'), ('B', 'B'), ('B', 'C'), ('C', 'A'), ('C', 'B'), ('C', 'C')]\n"
     ]
    }
   ],
   "source": [
    "#중복순열\n",
    "\n",
    "from itertools import product\n",
    "data=['A','B','C']\n",
    "result=list(product(data,repeat=2))#2개를 중복하여 순서를 고려하여 설정한다.\n",
    "print(result)"
   ]
  },
  {
   "cell_type": "code",
   "execution_count": 44,
   "id": "171ecf87",
   "metadata": {},
   "outputs": [
    {
     "name": "stdout",
     "output_type": "stream",
     "text": [
      "[('A', 'A'), ('A', 'B'), ('A', 'C'), ('B', 'B'), ('B', 'C'), ('C', 'C')]\n"
     ]
    }
   ],
   "source": [
    "#중복조합\n",
    "\n",
    "from itertools import combinations_with_replacement\n",
    "data=['A','B','C']\n",
    "result=list(combinations_with_replacement(data,2))#2개를 중복하여 뽑느다\n",
    "print(result)"
   ]
  },
  {
   "cell_type": "markdown",
   "id": "8a09db1d",
   "metadata": {},
   "source": [
    "## 3. heapq"
   ]
  },
  {
   "cell_type": "code",
   "execution_count": 49,
   "id": "7f33879c",
   "metadata": {},
   "outputs": [
    {
     "name": "stdout",
     "output_type": "stream",
     "text": [
      "[1, 3, 2, 6, 9, 5, 4, 7, 8, 9]\n",
      "[1, 2, 3, 4, 5, 6, 7, 8, 9, 9]\n"
     ]
    }
   ],
   "source": [
    "#최소 힙\n",
    "import heapq\n",
    "\n",
    "def heapsort(iterable):\n",
    "    h=[]\n",
    "    result=[]\n",
    "    for value in iterable:\n",
    "        heapq.heappush(h,value)\n",
    "    print(h)\n",
    "    for _ in range(len(h)):\n",
    "        result.append(heapq.heappop(h))\n",
    "    return result\n",
    "\n",
    "result=heapsort([1,3,5,7,9,2,4,6,8,9])\n",
    "print(result)"
   ]
  },
  {
   "cell_type": "code",
   "execution_count": 51,
   "id": "1377d221",
   "metadata": {},
   "outputs": [
    {
     "name": "stdout",
     "output_type": "stream",
     "text": [
      "[-9, -9, -4, -7, -8, -2, -3, -1, -6, -5]\n",
      "[9, 9, 8, 7, 6, 5, 4, 3, 2, 1]\n"
     ]
    }
   ],
   "source": [
    "#최대 힙\n",
    "import heapq\n",
    "\n",
    "def heapsort(iterable):\n",
    "    h=[]\n",
    "    result=[]\n",
    "    for value in iterable:\n",
    "        heapq.heappush(h,-value)\n",
    "    print(h)\n",
    "    for _ in range(len(h)):\n",
    "        result.append(-heapq.heappop(h))\n",
    "    return result\n",
    "\n",
    "result=heapsort([1,3,5,7,9,2,4,6,8,9])\n",
    "print(result)"
   ]
  },
  {
   "cell_type": "markdown",
   "id": "45aa62df",
   "metadata": {},
   "source": [
    "## 4. bisect(이진탐색)\n",
    "- 정렬된 배열에서 특정원소 찾기\n",
    "- 특정 원소의 개수 찾는데에 유용"
   ]
  },
  {
   "cell_type": "code",
   "execution_count": 52,
   "id": "0a268ff8",
   "metadata": {},
   "outputs": [
    {
     "name": "stdout",
     "output_type": "stream",
     "text": [
      "2\n",
      "4\n"
     ]
    }
   ],
   "source": [
    "#bisect_left(a,x) : 리스트 a에서 x의 데이터를 삽임할 가장 왼쪽 인덱스를 찾는 메서드\n",
    "from bisect import bisect_left,bisect_right\n",
    "\n",
    "a=[1,2,4,4,8]\n",
    "x=4\n",
    "\n",
    "print(bisect_left(a,x))\n",
    "print(bisect_right(a,x))"
   ]
  },
  {
   "cell_type": "code",
   "execution_count": 55,
   "id": "72b0ccd8",
   "metadata": {},
   "outputs": [
    {
     "name": "stdout",
     "output_type": "stream",
     "text": [
      "6 8\n",
      "2\n",
      "0 6\n",
      "6\n"
     ]
    }
   ],
   "source": [
    "from bisect import bisect_left,bisect_right\n",
    "\n",
    "def count_by_value(lst,left_val,right_val):\n",
    "    left_i=bisect_left(lst,left_val)\n",
    "    right_i=bisect_right(lst,right_val)\n",
    "    print(left_i,right_i)\n",
    "    return right_i-left_i\n",
    "\n",
    "a=[1,2,3,3,3,3,4,4,8,9]\n",
    "print(count_by_value(a,4,4))\n",
    "\n",
    "print(count_by_value(a,-1,3))"
   ]
  },
  {
   "cell_type": "markdown",
   "id": "5eede7d4",
   "metadata": {},
   "source": [
    "## 5. collections\n",
    "- deque와 Counter를 자주 사용"
   ]
  },
  {
   "cell_type": "markdown",
   "id": "fff106e7",
   "metadata": {},
   "source": [
    "### 1. deque\n",
    "- stack과 queue 둘다 사용 가능\n",
    "- append, appendleft, popleft, pop 등을 이용"
   ]
  },
  {
   "cell_type": "code",
   "execution_count": 57,
   "id": "75f11e58",
   "metadata": {},
   "outputs": [
    {
     "name": "stdout",
     "output_type": "stream",
     "text": [
      "deque([1, 2, 3, 4, 5])\n",
      "deque([2, 3, 4])\n",
      "[2, 3, 4]\n"
     ]
    }
   ],
   "source": [
    "from collections import deque\n",
    "data=deque([2,3,4])\n",
    "data.appendleft(1)\n",
    "data.append(5)\n",
    "print(data)\n",
    "data.popleft()\n",
    "data.pop()\n",
    "print(data)\n",
    "print(list(data))"
   ]
  },
  {
   "cell_type": "markdown",
   "id": "e9181002",
   "metadata": {},
   "source": [
    "### 2. Counter\n",
    "- 등장 횟수를 세는 기능"
   ]
  },
  {
   "cell_type": "code",
   "execution_count": 4,
   "id": "cf870775",
   "metadata": {},
   "outputs": [
    {
     "name": "stdout",
     "output_type": "stream",
     "text": [
      "3\n",
      "1\n",
      "{'red': 2, 'blue': 3, 'green': 1}\n"
     ]
    }
   ],
   "source": [
    "from collections import Counter\n",
    "\n",
    "counter=Counter(['red','blue','red','green','blue','blue'])\n",
    "\n",
    "print(counter['blue'])\n",
    "print(counter['green'])\n",
    "# del (counter['blue'])\n",
    "print(dict(counter))"
   ]
  },
  {
   "cell_type": "markdown",
   "id": "22109eeb",
   "metadata": {},
   "source": [
    "## 6.math"
   ]
  },
  {
   "cell_type": "code",
   "execution_count": 59,
   "id": "1212f19d",
   "metadata": {},
   "outputs": [
    {
     "name": "stdout",
     "output_type": "stream",
     "text": [
      "120\n"
     ]
    }
   ],
   "source": [
    "import math\n",
    "\n",
    "print(math.factorial(5))"
   ]
  },
  {
   "cell_type": "code",
   "execution_count": 60,
   "id": "9488bded",
   "metadata": {},
   "outputs": [
    {
     "name": "stdout",
     "output_type": "stream",
     "text": [
      "2.6457513110645907\n"
     ]
    }
   ],
   "source": [
    "import math\n",
    "print(math.sqrt(7))"
   ]
  },
  {
   "cell_type": "code",
   "execution_count": 61,
   "id": "8f86d2c9",
   "metadata": {},
   "outputs": [
    {
     "name": "stdout",
     "output_type": "stream",
     "text": [
      "7\n"
     ]
    }
   ],
   "source": [
    "import math\n",
    "print(math.gcd(21,14))"
   ]
  },
  {
   "cell_type": "code",
   "execution_count": 62,
   "id": "4c591291",
   "metadata": {},
   "outputs": [
    {
     "name": "stdout",
     "output_type": "stream",
     "text": [
      "3.141592653589793\n",
      "2.718281828459045\n"
     ]
    }
   ],
   "source": [
    "import math\n",
    "print(math.pi)\n",
    "print(math.e)"
   ]
  },
  {
   "cell_type": "code",
   "execution_count": null,
   "id": "a285b749",
   "metadata": {},
   "outputs": [],
   "source": []
  }
 ],
 "metadata": {
  "kernelspec": {
   "display_name": "Python 3 (ipykernel)",
   "language": "python",
   "name": "python3"
  },
  "language_info": {
   "codemirror_mode": {
    "name": "ipython",
    "version": 3
   },
   "file_extension": ".py",
   "mimetype": "text/x-python",
   "name": "python",
   "nbconvert_exporter": "python",
   "pygments_lexer": "ipython3",
   "version": "3.9.7"
  }
 },
 "nbformat": 4,
 "nbformat_minor": 5
}
