{
 "cells": [
  {
   "cell_type": "markdown",
   "id": "3809b772",
   "metadata": {},
   "source": [
    "https://covenant.tistory.com/224"
   ]
  },
  {
   "cell_type": "markdown",
   "id": "0eb06501",
   "metadata": {},
   "source": [
    "## 크리보드(dp)\n",
    "https://www.acmicpc.net/problem/11058"
   ]
  },
  {
   "cell_type": "code",
   "execution_count": 20,
   "id": "025a902f",
   "metadata": {},
   "outputs": [
    {
     "name": "stdout",
     "output_type": "stream",
     "text": [
      "11\n",
      "27\n"
     ]
    }
   ],
   "source": [
    "n=int(input())\n",
    "dp=[0]*(n+1)\n",
    "\n",
    "\n",
    "for i in range(1,7):\n",
    "    dp[i]=i\n",
    "    \n",
    "\n",
    "for i in range(7,n+1):\n",
    "    for j in range(3,n+1):\n",
    "        if i-j<0:\n",
    "            break\n",
    "        dp[i]=max((j-1)*dp[i-j],dp[i])\n",
    "print(dp[n])"
   ]
  },
  {
   "cell_type": "code",
   "execution_count": 29,
   "id": "d77e8f5a",
   "metadata": {},
   "outputs": [
    {
     "name": "stdout",
     "output_type": "stream",
     "text": [
      "6\n",
      "6\n"
     ]
    }
   ],
   "source": [
    "n=int(input())\n",
    "dp=[0]*(n+1)\n",
    "\n",
    "if n<=6:\n",
    "    print(n)\n",
    "else:\n",
    "    for i in range(1,7):\n",
    "        dp[i]=i\n",
    "\n",
    "    for i in range(7,n+1):\n",
    "        dp[i] = max(dp[i-3]*2, dp[i-4]*3, dp[i-5]*4)\n",
    "    print(dp[n])"
   ]
  },
  {
   "cell_type": "markdown",
   "id": "a4c219cf",
   "metadata": {},
   "source": [
    "## BOJ거리(DP)\n",
    "https://www.acmicpc.net/problem/12026"
   ]
  },
  {
   "cell_type": "code",
   "execution_count": 53,
   "id": "99af4ff9",
   "metadata": {},
   "outputs": [
    {
     "name": "stdout",
     "output_type": "stream",
     "text": [
      "15\n",
      "BJBOJOJOOJOBOOO\n",
      "52\n"
     ]
    }
   ],
   "source": [
    "n=int(input())\n",
    "arr=input()\n",
    "\n",
    "# 시작점부터 끝점까지 한번에 갈때가 최대값인 경우이니 10^3**2 일때가 최대이다\n",
    "dp=[int(1e6)+1]*(n)\n",
    "dp[0]=0\n",
    "for i in range(n):\n",
    "    for j in range(i,n):\n",
    "        #B인 경우 다음으로 O가 나와야한다\n",
    "        if arr[i]=='B':\n",
    "            if arr[j]=='O':\n",
    "                #O가 나올때의 거리는 제곱과, 그 때 위치의 거리 중 최솟값\n",
    "                dp[j]=min((j-i)**2+dp[i],dp[j])\n",
    "        # 위와 반복\n",
    "        elif arr[i]=='O':\n",
    "            if arr[j]=='J':\n",
    "                dp[j]=min((j-i)**2+dp[i],dp[j])\n",
    "        #위와 반복\n",
    "        elif arr[i]=='J':\n",
    "            if arr[j]=='B':\n",
    "                dp[j]=min((j-i)**2+dp[i],dp[j])\n",
    "                \n",
    "if dp[-1]==int(1e6)+1:\n",
    "    print(-1)\n",
    "else:\n",
    "    print(dp[-1])"
   ]
  },
  {
   "cell_type": "markdown",
   "id": "b713595c",
   "metadata": {},
   "source": [
    "## 평범한 배낭(DP)\n",
    "https://www.acmicpc.net/problem/12865"
   ]
  },
  {
   "cell_type": "code",
   "execution_count": 61,
   "id": "e9e374c1",
   "metadata": {},
   "outputs": [
    {
     "name": "stdout",
     "output_type": "stream",
     "text": [
      "4 7\n",
      "6 13\n",
      "4 8\n",
      "2 6\n",
      "5 12\n",
      "[0, 0, 0, 0, 0, 0, 13, 13]\n",
      "[0, 0, 0, 0, 8, 8, 13, 13]\n",
      "[0, 0, 6, 6, 8, 8, 14, 14]\n",
      "[0, 0, 6, 6, 8, 12, 14, 18]\n",
      "18\n"
     ]
    }
   ],
   "source": [
    "n,k=map(int,input().split())\n",
    "\n",
    "knapsack=[]\n",
    "for _ in range(n):\n",
    "    w,v=map(int,input().split())\n",
    "    knapsack.append([w,v])\n",
    "    \n",
    "dp=[0]*(k+1)\n",
    "\n",
    "for a,b in knapsack:\n",
    "    for i in range(k,a-1,-1):\n",
    "        #끝에서 부터 채우며 두개의 값이 k이하인 경우 더 큰 것으로 updqte\n",
    "        dp[i]=max(dp[i],dp[i-a]+b)\n",
    "    print(dp)\n",
    "print(dp[-1])"
   ]
  },
  {
   "cell_type": "markdown",
   "id": "53905072",
   "metadata": {},
   "source": [
    "## 1학년(DP)\n",
    "https://www.acmicpc.net/problem/5557"
   ]
  },
  {
   "cell_type": "code",
   "execution_count": 1,
   "id": "b289bf41",
   "metadata": {},
   "outputs": [
    {
     "name": "stdout",
     "output_type": "stream",
     "text": [
      "11\n",
      "8 3 2 4 8 7 2 4 0 8 8\n",
      "10\n"
     ]
    }
   ],
   "source": [
    "# 브루트포스 시간초과 O\n",
    "from itertools import product\n",
    "n=int(input())\n",
    "array=list(map(int,input().split()))\n",
    "cal=['+','-']\n",
    "\n",
    "candidates=list(product(cal,repeat=n-2))\n",
    "\n",
    "def calculate(a,b,pm):\n",
    "    if pm=='+':\n",
    "        return a+b\n",
    "    else:\n",
    "        return a-b\n",
    "\n",
    "def dfs(depth,sum_val,candidate):\n",
    "    global result\n",
    "    if 0>sum_val or sum_val>20:\n",
    "        return\n",
    "    if depth>=n-2:\n",
    "        if sum_val==array[n-1]:\n",
    "            result+=1\n",
    "        return\n",
    "    sum_val=calculate(sum_val,array[depth+1],candidate[depth])\n",
    "    dfs(depth+1,sum_val,candidate)\n",
    "\n",
    "result=0\n",
    "for candidate in candidates:\n",
    "    dfs(0,array[0],list(candidate))\n",
    "print(result)"
   ]
  },
  {
   "cell_type": "code",
   "execution_count": 7,
   "id": "e2a71b22",
   "metadata": {
    "scrolled": true
   },
   "outputs": [
    {
     "name": "stdout",
     "output_type": "stream",
     "text": [
      "11\n",
      "8 3 2 4 8 7 2 4 0 8 8\n",
      "10\n"
     ]
    }
   ],
   "source": [
    "#dp 시간초과 X\n",
    "n=int(input())\n",
    "array=list(map(int,input().split()))\n",
    "\n",
    "#0이상 20이하의 값을 중간에 가져야하니 범위 생성\n",
    "dp=[[0]*21 for _ in range(n+1)]\n",
    "# 첫번째 인덱스의 값으로 초기화\n",
    "dp[0][array[0]]=1\n",
    "\n",
    "for i in range(1,n):\n",
    "    # 0~20까지 수에 들어가 있는 경우 확인\n",
    "    for j in range(21):\n",
    "        if dp[i-1][j]:\n",
    "            # 그 때의 값과 j값을 더해 조건 확인\n",
    "            if j+array[i]<=20:\n",
    "                #조건이 맞을 경우 이 전 위치의 값에 올 수 있는 횟수를 추가\n",
    "                dp[i][j+array[i]]+=dp[i-1][j]\n",
    "            if 0<=j-array[i]:\n",
    "                dp[i][j-array[i]]+=dp[i-1][j]\n",
    "print(dp[n-2][array[-1]])"
   ]
  },
  {
   "cell_type": "markdown",
   "id": "92bcbb5e",
   "metadata": {},
   "source": [
    "## ***********데스노트(DP,dfs) ---다시\n",
    "https://www.acmicpc.net/problem/2281"
   ]
  },
  {
   "cell_type": "code",
   "execution_count": 22,
   "id": "b8a1b901",
   "metadata": {},
   "outputs": [
    {
     "name": "stdout",
     "output_type": "stream",
     "text": [
      "11 20\n",
      "61\n"
     ]
    }
   ],
   "source": [
    "n,m=map(int,input().split())\n",
    "\n",
    "array=[]\n",
    "for _ in range(n):\n",
    "    array.append(int(input()))\n",
    "    \n",
    "dp=[[-1]*m for _ in range(n)]\n",
    "\n",
    "def dfs(idx,depth):\n",
    "    if dp[idx][depth]!=-1:\n",
    "        pass\n",
    "    else:\n",
    "        if idx==n-1:\n",
    "            dp[idx][depth]=0\n",
    "        else:\n",
    "            if depth+1+array[idx+1]<m:\n",
    "                dp[idx][depth] = min(dfs(idx+1, depth+1+array[idx+1]),dfs(idx+1, array[idx+1]-1)+(m-depth-1)**2)\n",
    "            else:\n",
    "                dp[idx][depth] =dfs(idx+1,array[idx+1]-1)+(m-depth-1)**2\n",
    "    return dp[idx][depth]\n",
    "\n",
    "print(dfs(0,array[0]-1))"
   ]
  },
  {
   "cell_type": "markdown",
   "id": "52fea47f",
   "metadata": {},
   "source": [
    "## 숨박꼭질4(bfs)\n",
    "https://www.acmicpc.net/problem/13913"
   ]
  },
  {
   "cell_type": "code",
   "execution_count": 1,
   "id": "b33912ee",
   "metadata": {},
   "outputs": [
    {
     "name": "stdout",
     "output_type": "stream",
     "text": [
      "5 17\n",
      "4\n",
      "[1, 2, 3, 4, 5, -1, 5, 6, 4, 10, 5, 10, 6, 12, 7, 14, 8, 16, 9, 20]\n",
      "5 4 8 16 17\n"
     ]
    }
   ],
   "source": [
    "from collections import deque\n",
    "INF=int(1e5)\n",
    "n,k=map(int,input().split())\n",
    "\n",
    "array=[-1]*(INF+1)\n",
    "visited=[-1]*(INF+1)\n",
    "\n",
    "def move(x):\n",
    "    arr=[]\n",
    "    tmp=x\n",
    "    for _ in range(visited[x]+1):\n",
    "        arr.append(tmp)\n",
    "        tmp=array[tmp]\n",
    "    print(' '.join(map(str,arr[::-1])))\n",
    "\n",
    "def bfs():\n",
    "    q=deque()\n",
    "    q.append(n)\n",
    "    visited[n]=0\n",
    "    while q:\n",
    "        x=q.popleft()\n",
    "        if x==k:\n",
    "            print(visited[x])\n",
    "            print(array[:20])\n",
    "            move(x)\n",
    "            return\n",
    "        for nx in (x+1,x-1,2*x):\n",
    "            if 0<=nx<=INF:\n",
    "                if visited[nx]==-1:\n",
    "                    q.append(nx)\n",
    "                    visited[nx]=visited[x]+1\n",
    "                    array[nx]=x\n",
    "\n",
    "\n",
    "bfs()"
   ]
  },
  {
   "cell_type": "markdown",
   "id": "74bdab5a",
   "metadata": {},
   "source": [
    "## 이모티콘\n",
    "https://www.acmicpc.net/problem/14226"
   ]
  },
  {
   "cell_type": "code",
   "execution_count": 29,
   "id": "842acd7a",
   "metadata": {},
   "outputs": [
    {
     "name": "stdout",
     "output_type": "stream",
     "text": [
      "18\n",
      "8\n"
     ]
    }
   ],
   "source": [
    "from collections import deque\n",
    "s=int(input())\n",
    "clib=[[-1]*(s+1) for _ in range(s+1)]\n",
    "\n",
    "def bfs():\n",
    "    q=deque()\n",
    "    q.append([1,0])\n",
    "    clib[1][0]=0\n",
    "    while q:\n",
    "        #화면에 나타난 것과 클리보드에 저장된 수\n",
    "        screen,cl=q.popleft()\n",
    "        #1번 연산, 클립보드에 저장\n",
    "        if clib[screen][screen]==-1:\n",
    "            clib[screen][screen]=clib[screen][cl]+1\n",
    "            q.append([screen,screen])\n",
    "        # 2번 연산, 화면에 복사하기\n",
    "        if screen+cl<=s and clib[screen+cl][cl]==-1:\n",
    "            clib[screen+cl][cl]=clib[screen][cl]+1\n",
    "            q.append([screen+cl,cl])\n",
    "        # 3번 연산, 화면에서 한개 지우기\n",
    "        if screen-1>=0 and clib[screen-1][cl]==-1:\n",
    "            clib[screen-1][cl]=clib[screen][cl]+1\n",
    "            q.append([screen-1,cl])\n",
    "\n",
    "\n",
    "bfs()\n",
    "\n",
    "result=clib[s][1]\n",
    "for i in range(1,s):\n",
    "    if clib[s][i]!=-1:\n",
    "        result=min(result,clib[s][i])\n",
    "print(result)"
   ]
  },
  {
   "cell_type": "markdown",
   "id": "c068f6f7",
   "metadata": {},
   "source": [
    "## 아기상어2(bfs)\n",
    "https://www.acmicpc.net/problem/17086"
   ]
  },
  {
   "cell_type": "code",
   "execution_count": 41,
   "id": "749a7fd1",
   "metadata": {},
   "outputs": [
    {
     "name": "stdout",
     "output_type": "stream",
     "text": [
      "7 4\n",
      "0 0 0 1\n",
      "0 1 0 0\n",
      "0 0 0 0\n",
      "0 0 0 1\n",
      "0 0 0 0\n",
      "0 1 0 0\n",
      "0 0 0 1\n",
      "2\n"
     ]
    }
   ],
   "source": [
    "from collections import deque\n",
    "n,m=map(int,input().split())\n",
    "graph=[]\n",
    "for _ in range(n):\n",
    "    graph.append(list(map(int,input().split())))\n",
    "\n",
    "    \n",
    "q=deque()\n",
    "for i in range(n):\n",
    "    for j in range(m):\n",
    "        if graph[i][j]==1:\n",
    "            q.append([i,j])\n",
    "\n",
    "dx=[1,-1,0,0,1,1,-1,-1]\n",
    "dy=[0,0,1,-1,-1,1,1,-1]\n",
    "\n",
    "def bfs():\n",
    "    while q:\n",
    "        cx,cy=q.popleft()\n",
    "        for i in range(8):\n",
    "            nx,ny=cx+dx[i],cy+dy[i]\n",
    "            if 0<=nx<n and 0<=ny<m:\n",
    "                if graph[nx][ny]==0:\n",
    "                    graph[nx][ny]=graph[cx][cy]+1\n",
    "                    q.append([nx,ny])\n",
    "\n",
    "result=0\n",
    "bfs()\n",
    "for i in range(n):\n",
    "    for j in range(m):\n",
    "        result=max(result,graph[i][j])\n",
    "print(result-1)"
   ]
  },
  {
   "cell_type": "markdown",
   "id": "f1b65663",
   "metadata": {},
   "source": [
    "## 신기한 소수(시뮬레이션)\n",
    "https://www.acmicpc.net/problem/2023"
   ]
  },
  {
   "cell_type": "code",
   "execution_count": 70,
   "id": "05c26ca4",
   "metadata": {},
   "outputs": [
    {
     "name": "stdout",
     "output_type": "stream",
     "text": [
      "1234\n"
     ]
    }
   ],
   "source": [
    "#시간초과\n",
    "import math\n",
    "n=int(input())\n",
    "\n",
    "def check_sosu(x):\n",
    "    if x==1:\n",
    "        return False\n",
    "    for i in range(2,int(math.sqrt(x))+1):\n",
    "        if x%i==0:\n",
    "            return False\n",
    "    return True\n",
    "tmp=[]\n",
    "def dfs(depth):\n",
    "    if depth>=n:\n",
    "        flag=True\n",
    "        for i in range(n):\n",
    "            result=int(''.join(map(str,tmp[:i+1])))\n",
    "            if not check_sosu(result):\n",
    "                flag=False\n",
    "        if flag:\n",
    "            print(result)\n",
    "        return\n",
    "    for i in range(1,10):\n",
    "        tmp.append(i)\n",
    "        dfs(depth+1)\n",
    "        tmp.pop()\n",
    "        \n",
    "dfs(0)"
   ]
  },
  {
   "cell_type": "code",
   "execution_count": 75,
   "id": "111fe44d",
   "metadata": {},
   "outputs": [
    {
     "name": "stdout",
     "output_type": "stream",
     "text": [
      "4\n",
      "2333\n",
      "2339\n",
      "2393\n",
      "2399\n",
      "2939\n",
      "3119\n",
      "3137\n",
      "3733\n",
      "3739\n",
      "3793\n",
      "3797\n",
      "5939\n",
      "7193\n",
      "7331\n",
      "7333\n",
      "7393\n"
     ]
    }
   ],
   "source": [
    "import math\n",
    "n=int(input())\n",
    "\n",
    "def check_sosu(x):\n",
    "    if x==1:\n",
    "        return False\n",
    "    for i in range(2,int(math.sqrt(x))+1):\n",
    "        if x%i==0:\n",
    "            return False\n",
    "    return True\n",
    "tmp=[]\n",
    "def dfs(depth,x):\n",
    "    if depth>=n-1:\n",
    "        print(x)\n",
    "        return\n",
    "    for i in range(1,10):\n",
    "        tmp=x*10+i\n",
    "        if check_sosu(tmp):\n",
    "            dfs(depth+1,tmp)\n",
    "\n",
    "        \n",
    "dfs(0,2)\n",
    "dfs(0,3)\n",
    "dfs(0,5)\n",
    "dfs(0,7)"
   ]
  },
  {
   "cell_type": "markdown",
   "id": "e922ffbb",
   "metadata": {},
   "source": [
    "## 두 동전\n",
    "https://www.acmicpc.net/problem/16197"
   ]
  },
  {
   "cell_type": "code",
   "execution_count": 78,
   "id": "c201befb",
   "metadata": {},
   "outputs": [
    {
     "name": "stdout",
     "output_type": "stream",
     "text": [
      "1 2\n",
      "oo\n",
      "1\n"
     ]
    }
   ],
   "source": [
    "from collections import deque\n",
    "n,m=map(int,input().split())\n",
    "graph=[]\n",
    "for _ in range(n):\n",
    "    data=list(map(str,input()))\n",
    "    graph.append(data)\n",
    "    \n",
    "ball=deque()\n",
    "for i in range(n):\n",
    "    for j in range(m):\n",
    "        if graph[i][j]=='o':\n",
    "            ball.append([i,j])\n",
    "x,y=ball.popleft()\n",
    "cx,cy=ball.popleft()\n",
    "ball.append([x,y,cx,cy,0])\n",
    "\n",
    "dx=[1,-1,0,0]\n",
    "dy=[0,0,1,-1]\n",
    "\n",
    "def bfs():\n",
    "    while ball:\n",
    "        lx,ly,rx,ry,cnt=ball.popleft()\n",
    "        if cnt>=10:\n",
    "            return -1\n",
    "        for i in range(4):\n",
    "            nlx,nly=lx+dx[i],ly+dy[i]\n",
    "            nrx,nry=rx+dx[i],ry+dy[i]\n",
    "            if 0<=nlx<n and 0<=nly<m and 0<=nrx<n and 0<=nry<m:\n",
    "                #벽일 경우 제자리 위치\n",
    "                if graph[nlx][nly]=='#':\n",
    "                    nlx,nly=lx,ly\n",
    "                if graph[nrx][nry]=='#':\n",
    "                    nrx,nry=rx,ry\n",
    "                ball.append([nlx,nly,nrx,nry,cnt+1])\n",
    "            #공이 떨어지는경우\n",
    "            elif 0<=nlx<n and 0<=nly<m:\n",
    "                return cnt+1\n",
    "            elif 0<=nrx<n and 0<=nry<m:\n",
    "                return cnt+1\n",
    "    return -1\n",
    "\n",
    "\n",
    "result=bfs()\n",
    "print(result)"
   ]
  },
  {
   "cell_type": "markdown",
   "id": "f478bb41",
   "metadata": {},
   "source": [
    "## iSharp(구현)\n",
    "https://www.acmicpc.net/problem/3568"
   ]
  },
  {
   "cell_type": "code",
   "execution_count": 102,
   "id": "701e7171",
   "metadata": {},
   "outputs": [
    {
     "name": "stdout",
     "output_type": "stream",
     "text": [
      "int& a*[]&, b, c*;\n",
      "int&&[]* a;\n",
      "int& b;\n",
      "int&* c;\n"
     ]
    }
   ],
   "source": [
    "array=input()\n",
    "length=len(array)\n",
    "types=['int','float','char','&','*','[]']\n",
    "board=array.split(' ')\n",
    "types=board[0]\n",
    "board.pop(0)\n",
    "for s in board:\n",
    "    s=s.replace(',','').replace(';','')\n",
    "    print(types,end='')\n",
    "    for i in range(len(s)-1,0,-1):\n",
    "        if not s[i].isalpha():\n",
    "            if s[i]==']':\n",
    "                print('[',end='')\n",
    "            elif s[i]=='[':\n",
    "                print(']',end='')\n",
    "            else:\n",
    "                print(s[i],end='')\n",
    "    print(' ',end='')\n",
    "    for i in range(len(s)):\n",
    "        if s[i].isalpha():\n",
    "            print(s[i],end='')\n",
    "    print(';')"
   ]
  },
  {
   "cell_type": "markdown",
   "id": "5f617030",
   "metadata": {},
   "source": [
    "## Strahler(토폴로지 소트)\n",
    "https://www.acmicpc.net/problem/9470"
   ]
  },
  {
   "cell_type": "code",
   "execution_count": 13,
   "id": "2a761ff5",
   "metadata": {},
   "outputs": [
    {
     "name": "stdout",
     "output_type": "stream",
     "text": [
      "1\n",
      "1 7 8\n",
      "1 3\n",
      "2 3\n",
      "6 4\n",
      "3 4\n",
      "3 5\n",
      "6 7\n",
      "5 7\n",
      "4 7\n",
      "1 3\n"
     ]
    }
   ],
   "source": [
    "from collections import deque\n",
    "for t in range(int(input())):\n",
    "    k,m,p=map(int,input().split())\n",
    "\n",
    "    indegree=[0]*(m+1)\n",
    "    graph=[[] for _ in range(m+1)]\n",
    "    result=[0]*(m+1)\n",
    "    for i in range(p):\n",
    "        a,b=map(int,input().split())\n",
    "        graph[a].append(b)\n",
    "        indegree[b]+=1\n",
    "\n",
    "    def topology():\n",
    "        q=deque()\n",
    "        for i in range(1,m+1):\n",
    "            if indegree[i]==0:\n",
    "                q.append(i)\n",
    "                result[i]=1\n",
    "        while q:\n",
    "            cur=q.popleft()\n",
    "            for i in graph[cur]:\n",
    "                #들어오는 강이 2개이상인경우 가장 큰 순서의 강 + 1\n",
    "                if indegree[i]>=2:\n",
    "                    result[i]=max(result[i],result[cur]+1)\n",
    "                #들어오는 강이 1개인 경우 가장 큰 순서의 강으로\n",
    "                if indegree[i]==1:\n",
    "                    result[i]=max(result[i],result[cur])\n",
    "                indegree[i]-=1\n",
    "                if indegree[i]==0:\n",
    "                    q.append(i)\n",
    "\n",
    "    topology()\n",
    "    print(t+1,result[m])"
   ]
  },
  {
   "cell_type": "markdown",
   "id": "f1e6c2d8",
   "metadata": {},
   "source": [
    "## ACM CRAFT(토폴로지 소트)\n",
    "https://www.acmicpc.net/problem/1005"
   ]
  },
  {
   "cell_type": "code",
   "execution_count": 39,
   "id": "d9b3cb0f",
   "metadata": {},
   "outputs": [
    {
     "name": "stdout",
     "output_type": "stream",
     "text": [
      "8 8 \n",
      "10 20 1 5 8 7 1 43\n",
      "1 2\n",
      "1 3\n",
      "2 4\n",
      "2 5\n",
      "3 6\n",
      "5 7\n",
      "6 7\n",
      "7 8\n",
      "7\n",
      "[0, 10, 30, 11, 0, 0, 0, 0, 0]\n",
      "[0, 10, 30, 11, 35, 38, 0, 0, 0]\n",
      "[0, 10, 30, 11, 35, 38, 18, 0, 0]\n",
      "[0, 10, 30, 11, 35, 38, 18, 0, 0]\n",
      "[0, 10, 30, 11, 35, 38, 18, 39, 0]\n",
      "[0, 10, 30, 11, 35, 38, 18, 39, 0]\n",
      "[0, 10, 30, 11, 35, 38, 18, 39, 82]\n",
      "[0, 10, 30, 11, 35, 38, 18, 39, 82]\n",
      "[0, 10, 30, 11, 35, 38, 18, 39, 82]\n"
     ]
    }
   ],
   "source": [
    "from collections import deque\n",
    "for _ in range(int(input())):\n",
    "    n,k=map(int,input().split())\n",
    "    graph=[[] for _ in range(n+1)]\n",
    "\n",
    "    indegree=[0]*(n+1)\n",
    "\n",
    "    cost=[0]+list(map(int,input().split()))\n",
    "    for _ in range(k):\n",
    "        a,b=map(int,input().split())\n",
    "        graph[a].append(b)\n",
    "        indegree[b]+=1\n",
    "\n",
    "    target=int(input())\n",
    "    dp=[0]*(n+1)\n",
    "    def topology():\n",
    "        q=deque()\n",
    "        # 진입차수가 0인 노드 찾기\n",
    "        for i in range(1,n+1):\n",
    "            if indegree[i]==0:\n",
    "                q.append(i)\n",
    "                dp[i]=cost[i]\n",
    "\n",
    "        while q:\n",
    "            cur=q.popleft()\n",
    "            for i in graph[cur]:\n",
    "                indegree[i]-=1\n",
    "                # 연결된 노드 중 비용이 가장 큰 것으로 업데이트\n",
    "                dp[i]=max(dp[cur]+cost[i],dp[i])\n",
    "                if indegree[i]==0:\n",
    "                    q.append(i)\n",
    "\n",
    "    topology()\n",
    "\n",
    "    print(dp[target])"
   ]
  },
  {
   "cell_type": "markdown",
   "id": "727e49fd",
   "metadata": {},
   "source": [
    "## 사회망 서비스(SNS)\n",
    "https://www.acmicpc.net/problem/2533"
   ]
  },
  {
   "cell_type": "code",
   "execution_count": null,
   "id": "aba24b08",
   "metadata": {},
   "outputs": [],
   "source": []
  }
 ],
 "metadata": {
  "kernelspec": {
   "display_name": "Python 3 (ipykernel)",
   "language": "python",
   "name": "python3"
  },
  "language_info": {
   "codemirror_mode": {
    "name": "ipython",
    "version": 3
   },
   "file_extension": ".py",
   "mimetype": "text/x-python",
   "name": "python",
   "nbconvert_exporter": "python",
   "pygments_lexer": "ipython3",
   "version": "3.9.7"
  }
 },
 "nbformat": 4,
 "nbformat_minor": 5
}
