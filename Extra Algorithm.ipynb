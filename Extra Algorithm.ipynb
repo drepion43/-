{
 "cells": [
  {
   "cell_type": "markdown",
   "id": "89d97f7e",
   "metadata": {},
   "source": [
    "# 1. 소수의 판별"
   ]
  },
  {
   "cell_type": "code",
   "execution_count": 2,
   "id": "438e9732",
   "metadata": {},
   "outputs": [
    {
     "name": "stdout",
     "output_type": "stream",
     "text": [
      "True\n"
     ]
    }
   ],
   "source": [
    "def is_prime(x):\n",
    "    for i in range(2,x):\n",
    "        # 약수가 있는경우\n",
    "        if x%i==0:\n",
    "            return False\n",
    "    # 소수인 경우\n",
    "    return True\n",
    "\n",
    "print(is_prime(3))"
   ]
  },
  {
   "cell_type": "code",
   "execution_count": 5,
   "id": "17d5ccd5",
   "metadata": {},
   "outputs": [
    {
     "name": "stdout",
     "output_type": "stream",
     "text": [
      "False\n"
     ]
    }
   ],
   "source": [
    "import math\n",
    "def is_prime_imporve(x):\n",
    "    for i in range(2,int(math.sqrt(x))+1):\n",
    "        if x%i==0:\n",
    "            return False\n",
    "    return True\n",
    "\n",
    "print(is_prime_imporve(15))"
   ]
  },
  {
   "cell_type": "markdown",
   "id": "fe41c28f",
   "metadata": {},
   "source": [
    "# 2. 에라토스테네스의 체\n",
    "- 여러개의 수들 중 소수인지 아닌지를 판별\n",
    "1. 2부터 n까지의 모든 자연수를 나열\n",
    "2. 남은 수 중에서 아직 처리하지 않은 가장 작은 수 i를 찾는다\n",
    "3. 남은 수 중에서 i의 배수를 제거한다.(i 제외)\n",
    "4. 2,3을 반복할 수 없을 때까지 반복한다"
   ]
  },
  {
   "cell_type": "code",
   "execution_count": 6,
   "id": "de6fc761",
   "metadata": {},
   "outputs": [
    {
     "name": "stdout",
     "output_type": "stream",
     "text": [
      "2 3 5 7 11 13 17 19 23 29 31 37 41 43 47 53 59 61 67 71 73 79 83 89 97 101 103 107 109 113 127 131 137 139 149 151 157 163 167 173 179 181 191 193 197 199 211 223 227 229 233 239 241 251 257 263 269 271 277 281 283 293 307 311 313 317 331 337 347 349 353 359 367 373 379 383 389 397 401 409 419 421 431 433 439 443 449 457 461 463 467 479 487 491 499 503 509 521 523 541 547 557 563 569 571 577 587 593 599 601 607 613 617 619 631 641 643 647 653 659 661 673 677 683 691 701 709 719 727 733 739 743 751 757 761 769 773 787 797 809 811 821 823 827 829 839 853 857 859 863 877 881 883 887 907 911 919 929 937 941 947 953 967 971 977 983 991 997 "
     ]
    }
   ],
   "source": [
    "import math\n",
    "\n",
    "n=1000#2~1000까지의 수들 중 소수 찾기\n",
    "array=[True]*(n+1)\n",
    "\n",
    "for i in range(2,int(math.sqrt(n))+1):\n",
    "    #i가 소수인 경우\n",
    "    if array[i]==True:\n",
    "        #i를 제외한 i의 배수 제거\n",
    "        j=2\n",
    "        while i*j<=n:\n",
    "            array[i*j]=False\n",
    "            j+=1\n",
    "            \n",
    "for i in range(2,n+1):\n",
    "    if array[i]:\n",
    "        print(i,end=' ')\n",
    "        "
   ]
  },
  {
   "cell_type": "markdown",
   "id": "4b457532",
   "metadata": {},
   "source": [
    "# 3. 투 포인터\n",
    "- 리스트에 순차적으로 접근해야 할 때 2개의 점의 위치를 기록하면서 처리하는 알고리즘(특정한 합을 가지는 부분 연속 수열 찾기)\n",
    "1. 시작점과 끝점이 첫 번째 원소의 인덱스를 가리키도록 한다\n",
    "2. 현재 부분합이 M과 같다면 카운트한다\n",
    "3. 현재 부분합이 M보다 작으면 end를 1 증가시킨다.\n",
    "4. 현재 부분합이 M보다 크거나 같으면 start를 1 증가시킨다.\n",
    "5. 모든 경우를 확인할 때까지 2~4번을 반복한다"
   ]
  },
  {
   "cell_type": "code",
   "execution_count": 7,
   "id": "cc791f67",
   "metadata": {},
   "outputs": [
    {
     "name": "stdout",
     "output_type": "stream",
     "text": [
      "3\n"
     ]
    }
   ],
   "source": [
    "n,m=5,5\n",
    "data=[1,2,3,2,5]\n",
    "\n",
    "count=0\n",
    "sum_val=0\n",
    "end=0\n",
    "\n",
    "for start in range(n):\n",
    "    #end 이동시키기\n",
    "    while sum_val<m and end<n:\n",
    "        sum_val+=data[end]\n",
    "        end+=1\n",
    "    if sum_val==m:\n",
    "        count+=1\n",
    "    sum_val-=data[start]\n",
    "print(count)"
   ]
  },
  {
   "cell_type": "markdown",
   "id": "f45102a5",
   "metadata": {},
   "source": [
    "- 정렬되어 있는 두 리스트의 합집합\n",
    "1. 정렬된 리스트 A,B가 주어진다\n",
    "2. 리스트 A에서 처리되지 않은 원소 중 가장 작은 원소를 i가 가르키도록 한다.\n",
    "3. 리스트 B에서 처리되지 않은 원소 중 가장 작은 원소를 j가 가르키도록 한다.\n",
    "4. A[i],B[j]중에서 더 작은 원소를 결과 리스트에 넣는다.\n",
    "5. A와B에서 더이상 할 수 없을 때까지 2~4를 반복한다"
   ]
  },
  {
   "cell_type": "code",
   "execution_count": 10,
   "id": "2b4e3fca",
   "metadata": {},
   "outputs": [
    {
     "name": "stdout",
     "output_type": "stream",
     "text": [
      "1 2 3 4 5 6 8 "
     ]
    }
   ],
   "source": [
    "n,m=3,4\n",
    "a=[1,3,5]\n",
    "b=[2,4,6,8]\n",
    "result=[0]*(n+m)\n",
    "i,j,k=0,0,0\n",
    "\n",
    "while i<n or j<m:\n",
    "    # a의 원소가 b보다 작거나 j의 원소를 다 처리한 경우\n",
    "    if j>=m or (i<n and a[i]<b[j]):\n",
    "        result[k]=a[i]\n",
    "        i+=1\n",
    "    else: # b의 원소가 a보다 작거나 i의 원소를 다 처리한 경우\n",
    "        result[k]=b[j]\n",
    "        j+=1\n",
    "    k+=1\n",
    "    \n",
    "for i in result:\n",
    "    print(i,end=' ')"
   ]
  },
  {
   "cell_type": "markdown",
   "id": "89b126e6",
   "metadata": {},
   "source": [
    "# 4. 구간 합 계산\n",
    "- 접두사 합(prefix sum) : 리스트의 맨 앞부터 특정 위치까지의 합을 구해 놓은 것\n",
    "1. n개의 수에 대하여 접두사 합을 계산하여 배열 P에 저장한다\n",
    "2. 매 m개의 쿼리 정보 [L,R]을 확인할 때, 구간 합은 P[R]-P[L-1]이다"
   ]
  },
  {
   "cell_type": "code",
   "execution_count": 12,
   "id": "36cf2509",
   "metadata": {},
   "outputs": [
    {
     "name": "stdout",
     "output_type": "stream",
     "text": [
      "70\n"
     ]
    }
   ],
   "source": [
    "n=5\n",
    "data=[10,20,30,40,50]\n",
    "\n",
    "sum_val=0\n",
    "prefix_sum=[0]\n",
    "for i in data:\n",
    "    sum_val+=i\n",
    "    prefix_sum.append(sum_val)\n",
    "\n",
    "left,right=3,4\n",
    "print(prefix_sum[4]-prefix_sum[3-1])"
   ]
  },
  {
   "cell_type": "markdown",
   "id": "10b44a0c",
   "metadata": {},
   "source": [
    "# 5. 순열과 조합\n",
    "- 순열 : 서로 다른 n개에서 r개를 선택하여 일렬로 나열하는 것\n",
    "- 조합 : 서로 다른 n개에서 순서에 상관없이 서로 다른 r개를 선택하는 것"
   ]
  },
  {
   "cell_type": "code",
   "execution_count": 16,
   "id": "0e24be2f",
   "metadata": {},
   "outputs": [
    {
     "name": "stdout",
     "output_type": "stream",
     "text": [
      "(1, 2) (1, 3) (2, 1) (2, 3) (3, 1) (3, 2) \n",
      "(1, 2) (1, 3) (2, 3) "
     ]
    }
   ],
   "source": [
    "from itertools import permutations,combinations\n",
    "\n",
    "data=[1,2,3]\n",
    "\n",
    "# data중에 2개를 선택하여 일렬로 나열하는 것\n",
    "for x in list(permutations(data,2)):\n",
    "    print(x,end=' ')\n",
    "\n",
    "print()\n",
    "#data중에 2개를 선택하는 것\n",
    "for x in list(combinations(data,2)):\n",
    "    print(x,end=' ')"
   ]
  },
  {
   "cell_type": "markdown",
   "id": "013440a8",
   "metadata": {},
   "source": [
    "# 연습문제"
   ]
  },
  {
   "cell_type": "markdown",
   "id": "45eee470",
   "metadata": {},
   "source": [
    "## 1. 소수구하기\n",
    "https://www.acmicpc.net/problem/1929"
   ]
  },
  {
   "cell_type": "code",
   "execution_count": 26,
   "id": "47aace84",
   "metadata": {},
   "outputs": [
    {
     "name": "stdout",
     "output_type": "stream",
     "text": [
      "1 17\n",
      "2\n",
      "3\n",
      "5\n",
      "7\n",
      "11\n",
      "13\n",
      "17\n"
     ]
    }
   ],
   "source": [
    "import math\n",
    "\n",
    "n,m=map(int,input().split())\n",
    "\n",
    "is_prime=[True]*(m+1)\n",
    "is_prime[1]=False\n",
    "\n",
    "for i in range(2,int(math.sqrt(m))+1):\n",
    "    if is_prime[i]==True:\n",
    "        j=2\n",
    "        while i*j<=m:\n",
    "            is_prime[i*j]=False\n",
    "            j+=1\n",
    "\n",
    "for i in range(n,m+1):\n",
    "    if is_prime[i]:\n",
    "        print(i)"
   ]
  },
  {
   "cell_type": "markdown",
   "id": "ed87e8bc",
   "metadata": {},
   "source": [
    "## 2. 암호 만들기\n",
    "https://www.acmicpc.net/problem/1759"
   ]
  },
  {
   "cell_type": "code",
   "execution_count": 43,
   "id": "669443bb",
   "metadata": {},
   "outputs": [
    {
     "name": "stdout",
     "output_type": "stream",
     "text": [
      "4 6\n",
      "a t c i s w\n",
      "acis\n",
      "acit\n",
      "aciw\n",
      "acst\n",
      "acsw\n",
      "actw\n",
      "aist\n",
      "aisw\n",
      "aitw\n",
      "astw\n",
      "cist\n",
      "cisw\n",
      "citw\n",
      "istw\n"
     ]
    }
   ],
   "source": [
    "from itertools import permutations,combinations\n",
    "\n",
    "l,c=map(int,input().split())\n",
    "datas=list(input().split())\n",
    "v=['a','e','i','o','u']\n",
    "datas.sort()\n",
    "result=[]\n",
    "data=list(combinations(datas,l))\n",
    "for x in data:\n",
    "    cnt=0\n",
    "    for i in x:\n",
    "        if i in v:\n",
    "            cnt+=1\n",
    "    if cnt>=1 and l-cnt>=2:\n",
    "        print(''.join(x))"
   ]
  }
 ],
 "metadata": {
  "kernelspec": {
   "display_name": "Python 3 (ipykernel)",
   "language": "python",
   "name": "python3"
  },
  "language_info": {
   "codemirror_mode": {
    "name": "ipython",
    "version": 3
   },
   "file_extension": ".py",
   "mimetype": "text/x-python",
   "name": "python",
   "nbconvert_exporter": "python",
   "pygments_lexer": "ipython3",
   "version": "3.9.7"
  }
 },
 "nbformat": 4,
 "nbformat_minor": 5
}
