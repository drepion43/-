{
 "cells": [
  {
   "cell_type": "markdown",
   "id": "62854546",
   "metadata": {},
   "source": [
    "# 다이나믹"
   ]
  },
  {
   "cell_type": "markdown",
   "id": "add05f16",
   "metadata": {},
   "source": [
    "https://www.acmicpc.net/problemset?sort=ac_desc&algo=25"
   ]
  },
  {
   "cell_type": "markdown",
   "id": "cf8b24e2",
   "metadata": {},
   "source": [
    "## *****의좋은형제(2499)\n",
    "https://www.acmicpc.net/problem/2499"
   ]
  },
  {
   "cell_type": "code",
   "execution_count": null,
   "id": "feaba71a",
   "metadata": {},
   "outputs": [],
   "source": [
    "n=int(input())\n",
    "INF=int(1e9)\n",
    "graph=[]\n",
    "def func1(x,y,cur):\n",
    "    if y>n:\n",
    "        return abs(cur-(total-cur))\n",
    "    if dp[x][y][cur]!=-1:\n",
    "        return dp[x][y][cur]\n",
    "    dp[x][y][cur] = INF\n",
    "    for i in range(x,-1,-1):\n",
    "        dp[x][y][cur]=min(dp[x][y][cur], func1(i,y+1,cur+bro[x][y]))\n",
    "    return dp[x][y][cur]\n",
    "\n",
    "#경계선 구하기\n",
    "def get_path(row, col, now, val):\n",
    "    if col > n:\n",
    "        return\n",
    "    if dp[row][col][now] == val:\n",
    "        path[col] = row\n",
    "        for i in range(row, -1, -1):\n",
    "            get_path(i, col + 1, now + bro[row][col], val)\n",
    "\n",
    "# 전체 수확량 값\n",
    "total=0\n",
    "for _ in range(n):\n",
    "    data=list(map(int,input().split()))\n",
    "    graph.append(data)\n",
    "    for i in data:\n",
    "        total+=i\n",
    "\n",
    "\n",
    "# dp 테이블\n",
    "dp=[[[-1]*5000 for _ in range(n+1)] for _ in range(n+1)]\n",
    "#경계선 담을 배열\n",
    "path = [-1] * (n + 1)\n",
    "\n",
    "# 동생 수확량을 담을 배열\n",
    "bro=[[0]*(n+1) for _ in range(n+1)]\n",
    "for i in range(1,n+1):\n",
    "    bro[1][i]=graph[0][i-1]\n",
    "# 현재 위치까지 동생 수확량을 계속 추가, 동생이 위쪽\n",
    "for j in range(1,n+1):\n",
    "    for i in range(2,n+1):\n",
    "        bro[i][j]=bro[i-1][j]+graph[i-1][j-1]\n",
    "        \n",
    "min_val=INF\n",
    "\n",
    "\n",
    "for i in range(n + 1):\n",
    "    min_val = min(min_val, func1(i,1,0))\n",
    "\n",
    "cur=-1\n",
    "#인덱스 구하기\n",
    "for i in range(n + 1):\n",
    "    if dp[i][1][bro[0][i]] == min_val:\n",
    "        cur = i\n",
    "        break\n",
    "\n",
    "print(cur)\n",
    "\n",
    "get_path(cur, 1, 0, min_val)\n",
    "for i in path[1:]:\n",
    "    print(n - i, end=' ')"
   ]
  },
  {
   "cell_type": "markdown",
   "id": "723a7d3f",
   "metadata": {},
   "source": [
    "## 설탕배달(2839)\n",
    "https://www.acmicpc.net/problem/2839"
   ]
  },
  {
   "cell_type": "code",
   "execution_count": 16,
   "id": "b31e28fc",
   "metadata": {},
   "outputs": [
    {
     "name": "stdout",
     "output_type": "stream",
     "text": [
      "11\n",
      "3\n"
     ]
    }
   ],
   "source": [
    "n=int(input())\n",
    "dp=[5001]*(n+5)\n",
    "# 3,5kg의 옮길때\n",
    "dp[3]=dp[5]=1\n",
    "\n",
    "for i in range(6,n+1):\n",
    "    # i kg을 옮길 때 어떤 것을 이용해 몇번 옮길지 결정\n",
    "    dp[i]=min(dp[i-3],dp[i-5])+1\n",
    "    \n",
    "print(dp[n] if dp[n]<int(5001) else -1)"
   ]
  },
  {
   "cell_type": "markdown",
   "id": "8bf7915c",
   "metadata": {},
   "source": [
    "## 1로만들기(1463)\n",
    "https://www.acmicpc.net/problem/1463"
   ]
  },
  {
   "cell_type": "code",
   "execution_count": 28,
   "id": "34de7a17",
   "metadata": {},
   "outputs": [
    {
     "name": "stdout",
     "output_type": "stream",
     "text": [
      "10\n",
      "3\n"
     ]
    }
   ],
   "source": [
    "n=int(input())\n",
    "dp=[0]*(n+1)\n",
    "\n",
    "for i in range(2,n+1):\n",
    "    # 우선 1을 빼주는 연산 진행\n",
    "    dp[i]=dp[i-1]+1\n",
    "    # 그 후 나누기 연산이 가능하면 수행, 나누기가 1을 빼는 것보다 연산 수가 항상 적기 때문\n",
    "    if i%3==0:\n",
    "        # 나누기했을 때 위치의 연산 수 와 1을 뺏을 때의 연산 수 중 작은 것을 선택\n",
    "        dp[i]=min(dp[i],dp[i//3]+1)\n",
    "    if i%2==0:\n",
    "        dp[i]=min(dp[i],dp[i//2]+1)\n",
    "    \n",
    "\n",
    "print(dp[n])"
   ]
  },
  {
   "cell_type": "markdown",
   "id": "46c0b92e",
   "metadata": {},
   "source": [
    "## 1,2,3 더하기(9095)\n",
    "https://www.acmicpc.net/problem/9095"
   ]
  },
  {
   "cell_type": "code",
   "execution_count": 34,
   "id": "ceccb93f",
   "metadata": {},
   "outputs": [
    {
     "name": "stdout",
     "output_type": "stream",
     "text": [
      "3\n",
      "1\n",
      "1\n",
      "2\n",
      "2\n",
      "3\n",
      "4\n"
     ]
    }
   ],
   "source": [
    "t=int(input())\n",
    "for i in range(t):\n",
    "    n=int(input())\n",
    "    # dp테이블\n",
    "    dp=[0]*(100)\n",
    "    # 1: 1 ,2: 2 , 3: 4 번의 합으로 표현 가능\n",
    "    dp[1]=1\n",
    "    dp[2]=2\n",
    "    dp[3]=4\n",
    "    for i in range(4,n+1):\n",
    "        # dp는 그 3개의 이전 값들의 합\n",
    "        dp[i]=dp[i-1]+dp[i-2]+dp[i-3]\n",
    "\n",
    "    print(dp[n])"
   ]
  },
  {
   "cell_type": "markdown",
   "id": "754da8f2",
   "metadata": {},
   "source": [
    "## 피보나치(1003)\n",
    "https://www.acmicpc.net/problem/1003"
   ]
  },
  {
   "cell_type": "code",
   "execution_count": 44,
   "id": "67af17da",
   "metadata": {},
   "outputs": [
    {
     "name": "stdout",
     "output_type": "stream",
     "text": [
      "3\n",
      "0\n",
      "1 0\n",
      "1\n",
      "0 1\n",
      "3\n",
      "1 2\n"
     ]
    }
   ],
   "source": [
    "def fibo(n):\n",
    "    # 0: 1번, 1: 0번, 2: 1번\n",
    "    zeros=[1,0,1]\n",
    "    # 0: 0번, 1: 1번, 2: 1번\n",
    "    ones=[0,1,1]\n",
    "    fibo_naive=[0,1]\n",
    "    for i in range(3,n+1):\n",
    "        # i-1와 i-2의 호출 횟수는 동일\n",
    "        zeros.append(zeros[i-1]+zeros[i-2])\n",
    "        ones.append(ones[i-1]+ones[i-2])\n",
    "\n",
    "#         fib=fibo_naive[i-1]+fibo_naive[i-2]\n",
    "#         fibo_naive.append(fib)\n",
    "#     return fibo_naive[n]\n",
    "    return zeros[n],ones[n]\n",
    "\n",
    "t=int(input())\n",
    "for i in range(t):\n",
    "    n=int(input())\n",
    "    zero,one=fibo(n)\n",
    "    print(zero,one)"
   ]
  },
  {
   "cell_type": "markdown",
   "id": "51338241",
   "metadata": {},
   "source": [
    "## 부녀회장이 될테야(2775)\n",
    "https://www.acmicpc.net/problem/2775"
   ]
  },
  {
   "cell_type": "code",
   "execution_count": 49,
   "id": "717fb7f8",
   "metadata": {},
   "outputs": [
    {
     "name": "stdout",
     "output_type": "stream",
     "text": [
      "1\n",
      "3\n",
      "6\n"
     ]
    }
   ],
   "source": [
    "t=int(input())\n",
    "for i in range(t):\n",
    "    k=int(input())\n",
    "    n=int(input())\n",
    "    # 1층 1호 이런식으로 인원수를 정하니 2차원 dp테이블 생성\n",
    "    dp=[[0]*(n+1) for _ in range(k+1)]\n",
    "    # 0층에 대한 초기화\n",
    "    for i in range(1,n+1):\n",
    "        dp[0][i]=i\n",
    "    for i in range(1,k+1):\n",
    "        for j in range(1,n+1):\n",
    "            # i층 j호는 i-1층의 1~j호까지의 합이다. i층의 j-1호는 i-1층의 1~j-1호까지의 합이니 \n",
    "            #  dp[i][j-1]+dp[i-1][j]의 식이다\n",
    "            dp[i][j]=dp[i-1][j]+dp[i][j-1]\n",
    "\n",
    "    print(dp[k][n])"
   ]
  },
  {
   "cell_type": "markdown",
   "id": "69640841",
   "metadata": {},
   "source": [
    "## 2xn 타일(11726)\n",
    "https://www.acmicpc.net/problem/11726"
   ]
  },
  {
   "cell_type": "code",
   "execution_count": 58,
   "id": "0c95946a",
   "metadata": {},
   "outputs": [
    {
     "name": "stdout",
     "output_type": "stream",
     "text": [
      "9\n",
      "55\n"
     ]
    }
   ],
   "source": [
    "n=int(input())\n",
    "dp=[1001]*(n+2)\n",
    "dp[1]=1\n",
    "dp[2]=2\n",
    "dp[3]=3\n",
    "\n",
    "# i-1번째 까지 쌓였다고 가정하면 1가지를 추가하는경우 밖에 없다. i-2번째 까지 쌓였다고 가정해도 2X1 두개를 채우는 한가지 경우만 존재\n",
    "for i in range(4,n+1):\n",
    "    dp[i]=dp[i-1]+dp[i-2]\n",
    "print(dp[n]%10007)"
   ]
  },
  {
   "cell_type": "markdown",
   "id": "570f9f9b",
   "metadata": {},
   "source": [
    "## **RGB거리(1149)\n",
    "https://www.acmicpc.net/problem/1149"
   ]
  },
  {
   "cell_type": "code",
   "execution_count": 62,
   "id": "2309f2d3",
   "metadata": {},
   "outputs": [
    {
     "name": "stdout",
     "output_type": "stream",
     "text": [
      "3\n",
      "26 40 83\n",
      "49 60 57\n",
      "13 89 99\n",
      "96\n"
     ]
    }
   ],
   "source": [
    "n=int(input())\n",
    "graph=[]\n",
    "for i in range(n):\n",
    "    data=list(map(int,input().split()))\n",
    "    graph.append(data)\n",
    "\n",
    "# n번쨰에는 n+1번째 까지 더한 값이 들어 있다.\n",
    "for i in range(1,n):\n",
    "    # i번째 R일 경우, i-1번째는 B,G중 하나 이다. \n",
    "    graph[i][0]=min(graph[i-1][1],graph[i-1][2])+graph[i][0]\n",
    "    # i번째 G일 경우, i-1번째는 R,B중 하나 이다. \n",
    "    graph[i][1]=min(graph[i-1][0],graph[i-1][2])+graph[i][1]\n",
    "    # i번째 B일 경우, i-1번째는 R,G중 하나 이다. \n",
    "    graph[i][2]=min(graph[i-1][0],graph[i-1][1])+graph[i][2]\n",
    "\n",
    "# n번째 중 최솟값 선택\n",
    "print(min(graph[n-1][0],graph[n-1][1],graph[n-1][2]))"
   ]
  },
  {
   "cell_type": "markdown",
   "id": "43e85aab",
   "metadata": {},
   "source": [
    "## 계단오르기(2579)\n",
    "https://www.acmicpc.net/problem/2579"
   ]
  },
  {
   "cell_type": "code",
   "execution_count": 75,
   "id": "2d2b6f9d",
   "metadata": {},
   "outputs": [
    {
     "name": "stdout",
     "output_type": "stream",
     "text": [
      "6\n",
      "10\n",
      "20\n",
      "25\n",
      "10\n",
      "20\n",
      "30\n",
      "95\n"
     ]
    }
   ],
   "source": [
    "n=int(input())\n",
    "array=[]\n",
    "dp=[0]*301\n",
    "for i in range(n):\n",
    "    data=int(input())\n",
    "    array.append(data)\n",
    "\n",
    "dp[0]=array[0]\n",
    "dp[1]=array[0]+array[1]\n",
    "dp[2]=max(array[0]+array[2],array[1]+array[2])\n",
    "\n",
    "for i in range(3,n):\n",
    "    # 마지막 계단의 -1을 밟은 경우는 -3을 반드시 밟아야한다, 마지막 계단의 -2을 밟을 경우는 뒤에는 상관없다\n",
    "    dp[i]=max(dp[i-3]+array[i-1]+array[i],dp[i-2]+array[i])\n",
    "print(dp[n-1])"
   ]
  },
  {
   "cell_type": "markdown",
   "id": "63e8b91f",
   "metadata": {},
   "source": [
    "## 가장 긴 증가하는 부분 수열(11053)\n",
    "https://www.acmicpc.net/problem/11053"
   ]
  },
  {
   "cell_type": "code",
   "execution_count": 77,
   "id": "a6321db9",
   "metadata": {},
   "outputs": [
    {
     "name": "stdout",
     "output_type": "stream",
     "text": [
      "6\n",
      "10 20 10 30 20 50\n",
      "[0, 1, 0, 2, 1, 3, 0]\n"
     ]
    }
   ],
   "source": [
    "from bisect import bisect_left,bisect_right\n",
    "\n",
    "n=int(input())\n",
    "array=list(map(int,input().split()))\n",
    "\n",
    "dp=[0]*(n+1)\n",
    "\n",
    "for i in range(n):\n",
    "    for j in range(i):\n",
    "        #LSI , 한개 포인트를 기준으로 그 포인터 보다 작은 인덱스들을 확인하여 포인터위치 값보다 작을 경우 1씩 더해줘 수열 선택\n",
    "        if array[i]>array[j]:\n",
    "            dp[i]=max(dp[i],dp[j]+1)\n",
    "print(max(dp)+1)"
   ]
  },
  {
   "cell_type": "markdown",
   "id": "5631efdf",
   "metadata": {},
   "source": [
    "## 연속합(1912)\n",
    "https://www.acmicpc.net/problem/1912"
   ]
  },
  {
   "cell_type": "code",
   "execution_count": 80,
   "id": "6c853591",
   "metadata": {},
   "outputs": [
    {
     "name": "stdout",
     "output_type": "stream",
     "text": [
      "10\n",
      "10 -4 3 1 5 6 -35 12 21 -1\n",
      "33\n"
     ]
    }
   ],
   "source": [
    "# 시간초과\n",
    "n=int(input())\n",
    "array=list(map(int,input().split()))\n",
    "\n",
    "result=0\n",
    "for i in range(n):\n",
    "    total=0\n",
    "    tmp=0\n",
    "    for j in range(i,n):\n",
    "        #연속된 수이니 i 포인터 기준으로 우측에 있는 값들을 다 더함\n",
    "        total+=array[j]\n",
    "        # 우측 제한을 걸어서 사용\n",
    "        tmp=max(total,tmp)\n",
    "    # 우측 값들을 다 더한 값 중 최대값 선택\n",
    "    result=max(result,tmp)\n",
    "\n",
    "print(result)"
   ]
  },
  {
   "cell_type": "code",
   "execution_count": 82,
   "id": "130dbff1",
   "metadata": {},
   "outputs": [
    {
     "name": "stdout",
     "output_type": "stream",
     "text": [
      "10\n",
      "10 -4 3 1 5 6 -35 12 21 -1\n",
      "[10, 6, 9, 10, 15, 21, -14, 12, 33, 32]\n"
     ]
    }
   ],
   "source": [
    "n=int(input())\n",
    "array=list(map(int,input().split()))\n",
    "dp=[array[0]]\n",
    "for i in range(n-1):\n",
    "    # i+1번째 더한 값과, i+1번째 값을 비교 해서 더 큰 값을 사용\n",
    "    dp.append(max(dp[i]+array[i+1],array[i+1]))\n",
    "\n",
    "print((dp))"
   ]
  },
  {
   "cell_type": "markdown",
   "id": "d0d35857",
   "metadata": {},
   "source": [
    "## 포도주 시식(2156)\n",
    "https://www.acmicpc.net/problem/2156"
   ]
  },
  {
   "cell_type": "code",
   "execution_count": 99,
   "id": "a4962bd0",
   "metadata": {},
   "outputs": [
    {
     "name": "stdout",
     "output_type": "stream",
     "text": [
      "6\n",
      "6\n",
      "10\n",
      "23\n",
      "54\n",
      "32\n",
      "12\n",
      "102\n"
     ]
    }
   ],
   "source": [
    "# 계단오르기와 유사\n",
    "n=int(input())\n",
    "array=[]\n",
    "for i in range(n):\n",
    "    array.append(int(input()))\n",
    "\n",
    "dp=[0]*10001\n",
    "dp[0]=array[0]\n",
    "if n>1:\n",
    "    dp[1]=array[0]+array[1]\n",
    "if n>2:\n",
    "    dp[2]=array[0]+array[2]\n",
    "    for i in range(3,n):\n",
    "        # 세잔을 연속으로 못마시니 세번째 잔 일때 가능한 경우 2가지\n",
    "        dp[i]=max(dp[i-2],dp[i-3]+array[i-1])+array[i]\n",
    "    \n",
    "print(max(dp))"
   ]
  },
  {
   "cell_type": "markdown",
   "id": "4fec9ad7",
   "metadata": {},
   "source": [
    "## 쉬운 계단 수(10844)\n",
    "https://www.acmicpc.net/problem/10844"
   ]
  },
  {
   "cell_type": "code",
   "execution_count": 142,
   "id": "f266094d",
   "metadata": {},
   "outputs": [
    {
     "name": "stdout",
     "output_type": "stream",
     "text": [
      "4\n",
      "61\n"
     ]
    }
   ],
   "source": [
    "n=int(input())\n",
    "\n",
    "dp=[0]*101\n",
    "dp[1]=9\n",
    "# 규칙을 찾으면 \n",
    "\n",
    "for i in range(2,n+1):\n",
    "    dp[i]=((dp[i-1]-1)*2)+1\n",
    "if n%2==0:  \n",
    "    print(dp[n]-n)\n",
    "else:\n",
    "    print(dp[n]-n)"
   ]
  },
  {
   "cell_type": "code",
   "execution_count": 144,
   "id": "a867e2ff",
   "metadata": {},
   "outputs": [
    {
     "name": "stdout",
     "output_type": "stream",
     "text": [
      "3\n",
      "32\n"
     ]
    }
   ],
   "source": [
    "n = int(input())\n",
    "\n",
    "dp = [[0]*10 for _ in range(n+1)]\n",
    "for i in range(1, 10):\n",
    "    dp[1][i] = 1\n",
    "    \n",
    "for i in range(2,n+1):\n",
    "    for j in range(10):\n",
    "        # 0일때는 이전에 1인 값들로부터밖에 얻을 수 없다\n",
    "        if j==0:\n",
    "            dp[i][j]=dp[i-1][1]\n",
    "        # 9일때는 이전에 8인 값들로부터밖에 얻을 수 없다\n",
    "        elif j==9:\n",
    "            dp[i][j]=dp[i-1][8]\n",
    "        # 직접 그림을 그려보자\n",
    "        else:\n",
    "            dp[i][j]=dp[i-1][j+1]+dp[i-1][j-1]\n",
    "print(sum(dp[n])%1000000000)"
   ]
  },
  {
   "cell_type": "markdown",
   "id": "3581cc13",
   "metadata": {},
   "source": [
    "## ********평범한 배낭(12865)\n",
    "https://www.acmicpc.net/problem/12865"
   ]
  },
  {
   "cell_type": "code",
   "execution_count": 147,
   "id": "59a07153",
   "metadata": {},
   "outputs": [
    {
     "name": "stdout",
     "output_type": "stream",
     "text": [
      "4 7\n",
      "6 13\n",
      "4 8\n",
      "3 6\n",
      "5 12\n",
      "[0, 0, 0, 0, 0, 0, 0, 0]\n",
      "[0, 0, 0, 0, 0, 0, 13, 13]\n",
      "[0, 0, 0, 0, 8, 8, 13, 13]\n",
      "[0, 0, 0, 6, 8, 8, 13, 14]\n",
      "14\n"
     ]
    }
   ],
   "source": [
    "n,k=map(int,input().split())\n",
    "graph=[]\n",
    "for i in range(n):\n",
    "    w,v=map(int,input().split())\n",
    "    graph.append([w,v])\n",
    "\n",
    "# k무게 만큼의 배열 생성\n",
    "dp=[0]*(k+1)\n",
    "for item in graph:\n",
    "    w,v=item\n",
    "    # k번째부터 뒤로 확인하며 dp테이블에 값을 대입하기 위해\n",
    "    for i in range(k,w-1,-1):\n",
    "        # k에서 w만큼 뺀 위치의 값이 잇다면 그 값과 현재 꺼낸 물건의 가치 값을 더한 것과 기존것과 비교\n",
    "        dp[i]=max(dp[i],dp[i-w]+v)\n",
    "print(dp[k])"
   ]
  },
  {
   "cell_type": "markdown",
   "id": "d225a1bd",
   "metadata": {},
   "source": [
    "## 배낭문제 2 (12920)\n",
    "https://www.acmicpc.net/problem/12920"
   ]
  },
  {
   "cell_type": "code",
   "execution_count": 157,
   "id": "0ab1fd69",
   "metadata": {},
   "outputs": [
    {
     "name": "stdout",
     "output_type": "stream",
     "text": [
      "3 9\n",
      "8 5 1\n",
      "1 2 2\n",
      "9 4 1\n",
      "7\n"
     ]
    }
   ],
   "source": [
    "#시간초과\n",
    "n,m=map(int,input().split())\n",
    "graph=[]\n",
    "for i in range(n):\n",
    "    v,c,k=map(int,input().split())\n",
    "    for _ in range(k):\n",
    "        graph.append([v,c])\n",
    "\n",
    "\n",
    "dp=[0]*(m+1)\n",
    "for item in graph:\n",
    "    v,c=item\n",
    "    for i in range(m,v-1,-1):\n",
    "        dp[i]=max(dp[i],dp[i-v]+c)\n",
    "print(dp[m])"
   ]
  },
  {
   "cell_type": "markdown",
   "id": "cdbe6f7c",
   "metadata": {},
   "source": [
    "## LCS(9251)\n",
    "https://www.acmicpc.net/problem/9251"
   ]
  },
  {
   "cell_type": "code",
   "execution_count": 20,
   "id": "dd66b5d4",
   "metadata": {},
   "outputs": [
    {
     "name": "stdout",
     "output_type": "stream",
     "text": [
      "ACAYKP\n",
      "CAPCAK\n",
      "[[0, 1, 1, 1, 1, 1], [2, 2, 2, 2, 2, 2], [2, 3, 3, 3, 3, 3], [2, 3, 3, 3, 3, 3], [2, 3, 3, 3, 3, 4], [2, 3, 4, 4, 4, 4]]\n",
      "4\n"
     ]
    }
   ],
   "source": [
    "a=input()\n",
    "b=input()\n",
    "\n",
    "dp=[[0]*len(b) for _ in range(len(a))]\n",
    "\n",
    "        \n",
    "for i in range(len(a)):\n",
    "    for j in range(len(b)):\n",
    "        if a[i]==b[j]:\n",
    "            # 같은 문자를 만났을 경우 위의 대각선 값에다 1을 더해주는 점화식이 생김\n",
    "            dp[i][j]=dp[i-1][j-1]+1\n",
    "        else:\n",
    "            # 같은 문자가 아닐경우 2차원 행렬에서 왼쪽 또는 위쪽에 있는 값중 큰 값을 가져온다\n",
    "            # 이전 문자열과 같은 값을 가지가 때문\n",
    "            dp[i][j]=max(dp[i-1][j],dp[i][j-1])\n",
    "            \n",
    "print(dp[len(a)-1][len(b)-1])"
   ]
  },
  {
   "cell_type": "markdown",
   "id": "e12726d9",
   "metadata": {},
   "source": [
    "## ***카드 구매하기(11052)\n",
    "https://www.acmicpc.net/problem/11052"
   ]
  },
  {
   "cell_type": "code",
   "execution_count": 22,
   "id": "10ed3fc0",
   "metadata": {},
   "outputs": [
    {
     "name": "stdout",
     "output_type": "stream",
     "text": [
      "4\n",
      "1 5 6 7\n",
      "10\n"
     ]
    }
   ],
   "source": [
    "n=int(input())\n",
    "array=[0]+list(map(int,input().split()))\n",
    "\n",
    "dp=[0]*(n+1)\n",
    "dp[1]=array[1]\n",
    "for i in range(2,n+1):\n",
    "    for j in range(1,i+1):\n",
    "        # 4일경우 최대값은 dp[1]+array[3] , dp[2]+array[2], dp[3]+array[1], array[4] 중에 하나 일 것이다(4 : (1,3),(2,2),(3,1),(4,0))\n",
    "        dp[i]=max(dp[i],dp[i-j]+array[j])\n",
    "print(dp[-1])"
   ]
  },
  {
   "cell_type": "markdown",
   "id": "291ca426",
   "metadata": {},
   "source": [
    "## ***동전1(2293)\n",
    "https://www.acmicpc.net/problem/2293"
   ]
  },
  {
   "cell_type": "code",
   "execution_count": 26,
   "id": "3056e05f",
   "metadata": {},
   "outputs": [
    {
     "name": "stdout",
     "output_type": "stream",
     "text": [
      "3 10\n",
      "1\n",
      "2\n",
      "5\n",
      "[1, 0, 0, 0, 0, 0, 0, 0, 0, 0, 0]\n",
      "[1, 1, 1, 1, 1, 1, 1, 1, 1, 1, 1]\n",
      "[1, 1, 2, 2, 3, 3, 4, 4, 5, 5, 6]\n",
      "[1, 1, 2, 2, 3, 4, 5, 6, 7, 8, 10]\n",
      "[1, 1, 2, 2, 3, 4, 5, 6, 7, 8, 10]\n"
     ]
    }
   ],
   "source": [
    "n,k=map(int,input().split())\n",
    "array=[]\n",
    "for i in range(n):\n",
    "    array.append(int(input()))\n",
    "array.insert(0,0)\n",
    "\n",
    "dp=[0]*(k+1)\n",
    "\n",
    "dp[0]=1\n",
    "\n",
    "for data in array:\n",
    "    for i in range(1,k+1):\n",
    "        # i원을 만들기 위해 필요한 1 또는 2 또는 5원의 동전 개수\n",
    "        if i-data>=0:\n",
    "            # 1. 1원가지고 i원을 만들 수 있는 경우 입력\n",
    "            # 2. 2원가지고 i원을 만들 수 있는 경우 ...\n",
    "            dp[i]+=dp[i-data]\n",
    "print(dp[-1])"
   ]
  },
  {
   "cell_type": "markdown",
   "id": "bcb2aff5",
   "metadata": {},
   "source": [
    "## 가장 긴 바이토닉 부분 수열(11054)\n",
    "https://www.acmicpc.net/problem/11054"
   ]
  },
  {
   "cell_type": "code",
   "execution_count": 44,
   "id": "e80aaeaa",
   "metadata": {},
   "outputs": [
    {
     "name": "stdout",
     "output_type": "stream",
     "text": [
      "10\n",
      "1 5 2 1 4 3 4 5 2 1\n",
      "[0, 1, 2, 2, 1, 3, 3, 4, 5, 2, 1]\n",
      "[0, 1, 2, 3, 3, 3, 4, 1, 2, 5, 1]\n",
      "7\n"
     ]
    }
   ],
   "source": [
    "n=int(input())\n",
    "array=list(map(int,input().split()))\n",
    "# 역배열 구하기\n",
    "array_reverse=array[::-1]\n",
    "array.insert(0,0)\n",
    "array_reverse.insert(0,0)\n",
    "\n",
    "\n",
    "dp=[0]*(n+1)\n",
    "dp2=[0]*(n+1)\n",
    "\n",
    "for i in range(1,n+1):\n",
    "    for j in range(i+1):\n",
    "        # LSI 구하기\n",
    "        if array[i]>array[j]:\n",
    "            dp[i]=max(dp[j]+1,dp[i])\n",
    "        # LSI의 역순인 감소하는 열\n",
    "        if array_reverse[i]>array_reverse[j]:\n",
    "            dp2[i]=max(dp2[j]+1,dp2[i])\n",
    "\n",
    "result=[]\n",
    "# 각 위치의 결과값이 가장 큰 부위가 증가하다 감소하는 가장 긴 부분 수열이다\n",
    "for i in range(1,n+1):\n",
    "    result.append(dp[i]+dp2[n+1-i]-1)\n",
    "\n",
    "print(max(result))"
   ]
  },
  {
   "cell_type": "markdown",
   "id": "11fd39e4",
   "metadata": {},
   "source": [
    "## ***내리막길(1520) - DFS+DP\n",
    "https://www.acmicpc.net/problem/1520"
   ]
  },
  {
   "cell_type": "code",
   "execution_count": 2,
   "id": "bc391b1e",
   "metadata": {},
   "outputs": [
    {
     "name": "stdout",
     "output_type": "stream",
     "text": [
      "4 5\n",
      "50 45 37 32 30\n",
      "35 50 40 20 25\n",
      "30 30 25 17 28\n",
      "27 24 22 15 10\n",
      "3\n"
     ]
    }
   ],
   "source": [
    "#DFS\n",
    "n,m=map(int,input().split())\n",
    "graph=[]\n",
    "for i in range(n):\n",
    "    data=list(map(int,input().split()))\n",
    "    graph.append(data)\n",
    "dx=[1,-1,0,0]\n",
    "dy=[0,0,1,-1]\n",
    "\n",
    "visited=[[False]*m for _ in range(n)]\n",
    "\n",
    "def dfs(x,y,depth):\n",
    "    global cnt\n",
    "    if x==n-1 and y==m-1:\n",
    "        cnt+=1\n",
    "        return\n",
    "    \n",
    "\n",
    "    for i in range(4):\n",
    "        nx=x+dx[i]\n",
    "        ny=y+dy[i]\n",
    "        if 0<=nx<n and 0<=ny<m:\n",
    "            if graph[x][y]>graph[nx][ny] and visited[nx][ny]==False:\n",
    "                visited[nx][ny]=True\n",
    "                dfs(nx,ny,depth+1)\n",
    "                visited[nx][ny]=False\n",
    "cnt=0\n",
    "visited[0][0]=True\n",
    "dfs(0,0,0)\n",
    "print(cnt)\n",
    "    "
   ]
  },
  {
   "cell_type": "code",
   "execution_count": 6,
   "id": "64d2ff75",
   "metadata": {},
   "outputs": [
    {
     "name": "stdout",
     "output_type": "stream",
     "text": [
      "4 5\n",
      "50 45 37 32 30\n",
      "35 50 40 20 25\n",
      "30 30 25 17 28\n",
      "27 24 22 15 10\n",
      "3\n",
      "[[3, 2, 2, 2, 1], [1, -1, -1, 1, 1], [1, -1, -1, 1, -1], [1, 1, 1, 1, -1]]\n"
     ]
    }
   ],
   "source": [
    "#DP사용\n",
    "n,m=map(int,input().split())\n",
    "graph=[]\n",
    "for i in range(n):\n",
    "    data=list(map(int,input().split()))\n",
    "    graph.append(data)\n",
    "dx=[1,-1,0,0]\n",
    "dy=[0,0,1,-1]\n",
    "\n",
    "dp=[[-1]*m for _ in range(n)]\n",
    "\n",
    "def dfs(x,y,depth):\n",
    "    # 도달한다면 1의 경우의 수 추가\n",
    "    if x==n-1 and y==m-1:\n",
    "        return 1\n",
    "    #탐색 한 곳이라면 리턴\n",
    "    if dp[x][y]!=-1:\n",
    "        return dp[x][y]\n",
    "    \n",
    "    \n",
    "    ways=0\n",
    "    for i in range(4):\n",
    "        nx=x+dx[i]\n",
    "        ny=y+dy[i]\n",
    "        if 0<=nx<n and 0<=ny<m:\n",
    "            # 이전값보다 작을 경우 탐색\n",
    "            if graph[x][y]>graph[nx][ny]:\n",
    "                #탐색한 후 값을 저장\n",
    "                ways+=dfs(nx,ny,depth+1)\n",
    "        \n",
    "    dp[x][y]=ways\n",
    "    return dp[x][y]\n",
    "\n",
    "cnt=dfs(0,0,0)\n",
    "print(cnt)\n",
    "print(dp)"
   ]
  },
  {
   "cell_type": "markdown",
   "id": "146619db",
   "metadata": {},
   "source": [
    "## 타일 채우기(2133)\n",
    "https://www.acmicpc.net/problem/2133"
   ]
  },
  {
   "cell_type": "code",
   "execution_count": 14,
   "id": "cf381f4f",
   "metadata": {},
   "outputs": [
    {
     "name": "stdout",
     "output_type": "stream",
     "text": [
      "2\n"
     ]
    },
    {
     "ename": "IndexError",
     "evalue": "list assignment index out of range",
     "output_type": "error",
     "traceback": [
      "\u001b[1;31m---------------------------------------------------------------------------\u001b[0m",
      "\u001b[1;31mIndexError\u001b[0m                                Traceback (most recent call last)",
      "\u001b[1;32m~\\AppData\\Local\\Temp/ipykernel_372/133375.py\u001b[0m in \u001b[0;36m<module>\u001b[1;34m\u001b[0m\n\u001b[0;32m      4\u001b[0m \u001b[0mdp\u001b[0m\u001b[1;33m[\u001b[0m\u001b[1;36m1\u001b[0m\u001b[1;33m]\u001b[0m\u001b[1;33m=\u001b[0m\u001b[1;36m0\u001b[0m\u001b[1;33m\u001b[0m\u001b[1;33m\u001b[0m\u001b[0m\n\u001b[0;32m      5\u001b[0m \u001b[0mdp\u001b[0m\u001b[1;33m[\u001b[0m\u001b[1;36m2\u001b[0m\u001b[1;33m]\u001b[0m\u001b[1;33m=\u001b[0m\u001b[1;36m3\u001b[0m\u001b[1;33m\u001b[0m\u001b[1;33m\u001b[0m\u001b[0m\n\u001b[1;32m----> 6\u001b[1;33m \u001b[0mdp\u001b[0m\u001b[1;33m[\u001b[0m\u001b[1;36m3\u001b[0m\u001b[1;33m]\u001b[0m\u001b[1;33m=\u001b[0m\u001b[1;36m3\u001b[0m\u001b[1;33m\u001b[0m\u001b[1;33m\u001b[0m\u001b[0m\n\u001b[0m\u001b[0;32m      7\u001b[0m \u001b[0mdp\u001b[0m\u001b[1;33m[\u001b[0m\u001b[1;36m4\u001b[0m\u001b[1;33m]\u001b[0m\u001b[1;33m=\u001b[0m\u001b[1;36m3\u001b[0m\u001b[1;33m*\u001b[0m\u001b[1;36m2\u001b[0m\u001b[1;33m+\u001b[0m\u001b[1;36m2\u001b[0m\u001b[1;33m\u001b[0m\u001b[1;33m\u001b[0m\u001b[0m\n\u001b[0;32m      8\u001b[0m \u001b[1;33m\u001b[0m\u001b[0m\n",
      "\u001b[1;31mIndexError\u001b[0m: list assignment index out of range"
     ]
    }
   ],
   "source": [
    "n=int(input())\n",
    "\n",
    "dp=[0]*(n+1)\n",
    "dp[1]=0\n",
    "dp[2]=3\n",
    "\n",
    "for i in range(4,n+1,2):\n",
    "    dp[i]=dp[2]*dp[i-2]\n",
    "    for j in range(4,i,2):\n",
    "        dp[i]+=2*dp[i-j]\n",
    "    dp[i]+=2\n",
    "print(dp[n])"
   ]
  }
 ],
 "metadata": {
  "kernelspec": {
   "display_name": "Python 3 (ipykernel)",
   "language": "python",
   "name": "python3"
  },
  "language_info": {
   "codemirror_mode": {
    "name": "ipython",
    "version": 3
   },
   "file_extension": ".py",
   "mimetype": "text/x-python",
   "name": "python",
   "nbconvert_exporter": "python",
   "pygments_lexer": "ipython3",
   "version": "3.9.7"
  }
 },
 "nbformat": 4,
 "nbformat_minor": 5
}
