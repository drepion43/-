{
 "cells": [
  {
   "cell_type": "markdown",
   "id": "03fc5c65",
   "metadata": {},
   "source": [
    "# 그리디"
   ]
  },
  {
   "cell_type": "markdown",
   "id": "e8a00c94",
   "metadata": {},
   "source": [
    "## 2. 큰수의 법칙(그리디)"
   ]
  },
  {
   "cell_type": "code",
   "execution_count": 2,
   "id": "5adafb72",
   "metadata": {},
   "outputs": [
    {
     "name": "stdout",
     "output_type": "stream",
     "text": [
      "5 8 3\n",
      "2 4 5 4 6\n",
      "46\n"
     ]
    }
   ],
   "source": [
    "n,m,k=map(int,input().split())\n",
    "data=list(map(int,input().split()))\n",
    "\n",
    "data.sort()\n",
    "first=data[n-1]\n",
    "second=data[n-2]\n",
    "\n",
    "result=0\n",
    "\n",
    "while True:\n",
    "    for i in range(k):\n",
    "        if m==0:\n",
    "            break\n",
    "        result+=first\n",
    "        m-=1\n",
    "    if m==0:\n",
    "        break\n",
    "    result+=second\n",
    "    m-=1\n",
    "    \n",
    "print(result)"
   ]
  },
  {
   "cell_type": "code",
   "execution_count": 3,
   "id": "5aac962b",
   "metadata": {},
   "outputs": [
    {
     "name": "stdout",
     "output_type": "stream",
     "text": [
      "5 8 3\n",
      "2 4 5 4 6\n",
      "42\n"
     ]
    }
   ],
   "source": [
    "n,m,k=map(int,input().split())\n",
    "data=list(map(int,input().split()))\n",
    "\n",
    "data.sort()\n",
    "first=data[n-1]\n",
    "second=data[n-2]\n",
    "\n",
    "\n",
    "count = int(m/(k+1))\n",
    "count+=m%(k+1)\n",
    "\n",
    "result=0\n",
    "result+=(count)*first\n",
    "result += (m-count)*second\n",
    "\n",
    "print(result)"
   ]
  },
  {
   "cell_type": "markdown",
   "id": "fa9af038",
   "metadata": {},
   "source": [
    "## 3. 숫자 카드 게임"
   ]
  },
  {
   "cell_type": "code",
   "execution_count": 4,
   "id": "8c3bbc08",
   "metadata": {},
   "outputs": [
    {
     "name": "stdout",
     "output_type": "stream",
     "text": [
      "3 3\n",
      "3 1 2\n",
      "4 1 4\n",
      "2 2 2\n",
      "2\n"
     ]
    }
   ],
   "source": [
    "n,m=map(int,input().split())\n",
    "\n",
    "result=0\n",
    "\n",
    "for i in range(n):\n",
    "    data=list(map(int,input().split()))\n",
    "    min_value=min(data)\n",
    "    result=max(result,min_value)\n",
    "    \n",
    "print(result)"
   ]
  },
  {
   "cell_type": "markdown",
   "id": "3b161fc3",
   "metadata": {},
   "source": [
    "## 4. 1이 될때까지"
   ]
  },
  {
   "cell_type": "code",
   "execution_count": 7,
   "id": "67fb96f9",
   "metadata": {},
   "outputs": [
    {
     "name": "stdout",
     "output_type": "stream",
     "text": [
      "25 5\n",
      "2\n"
     ]
    }
   ],
   "source": [
    "n,k=map(int,input().split())\n",
    "\n",
    "result=0\n",
    "\n",
    "while n>=k:\n",
    "    while n%k!=0:\n",
    "        n-=1\n",
    "        result+=1\n",
    "    n//=k\n",
    "    result+=1\n",
    "\n",
    "while n>1:\n",
    "    n-=1\n",
    "    result+=1\n",
    "    \n",
    "print(result)"
   ]
  },
  {
   "cell_type": "markdown",
   "id": "c21500cb",
   "metadata": {},
   "source": [
    "# 구현"
   ]
  },
  {
   "cell_type": "markdown",
   "id": "b7967d47",
   "metadata": {},
   "source": [
    "## 1. 상하좌우"
   ]
  },
  {
   "cell_type": "code",
   "execution_count": 13,
   "id": "c20ef095",
   "metadata": {},
   "outputs": [
    {
     "name": "stdout",
     "output_type": "stream",
     "text": [
      "5\n",
      "R R R U D D\n",
      "3 4\n"
     ]
    }
   ],
   "source": [
    "n=int(input())\n",
    "x,y=1,1\n",
    "plans=input().split()\n",
    "\n",
    "dx=[0,0,-1,1]\n",
    "dy=[-1,1,0,0]\n",
    "\n",
    "move_types=['L','R','U','D']\n",
    "\n",
    "for plan in plans:\n",
    "    for i in range(len(move_types)):\n",
    "        if plan==move_types[i]:\n",
    "            nx=x+dx[i]\n",
    "            ny=y+dy[i]\n",
    "    if nx<1 or ny<1 or nx>n or ny>n:\n",
    "        continue\n",
    "    x,y=nx,ny\n",
    "    \n",
    "print(x,y)"
   ]
  },
  {
   "cell_type": "markdown",
   "id": "b4a8dc6d",
   "metadata": {},
   "source": [
    "## 2. 시각"
   ]
  },
  {
   "cell_type": "code",
   "execution_count": 14,
   "id": "54022e35",
   "metadata": {},
   "outputs": [
    {
     "name": "stdout",
     "output_type": "stream",
     "text": [
      "5\n",
      "11475\n"
     ]
    }
   ],
   "source": [
    "h=int(input())\n",
    "\n",
    "count=0\n",
    "\n",
    "for i in range(h+1):\n",
    "    for j in range(60):\n",
    "        for k in range(60):\n",
    "            if '3' in str(i)+str(j)+str(k):\n",
    "                count+=1\n",
    "                \n",
    "print(count)"
   ]
  },
  {
   "cell_type": "markdown",
   "id": "b75f9c5a",
   "metadata": {},
   "source": [
    "## 3. 왕실의 나이트"
   ]
  },
  {
   "cell_type": "code",
   "execution_count": 20,
   "id": "e4e48275",
   "metadata": {},
   "outputs": [
    {
     "name": "stdout",
     "output_type": "stream",
     "text": [
      "c2\n",
      "6\n"
     ]
    }
   ],
   "source": [
    "input_data=input()\n",
    "row=int(input_data[1])\n",
    "column=ord(input_data[0])-ord('a')+1\n",
    "\n",
    "steps=[(1,2),(-1,2),(-1,-2),(1,-2),(2,1),(2,-1),(-2,1),(-2,-1)]\n",
    "\n",
    "result=0\n",
    "\n",
    "for step in steps:\n",
    "    nxt_row=row+step[0]\n",
    "    nxt_col=column+step[1]\n",
    "    \n",
    "    if nxt_row>=1 and nxt_row<=8 and nxt_col>=1 and nxt_col<=8:\n",
    "        result+=1\n",
    "        \n",
    "print(result)"
   ]
  },
  {
   "cell_type": "markdown",
   "id": "f824ce21",
   "metadata": {},
   "source": [
    "## 4. 게임 개발"
   ]
  },
  {
   "cell_type": "code",
   "execution_count": 22,
   "id": "16ccfb73",
   "metadata": {},
   "outputs": [
    {
     "name": "stdout",
     "output_type": "stream",
     "text": [
      "4 4\n",
      "1 1 0\n",
      "1 1 1 1\n",
      "1 0 0 1\n",
      "1 1 0 1\n",
      "1 1 1 1\n",
      "3\n"
     ]
    }
   ],
   "source": [
    "n,m=map(int,input().split())\n",
    "\n",
    "d=[[0]*m for _ in range(n)]\n",
    "x,y,direction=map(int,input().split())\n",
    "\n",
    "d[x][y]=1\n",
    "\n",
    "arr=[]\n",
    "\n",
    "for i in range(n):\n",
    "    arr.append(list(map(int,input().split())))\n",
    "\n",
    "dx=[-1,0,1,0]\n",
    "dy=[0,1,0,-1]\n",
    "\n",
    "def turn_left():\n",
    "    global direction\n",
    "    direction -=1\n",
    "    if direction == -1:\n",
    "        direction=3\n",
    "    \n",
    "cnt=1\n",
    "turn_time=0\n",
    "while True:\n",
    "    turn_left()\n",
    "    nx=x+dx[direction]\n",
    "    ny=y+dy[direction]\n",
    "    \n",
    "    if d[nx][ny]==0 and arr[nx][ny]==0:\n",
    "        d[nx][ny]=1\n",
    "        x=nx\n",
    "        y=ny\n",
    "        cnt+=1\n",
    "        turn_time=0\n",
    "        continue\n",
    "    else:\n",
    "        turn_time+=1\n",
    "        \n",
    "    if turn_time==4:\n",
    "        nx=x-dx[direction]\n",
    "        ny=y-dy[direction]\n",
    "        \n",
    "        if arr[nx][ny]==0:\n",
    "            x=nx\n",
    "            y=ny\n",
    "        else:\n",
    "            break\n",
    "        turn_time=0\n",
    "        \n",
    "print(cnt)"
   ]
  },
  {
   "cell_type": "markdown",
   "id": "c1d19c79",
   "metadata": {},
   "source": [
    "# DFS,BFS"
   ]
  },
  {
   "cell_type": "markdown",
   "id": "cf6eb7f0",
   "metadata": {},
   "source": [
    "## 1. DFS"
   ]
  },
  {
   "cell_type": "code",
   "execution_count": 25,
   "id": "23da0252",
   "metadata": {},
   "outputs": [
    {
     "name": "stdout",
     "output_type": "stream",
     "text": [
      "1 2 7 6 8 3 4 5 "
     ]
    }
   ],
   "source": [
    "def dfs(graph,v,visited):\n",
    "    visited[v]=True\n",
    "    print(v,end=' ')\n",
    "    for i in graph[v]:\n",
    "        if not visited[i]:\n",
    "            dfs(graph,i,visited)\n",
    "\n",
    "graph=[[],[2,3,8],[1,7],[1,4,5],[3,5],[3,4],[7],[2,6,8],[1,7]]\n",
    "\n",
    "visited=[False]*9\n",
    "\n",
    "dfs(graph,1,visited)"
   ]
  },
  {
   "cell_type": "markdown",
   "id": "e765f927",
   "metadata": {},
   "source": [
    "## 2. BFS"
   ]
  },
  {
   "cell_type": "code",
   "execution_count": 27,
   "id": "6829b164",
   "metadata": {},
   "outputs": [
    {
     "name": "stdout",
     "output_type": "stream",
     "text": [
      "1 2 3 8 7 4 5 6 "
     ]
    }
   ],
   "source": [
    "from collections import deque\n",
    "\n",
    "def bfs(graph,start,visited):\n",
    "    queue=deque([start])\n",
    "    visited[start]=True\n",
    "    \n",
    "    while queue:\n",
    "        v=queue.popleft()\n",
    "        print(v,end=' ')\n",
    "        for i in graph[v]:\n",
    "            if not visited[i]:\n",
    "                queue.append(i)\n",
    "                visited[i]=True\n",
    "                \n",
    "graph=[[],[2,3,8],[1,7],[1,4,5],[3,5],[3,4],[7],[2,6,8],[1,7]]\n",
    "\n",
    "visited=[False]*9\n",
    "\n",
    "bfs(graph,1,visited)"
   ]
  },
  {
   "cell_type": "markdown",
   "id": "232e0c2c",
   "metadata": {},
   "source": [
    "## 3. 음료수 얼려먹기"
   ]
  },
  {
   "cell_type": "code",
   "execution_count": 28,
   "id": "7d132a71",
   "metadata": {},
   "outputs": [
    {
     "name": "stdout",
     "output_type": "stream",
     "text": [
      "15 14\n",
      "0000111100000\n"
     ]
    },
    {
     "ename": "KeyboardInterrupt",
     "evalue": "Interrupted by user",
     "output_type": "error",
     "traceback": [
      "\u001b[1;31m---------------------------------------------------------------------------\u001b[0m",
      "\u001b[1;31mKeyboardInterrupt\u001b[0m                         Traceback (most recent call last)",
      "\u001b[1;32m~\\AppData\\Local\\Temp/ipykernel_13560/1922745012.py\u001b[0m in \u001b[0;36m<module>\u001b[1;34m\u001b[0m\n\u001b[0;32m      3\u001b[0m \u001b[0mgraph\u001b[0m\u001b[1;33m=\u001b[0m\u001b[1;33m[\u001b[0m\u001b[1;33m]\u001b[0m\u001b[1;33m\u001b[0m\u001b[1;33m\u001b[0m\u001b[0m\n\u001b[0;32m      4\u001b[0m \u001b[1;32mfor\u001b[0m \u001b[0mi\u001b[0m \u001b[1;32min\u001b[0m \u001b[0mrange\u001b[0m\u001b[1;33m(\u001b[0m\u001b[0mn\u001b[0m\u001b[1;33m)\u001b[0m\u001b[1;33m:\u001b[0m\u001b[1;33m\u001b[0m\u001b[1;33m\u001b[0m\u001b[0m\n\u001b[1;32m----> 5\u001b[1;33m     \u001b[0mgraph\u001b[0m\u001b[1;33m.\u001b[0m\u001b[0mappend\u001b[0m\u001b[1;33m(\u001b[0m\u001b[0mlist\u001b[0m\u001b[1;33m(\u001b[0m\u001b[0mmap\u001b[0m\u001b[1;33m(\u001b[0m\u001b[0mint\u001b[0m\u001b[1;33m,\u001b[0m\u001b[0minput\u001b[0m\u001b[1;33m(\u001b[0m\u001b[1;33m)\u001b[0m\u001b[1;33m.\u001b[0m\u001b[0msplit\u001b[0m\u001b[1;33m(\u001b[0m\u001b[1;33m)\u001b[0m\u001b[1;33m)\u001b[0m\u001b[1;33m)\u001b[0m\u001b[1;33m)\u001b[0m\u001b[1;33m\u001b[0m\u001b[1;33m\u001b[0m\u001b[0m\n\u001b[0m\u001b[0;32m      6\u001b[0m \u001b[1;33m\u001b[0m\u001b[0m\n\u001b[0;32m      7\u001b[0m \u001b[1;32mdef\u001b[0m \u001b[0mdfs\u001b[0m\u001b[1;33m(\u001b[0m\u001b[0mx\u001b[0m\u001b[1;33m,\u001b[0m\u001b[0my\u001b[0m\u001b[1;33m)\u001b[0m\u001b[1;33m:\u001b[0m\u001b[1;33m\u001b[0m\u001b[1;33m\u001b[0m\u001b[0m\n",
      "\u001b[1;32m~\\anaconda3\\lib\\site-packages\\ipykernel\\kernelbase.py\u001b[0m in \u001b[0;36mraw_input\u001b[1;34m(self, prompt)\u001b[0m\n\u001b[0;32m   1004\u001b[0m                 \u001b[1;34m\"raw_input was called, but this frontend does not support input requests.\"\u001b[0m\u001b[1;33m\u001b[0m\u001b[1;33m\u001b[0m\u001b[0m\n\u001b[0;32m   1005\u001b[0m             )\n\u001b[1;32m-> 1006\u001b[1;33m         return self._input_request(\n\u001b[0m\u001b[0;32m   1007\u001b[0m             \u001b[0mstr\u001b[0m\u001b[1;33m(\u001b[0m\u001b[0mprompt\u001b[0m\u001b[1;33m)\u001b[0m\u001b[1;33m,\u001b[0m\u001b[1;33m\u001b[0m\u001b[1;33m\u001b[0m\u001b[0m\n\u001b[0;32m   1008\u001b[0m             \u001b[0mself\u001b[0m\u001b[1;33m.\u001b[0m\u001b[0m_parent_ident\u001b[0m\u001b[1;33m[\u001b[0m\u001b[1;34m\"shell\"\u001b[0m\u001b[1;33m]\u001b[0m\u001b[1;33m,\u001b[0m\u001b[1;33m\u001b[0m\u001b[1;33m\u001b[0m\u001b[0m\n",
      "\u001b[1;32m~\\anaconda3\\lib\\site-packages\\ipykernel\\kernelbase.py\u001b[0m in \u001b[0;36m_input_request\u001b[1;34m(self, prompt, ident, parent, password)\u001b[0m\n\u001b[0;32m   1049\u001b[0m             \u001b[1;32mexcept\u001b[0m \u001b[0mKeyboardInterrupt\u001b[0m\u001b[1;33m:\u001b[0m\u001b[1;33m\u001b[0m\u001b[1;33m\u001b[0m\u001b[0m\n\u001b[0;32m   1050\u001b[0m                 \u001b[1;31m# re-raise KeyboardInterrupt, to truncate traceback\u001b[0m\u001b[1;33m\u001b[0m\u001b[1;33m\u001b[0m\u001b[0m\n\u001b[1;32m-> 1051\u001b[1;33m                 \u001b[1;32mraise\u001b[0m \u001b[0mKeyboardInterrupt\u001b[0m\u001b[1;33m(\u001b[0m\u001b[1;34m\"Interrupted by user\"\u001b[0m\u001b[1;33m)\u001b[0m \u001b[1;32mfrom\u001b[0m \u001b[1;32mNone\u001b[0m\u001b[1;33m\u001b[0m\u001b[1;33m\u001b[0m\u001b[0m\n\u001b[0m\u001b[0;32m   1052\u001b[0m             \u001b[1;32mexcept\u001b[0m \u001b[0mException\u001b[0m\u001b[1;33m:\u001b[0m\u001b[1;33m\u001b[0m\u001b[1;33m\u001b[0m\u001b[0m\n\u001b[0;32m   1053\u001b[0m                 \u001b[0mself\u001b[0m\u001b[1;33m.\u001b[0m\u001b[0mlog\u001b[0m\u001b[1;33m.\u001b[0m\u001b[0mwarning\u001b[0m\u001b[1;33m(\u001b[0m\u001b[1;34m\"Invalid Message:\"\u001b[0m\u001b[1;33m,\u001b[0m \u001b[0mexc_info\u001b[0m\u001b[1;33m=\u001b[0m\u001b[1;32mTrue\u001b[0m\u001b[1;33m)\u001b[0m\u001b[1;33m\u001b[0m\u001b[1;33m\u001b[0m\u001b[0m\n",
      "\u001b[1;31mKeyboardInterrupt\u001b[0m: Interrupted by user"
     ]
    }
   ],
   "source": [
    "n,m=map(int,input().split())\n",
    "\n",
    "graph=[]\n",
    "for i in range(n):\n",
    "    graph.append(list(map(int,input().split())))\n",
    "\n",
    "def dfs(x,y):\n",
    "    if x<=-1 or x>=n or y<=-1 or y>=m:\n",
    "        return False\n",
    "    \n",
    "    if graph[x][y]==0:\n",
    "        graph[x][y]=1\n",
    "        dfs(x-1,y)\n",
    "        dfs(x,y-1)\n",
    "        dfs(x+1,y)\n",
    "        dfs(x,y+1)\n",
    "        return True\n",
    "    return False\n",
    "\n",
    "result=0\n",
    "for i in range(n):\n",
    "    for j in range(m):\n",
    "        if dfs(i,j)==True:\n",
    "            result+=1\n",
    "\n",
    "print(result)"
   ]
  },
  {
   "cell_type": "markdown",
   "id": "e57b08f1",
   "metadata": {},
   "source": [
    "## 5. 미로탈출"
   ]
  },
  {
   "cell_type": "code",
   "execution_count": 31,
   "id": "efac6bc3",
   "metadata": {},
   "outputs": [
    {
     "name": "stdout",
     "output_type": "stream",
     "text": [
      "5 6\n",
      "101010\n",
      "111111\n",
      "000001\n",
      "111111\n",
      "111111\n",
      "10\n"
     ]
    }
   ],
   "source": [
    "from collections import deque\n",
    "\n",
    "n,m=map(int,input().split())\n",
    "graph=[]\n",
    "for i in range(n):\n",
    "    graph.append(list(map(int,input())))\n",
    "\n",
    "dx=[-1,1,0,0]\n",
    "dy=[0,0,-1,1]\n",
    "\n",
    "def bfs(x,y):\n",
    "    queue=deque()\n",
    "    queue.append((x,y))\n",
    "    \n",
    "    while queue:\n",
    "        x,y=queue.popleft()\n",
    "        \n",
    "        for i in range(4):\n",
    "            nx=x+dx[i]\n",
    "            ny=y+dy[i]\n",
    "            \n",
    "            if nx<0 or ny <0 or nx>=n or ny>=m:\n",
    "                continue\n",
    "            if graph[nx][ny]==0:\n",
    "                continue\n",
    "            if graph[nx][ny]==1:\n",
    "                graph[nx][ny]=graph[x][y]+1\n",
    "                queue.append((nx,ny))\n",
    "    return graph[n-1][m-1]\n",
    "\n",
    "print(bfs(0,0))"
   ]
  },
  {
   "cell_type": "markdown",
   "id": "99150cbd",
   "metadata": {},
   "source": [
    "# 정렬"
   ]
  },
  {
   "cell_type": "markdown",
   "id": "b0fa8bb3",
   "metadata": {},
   "source": [
    "## 1. 선택정렬"
   ]
  },
  {
   "cell_type": "code",
   "execution_count": 5,
   "id": "779fc6b7",
   "metadata": {},
   "outputs": [
    {
     "name": "stdout",
     "output_type": "stream",
     "text": [
      "[0, 1, 2, 3, 4, 5, 6, 7, 8, 9]\n"
     ]
    }
   ],
   "source": [
    "array=[7,5,9,0,3,1,6,2,4,8]\n",
    "\n",
    "for i in range(len(array)):\n",
    "    min_index=i\n",
    "    for j in range(i+1,len(array)):\n",
    "        if array[min_index]>array[j]:\n",
    "            min_index=j\n",
    "    array[i],array[min_index]=array[min_index],array[i]\n",
    "print(array)"
   ]
  },
  {
   "cell_type": "markdown",
   "id": "f077ec9b",
   "metadata": {},
   "source": [
    "## 2. 삽입정렬"
   ]
  },
  {
   "cell_type": "code",
   "execution_count": 12,
   "id": "db5da51f",
   "metadata": {},
   "outputs": [
    {
     "name": "stdout",
     "output_type": "stream",
     "text": [
      "[0, 1, 2, 3, 4, 5, 6, 7, 8, 9]\n"
     ]
    }
   ],
   "source": [
    "array=[7,5,9,0,3,1,6,2,4,8]\n",
    "\n",
    "for i in range(1,len(array)):\n",
    "    for j in range(i,0,-1):\n",
    "        if array[j]<array[j-1]:\n",
    "            array[j],array[j-1]=array[j-1],array[j]\n",
    "        else:\n",
    "            break\n",
    "print(array)"
   ]
  },
  {
   "cell_type": "markdown",
   "id": "ea91d90e",
   "metadata": {},
   "source": [
    "## 3. 퀵정렬"
   ]
  },
  {
   "cell_type": "code",
   "execution_count": 23,
   "id": "c406d4b1",
   "metadata": {},
   "outputs": [
    {
     "name": "stdout",
     "output_type": "stream",
     "text": [
      "[0, 1, 2, 3, 4, 5, 6, 7, 8, 9]\n"
     ]
    }
   ],
   "source": [
    "array=[5,7,9,0,3,1,6,2,4,8]\n",
    "\n",
    "def quick_sort(array,start,end):\n",
    "    if start>=end:\n",
    "        return\n",
    "    pivot=start\n",
    "    left=start+1\n",
    "    right=end\n",
    "    while left<=right:\n",
    "        while left <=end and array[left]<=array[pivot]:\n",
    "            left+=1\n",
    "        while right>start and array[right]>=array[pivot]:\n",
    "            right-=1\n",
    "        if left>right:\n",
    "            array[right],array[pivot]=array[pivot],array[right]\n",
    "        else:\n",
    "            array[left],array[right]=array[right],array[left]\n",
    "        \n",
    "        quick_sort(array,start,right-1)\n",
    "        quick_sort(array,right+1,end)\n",
    "\n",
    "quick_sort(array,0,len(array)-1)\n",
    "print(array)"
   ]
  },
  {
   "cell_type": "code",
   "execution_count": 25,
   "id": "ea1a8eba",
   "metadata": {},
   "outputs": [
    {
     "name": "stdout",
     "output_type": "stream",
     "text": [
      "[0, 1, 2, 3, 4, 5, 6, 7, 8, 9]\n"
     ]
    }
   ],
   "source": [
    "array=[5,7,9,0,3,1,6,2,4,8]\n",
    "\n",
    "def quick_sort2(array):\n",
    "    if len(array)<=1:\n",
    "        return array\n",
    "    \n",
    "    pivot=array[0]\n",
    "    tail=array[1:]\n",
    "    \n",
    "    left_side=[x for x in tail if x<=pivot]\n",
    "    right_side=[x for x in tail if x>pivot]\n",
    "    \n",
    "    return quick_sort2(left_side)+[pivot]+quick_sort2(right_side)\n",
    "\n",
    "print(quick_sort2(array))"
   ]
  },
  {
   "cell_type": "markdown",
   "id": "79d75a39",
   "metadata": {},
   "source": [
    "## 4. 계수정렬"
   ]
  },
  {
   "cell_type": "code",
   "execution_count": 34,
   "id": "dc6d475e",
   "metadata": {},
   "outputs": [
    {
     "name": "stdout",
     "output_type": "stream",
     "text": [
      "0 0 1 1 2 2 3 4 5 5 6 7 8 9 9 "
     ]
    }
   ],
   "source": [
    "array=[7,5,9,0,3,1,6,2,9,1,4,8,0,5,2]\n",
    "count_arr=[0]*(max(array)+1)\n",
    "for i in range(len(array)):\n",
    "    count_arr[array[i]]+=1\n",
    "    \n",
    "for i in range(len(count_arr)):\n",
    "    for j in range(count_arr[i]):\n",
    "        print(i,end=' ')"
   ]
  },
  {
   "cell_type": "markdown",
   "id": "bd3a0713",
   "metadata": {},
   "source": [
    "## 5. 문제(example)"
   ]
  },
  {
   "cell_type": "markdown",
   "id": "224a40a3",
   "metadata": {},
   "source": [
    "### 1. 위에서 아래로\n",
    "- 수열의 내림차순"
   ]
  },
  {
   "cell_type": "code",
   "execution_count": 36,
   "id": "0f28adc1",
   "metadata": {},
   "outputs": [
    {
     "name": "stdout",
     "output_type": "stream",
     "text": [
      "3\n",
      "15\n",
      "27\n",
      "12\n",
      "27 15 12 "
     ]
    }
   ],
   "source": [
    "n=int(input())\n",
    "\n",
    "arr=list()\n",
    "\n",
    "for i in range(n):\n",
    "    arr.append(int(input()))\n",
    "    \n",
    "array=sorted(arr,reverse=True)\n",
    "\n",
    "for i in array:\n",
    "    print(i, end=' ')"
   ]
  },
  {
   "cell_type": "markdown",
   "id": "dccbcf41",
   "metadata": {},
   "source": [
    "### 2. 성적이 낮은 순서로 학생 출력하기\n",
    "- 학생의 이름과 성적이 주어질 때, 낮은 순서대로 이름 출력"
   ]
  },
  {
   "cell_type": "code",
   "execution_count": 40,
   "id": "e3ef7b11",
   "metadata": {},
   "outputs": [
    {
     "name": "stdout",
     "output_type": "stream",
     "text": [
      "2\n",
      "gh 97\n",
      "jk 65\n",
      "jk gh "
     ]
    }
   ],
   "source": [
    "n=int(input())\n",
    "\n",
    "array=[]\n",
    "for i in range(n):\n",
    "    input_data=input().split()\n",
    "    array.append((input_data[0],int(input_data[1])))\n",
    "    \n",
    "array=sorted(array,key=lambda array:array[1])\n",
    "\n",
    "for i in array:\n",
    "    print(i[0],end=' ')"
   ]
  },
  {
   "cell_type": "markdown",
   "id": "102def0d",
   "metadata": {},
   "source": [
    "### 3. 두 배열의 원소 비교\n",
    "- 두 배열을 k번 바꿔치기로 합이 가장 크도록 하기"
   ]
  },
  {
   "cell_type": "code",
   "execution_count": 43,
   "id": "4cc45f62",
   "metadata": {},
   "outputs": [
    {
     "name": "stdout",
     "output_type": "stream",
     "text": [
      "5 3\n",
      "1 2 5 4 3\n",
      "5 5 6 6 5\n",
      "26\n"
     ]
    }
   ],
   "source": [
    "n,k=map(int,input().split())\n",
    "a=list(map(int,input().split()))\n",
    "b=list(map(int,input().split()))\n",
    "\n",
    "a.sort()\n",
    "b.sort(reverse=True)\n",
    "\n",
    "for i in range(k):\n",
    "    if a[i]<b[i]:\n",
    "        a[i],b[i]=b[i],a[i]\n",
    "    else:\n",
    "        break\n",
    "print(sum(a))"
   ]
  },
  {
   "cell_type": "markdown",
   "id": "c7e719b2",
   "metadata": {},
   "source": [
    "# 이진탐색"
   ]
  },
  {
   "cell_type": "markdown",
   "id": "0daa8791",
   "metadata": {},
   "source": [
    "## 1. 순차탐색"
   ]
  },
  {
   "cell_type": "code",
   "execution_count": 44,
   "id": "eb928f1c",
   "metadata": {},
   "outputs": [
    {
     "name": "stdout",
     "output_type": "stream",
     "text": [
      "input n and string.\n",
      "5 dong\n",
      "input string array\n",
      "hanul jong dong bab papa\n",
      "3\n"
     ]
    }
   ],
   "source": [
    "def sequential_search(n,target,array):\n",
    "    for i in range(n):\n",
    "        if array[i]==target:\n",
    "            return i+1\n",
    "\n",
    "print(\"input n and string.\")\n",
    "input_data=input().split()\n",
    "n=int(input_data[0])\n",
    "target=input_data[1]\n",
    "\n",
    "print(\"input string array\")\n",
    "array=input().split()\n",
    "\n",
    "print(sequential_search(n,target,array))"
   ]
  },
  {
   "cell_type": "markdown",
   "id": "8701cd1a",
   "metadata": {},
   "source": [
    "## 2.이진탐색"
   ]
  },
  {
   "cell_type": "code",
   "execution_count": 45,
   "id": "1c39b8fe",
   "metadata": {},
   "outputs": [
    {
     "name": "stdout",
     "output_type": "stream",
     "text": [
      "10 7\n",
      "1 3 5 7 9 11 13 15 17 19\n",
      "4\n"
     ]
    }
   ],
   "source": [
    "def binary_search(array,target,start,end):\n",
    "    if start>end:\n",
    "        return None\n",
    "    mid=(start+end)//2\n",
    "    if array[mid]==target:\n",
    "        return mid\n",
    "    elif array[mid]>target:\n",
    "        return binary_search(array,target,start,mid-1)\n",
    "    else:\n",
    "        return binary_search(array,target,mid+1,end)\n",
    "    \n",
    "n,target=list(map(int,input().split()))\n",
    "array=list(map(int,input().split()))\n",
    "result=binary_search(array,target,0,n-1)\n",
    "if result==None:\n",
    "    print('Not exist')\n",
    "else:\n",
    "    print(result+1)"
   ]
  },
  {
   "cell_type": "code",
   "execution_count": 46,
   "id": "c7f4a983",
   "metadata": {},
   "outputs": [
    {
     "name": "stdout",
     "output_type": "stream",
     "text": [
      "10 7\n",
      "1 3 5 7 9 11 13 15 17 19\n",
      "4\n"
     ]
    }
   ],
   "source": [
    "def binary_search2(array,target,start,end):\n",
    "    while start<=end:\n",
    "        mid=(start+end)//2\n",
    "        if array[mid]==target:\n",
    "            return mid\n",
    "        elif array[mid]>target:\n",
    "            end=mid-1\n",
    "        else:\n",
    "            start=mid+1\n",
    "    return None\n",
    "\n",
    "n,target=list(map(int,input().split()))\n",
    "array=list(map(int,input().split()))\n",
    "result=binary_search2(array,target,0,n-1)\n",
    "if result==None:\n",
    "    print('Not exist')\n",
    "else:\n",
    "    print(result+1)"
   ]
  },
  {
   "cell_type": "code",
   "execution_count": 47,
   "id": "f4972a86",
   "metadata": {},
   "outputs": [
    {
     "name": "stdout",
     "output_type": "stream",
     "text": [
      "\n"
     ]
    }
   ],
   "source": [
    "#빠르게 input 받기\n",
    "import sys\n",
    "input_data=sys.stdin.readline().rstrip()\n",
    "print(input_data)"
   ]
  },
  {
   "cell_type": "markdown",
   "id": "337bb500",
   "metadata": {},
   "source": [
    "## 3.문제"
   ]
  },
  {
   "cell_type": "markdown",
   "id": "c4909294",
   "metadata": {},
   "source": [
    "### 1. 부품찾기\n",
    "- 부품 제고 개수 : n , 부품 제고 : a , 손님이 요청한 부품 제고 개수 : m, 손님이 요청한 부품 제고 : b\n",
    "- 손님이 요청한 부품이 있는지 검사 후 yes or no 출력"
   ]
  },
  {
   "cell_type": "code",
   "execution_count": 48,
   "id": "2071c5db",
   "metadata": {},
   "outputs": [
    {
     "name": "stdout",
     "output_type": "stream",
     "text": [
      "5\n",
      "8 3 7 9 2\n",
      "3\n",
      "5 7 9\n",
      "No yes yes "
     ]
    }
   ],
   "source": [
    "#이진탐색\n",
    "n=int(input())\n",
    "a=list(map(int,input().split()))\n",
    "m=int(input())\n",
    "b=list(map(int,input().split()))\n",
    "\n",
    "def binary_search(array,target,start,end):\n",
    "    if start>end:\n",
    "        return None\n",
    "    mid=(start+end)//2\n",
    "    if array[mid]==target:\n",
    "        return mid\n",
    "    elif array[mid]>target:\n",
    "        return binary_search(array,target,start,mid-1)\n",
    "    else:\n",
    "        return binary_search(array,target,mid+1,end)\n",
    "    \n",
    "a.sort()\n",
    "for i in b:\n",
    "    result=binary_search(a,i,0,n-1)\n",
    "    if result!=None:\n",
    "        print('yes', end=' ')\n",
    "    else:\n",
    "        print('No',end=' ')"
   ]
  },
  {
   "cell_type": "code",
   "execution_count": 53,
   "id": "a1091e79",
   "metadata": {},
   "outputs": [
    {
     "name": "stdout",
     "output_type": "stream",
     "text": [
      "5\n",
      "8 3 7 9 2\n",
      "3\n",
      "5 7 9\n",
      "No yes yes "
     ]
    }
   ],
   "source": [
    "## 계수정렬\n",
    "n=int(input())\n",
    "array=[0]*100000\n",
    "for i in input().split():\n",
    "    array[int(i)]=1\n",
    "\n",
    "m=int(input())\n",
    "b=list(map(int,input().split()))\n",
    "\n",
    "for i in b:\n",
    "    if array[i]==1:\n",
    "        print('yes',end=' ')\n",
    "    else:\n",
    "        print('No',end=' ')"
   ]
  },
  {
   "cell_type": "code",
   "execution_count": 54,
   "id": "8ec4f85d",
   "metadata": {},
   "outputs": [
    {
     "name": "stdout",
     "output_type": "stream",
     "text": [
      "5\n",
      "8 3 7 9 2\n",
      "3\n",
      "5 7 9\n",
      "No yes yes "
     ]
    }
   ],
   "source": [
    "## 집합 이용\n",
    "n=int(input())\n",
    "a=set(map(int,input().split()))\n",
    "\n",
    "m=int(input())\n",
    "b=list(map(int,input().split()))\n",
    "\n",
    "for i in b:\n",
    "    if i in a:\n",
    "        print('yes',end=' ')\n",
    "    else:\n",
    "        print('No',end=' ')"
   ]
  },
  {
   "cell_type": "markdown",
   "id": "781687d6",
   "metadata": {},
   "source": [
    "### 2.떡볶이 떡 만들기\n",
    "- 떡을 특정 길이의 절단기로 잘랐을 때 남은 떡을 손님이 가져간다\n",
    "- 손님이 M만큼을 가져갈 때 절단기의 최대 길이는?"
   ]
  },
  {
   "cell_type": "code",
   "execution_count": 66,
   "id": "031f0cc8",
   "metadata": {},
   "outputs": [
    {
     "name": "stdout",
     "output_type": "stream",
     "text": [
      "4 6\n",
      "19 15 10 17\n",
      "15\n"
     ]
    }
   ],
   "source": [
    "n,m=map(int,input().split())\n",
    "array=list(map(int,input().split()))\n",
    "\n",
    "k=max(array)\n",
    "total=0\n",
    "while total!=m:\n",
    "    total=0\n",
    "    k-=1\n",
    "    for x in array:\n",
    "        leaf=x-k\n",
    "        if leaf>=0:\n",
    "            total+=leaf\n",
    "print(k)"
   ]
  },
  {
   "cell_type": "code",
   "execution_count": 64,
   "id": "608b0d4a",
   "metadata": {},
   "outputs": [
    {
     "name": "stdout",
     "output_type": "stream",
     "text": [
      "4 6\n",
      "19 15 10 7\n",
      "14\n"
     ]
    }
   ],
   "source": [
    "#이진 탐색\n",
    "n,m=map(int,input().split())\n",
    "array=list(map(int,input().split()))\n",
    "\n",
    "start=0\n",
    "end=max(array)\n",
    "\n",
    "result=0\n",
    "while(start<=end):\n",
    "    total=0\n",
    "    mid=(start+end)//2\n",
    "    for x in array:\n",
    "        if x>mid:\n",
    "            total+=x-mid\n",
    "    if total<m:\n",
    "        end=mid-1\n",
    "    else:\n",
    "        result=mid\n",
    "        start=mid+1\n",
    "print(result)"
   ]
  },
  {
   "cell_type": "markdown",
   "id": "5da99c79",
   "metadata": {},
   "source": [
    "# 다이나믹 프로그래밍"
   ]
  },
  {
   "cell_type": "markdown",
   "id": "1f94c1eb",
   "metadata": {},
   "source": [
    "## 1. 피보나치 수열"
   ]
  },
  {
   "cell_type": "code",
   "execution_count": 3,
   "id": "e8c8ed95",
   "metadata": {},
   "outputs": [
    {
     "name": "stdout",
     "output_type": "stream",
     "text": [
      "55\n"
     ]
    }
   ],
   "source": [
    "def fibo(x):\n",
    "    if x==1 or x==2:\n",
    "        return 1\n",
    "    return fibo(x-1)+fibo(x-2)\n",
    "print(fibo(10))"
   ]
  },
  {
   "cell_type": "code",
   "execution_count": 11,
   "id": "7c6069e5",
   "metadata": {},
   "outputs": [
    {
     "name": "stdout",
     "output_type": "stream",
     "text": [
      "26863810024485359386146727202142923967616609318986952340123175997617981700247881689338369654483356564191827856161443356312976673642210350324634850410377680367334151172899169723197082763985615764450078474174626\n"
     ]
    }
   ],
   "source": [
    "d=[0]*1000\n",
    "\n",
    "def fibo(x):\n",
    "    if x==1 or x==2:\n",
    "        return 1\n",
    "    if d[x]!=0:\n",
    "        return d[x]\n",
    "    d[x]=fibo(x-1)+fibo(x-2)\n",
    "    return d[x]\n",
    "print(fibo(999))"
   ]
  },
  {
   "cell_type": "code",
   "execution_count": 7,
   "id": "a87f5bdb",
   "metadata": {},
   "outputs": [
    {
     "name": "stdout",
     "output_type": "stream",
     "text": [
      "f(99) f(98) f(97) f(96) f(95) f(94) f(93) f(92) f(91) f(90) f(89) f(88) f(87) f(86) f(85) f(84) f(83) f(82) f(81) f(80) f(79) f(78) f(77) f(76) f(75) f(74) f(73) f(72) f(71) f(70) f(69) f(68) f(67) f(66) f(65) f(64) f(63) f(62) f(61) f(60) f(59) f(58) f(57) f(56) f(55) f(54) f(53) f(52) f(51) f(50) f(49) f(48) f(47) f(46) f(45) f(44) f(43) f(42) f(41) f(40) f(39) f(38) f(37) f(36) f(35) f(34) f(33) f(32) f(31) f(30) f(29) f(28) f(27) f(26) f(25) f(24) f(23) f(22) f(21) f(20) f(19) f(18) f(17) f(16) f(15) f(14) f(13) f(12) f(11) f(10) f(9) f(8) f(7) f(6) f(5) f(4) f(3) f(2) f(1) f(2) f(3) f(4) f(5) f(6) f(7) f(8) f(9) f(10) f(11) f(12) f(13) f(14) f(15) f(16) f(17) f(18) f(19) f(20) f(21) f(22) f(23) f(24) f(25) f(26) f(27) f(28) f(29) f(30) f(31) f(32) f(33) f(34) f(35) f(36) f(37) f(38) f(39) f(40) f(41) f(42) f(43) f(44) f(45) f(46) f(47) f(48) f(49) f(50) f(51) f(52) f(53) f(54) f(55) f(56) f(57) f(58) f(59) f(60) f(61) f(62) f(63) f(64) f(65) f(66) f(67) f(68) f(69) f(70) f(71) f(72) f(73) f(74) f(75) f(76) f(77) f(78) f(79) f(80) f(81) f(82) f(83) f(84) f(85) f(86) f(87) f(88) f(89) f(90) f(91) f(92) f(93) f(94) f(95) f(96) f(97) 218922995834555169026\n"
     ]
    }
   ],
   "source": [
    "d=[0]*100\n",
    "\n",
    "def pibo(x):\n",
    "    print('f('+str(x)+')',end=' ')\n",
    "    if x==1 or x==2:\n",
    "        return 1\n",
    "    if d[x]!=0:\n",
    "        return d[x]\n",
    "    d[x]=pibo(x-1)+pibo(x-2)\n",
    "    return d[x]\n",
    "print(pibo(99))"
   ]
  },
  {
   "cell_type": "code",
   "execution_count": 13,
   "id": "208a4f07",
   "metadata": {},
   "outputs": [
    {
     "name": "stdout",
     "output_type": "stream",
     "text": [
      "26863810024485359386146727202142923967616609318986952340123175997617981700247881689338369654483356564191827856161443356312976673642210350324634850410377680367334151172899169723197082763985615764450078474174626\n"
     ]
    }
   ],
   "source": [
    "d=[0]*1000\n",
    "d[1]=1\n",
    "d[2]=1\n",
    "n=999\n",
    "for i in range(3,n+1):\n",
    "    d[i]=d[i-1]+d[i-2]\n",
    "print(d[n])"
   ]
  },
  {
   "cell_type": "markdown",
   "id": "5d477fcc",
   "metadata": {},
   "source": [
    "## 2. 문제"
   ]
  },
  {
   "cell_type": "markdown",
   "id": "f0eba589",
   "metadata": {},
   "source": [
    "### 1. 1로 만들기\n",
    "- 5로 나누어 떨어지면 5, 3로 나누어떨어지면 3.2로... 나눈다.\n",
    "- 그외의 경우는 1을 뺀다, 연산 4개를 사용해 1을 만들려고 한다. 연산 최소 사용 횟수를 구하라"
   ]
  },
  {
   "cell_type": "code",
   "execution_count": 18,
   "id": "5cb2d7e2",
   "metadata": {},
   "outputs": [
    {
     "name": "stdout",
     "output_type": "stream",
     "text": [
      "26\n",
      "3\n"
     ]
    }
   ],
   "source": [
    "x=int(input())\n",
    "d=[0]*100\n",
    "\n",
    "for i in range(2,x+1):\n",
    "    d[i]=d[i-1]+1\n",
    "    if i%2==0:\n",
    "        d[i]=min(d[i],d[i//2]+1)\n",
    "    if i%3==0:\n",
    "        d[i]=min(d[i],d[i//3]+1)\n",
    "    if i%5==0:\n",
    "        d[i]=min(d[i],d[i//5]+1)\n",
    "\n",
    "print(d[x])"
   ]
  },
  {
   "cell_type": "markdown",
   "id": "ead778ba",
   "metadata": {},
   "source": [
    "### 2. 개미전사\n",
    "- 메뚜기 정찰병들은 인접한 식량창고가 공격받으면 알아챌 수 있다.\n",
    "- 개미 전사는 메뚜기 정찰병들에게 들키지 않고 식량을 털어야한다. 최대의 식량을 털었을 때 식량의 최댓값을 구하라."
   ]
  },
  {
   "cell_type": "code",
   "execution_count": 20,
   "id": "12e402bc",
   "metadata": {},
   "outputs": [
    {
     "name": "stdout",
     "output_type": "stream",
     "text": [
      "4\n",
      "1 3 1 5\n",
      "8\n"
     ]
    }
   ],
   "source": [
    "n=int(input())\n",
    "array=list(map(int,input().split()))\n",
    "\n",
    "d=[0]*100\n",
    "\n",
    "d[0]=array[0]\n",
    "d[1]=max(array[0],array[1])\n",
    "for i in range(2,n):\n",
    "    d[i]=max(d[i-1],d[i-2]+array[i])\n",
    "print(d[n-1])"
   ]
  },
  {
   "cell_type": "markdown",
   "id": "2e1b7a64",
   "metadata": {},
   "source": [
    "### 3. 바닥 공사\n",
    "- 가로 n, 세로 2 인 바닥에서 1X2,2X1,2X2의 덮개를 이용해 채운다\n",
    "- 바닥 채우는 모든 경우의 수를 구하시오."
   ]
  },
  {
   "cell_type": "code",
   "execution_count": 23,
   "id": "4cb82412",
   "metadata": {},
   "outputs": [
    {
     "name": "stdout",
     "output_type": "stream",
     "text": [
      "3\n",
      "5\n"
     ]
    }
   ],
   "source": [
    "n=int(input())\n",
    "\n",
    "d=[0]*100\n",
    "d[1]=1\n",
    "d[2]=3\n",
    "\n",
    "for i in range(3,n+1):\n",
    "    d[i]=d[i-1]+2*d[i-2]\n",
    "    \n",
    "print(d[n])"
   ]
  },
  {
   "cell_type": "markdown",
   "id": "1790a4e9",
   "metadata": {},
   "source": [
    "### 4. 효율적인 화폐 구성\n",
    "- n가지 종류의 화폐,\n",
    "- 화폐 개수를 최소한으로 이용해 M원을 만든다. 최소 개수를 구하라"
   ]
  },
  {
   "cell_type": "code",
   "execution_count": 3,
   "id": "4e417653",
   "metadata": {},
   "outputs": [
    {
     "name": "stdout",
     "output_type": "stream",
     "text": [
      "2 15\n",
      "2\n",
      "3\n",
      "[0, 1000, 1, 1000, 2, 1000, 3, 1000, 4, 1000, 5, 1000, 6, 1000, 7, 1000, 1000, 1000, 1000, 1000, 1000, 1000, 1000, 1000, 1000, 1000, 1000, 1000, 1000, 1000, 1000, 1000, 1000, 1000, 1000, 1000, 1000, 1000, 1000, 1000, 1000, 1000, 1000, 1000, 1000, 1000, 1000, 1000, 1000, 1000, 1000, 1000, 1000, 1000, 1000, 1000, 1000, 1000, 1000, 1000, 1000, 1000, 1000, 1000, 1000, 1000, 1000, 1000, 1000, 1000, 1000, 1000, 1000, 1000, 1000, 1000, 1000, 1000, 1000, 1000, 1000, 1000, 1000, 1000, 1000, 1000, 1000, 1000, 1000, 1000, 1000, 1000, 1000, 1000, 1000, 1000, 1000, 1000, 1000, 1000]\n",
      "[0, 1000, 1, 1, 2, 2, 2, 3, 3, 3, 4, 4, 4, 5, 5, 5, 1000, 1000, 1000, 1000, 1000, 1000, 1000, 1000, 1000, 1000, 1000, 1000, 1000, 1000, 1000, 1000, 1000, 1000, 1000, 1000, 1000, 1000, 1000, 1000, 1000, 1000, 1000, 1000, 1000, 1000, 1000, 1000, 1000, 1000, 1000, 1000, 1000, 1000, 1000, 1000, 1000, 1000, 1000, 1000, 1000, 1000, 1000, 1000, 1000, 1000, 1000, 1000, 1000, 1000, 1000, 1000, 1000, 1000, 1000, 1000, 1000, 1000, 1000, 1000, 1000, 1000, 1000, 1000, 1000, 1000, 1000, 1000, 1000, 1000, 1000, 1000, 1000, 1000, 1000, 1000, 1000, 1000, 1000, 1000]\n",
      "5\n"
     ]
    }
   ],
   "source": [
    "n,m=map(int,input().split())\n",
    "array=[]\n",
    "for i in range(n):\n",
    "    array.append(int(input()))\n",
    "    \n",
    "d=[1000]*100\n",
    "d[0]=0\n",
    "\n",
    "for i in range(n):\n",
    "    for j in range(array[i],m+1):\n",
    "        if d[j-array[i]]!=1000:\n",
    "            d[j]=min(d[j],d[j-array[i]]+1)\n",
    "    print(d)\n",
    "print(d[m])"
   ]
  },
  {
   "cell_type": "markdown",
   "id": "0d7f9c58",
   "metadata": {},
   "source": [
    "# 그래프(최단경로)"
   ]
  },
  {
   "cell_type": "markdown",
   "id": "01fe55cd",
   "metadata": {},
   "source": [
    "## 1. 다익스트라\n",
    "- 한 지점에서 다른 특정 지점까지의 최단 경로"
   ]
  },
  {
   "cell_type": "code",
   "execution_count": 4,
   "id": "4d0e2ccb",
   "metadata": {},
   "outputs": [
    {
     "name": "stdout",
     "output_type": "stream",
     "text": [
      "6 11\n",
      "1\n",
      "1 2 2\n",
      "1 3 5\n",
      "1 4 1\n",
      "2 3 3\n",
      "2 4 2\n",
      "3 2 3\n",
      "3 6 5\n",
      "4 3 3\n",
      "4 5 1\n",
      "5 3 1\n",
      "5 6 2\n",
      "1 로 가는 거리 :  0\n",
      "2 로 가는 거리 :  2\n",
      "3 로 가는 거리 :  3\n",
      "4 로 가는 거리 :  1\n",
      "5 로 가는 거리 :  2\n",
      "6 로 가는 거리 :  4\n"
     ]
    }
   ],
   "source": [
    "# easy, but slow\n",
    "\n",
    "INF=int(1e9)\n",
    "\n",
    "n,m=map(int,input().split())\n",
    "#시작점\n",
    "start=int(input())\n",
    "#그래프 생성\n",
    "graph=[[]for _ in range(n+1)]\n",
    "# 노드'status list\n",
    "visited=[False]*(n+1)\n",
    "# distance list\n",
    "distance=[INF]*(n+1)\n",
    "\n",
    "# edge 정보 입력\n",
    "for _ in range(m):\n",
    "    a,b,c=map(int,input().split())\n",
    "    # a: source  b: destination  c: weight\n",
    "    graph[a].append((b,c))\n",
    "    \n",
    "# 방분하지 않은 노드들 중, 가장 최단 거리가 짧은 노드번호 반환\n",
    "def get_smallest_node():\n",
    "    min_value=INF\n",
    "    index=0\n",
    "    for i in range(n+1):\n",
    "        if not visited[i] and distance[i]<min_value:\n",
    "            min_value=distance[i]\n",
    "            index=i\n",
    "    return index\n",
    "\n",
    "def dijkstra(start):\n",
    "    distance[start]=0\n",
    "    visited[start]=True\n",
    "    for j in graph[start]:\n",
    "        # 시작 노드의 인접한 노드들의 거리 입력\n",
    "        distance[j[0]]=j[1]\n",
    "    for i in range(n-1):\n",
    "        #현 노드에서 가장 짧은 거리의 노드 선택\n",
    "        cur=get_smallest_node()\n",
    "        visited[cur]=True\n",
    "        #현 노드와 인접한 노드 확인\n",
    "        for j in graph[cur]:\n",
    "            #현재까지의 거리 계산\n",
    "            cost=distance[cur]+j[1]\n",
    "            #현재 노드를 거쳐 다른 노드로 이동하는 거리와 원래 정의되있던 해당 노드로 가는 거리 비교\n",
    "            if cost<distance[j[0]]:\n",
    "                distance[j[0]]=cost\n",
    "dijkstra(start)\n",
    "for i in range(1,n+1):\n",
    "    if distance[i]==INF:\n",
    "        print('CAN NOT GO!!!!')\n",
    "    else:\n",
    "        print('1에서 ',i,'로 가는 거리 : ',distance[i])"
   ]
  },
  {
   "cell_type": "code",
   "execution_count": 14,
   "id": "9ee9cde1",
   "metadata": {},
   "outputs": [
    {
     "name": "stdout",
     "output_type": "stream",
     "text": [
      "3\n"
     ]
    }
   ],
   "source": [
    "# make priority queue of list\n",
    "lst=list()\n",
    "lst.append((1,4))\n",
    "lst.append((2,2))\n",
    "lst.append((3,5))\n",
    "\n",
    "lst.sort(reverse=True,key=lambda lst:lst[1])\n",
    "print(lst[0][0])"
   ]
  },
  {
   "cell_type": "code",
   "execution_count": 15,
   "id": "0f7efba4",
   "metadata": {},
   "outputs": [
    {
     "name": "stdout",
     "output_type": "stream",
     "text": [
      "6 11\n",
      "1\n",
      "1 2 2\n",
      "1 3 5\n",
      "1 4 1\n",
      "2 3 3\n",
      "2 4 2\n",
      "3 2 3\n",
      "3 6 5\n",
      "4 3 3\n",
      "4 5 1\n",
      "5 3 1\n",
      "5 6 2\n",
      "1에서  1 로 가는 거리 :  0\n",
      "1에서  2 로 가는 거리 :  2\n",
      "1에서  3 로 가는 거리 :  3\n",
      "1에서  4 로 가는 거리 :  1\n",
      "1에서  5 로 가는 거리 :  2\n",
      "1에서  6 로 가는 거리 :  4\n"
     ]
    }
   ],
   "source": [
    "# complex and imporved and useful\n",
    "import heapq\n",
    "INF=int(1e9)\n",
    "\n",
    "n,m=map(int,input().split())\n",
    "start=int(input())\n",
    "graph=[[]for _ in range(n+1)]\n",
    "distance=[INF]*(n+1)\n",
    "\n",
    "for _ in range(m):\n",
    "    a,b,c=map(int,input().split())\n",
    "    graph[a].append((b,c))\n",
    "    \n",
    "def dijkstra(start):\n",
    "    q=[]\n",
    "    heapq.heappush(q,(0,start))\n",
    "    distance[start]=0\n",
    "    while q:\n",
    "        dist,cur=heapq.heappop(q)\n",
    "        if distance[cur]<dist:\n",
    "            continue\n",
    "        for i in graph[cur]:\n",
    "            cost=dist+i[1]\n",
    "            \n",
    "            if cost<distance[i[0]]:\n",
    "                distance[i[0]]=cost\n",
    "                heapq.heappush(q,(cost,i[0]))\n",
    "dijkstra(start)\n",
    "\n",
    "for i in range(1,n+1):\n",
    "    if distance[i]==INF:\n",
    "        print('CAN NOT GO!!!!')\n",
    "    else:\n",
    "        print('1에서 ',i,'로 가는 거리 : ',distance[i])"
   ]
  },
  {
   "cell_type": "markdown",
   "id": "077c3493",
   "metadata": {},
   "source": [
    "## 2. 플로이드 워셜\n",
    "- 모든 지점에서 다른 모든 지점까지의 최단 경로"
   ]
  },
  {
   "cell_type": "code",
   "execution_count": 18,
   "id": "77c55a1e",
   "metadata": {},
   "outputs": [
    {
     "name": "stdout",
     "output_type": "stream",
     "text": [
      "4\n",
      "7\n",
      "1 2 4\n",
      "1 4 6\n",
      "2 1 3\n",
      "2 3 7\n",
      "3 1 5\n",
      "3 4 4\n",
      "4 3 2\n",
      "0 4 8 6 \n",
      "3 0 7 9 \n",
      "5 9 0 4 \n",
      "7 11 2 0 \n"
     ]
    }
   ],
   "source": [
    "INF=int(1e9)\n",
    "\n",
    "n=int(input())\n",
    "m=int(input())\n",
    "graph=[[INF]*(n+1) for _ in range(n+1)]\n",
    "\n",
    "# self-loop 정의\n",
    "for i in range(1,n+1):\n",
    "    for j in range(1,n+1):\n",
    "        if i==j:\n",
    "            graph[i][j]=0\n",
    "\n",
    "for _ in range(m):\n",
    "    a,b,c=map(int,input().split())\n",
    "    graph[a][b]=c\n",
    "\n",
    "# 플로이드 워셸\n",
    "for k in range(1,n+1):\n",
    "    for a in range(1,n+1):\n",
    "        for b in range(1,n+1):\n",
    "            graph[a][b]=min(graph[a][b],graph[a][k]+graph[k][b])\n",
    "\n",
    "for a in range(1,n+1):\n",
    "    for b in range(1,n+1):\n",
    "        if graph[a][b]==INF:\n",
    "            print(\"INF\",end=' ')\n",
    "        else:\n",
    "            print(graph[a][b],end=' ')\n",
    "    print()"
   ]
  },
  {
   "cell_type": "markdown",
   "id": "4f2cc2f9",
   "metadata": {},
   "source": [
    "## 3.문제"
   ]
  },
  {
   "cell_type": "markdown",
   "id": "5d32f27b",
   "metadata": {},
   "source": [
    "### 1. 미래 도시\n",
    "- 1~N번까지의 회사가 있는데 지나갈려면 특정 회사끼리 연결된 도로를 이용해아한다.연결된 두 회사는 양방향으로 이동할 수 있다.\n",
    "- 회사끼리의 이동시간은 1이다.\n",
    "- 판매원 A는 소개팅에 참석하기 위해 K번 회사로 가야한다. A는 X번회사에 가기전, 소개팅 K번 회사에 들렀다 갈려고 한다.\n",
    "- 즉, A는 1번 회사에서 출발해 K번 회사를 방문한 뒤 X번 회사로 갈려고할 때, 최소 시간을 구하라."
   ]
  },
  {
   "cell_type": "code",
   "execution_count": 22,
   "id": "00caa8ee",
   "metadata": {},
   "outputs": [
    {
     "name": "stdout",
     "output_type": "stream",
     "text": [
      "4 2\n",
      "1 3\n",
      "2 4\n",
      "3 4\n",
      "-1\n"
     ]
    }
   ],
   "source": [
    "INF=int(1e9)\n",
    "n,m=map(int,input().split())\n",
    "\n",
    "graph=[[INF]*(n+1) for _ in range(n+1)]\n",
    "\n",
    "for i in range(1,n+1):\n",
    "    for j in range(1,n+1):\n",
    "        if i==j:\n",
    "            graph[i][j]=0\n",
    "\n",
    "for _ in range(m):\n",
    "    a,b=map(int,input().split())\n",
    "    graph[a][b]=1\n",
    "    graph[b][a]=1\n",
    "\n",
    "x,k=map(int,input().split())\n",
    "\n",
    "for k in range(1,n+1):\n",
    "    for a in range(1,n+1):\n",
    "        for b in range(1,n+1):\n",
    "            graph[a][b]=min(graph[a][b],graph[a][k]+graph[k][b])\n",
    "\n",
    "distance=graph[1][k]+graph[k][x]\n",
    "\n",
    "if distance>=INF:\n",
    "    print(-1)\n",
    "else:\n",
    "    print(distance)"
   ]
  },
  {
   "cell_type": "markdown",
   "id": "8e168883",
   "metadata": {},
   "source": [
    "### 2. 전보\n",
    "- N개의 도시가 있다. X에서 Y로 향하는 통로가 있으면, X에서 Y로 통보를 할 수 있지만, Y에서 X로는 불가능하다.\n",
    "- C의 도시에서 위급상황이 발생해 도움 요청을 하기 위해 설치된 통로를 거쳐, 최대한 많이 곳에 통보를 보낼려고 한다.\n",
    "- 각 도시의 번호와 통로가 설치되어 있는 정보가 주어질 때, C에서 보낸 메시지를 받게 되는 도시의 개수는 총 몇개이며, 걸리는 시간은 구하시오."
   ]
  },
  {
   "cell_type": "code",
   "execution_count": 27,
   "id": "5d2a20c0",
   "metadata": {},
   "outputs": [
    {
     "name": "stdout",
     "output_type": "stream",
     "text": [
      "3 2 1\n",
      "1 2 4\n",
      "1 3 2\n",
      "2 4\n"
     ]
    }
   ],
   "source": [
    "#플로이드 워셸\n",
    "INF=int(1e9)\n",
    "n,m,c=map(int,input().split())\n",
    "\n",
    "graph=[[INF]*(n+1)for _ in range(n+1)]\n",
    "\n",
    "\n",
    "for i in range(1,n+1):\n",
    "    for j in range(1,n+1):\n",
    "        if i==j:\n",
    "            graph[i][j]=0\n",
    "\n",
    "for _ in range(m):\n",
    "    a,b,c=map(int,input().split())\n",
    "    graph[a][b]=c\n",
    "\n",
    "for k in range(1,n+1):\n",
    "    for a in range(1,n+1):\n",
    "        for b in range(1,n+1):\n",
    "            graph[a][b]=min(graph[a][b],graph[a][k]+graph[k][b])\n",
    "\n",
    "cnt=0\n",
    "max_dis=0\n",
    "for a in range(1,n+1):\n",
    "    for b in range(1,n+1):\n",
    "        if graph[a][b]==0 or graph[a][b]==INF:\n",
    "            continue\n",
    "        cnt+=1\n",
    "        max_dis=max(max_dis,graph[a][b])\n",
    "\n",
    "print(cnt,max_dis)\n"
   ]
  },
  {
   "cell_type": "code",
   "execution_count": 29,
   "id": "10041015",
   "metadata": {},
   "outputs": [
    {
     "name": "stdout",
     "output_type": "stream",
     "text": [
      "3 2 1\n",
      "1 2 4\n",
      "1 3 2\n",
      "2 4\n"
     ]
    }
   ],
   "source": [
    "#다익스트라\n",
    "import heapq\n",
    "\n",
    "INF=int(1e9)\n",
    "n,m,start=map(int,input().split())\n",
    "\n",
    "graph=[[]for _ in range(n+1)]\n",
    "distance=[INF]*(n+1)\n",
    "\n",
    "for _ in range(m):\n",
    "    a,b,c=map(int,input().split())\n",
    "    graph[a].append((b,c))\n",
    "\n",
    "def dijkstra(start):\n",
    "    q=[]\n",
    "    heapq.heappush(q,(0,start))\n",
    "    distance[start]=0\n",
    "    while q:\n",
    "        dist,cur=heapq.heappop(q)\n",
    "        if distance[cur]<dist:\n",
    "            continue\n",
    "        for i in graph[cur]:\n",
    "            cost=dist+i[1]\n",
    "            if distance[i[0]]>cost:\n",
    "                distance[i[0]]=cost\n",
    "                heapq.heappush(q,(cost,i[0]))\n",
    "dijkstra(start)\n",
    "\n",
    "count=0\n",
    "max_dis=0\n",
    "for d in distance:\n",
    "    if d!=INF:\n",
    "        count+=1\n",
    "        max_dis=max(max_dis,d)\n",
    "\n",
    "print(count-1,max_dis)"
   ]
  },
  {
   "cell_type": "markdown",
   "id": "9d47bfad",
   "metadata": {},
   "source": [
    "# 그래프 이론\n",
    "- 개체를 \"연결\""
   ]
  },
  {
   "cell_type": "markdown",
   "id": "23cda808",
   "metadata": {},
   "source": [
    "# 1. 서로소 집합"
   ]
  },
  {
   "cell_type": "code",
   "execution_count": 34,
   "id": "695f5c8c",
   "metadata": {},
   "outputs": [
    {
     "name": "stdout",
     "output_type": "stream",
     "text": [
      "6 4\n",
      "1 4\n",
      "2 3\n",
      "2 4\n",
      "5 6\n",
      "각 원소가 속합 집함:  1 1 1 1 5 5 \n",
      "부모 테이블: 1 1 2 1 5 5 "
     ]
    }
   ],
   "source": [
    "### x원소가 속한 집합 찾기(해당 집합의 루트 노드 찾기)\n",
    "def find_parent(parent,x):\n",
    "    if parent[x]!=x:\n",
    "        return find_parent(parent,parent[x])\n",
    "    return x\n",
    "\n",
    "# union 연산, 큰 값이 작은값의 자식이 됨\n",
    "def union_parent(parent,a,b):\n",
    "    a=find_parent(parent,a)\n",
    "    b=find_parent(parent,b)\n",
    "    if a<b:\n",
    "        parent[b]=a\n",
    "    else:\n",
    "        parent[a]=b\n",
    "        \n",
    "v,e=map(int,input().split())\n",
    "parent=[0]*(v+1)\n",
    "\n",
    "#초기화, 부모는 자기 자신으로 설정\n",
    "for i in range(1,v+1):\n",
    "    parent[i]=i\n",
    "    \n",
    "for i in range(e):\n",
    "    a,b=map(int,input().split())\n",
    "    union_parent(parent,a,b)\n",
    "\n",
    "print('각 원소가 속합 집함: ',end=' ')\n",
    "for i in range(1,v+1):\n",
    "    print(find_parent(parent,i),end=' ')\n",
    "    \n",
    "print()\n",
    "\n",
    "print('부모 테이블: ',end='')\n",
    "for i in range(1,v+1):\n",
    "    print(parent[i],end=' ')\n"
   ]
  },
  {
   "cell_type": "code",
   "execution_count": 35,
   "id": "750dceba",
   "metadata": {},
   "outputs": [],
   "source": [
    "# find함수의 경로 압축\n",
    "def find_parent(parent,x):\n",
    "    if parent[x]!=x:\n",
    "        parent[x]= find_parent(parent,parent[x])\n",
    "    return parent[x]"
   ]
  },
  {
   "cell_type": "code",
   "execution_count": 36,
   "id": "3fcc9036",
   "metadata": {},
   "outputs": [
    {
     "name": "stdout",
     "output_type": "stream",
     "text": [
      "6 4\n",
      "1 4\n",
      "2 3\n",
      "2 4\n",
      "5 6\n",
      "각 원소가 속합 집함:  1 1 1 1 5 5 \n",
      "부모 테이블: 1 1 1 1 5 5 "
     ]
    }
   ],
   "source": [
    "# find함수의 경로 압축\n",
    "def find_parent(parent,x):\n",
    "    if parent[x]!=x:\n",
    "        parent[x]= find_parent(parent,parent[x])\n",
    "    return parent[x]\n",
    "\n",
    "# union 연산, 큰 값이 작은값의 자식이 됨\n",
    "def union_parent(parent,a,b):\n",
    "    a=find_parent(parent,a)\n",
    "    b=find_parent(parent,b)\n",
    "    if a<b:\n",
    "        parent[b]=a\n",
    "    else:\n",
    "        parent[a]=b\n",
    "        \n",
    "v,e=map(int,input().split())\n",
    "parent=[0]*(v+1)\n",
    "\n",
    "#초기화, 부모는 자기 자신으로 설정\n",
    "for i in range(1,v+1):\n",
    "    parent[i]=i\n",
    "    \n",
    "for i in range(e):\n",
    "    a,b=map(int,input().split())\n",
    "    union_parent(parent,a,b)\n",
    "\n",
    "print('각 원소가 속합 집함: ',end=' ')\n",
    "for i in range(1,v+1):\n",
    "    print(find_parent(parent,i),end=' ')\n",
    "    \n",
    "print()\n",
    "\n",
    "print('부모 테이블: ',end='')\n",
    "for i in range(1,v+1):\n",
    "    print(parent[i],end=' ')\n"
   ]
  },
  {
   "cell_type": "code",
   "execution_count": 37,
   "id": "e26713c2",
   "metadata": {},
   "outputs": [
    {
     "name": "stdout",
     "output_type": "stream",
     "text": [
      "3 3\n",
      "1 2\n",
      "1 3\n",
      "2 3\n",
      "It happens Cycle!!!\n"
     ]
    }
   ],
   "source": [
    "#사이클 판별 -> 1. 두 노드를 union 2. 루트 노드가 서로 같다면 사이클 발생\n",
    "# find함수의 경로 압축\n",
    "def find_parent(parent,x):\n",
    "    if parent[x]!=x:\n",
    "        parent[x]= find_parent(parent,parent[x])\n",
    "    return parent[x]\n",
    "\n",
    "# union 연산, 큰 값이 작은값의 자식이 됨\n",
    "def union_parent(parent,a,b):\n",
    "    a=find_parent(parent,a)\n",
    "    b=find_parent(parent,b)\n",
    "    if a<b:\n",
    "        parent[b]=a\n",
    "    else:\n",
    "        parent[a]=b\n",
    "        \n",
    "v,e=map(int,input().split())\n",
    "parent=[0]*(v+1)\n",
    "\n",
    "#초기화, 부모는 자기 자신으로 설정\n",
    "for i in range(1,v+1):\n",
    "    parent[i]=i\n",
    "    \n",
    "#사이클 확인 status\n",
    "cycle=False\n",
    "\n",
    "for i in range(e):\n",
    "    a,b=map(int,input().split())\n",
    "    if find_parent(parent,a)==find_parent(parent,b):\n",
    "        cycle=True\n",
    "        break\n",
    "    else:\n",
    "        union_parent(parent,a,b)\n",
    "\n",
    "if cycle:\n",
    "    print('It happens Cycle!!!')\n",
    "else:\n",
    "    print('It doesnt happen Cycle!!!!')"
   ]
  },
  {
   "cell_type": "markdown",
   "id": "ebcac2b2",
   "metadata": {},
   "source": [
    "## 2. 신장 트리\n",
    "- 사이클이 없으며 모든 노드를 포함하는 부분 그래프"
   ]
  },
  {
   "cell_type": "markdown",
   "id": "b29f893e",
   "metadata": {},
   "source": [
    "## 2-1. 크루스칼 알고리즘\n",
    "1. 간선 데이터를 정렬\n",
    "2. 간선을 하나씩 확인하며 사이클 발생하는지 확인 후, 발생하지 않을시 최소 신장 트리에 포함\n",
    "3. 모든 간선에 대해 2번 반복"
   ]
  },
  {
   "cell_type": "code",
   "execution_count": 1,
   "id": "7b9355d3",
   "metadata": {},
   "outputs": [
    {
     "name": "stdout",
     "output_type": "stream",
     "text": [
      "7 9\n",
      "1 2 29\n",
      "1 5 75\n",
      "2 3 35\n",
      "2 6 34\n",
      "3 4 7\n",
      "4 6 23\n",
      "4 7 13\n",
      "5 6 53\n",
      "6 7 25\n",
      "[0, 1, 1, 1, 3, 1, 1, 3]\n",
      "159\n"
     ]
    }
   ],
   "source": [
    "def find_parent(parent,x):\n",
    "    if parent[x]!=x:\n",
    "        parent[x]=find_parent(parent,parent[x])\n",
    "    return parent[x]\n",
    "\n",
    "# 더 작은 값의 집합에 큰 값을 포함\n",
    "def union_parent(parent,a,b):\n",
    "    a=find_parent(parent,a)\n",
    "    b=find_parent(parent,b)\n",
    "    if a<b:\n",
    "        parent[b]=a\n",
    "    else:\n",
    "        parent[a]=b\n",
    "        \n",
    "v,e=map(int,input().split())\n",
    "parent=[0]*(v+1)\n",
    "\n",
    "edges=[]\n",
    "result=0\n",
    "\n",
    "# 각 node를 집합으로 생성\n",
    "for i in range(1,v+1):\n",
    "    parent[i]=i\n",
    "\n",
    "for _ in range(e):\n",
    "    a,b,cost=map(int,input().split())\n",
    "    edges.append((cost,a,b))\n",
    "    \n",
    "edges.sort()\n",
    "\n",
    "for edge in edges:\n",
    "    cost, a, b=edge\n",
    "    if find_parent(parent,a)!=find_parent(parent,b):\n",
    "        union_parent(parent,a,b)\n",
    "        result+=cost\n",
    "\n",
    "print(parent)\n",
    "print(result)"
   ]
  },
  {
   "cell_type": "markdown",
   "id": "d43b1b5e",
   "metadata": {},
   "source": [
    "## 3. 위상정렬(Topology Sort)\n",
    "- 방향 그래프의 모든 노드를 방향성에 따라 나열하는 것\n",
    "- ex) 선수과목을 고려한 학습 순서 설정, 선수과목이 있는 경우\n",
    "1. 진입 차수(indegree)가 0인 노드를 큐에 넣는다\n",
    "2. 큐가 빌 때까지, 큐에서 원소를 꺼내 해당 노드에서 출발하는 간선을 그래프에서 제거, 새롭게 진입차수가 0이 된 노드를 큐에 넣는다.\n",
    "- (모든 원소 방문 전, 큐가 빈다면 사이클이 있다 판단)"
   ]
  },
  {
   "cell_type": "code",
   "execution_count": 43,
   "id": "057150a9",
   "metadata": {},
   "outputs": [
    {
     "name": "stdout",
     "output_type": "stream",
     "text": [
      "deque([1, 3, 5, 7, 9])\n",
      "1\n",
      "3\n",
      "5\n",
      "7\n",
      "9\n",
      "[1, 3, 5, 7, 9]\n",
      "1\n",
      "3\n",
      "5\n",
      "7\n",
      "9\n"
     ]
    }
   ],
   "source": [
    "from collections import deque\n",
    "c=deque()\n",
    "for i in range(1,10,2):\n",
    "    c.append(i)\n",
    "print(c)\n",
    "for i in range(1,10,2):\n",
    "    print(c.popleft())\n",
    "\n",
    "lst=list()\n",
    "for i in range(1,10,2):\n",
    "    lst.append(i)\n",
    "print(lst)\n",
    "\n",
    "for i in range(1,10,2):\n",
    "    print(lst.pop(0))"
   ]
  },
  {
   "cell_type": "code",
   "execution_count": 44,
   "id": "8f5d71a5",
   "metadata": {},
   "outputs": [
    {
     "name": "stdout",
     "output_type": "stream",
     "text": [
      "7 8\n",
      "1 2\n",
      "1 5\n",
      "2 3\n",
      "2 6\n",
      "3 4\n",
      "4 7\n",
      "5 6\n",
      "6 4\n",
      "1 2 5 3 6 4 7 "
     ]
    }
   ],
   "source": [
    "from collections import deque\n",
    "\n",
    "v,e=map(int,input().split())\n",
    "indegree=[0]*(v+1)\n",
    "graph=[[]for _ in range(v+1)]\n",
    "\n",
    "for _ in range(e):\n",
    "    a,b=map(int,input().split())\n",
    "    graph[a].append(b)\n",
    "    #진입차수 1 증가\n",
    "    indegree[b]+=1\n",
    "    \n",
    "def topology_sort():\n",
    "    result=[]\n",
    "    q=deque()\n",
    "    \n",
    "    for i in range(1,v+1):\n",
    "        if indegree[i]==0:\n",
    "            q.append(i)\n",
    "    while q:\n",
    "        cur=q.popleft()\n",
    "        result.append(cur)\n",
    "        for i in graph[cur]:\n",
    "            indegree[i]-=1\n",
    "            if indegree[i]==0:\n",
    "                q.append(i)\n",
    "    \n",
    "    for i in result:\n",
    "        print(i,end=' ')\n",
    "\n",
    "topology_sort()"
   ]
  },
  {
   "cell_type": "markdown",
   "id": "cd0cf175",
   "metadata": {},
   "source": [
    "## 4.문제"
   ]
  },
  {
   "cell_type": "markdown",
   "id": "abe97c05",
   "metadata": {},
   "source": [
    "### 1. 팀결성\n",
    "- 학생들에게 0~N번까지의 번호 부여한다. 처음에는 모든 학생이 다른 팀으로 구분되어 총 N=!개의 팀이 존재한다 \n",
    "- 팀 합치기, 같은 팀 여부 확인의 연산을 수행할 수 있다.\n",
    "- 선생님이 m개의 연산을 수행할 때, 같은 팀 여부 확인 연산에 대한 연산 결과를 출력하시오.\n",
    "- 0 a b : 팀 합치기, 1 a b : 같은 팀 여부 확인"
   ]
  },
  {
   "cell_type": "code",
   "execution_count": 45,
   "id": "69458699",
   "metadata": {},
   "outputs": [
    {
     "name": "stdout",
     "output_type": "stream",
     "text": [
      "7 8\n",
      "0 1 3\n",
      "1 1 7\n",
      "NO\n",
      "0 7 6\n",
      "1 7 1\n",
      "NO\n",
      "0 3 7\n",
      "0 4 2\n",
      "0 1 1\n",
      "1 1 1\n",
      "YES\n"
     ]
    }
   ],
   "source": [
    "n,m=map(int,input().split())\n",
    "\n",
    "def find_parent(parent,x):\n",
    "    if parent[x]!=x:\n",
    "        parent[x]=find_parent(parent,parent[x])\n",
    "    return parent[x]\n",
    "\n",
    "def union_parent(parent,a,b):\n",
    "    a=find_parent(parent,a)\n",
    "    b=find_parent(parent,b)\n",
    "    if a<b:\n",
    "        parent[b]=a\n",
    "    else:\n",
    "        parent[a]=b\n",
    "\n",
    "parent=[0]*(n+1)\n",
    "\n",
    "for i in range(0,n+1):\n",
    "    parent[i]=i\n",
    "    \n",
    "for i in range(m):\n",
    "    oper,a,b=map(int,input().split())\n",
    "    if oper==0:\n",
    "        union_parent(parent,a,b)\n",
    "    elif oper==1:\n",
    "        if find_parent(parent,a)==find_parent(parent,b):\n",
    "            print('YES')\n",
    "        else:\n",
    "            print('NO')\n",
    "            "
   ]
  },
  {
   "cell_type": "markdown",
   "id": "a1f234fd",
   "metadata": {},
   "source": [
    "## 2. 도시 분할 계획\n",
    "- 마을에는 N개의 집과 M개의 길로 이루어져 있다. 각 길은 유지비가 든다.\n",
    "- 이장은 마을을 두 개의 마을로 분리한 후, 마을에 이어져 있는 길도 최소한의 유지비로 유지하고 싶어 길을 없앤다.\n",
    "- 최소 유지비로 모든 집이 이어질 수 있는 길을 만들 때, 유지비를 구하라"
   ]
  },
  {
   "cell_type": "code",
   "execution_count": 47,
   "id": "a4d51dcd",
   "metadata": {},
   "outputs": [
    {
     "name": "stdout",
     "output_type": "stream",
     "text": [
      "7 12\n",
      "1 2 3\n",
      "1 3 2\n",
      "3 2 1\n",
      "2 5 2\n",
      "3 4 4\n",
      "7 3 6\n",
      "5 1 5\n",
      "1 6 2\n",
      "6 4 1\n",
      "6 5 3\n",
      "4 5 3\n",
      "6 7 4\n",
      "6\n"
     ]
    }
   ],
   "source": [
    "n,m=map(int,input().split())\n",
    "parent=[0]*(n+1)\n",
    "\n",
    "def find_parent(parent,x):\n",
    "    if parent[x]!=x:\n",
    "        parent[x]=find_parent(parent,parent[x])\n",
    "    return parent[x]\n",
    "\n",
    "def union_parent(parent,a,b):\n",
    "    a=find_parent(parent,a)\n",
    "    b=find_parent(parent,b)\n",
    "    if a<b:\n",
    "        parent[b]=a\n",
    "    else:\n",
    "        parent[a]=b\n",
    "        \n",
    "\n",
    "for i in range(1,n+1):\n",
    "    parent[i]=i\n",
    "\n",
    "#모든 간선을 담을 리스트\n",
    "edges=[]\n",
    "result=0\n",
    "\n",
    "for i in range(m):\n",
    "    a,b,c=map(int,input().split())\n",
    "    edges.append((c,a,b))\n",
    "\n",
    "edges.sort()\n",
    "#두마을로 분리해야하니 가장 유지비가 큰 간선을 끊기 위해 사용\n",
    "last=0\n",
    "\n",
    "for edge in edges:\n",
    "    cost,a,b=edge\n",
    "    if find_parent(parent,a)!=find_parent(parent,b):\n",
    "        union_parent(parent,a,b)\n",
    "        result+=cost\n",
    "        last=cost\n",
    "\n",
    "print(result-cost)"
   ]
  },
  {
   "cell_type": "markdown",
   "id": "c0663b66",
   "metadata": {},
   "source": [
    "## 4.커리큘럼\n",
    "- 동빈이는 n개의 강의를 듣는다. 강의는 선수 강의가 있을 수 있다.\n",
    "- 해당 강의는 수강 완료하는데 걸리는 시간이 존재한다.\n",
    "- 동빈이가 n개의 강의를 다 수강하는데 걸리는 최소 시간을 구하시오."
   ]
  },
  {
   "cell_type": "code",
   "execution_count": 66,
   "id": "4e808a5e",
   "metadata": {},
   "outputs": [
    {
     "name": "stdout",
     "output_type": "stream",
     "text": [
      "5\n",
      "10 -1\n",
      "10 1 -1\n",
      "4 1 -1\n",
      "4 3 1 -1\n",
      "3 3 -1\n",
      "10\n",
      "20\n",
      "14\n",
      "18\n",
      "17\n"
     ]
    }
   ],
   "source": [
    "from collections import deque\n",
    "\n",
    "n=int(input())\n",
    "\n",
    "indegree=[0]*(n+1)\n",
    "graph=[[]for _ in range(n+1)]\n",
    "time=[0]*(n+1)\n",
    "\n",
    "\n",
    "for i in range(1,n+1):\n",
    "    data=list(map(int,input().split()))\n",
    "    time[i]=data[0]\n",
    "    for x in data[1:-1]:\n",
    "        indegree[i]+=1\n",
    "        graph[x].append(i)\n",
    "        \n",
    "result=[]\n",
    "\n",
    "def topology_sort():\n",
    "    result=time.copy()\n",
    "    q=deque()\n",
    "    \n",
    "    for i in range(1,n+1):\n",
    "        if indegree[i]==0:\n",
    "            q.append(i)\n",
    "            \n",
    "    while q:\n",
    "        cur=q.popleft()\n",
    "        for i in graph[cur]:\n",
    "            result[i]=max(result[i],result[cur]+time[i])\n",
    "            indegree[i]-=1\n",
    "            if indegree[i]==0:\n",
    "                q.append(i)\n",
    "                \n",
    "    for i in range(1,n+1):\n",
    "        print(result[i])\n",
    "        \n",
    "topology_sort()"
   ]
  }
 ],
 "metadata": {
  "kernelspec": {
   "display_name": "Python 3 (ipykernel)",
   "language": "python",
   "name": "python3"
  },
  "language_info": {
   "codemirror_mode": {
    "name": "ipython",
    "version": 3
   },
   "file_extension": ".py",
   "mimetype": "text/x-python",
   "name": "python",
   "nbconvert_exporter": "python",
   "pygments_lexer": "ipython3",
   "version": "3.9.7"
  }
 },
 "nbformat": 4,
 "nbformat_minor": 5
}
