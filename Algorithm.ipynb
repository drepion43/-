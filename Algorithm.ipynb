{
 "cells": [
  {
   "cell_type": "markdown",
   "id": "6e46ff88",
   "metadata": {},
   "source": [
    "https://kimjingo.tistory.com/205"
   ]
  },
  {
   "cell_type": "markdown",
   "id": "11cfe476",
   "metadata": {},
   "source": [
    "# BFS"
   ]
  },
  {
   "cell_type": "code",
   "execution_count": null,
   "id": "fdcf85d6",
   "metadata": {},
   "outputs": [],
   "source": [
    "from collections import deque\n",
    " \n",
    "#      ↑   ←   ↓   →\n",
    "dy = [-1,  0,  1,  0]\n",
    "dx = [0, -1,  0,  1]\n",
    " \n",
    "def out_ot_range(y, x): # 격자에서 벗어났는지 확인하는 함수\n",
    "    return y < 0 or x < 0 or y >= N or x >= N\n",
    " \n",
    "def bfs(y, x):\n",
    "    q = deque() # queue\n",
    "    # 시작 좌표(y, x) 삽입 및 visited 표시\n",
    "    q.append((y, x))\n",
    "    visited = [[False] * N for _ in range(N)] # NxN 격자의 경우\n",
    "    visited[y][x] = True\n",
    " \n",
    "    while q: #queue에 값이 존재하는 동안 반복\n",
    "        sy, sx = q.popleft() \n",
    "        for d in range(4): # pop한 좌표의 4방향 탐색\n",
    "            ny = sy + dy[d]\n",
    "            nx = sx + dx[d]\n",
    " \n",
    "            if out_ot_range(ny, nx) or visited[ny][nx]: # 격자에서 벗어났거나, 방문한 좌표의 경우 continue\n",
    "                continue\n",
    "            else: # 아닌 경우 (상황에 따라 다른 예외가 있는 경우 처리해야합니다.)\n",
    "                do_something() # 이후 동작 호출(혹은 코드를 바로 작성하여도 무방)\n",
    "                q.append((ny, nx)) # queue에 탐색한 좌표 추가 및 방문 기록\n",
    "                visited[ny][nx] = True"
   ]
  },
  {
   "cell_type": "markdown",
   "id": "49b9cb28",
   "metadata": {},
   "source": [
    "# DFS를 이용한 조합 구현"
   ]
  },
  {
   "cell_type": "code",
   "execution_count": 2,
   "id": "4e248789",
   "metadata": {},
   "outputs": [
    {
     "name": "stdout",
     "output_type": "stream",
     "text": [
      "deque([1, 2, 3])\n",
      "deque([1, 2, 4])\n",
      "deque([1, 3, 4])\n",
      "deque([2, 3, 4])\n"
     ]
    }
   ],
   "source": [
    "from collections import deque\n",
    " \n",
    "def do_something(comb):\n",
    "    print(comb)\n",
    "M = 3\n",
    "some_list = [1, 2, 3, 4]\n",
    " \n",
    "def dfs(comb: deque, depth: int):\n",
    "    if len(comb) == M:  # 종료 조건 1 : M개를 모두 선택했을 때\n",
    "        do_something(comb)  # 선택 후의 알고리즘 호출\n",
    "        return\n",
    "    elif depth == len(some_list):  # 종료 조건 2: 리스트의 마지막 까지 탐색했을 때\n",
    "        return\n",
    " \n",
    "    # 현재 depth의 값 포함 재귀 호출\n",
    "    comb.append(some_list[depth])\n",
    "    dfs(comb, depth + 1)\n",
    " \n",
    "    # 현재 depth의 값 미포함 재귀 호출\n",
    "    comb.pop()\n",
    "    dfs(comb, depth + 1)\n",
    "\n",
    "dfs(deque(), 0)"
   ]
  },
  {
   "cell_type": "markdown",
   "id": "9fb164b0",
   "metadata": {},
   "source": [
    "# DFS를 이용한 순열 구현"
   ]
  },
  {
   "cell_type": "code",
   "execution_count": 1,
   "id": "cbcca891",
   "metadata": {},
   "outputs": [
    {
     "name": "stdout",
     "output_type": "stream",
     "text": [
      "deque([1, 2, 3])\n",
      "deque([1, 2, 4])\n",
      "deque([1, 3, 2])\n",
      "deque([1, 3, 4])\n",
      "deque([1, 4, 2])\n",
      "deque([1, 4, 3])\n",
      "deque([2, 1, 3])\n",
      "deque([2, 1, 4])\n",
      "deque([2, 3, 1])\n",
      "deque([2, 3, 4])\n",
      "deque([2, 4, 1])\n",
      "deque([2, 4, 3])\n",
      "deque([3, 1, 2])\n",
      "deque([3, 1, 4])\n",
      "deque([3, 2, 1])\n",
      "deque([3, 2, 4])\n",
      "deque([3, 4, 1])\n",
      "deque([3, 4, 2])\n",
      "deque([4, 1, 2])\n",
      "deque([4, 1, 3])\n",
      "deque([4, 2, 1])\n",
      "deque([4, 2, 3])\n",
      "deque([4, 3, 1])\n",
      "deque([4, 3, 2])\n"
     ]
    }
   ],
   "source": [
    "from collections import deque\n",
    " \n",
    "def do_something(perm):\n",
    "    print(perm)\n",
    "\n",
    "M = 3\n",
    "some_list = [1, 2, 3, 4]\n",
    " \n",
    "visited = [False] * len(some_list)\n",
    "result = []\n",
    "def dfs(perm: deque):\n",
    "    if len(perm) == M:  # 종료 조건 : M개를 모두 선택했을 때\n",
    "        result.append(list(perm))\n",
    "        do_something(perm)\n",
    "        return\n",
    " \n",
    "    for i, val in enumerate(some_list):\n",
    "        if visited[i]: # 방문한 노드인 경우 제외\n",
    "            continue\n",
    "        # i번째 노드를 포함하여 재귀 호출\n",
    "        perm.append(val)\n",
    "        visited[i] = True\n",
    "        dfs(perm)\n",
    "        # i번째 노드 삭제\n",
    "        perm.pop()\n",
    "        visited[i] = False\n",
    "\n",
    "\n",
    "dfs(deque())"
   ]
  },
  {
   "cell_type": "markdown",
   "id": "348699d2",
   "metadata": {},
   "source": [
    "## 45도 돌리기"
   ]
  },
  {
   "cell_type": "code",
   "execution_count": 3,
   "id": "a0080a71",
   "metadata": {},
   "outputs": [
    {
     "name": "stdout",
     "output_type": "stream",
     "text": [
      "원본\n",
      "[0, 1, 2, 3, 4]\n",
      "[5, 6, 7, 8, 9]\n",
      "[10, 11, 12, 13, 14]\n",
      "[15, 16, 17, 18, 19]\n",
      "[20, 21, 22, 23, 24]\n",
      "\n",
      "시계방향 45도 회전\n",
      "[20, 15, 10, 5, 0]\n",
      "[21, 16, 11, 6, 1]\n",
      "[22, 17, 12, 7, 2]\n",
      "[23, 18, 13, 8, 3]\n",
      "[24, 19, 14, 9, 4]\n"
     ]
    }
   ],
   "source": [
    "N = 5\n",
    "board = [[i * N + j for j in range(N)] for i in range(N)]\n",
    " \n",
    " \n",
    "def rotate45():\n",
    "    # 시계방향으로 배열을 45도 회전하는 함수\n",
    "    new_board = [[0] * N for _ in range(N)]\n",
    "    for i in range(N):\n",
    "        for j in range(N):\n",
    "            new_board[i][j] = board[N - j - 1][i]\n",
    "    return new_board\n",
    " \n",
    " \n",
    "print(\"원본\")\n",
    "for row in board:\n",
    "    print(row)\n",
    "print()\n",
    " \n",
    "print(\"시계방향 45도 회전\")\n",
    "rotated = rotate45()\n",
    "for row in rotated:\n",
    "    print(row)\n",
    " "
   ]
  },
  {
   "cell_type": "code",
   "execution_count": null,
   "id": "f5a9a9d0",
   "metadata": {},
   "outputs": [],
   "source": []
  }
 ],
 "metadata": {
  "kernelspec": {
   "display_name": "Python 3 (ipykernel)",
   "language": "python",
   "name": "python3"
  },
  "language_info": {
   "codemirror_mode": {
    "name": "ipython",
    "version": 3
   },
   "file_extension": ".py",
   "mimetype": "text/x-python",
   "name": "python",
   "nbconvert_exporter": "python",
   "pygments_lexer": "ipython3",
   "version": "3.9.7"
  }
 },
 "nbformat": 4,
 "nbformat_minor": 5
}
